{
 "cells": [
  {
   "cell_type": "markdown",
   "id": "fcab5313",
   "metadata": {},
   "source": [
    "## read data & data preprocessing"
   ]
  },
  {
   "cell_type": "code",
   "execution_count": 1,
   "id": "f825c0cc",
   "metadata": {},
   "outputs": [],
   "source": [
    "import numpy as np\n",
    "import matplotlib.pyplot as plt\n",
    "import pandas as pd\n",
    "import seaborn as sns"
   ]
  },
  {
   "cell_type": "code",
   "execution_count": 2,
   "id": "45bffc29",
   "metadata": {},
   "outputs": [
    {
     "data": {
      "text/html": [
       "<div>\n",
       "<style scoped>\n",
       "    .dataframe tbody tr th:only-of-type {\n",
       "        vertical-align: middle;\n",
       "    }\n",
       "\n",
       "    .dataframe tbody tr th {\n",
       "        vertical-align: top;\n",
       "    }\n",
       "\n",
       "    .dataframe thead th {\n",
       "        text-align: right;\n",
       "    }\n",
       "</style>\n",
       "<table border=\"1\" class=\"dataframe\">\n",
       "  <thead>\n",
       "    <tr style=\"text-align: right;\">\n",
       "      <th></th>\n",
       "      <th>اختبار</th>\n",
       "      <th>برمجة</th>\n",
       "      <th>تصميم</th>\n",
       "      <th>عرض</th>\n",
       "      <th>تقرير</th>\n",
       "      <th>غيتهاب</th>\n",
       "      <th>مرجعية</th>\n",
       "      <th>تحليل</th>\n",
       "      <th>نتائج</th>\n",
       "    </tr>\n",
       "  </thead>\n",
       "  <tbody>\n",
       "    <tr>\n",
       "      <th>0</th>\n",
       "      <td>[11, 28, 20, 10, 15, 25, 34, 32, 37, 35]</td>\n",
       "      <td>[48, 29, 28, 45, 11, 16, 13, 14, 16, 18]</td>\n",
       "      <td>[29, 13, 42, 39, 49, 43, 27, 40, 19, 30]</td>\n",
       "      <td>[30, 13, 19, 29, 15, 34, 12, 22, 28, 26]</td>\n",
       "      <td>[34, 43, 20, 45, 30, 29, 23, 31, 12, 38]</td>\n",
       "      <td>[21, 16, 41, 16, 34, 49, 24, 51, 51, 17]</td>\n",
       "      <td>[43, 31, 39, 46, 42, 42, 25, 37, 38, 24]</td>\n",
       "      <td>[43, 23, 27, 23, 28, 38, 11, 30, 42, 33]</td>\n",
       "      <td>[19, 50, 37, 33, 23, 49, 22, 29, 25, 34]</td>\n",
       "    </tr>\n",
       "    <tr>\n",
       "      <th>1</th>\n",
       "      <td>[16, 16, 43, 30, 10, 22, 41, 36, 13, 34, 32, 4...</td>\n",
       "      <td>[21, 38, 49, 37, 51, 12, 10, 20, 43, 11, 19, 2...</td>\n",
       "      <td>[48, 12, 12, 26, 34, 35, 22, 15, 36, 14, 51, 2...</td>\n",
       "      <td>[42, 13, 45, 39, 25, 10, 27, 18, 27, 44, 11, 3...</td>\n",
       "      <td>[22, 49, 31, 16, 18, 48, 11, 38, 24, 49, 40, 1...</td>\n",
       "      <td>[26, 16, 51, 40, 14, 38, 11, 42, 23, 17, 44, 2...</td>\n",
       "      <td>[24, 19, 18, 33, 51, 35, 27, 49, 47, 29, 50, 2...</td>\n",
       "      <td>[50, 20, 27, 42, 44, 30, 39, 23, 39, 19, 33, 4...</td>\n",
       "      <td>[34, 11, 14, 26, 29, 26, 19, 33, 36, 27, 51, 4...</td>\n",
       "    </tr>\n",
       "    <tr>\n",
       "      <th>2</th>\n",
       "      <td>[10, 10, 41, 26, 34, 34, 35, 15, 22, 37]</td>\n",
       "      <td>[18, 27, 29, 24, 10, 22, 47, 40, 23, 31]</td>\n",
       "      <td>[43, 22, 40, 33, 45, 50, 18, 11, 49, 23]</td>\n",
       "      <td>[23, 21, 22, 34, 10, 38, 42, 37, 39, 21]</td>\n",
       "      <td>[18, 12, 30, 28, 46, 17, 23, 50, 45, 24]</td>\n",
       "      <td>[49, 29, 48, 31, 45, 29, 15, 28, 49, 18]</td>\n",
       "      <td>[41, 34, 37, 10, 12, 10, 18, 27, 19, 21]</td>\n",
       "      <td>[20, 12, 47, 27, 50, 25, 35, 24, 48, 10]</td>\n",
       "      <td>[19, 19, 21, 26, 26, 27, 45, 45, 35, 29]</td>\n",
       "    </tr>\n",
       "    <tr>\n",
       "      <th>3</th>\n",
       "      <td>[10, 48, 24, 33, 47, 46, 24, 45, 44, 14, 36, 3...</td>\n",
       "      <td>[12, 32, 46, 26, 19, 17, 20, 25, 19, 41, 11, 2...</td>\n",
       "      <td>[16, 16, 49, 21, 26, 37, 18, 26, 29, 21, 32, 3...</td>\n",
       "      <td>[35, 50, 38, 27, 19, 25, 14, 47, 40, 40, 50, 4...</td>\n",
       "      <td>[33, 41, 44, 12, 34, 10, 17, 51, 36, 41, 36, 3...</td>\n",
       "      <td>[14, 25, 36, 44, 32, 50, 14, 31, 21, 41, 17, 3...</td>\n",
       "      <td>[42, 35, 37, 34, 51, 43, 30, 27, 35, 48, 39, 3...</td>\n",
       "      <td>[35, 16, 38, 19, 28, 45, 37, 50, 37, 33, 40, 5...</td>\n",
       "      <td>[19, 48, 34, 17, 28, 29, 18, 46, 29, 15, 22, 3...</td>\n",
       "    </tr>\n",
       "    <tr>\n",
       "      <th>4</th>\n",
       "      <td>[38, 30, 36, 13, 32]</td>\n",
       "      <td>[27, 12, 36, 24, 28]</td>\n",
       "      <td>[27, 32, 13, 34, 19]</td>\n",
       "      <td>[22, 14, 48, 15, 16]</td>\n",
       "      <td>[18, 23, 39, 16, 20]</td>\n",
       "      <td>[36, 19, 27, 43, 38]</td>\n",
       "      <td>[48, 47, 32, 45, 31]</td>\n",
       "      <td>[23, 11, 51, 37, 14]</td>\n",
       "      <td>[18, 15, 22, 48, 48]</td>\n",
       "    </tr>\n",
       "  </tbody>\n",
       "</table>\n",
       "</div>"
      ],
      "text/plain": [
       "                                              اختبار  \\\n",
       "0           [11, 28, 20, 10, 15, 25, 34, 32, 37, 35]   \n",
       "1  [16, 16, 43, 30, 10, 22, 41, 36, 13, 34, 32, 4...   \n",
       "2           [10, 10, 41, 26, 34, 34, 35, 15, 22, 37]   \n",
       "3  [10, 48, 24, 33, 47, 46, 24, 45, 44, 14, 36, 3...   \n",
       "4                               [38, 30, 36, 13, 32]   \n",
       "\n",
       "                                               برمجة  \\\n",
       "0           [48, 29, 28, 45, 11, 16, 13, 14, 16, 18]   \n",
       "1  [21, 38, 49, 37, 51, 12, 10, 20, 43, 11, 19, 2...   \n",
       "2           [18, 27, 29, 24, 10, 22, 47, 40, 23, 31]   \n",
       "3  [12, 32, 46, 26, 19, 17, 20, 25, 19, 41, 11, 2...   \n",
       "4                               [27, 12, 36, 24, 28]   \n",
       "\n",
       "                                               تصميم  \\\n",
       "0           [29, 13, 42, 39, 49, 43, 27, 40, 19, 30]   \n",
       "1  [48, 12, 12, 26, 34, 35, 22, 15, 36, 14, 51, 2...   \n",
       "2           [43, 22, 40, 33, 45, 50, 18, 11, 49, 23]   \n",
       "3  [16, 16, 49, 21, 26, 37, 18, 26, 29, 21, 32, 3...   \n",
       "4                               [27, 32, 13, 34, 19]   \n",
       "\n",
       "                                                 عرض  \\\n",
       "0           [30, 13, 19, 29, 15, 34, 12, 22, 28, 26]   \n",
       "1  [42, 13, 45, 39, 25, 10, 27, 18, 27, 44, 11, 3...   \n",
       "2           [23, 21, 22, 34, 10, 38, 42, 37, 39, 21]   \n",
       "3  [35, 50, 38, 27, 19, 25, 14, 47, 40, 40, 50, 4...   \n",
       "4                               [22, 14, 48, 15, 16]   \n",
       "\n",
       "                                               تقرير  \\\n",
       "0           [34, 43, 20, 45, 30, 29, 23, 31, 12, 38]   \n",
       "1  [22, 49, 31, 16, 18, 48, 11, 38, 24, 49, 40, 1...   \n",
       "2           [18, 12, 30, 28, 46, 17, 23, 50, 45, 24]   \n",
       "3  [33, 41, 44, 12, 34, 10, 17, 51, 36, 41, 36, 3...   \n",
       "4                               [18, 23, 39, 16, 20]   \n",
       "\n",
       "                                              غيتهاب  \\\n",
       "0           [21, 16, 41, 16, 34, 49, 24, 51, 51, 17]   \n",
       "1  [26, 16, 51, 40, 14, 38, 11, 42, 23, 17, 44, 2...   \n",
       "2           [49, 29, 48, 31, 45, 29, 15, 28, 49, 18]   \n",
       "3  [14, 25, 36, 44, 32, 50, 14, 31, 21, 41, 17, 3...   \n",
       "4                               [36, 19, 27, 43, 38]   \n",
       "\n",
       "                                              مرجعية  \\\n",
       "0           [43, 31, 39, 46, 42, 42, 25, 37, 38, 24]   \n",
       "1  [24, 19, 18, 33, 51, 35, 27, 49, 47, 29, 50, 2...   \n",
       "2           [41, 34, 37, 10, 12, 10, 18, 27, 19, 21]   \n",
       "3  [42, 35, 37, 34, 51, 43, 30, 27, 35, 48, 39, 3...   \n",
       "4                               [48, 47, 32, 45, 31]   \n",
       "\n",
       "                                               تحليل  \\\n",
       "0           [43, 23, 27, 23, 28, 38, 11, 30, 42, 33]   \n",
       "1  [50, 20, 27, 42, 44, 30, 39, 23, 39, 19, 33, 4...   \n",
       "2           [20, 12, 47, 27, 50, 25, 35, 24, 48, 10]   \n",
       "3  [35, 16, 38, 19, 28, 45, 37, 50, 37, 33, 40, 5...   \n",
       "4                               [23, 11, 51, 37, 14]   \n",
       "\n",
       "                                               نتائج  \n",
       "0           [19, 50, 37, 33, 23, 49, 22, 29, 25, 34]  \n",
       "1  [34, 11, 14, 26, 29, 26, 19, 33, 36, 27, 51, 4...  \n",
       "2           [19, 19, 21, 26, 26, 27, 45, 45, 35, 29]  \n",
       "3  [19, 48, 34, 17, 28, 29, 18, 46, 29, 15, 22, 3...  \n",
       "4                               [18, 15, 22, 48, 48]  "
      ]
     },
     "execution_count": 2,
     "metadata": {},
     "output_type": "execute_result"
    }
   ],
   "source": [
    "df = pd.read_excel(\"data_for_classification.xlsx\")\n",
    "df.head()"
   ]
  },
  {
   "cell_type": "code",
   "execution_count": 3,
   "id": "d6f0df8e",
   "metadata": {},
   "outputs": [],
   "source": [
    "for i in df.columns:\n",
    "    df[i] = df[i].apply(eval)"
   ]
  },
  {
   "cell_type": "code",
   "execution_count": 4,
   "id": "2aab8ed0",
   "metadata": {},
   "outputs": [
    {
     "name": "stdout",
     "output_type": "stream",
     "text": [
      "اختبار    object\n",
      "برمجة     object\n",
      "تصميم     object\n",
      "عرض       object\n",
      "تقرير     object\n",
      "غيتهاب    object\n",
      "مرجعية    object\n",
      "تحليل     object\n",
      "نتائج     object\n",
      "dtype: object\n"
     ]
    }
   ],
   "source": [
    "print(df.dtypes)"
   ]
  },
  {
   "cell_type": "code",
   "execution_count": 5,
   "id": "204c34b2",
   "metadata": {},
   "outputs": [
    {
     "data": {
      "text/html": [
       "<div>\n",
       "<style scoped>\n",
       "    .dataframe tbody tr th:only-of-type {\n",
       "        vertical-align: middle;\n",
       "    }\n",
       "\n",
       "    .dataframe tbody tr th {\n",
       "        vertical-align: top;\n",
       "    }\n",
       "\n",
       "    .dataframe thead th {\n",
       "        text-align: right;\n",
       "    }\n",
       "</style>\n",
       "<table border=\"1\" class=\"dataframe\">\n",
       "  <thead>\n",
       "    <tr style=\"text-align: right;\">\n",
       "      <th></th>\n",
       "      <th>اختبار</th>\n",
       "      <th>برمجة</th>\n",
       "      <th>تصميم</th>\n",
       "      <th>عرض</th>\n",
       "      <th>تقرير</th>\n",
       "      <th>غيتهاب</th>\n",
       "      <th>مرجعية</th>\n",
       "      <th>تحليل</th>\n",
       "      <th>نتائج</th>\n",
       "    </tr>\n",
       "  </thead>\n",
       "  <tbody>\n",
       "    <tr>\n",
       "      <th>0</th>\n",
       "      <td>29.0</td>\n",
       "      <td>20.0</td>\n",
       "      <td>34.0</td>\n",
       "      <td>24.0</td>\n",
       "      <td>29.0</td>\n",
       "      <td>35.0</td>\n",
       "      <td>35.0</td>\n",
       "      <td>31.0</td>\n",
       "      <td>32.0</td>\n",
       "    </tr>\n",
       "    <tr>\n",
       "      <th>1</th>\n",
       "      <td>33.0</td>\n",
       "      <td>29.0</td>\n",
       "      <td>34.0</td>\n",
       "      <td>26.0</td>\n",
       "      <td>33.0</td>\n",
       "      <td>32.0</td>\n",
       "      <td>34.0</td>\n",
       "      <td>37.0</td>\n",
       "      <td>34.0</td>\n",
       "    </tr>\n",
       "    <tr>\n",
       "      <th>2</th>\n",
       "      <td>29.0</td>\n",
       "      <td>30.0</td>\n",
       "      <td>32.0</td>\n",
       "      <td>31.0</td>\n",
       "      <td>33.0</td>\n",
       "      <td>32.0</td>\n",
       "      <td>21.0</td>\n",
       "      <td>31.0</td>\n",
       "      <td>33.0</td>\n",
       "    </tr>\n",
       "    <tr>\n",
       "      <th>3</th>\n",
       "      <td>29.0</td>\n",
       "      <td>24.0</td>\n",
       "      <td>27.0</td>\n",
       "      <td>33.0</td>\n",
       "      <td>28.0</td>\n",
       "      <td>30.0</td>\n",
       "      <td>33.0</td>\n",
       "      <td>36.0</td>\n",
       "      <td>29.0</td>\n",
       "    </tr>\n",
       "    <tr>\n",
       "      <th>4</th>\n",
       "      <td>28.0</td>\n",
       "      <td>27.0</td>\n",
       "      <td>25.0</td>\n",
       "      <td>23.0</td>\n",
       "      <td>23.0</td>\n",
       "      <td>35.0</td>\n",
       "      <td>39.0</td>\n",
       "      <td>28.0</td>\n",
       "      <td>37.0</td>\n",
       "    </tr>\n",
       "  </tbody>\n",
       "</table>\n",
       "</div>"
      ],
      "text/plain": [
       "  اختبار برمجة تصميم   عرض تقرير غيتهاب مرجعية تحليل نتائج\n",
       "0   29.0  20.0  34.0  24.0  29.0   35.0   35.0  31.0  32.0\n",
       "1   33.0  29.0  34.0  26.0  33.0   32.0   34.0  37.0  34.0\n",
       "2   29.0  30.0  32.0  31.0  33.0   32.0   21.0  31.0  33.0\n",
       "3   29.0  24.0  27.0  33.0  28.0   30.0   33.0  36.0  29.0\n",
       "4   28.0  27.0  25.0  23.0  23.0   35.0   39.0  28.0  37.0"
      ]
     },
     "execution_count": 5,
     "metadata": {},
     "output_type": "execute_result"
    }
   ],
   "source": [
    "for row_index in range(len(df)):\n",
    "    for col_index in range(len(df.columns)):\n",
    "        value = df.iloc[row_index, col_index]\n",
    "        weights = [0.01 * i for i in range(1,len(value)+1)]\n",
    "        result = [x * y for x, y in zip(value, weights)]\n",
    "        sum_weight = 0\n",
    "        for i in range(len(weights)):\n",
    "            if value[i] != 0:\n",
    "                sum_weight += weights[i]\n",
    "        if sum_weight != 0:\n",
    "            df.iloc[row_index, col_index] = np.ceil(sum(result)/sum_weight)\n",
    "        else:\n",
    "            df.iloc[row_index, col_index] = 0\n",
    "df.head()\n"
   ]
  },
  {
   "cell_type": "code",
   "execution_count": 6,
   "id": "041214a7",
   "metadata": {},
   "outputs": [
    {
     "data": {
      "text/html": [
       "<div>\n",
       "<style scoped>\n",
       "    .dataframe tbody tr th:only-of-type {\n",
       "        vertical-align: middle;\n",
       "    }\n",
       "\n",
       "    .dataframe tbody tr th {\n",
       "        vertical-align: top;\n",
       "    }\n",
       "\n",
       "    .dataframe thead th {\n",
       "        text-align: right;\n",
       "    }\n",
       "</style>\n",
       "<table border=\"1\" class=\"dataframe\">\n",
       "  <thead>\n",
       "    <tr style=\"text-align: right;\">\n",
       "      <th></th>\n",
       "      <th>اختبار</th>\n",
       "      <th>برمجة</th>\n",
       "      <th>تصميم</th>\n",
       "      <th>عرض</th>\n",
       "      <th>تقرير</th>\n",
       "      <th>غيتهاب</th>\n",
       "      <th>مرجعية</th>\n",
       "      <th>تحليل</th>\n",
       "      <th>نتائج</th>\n",
       "      <th>متوسط</th>\n",
       "    </tr>\n",
       "  </thead>\n",
       "  <tbody>\n",
       "    <tr>\n",
       "      <th>0</th>\n",
       "      <td>29.0</td>\n",
       "      <td>20.0</td>\n",
       "      <td>34.0</td>\n",
       "      <td>24.0</td>\n",
       "      <td>29.0</td>\n",
       "      <td>35.0</td>\n",
       "      <td>35.0</td>\n",
       "      <td>31.0</td>\n",
       "      <td>32.0</td>\n",
       "      <td>30</td>\n",
       "    </tr>\n",
       "    <tr>\n",
       "      <th>1</th>\n",
       "      <td>33.0</td>\n",
       "      <td>29.0</td>\n",
       "      <td>34.0</td>\n",
       "      <td>26.0</td>\n",
       "      <td>33.0</td>\n",
       "      <td>32.0</td>\n",
       "      <td>34.0</td>\n",
       "      <td>37.0</td>\n",
       "      <td>34.0</td>\n",
       "      <td>33</td>\n",
       "    </tr>\n",
       "    <tr>\n",
       "      <th>2</th>\n",
       "      <td>29.0</td>\n",
       "      <td>30.0</td>\n",
       "      <td>32.0</td>\n",
       "      <td>31.0</td>\n",
       "      <td>33.0</td>\n",
       "      <td>32.0</td>\n",
       "      <td>21.0</td>\n",
       "      <td>31.0</td>\n",
       "      <td>33.0</td>\n",
       "      <td>31</td>\n",
       "    </tr>\n",
       "    <tr>\n",
       "      <th>3</th>\n",
       "      <td>29.0</td>\n",
       "      <td>24.0</td>\n",
       "      <td>27.0</td>\n",
       "      <td>33.0</td>\n",
       "      <td>28.0</td>\n",
       "      <td>30.0</td>\n",
       "      <td>33.0</td>\n",
       "      <td>36.0</td>\n",
       "      <td>29.0</td>\n",
       "      <td>30</td>\n",
       "    </tr>\n",
       "    <tr>\n",
       "      <th>4</th>\n",
       "      <td>28.0</td>\n",
       "      <td>27.0</td>\n",
       "      <td>25.0</td>\n",
       "      <td>23.0</td>\n",
       "      <td>23.0</td>\n",
       "      <td>35.0</td>\n",
       "      <td>39.0</td>\n",
       "      <td>28.0</td>\n",
       "      <td>37.0</td>\n",
       "      <td>30</td>\n",
       "    </tr>\n",
       "  </tbody>\n",
       "</table>\n",
       "</div>"
      ],
      "text/plain": [
       "  اختبار برمجة تصميم   عرض تقرير غيتهاب مرجعية تحليل نتائج  متوسط\n",
       "0   29.0  20.0  34.0  24.0  29.0   35.0   35.0  31.0  32.0     30\n",
       "1   33.0  29.0  34.0  26.0  33.0   32.0   34.0  37.0  34.0     33\n",
       "2   29.0  30.0  32.0  31.0  33.0   32.0   21.0  31.0  33.0     31\n",
       "3   29.0  24.0  27.0  33.0  28.0   30.0   33.0  36.0  29.0     30\n",
       "4   28.0  27.0  25.0  23.0  23.0   35.0   39.0  28.0  37.0     30"
      ]
     },
     "execution_count": 6,
     "metadata": {},
     "output_type": "execute_result"
    }
   ],
   "source": [
    "df[\"متوسط\"]=0\n",
    "weights = [0.3, 0.9, 0.8, 0.2, 0.4, 0.2 , 0.5, 0.7, 1 ,0]\n",
    "\n",
    "for i in range(len(df)):\n",
    "    value = df.iloc[i].tolist()\n",
    "    result = [x * y for x, y in zip(value, weights)]\n",
    "    sum_weight = 0\n",
    "    for j in range(len(weights)):\n",
    "        if value[j] != 0:\n",
    "            sum_weight += weights[j]\n",
    "    if sum_weight != 0:\n",
    "        df.loc[i,\"متوسط\"] = np.ceil(sum(result)/sum_weight)\n",
    "    else:\n",
    "        df.loc[i,\"متوسط\"] = 0\n",
    "\n",
    "df.head()"
   ]
  },
  {
   "cell_type": "code",
   "execution_count": 7,
   "id": "5fd1418b",
   "metadata": {},
   "outputs": [
    {
     "name": "stdout",
     "output_type": "stream",
     "text": [
      "اختبار    int32\n",
      "برمجة     int32\n",
      "تصميم     int32\n",
      "عرض       int32\n",
      "تقرير     int32\n",
      "غيتهاب    int32\n",
      "مرجعية    int32\n",
      "تحليل     int32\n",
      "نتائج     int32\n",
      "متوسط     int32\n",
      "dtype: object\n"
     ]
    }
   ],
   "source": [
    "df = df.apply(lambda x: x.astype(int))\n",
    "print(df.dtypes)"
   ]
  },
  {
   "cell_type": "code",
   "execution_count": 8,
   "id": "67eff12a",
   "metadata": {},
   "outputs": [
    {
     "data": {
      "text/html": [
       "<div>\n",
       "<style scoped>\n",
       "    .dataframe tbody tr th:only-of-type {\n",
       "        vertical-align: middle;\n",
       "    }\n",
       "\n",
       "    .dataframe tbody tr th {\n",
       "        vertical-align: top;\n",
       "    }\n",
       "\n",
       "    .dataframe thead th {\n",
       "        text-align: right;\n",
       "    }\n",
       "</style>\n",
       "<table border=\"1\" class=\"dataframe\">\n",
       "  <thead>\n",
       "    <tr style=\"text-align: right;\">\n",
       "      <th></th>\n",
       "      <th>اختبار</th>\n",
       "      <th>برمجة</th>\n",
       "      <th>تصميم</th>\n",
       "      <th>عرض</th>\n",
       "      <th>تقرير</th>\n",
       "      <th>غيتهاب</th>\n",
       "      <th>مرجعية</th>\n",
       "      <th>تحليل</th>\n",
       "      <th>نتائج</th>\n",
       "      <th>متوسط</th>\n",
       "      <th>تصنيف</th>\n",
       "    </tr>\n",
       "  </thead>\n",
       "  <tbody>\n",
       "    <tr>\n",
       "      <th>0</th>\n",
       "      <td>29</td>\n",
       "      <td>20</td>\n",
       "      <td>34</td>\n",
       "      <td>24</td>\n",
       "      <td>29</td>\n",
       "      <td>35</td>\n",
       "      <td>35</td>\n",
       "      <td>31</td>\n",
       "      <td>32</td>\n",
       "      <td>30</td>\n",
       "      <td>أحمر</td>\n",
       "    </tr>\n",
       "    <tr>\n",
       "      <th>1</th>\n",
       "      <td>33</td>\n",
       "      <td>29</td>\n",
       "      <td>34</td>\n",
       "      <td>26</td>\n",
       "      <td>33</td>\n",
       "      <td>32</td>\n",
       "      <td>34</td>\n",
       "      <td>37</td>\n",
       "      <td>34</td>\n",
       "      <td>33</td>\n",
       "      <td>أحمر</td>\n",
       "    </tr>\n",
       "    <tr>\n",
       "      <th>2</th>\n",
       "      <td>29</td>\n",
       "      <td>30</td>\n",
       "      <td>32</td>\n",
       "      <td>31</td>\n",
       "      <td>33</td>\n",
       "      <td>32</td>\n",
       "      <td>21</td>\n",
       "      <td>31</td>\n",
       "      <td>33</td>\n",
       "      <td>31</td>\n",
       "      <td>أحمر</td>\n",
       "    </tr>\n",
       "    <tr>\n",
       "      <th>3</th>\n",
       "      <td>29</td>\n",
       "      <td>24</td>\n",
       "      <td>27</td>\n",
       "      <td>33</td>\n",
       "      <td>28</td>\n",
       "      <td>30</td>\n",
       "      <td>33</td>\n",
       "      <td>36</td>\n",
       "      <td>29</td>\n",
       "      <td>30</td>\n",
       "      <td>أحمر</td>\n",
       "    </tr>\n",
       "    <tr>\n",
       "      <th>4</th>\n",
       "      <td>28</td>\n",
       "      <td>27</td>\n",
       "      <td>25</td>\n",
       "      <td>23</td>\n",
       "      <td>23</td>\n",
       "      <td>35</td>\n",
       "      <td>39</td>\n",
       "      <td>28</td>\n",
       "      <td>37</td>\n",
       "      <td>30</td>\n",
       "      <td>أحمر</td>\n",
       "    </tr>\n",
       "  </tbody>\n",
       "</table>\n",
       "</div>"
      ],
      "text/plain": [
       "   اختبار  برمجة  تصميم  عرض  تقرير  غيتهاب  مرجعية  تحليل  نتائج  متوسط تصنيف\n",
       "0      29     20     34   24     29      35      35     31     32     30  أحمر\n",
       "1      33     29     34   26     33      32      34     37     34     33  أحمر\n",
       "2      29     30     32   31     33      32      21     31     33     31  أحمر\n",
       "3      29     24     27   33     28      30      33     36     29     30  أحمر\n",
       "4      28     27     25   23     23      35      39     28     37     30  أحمر"
      ]
     },
     "execution_count": 8,
     "metadata": {},
     "output_type": "execute_result"
    }
   ],
   "source": [
    "df['تصنيف']=1\n",
    "for i in range(df['تصنيف'].count()):\n",
    "    if df.iloc[i,9]<50:\n",
    "        df.iloc[i,10]=\"أحمر\"\n",
    "    elif (df.iloc[i,9] >=50) & (df.iloc[i,9]<70):\n",
    "        df.iloc[i,10]=\"برتقالي\"\n",
    "    elif (df.iloc[i,9] >=70) :\n",
    "        df.iloc[i,10]=\"أخضر\"\n",
    "\n",
    "df.head()"
   ]
  },
  {
   "cell_type": "code",
   "execution_count": 9,
   "id": "b52127d8",
   "metadata": {},
   "outputs": [
    {
     "data": {
      "text/html": [
       "<div>\n",
       "<style scoped>\n",
       "    .dataframe tbody tr th:only-of-type {\n",
       "        vertical-align: middle;\n",
       "    }\n",
       "\n",
       "    .dataframe tbody tr th {\n",
       "        vertical-align: top;\n",
       "    }\n",
       "\n",
       "    .dataframe thead th {\n",
       "        text-align: right;\n",
       "    }\n",
       "</style>\n",
       "<table border=\"1\" class=\"dataframe\">\n",
       "  <thead>\n",
       "    <tr style=\"text-align: right;\">\n",
       "      <th></th>\n",
       "      <th>اختبار</th>\n",
       "      <th>برمجة</th>\n",
       "      <th>تصميم</th>\n",
       "      <th>عرض</th>\n",
       "      <th>تقرير</th>\n",
       "      <th>غيتهاب</th>\n",
       "      <th>مرجعية</th>\n",
       "      <th>تحليل</th>\n",
       "      <th>نتائج</th>\n",
       "      <th>متوسط</th>\n",
       "    </tr>\n",
       "  </thead>\n",
       "  <tbody>\n",
       "    <tr>\n",
       "      <th>count</th>\n",
       "      <td>2500.000000</td>\n",
       "      <td>2500.000000</td>\n",
       "      <td>2500.000000</td>\n",
       "      <td>2500.000000</td>\n",
       "      <td>2500.000000</td>\n",
       "      <td>2500.000000</td>\n",
       "      <td>2500.000000</td>\n",
       "      <td>2500.000000</td>\n",
       "      <td>2500.000000</td>\n",
       "      <td>2500.000000</td>\n",
       "    </tr>\n",
       "    <tr>\n",
       "      <th>mean</th>\n",
       "      <td>57.140400</td>\n",
       "      <td>57.029200</td>\n",
       "      <td>57.144800</td>\n",
       "      <td>56.962000</td>\n",
       "      <td>56.941200</td>\n",
       "      <td>56.928400</td>\n",
       "      <td>56.924400</td>\n",
       "      <td>56.904400</td>\n",
       "      <td>56.882800</td>\n",
       "      <td>57.469600</td>\n",
       "    </tr>\n",
       "    <tr>\n",
       "      <th>std</th>\n",
       "      <td>20.764016</td>\n",
       "      <td>20.674509</td>\n",
       "      <td>20.628069</td>\n",
       "      <td>20.735644</td>\n",
       "      <td>20.800029</td>\n",
       "      <td>20.815547</td>\n",
       "      <td>20.692558</td>\n",
       "      <td>20.778546</td>\n",
       "      <td>20.806129</td>\n",
       "      <td>19.991382</td>\n",
       "    </tr>\n",
       "    <tr>\n",
       "      <th>min</th>\n",
       "      <td>14.000000</td>\n",
       "      <td>18.000000</td>\n",
       "      <td>16.000000</td>\n",
       "      <td>15.000000</td>\n",
       "      <td>17.000000</td>\n",
       "      <td>16.000000</td>\n",
       "      <td>18.000000</td>\n",
       "      <td>20.000000</td>\n",
       "      <td>17.000000</td>\n",
       "      <td>27.000000</td>\n",
       "    </tr>\n",
       "    <tr>\n",
       "      <th>25%</th>\n",
       "      <td>38.000000</td>\n",
       "      <td>38.000000</td>\n",
       "      <td>38.000000</td>\n",
       "      <td>38.000000</td>\n",
       "      <td>38.000000</td>\n",
       "      <td>38.000000</td>\n",
       "      <td>38.000000</td>\n",
       "      <td>38.000000</td>\n",
       "      <td>38.000000</td>\n",
       "      <td>34.000000</td>\n",
       "    </tr>\n",
       "    <tr>\n",
       "      <th>50%</th>\n",
       "      <td>55.000000</td>\n",
       "      <td>55.000000</td>\n",
       "      <td>56.000000</td>\n",
       "      <td>55.000000</td>\n",
       "      <td>55.000000</td>\n",
       "      <td>55.000000</td>\n",
       "      <td>55.000000</td>\n",
       "      <td>55.000000</td>\n",
       "      <td>55.000000</td>\n",
       "      <td>56.000000</td>\n",
       "    </tr>\n",
       "    <tr>\n",
       "      <th>75%</th>\n",
       "      <td>80.000000</td>\n",
       "      <td>80.000000</td>\n",
       "      <td>80.000000</td>\n",
       "      <td>80.000000</td>\n",
       "      <td>80.000000</td>\n",
       "      <td>80.000000</td>\n",
       "      <td>80.000000</td>\n",
       "      <td>80.000000</td>\n",
       "      <td>80.000000</td>\n",
       "      <td>84.000000</td>\n",
       "    </tr>\n",
       "    <tr>\n",
       "      <th>max</th>\n",
       "      <td>98.000000</td>\n",
       "      <td>96.000000</td>\n",
       "      <td>96.000000</td>\n",
       "      <td>98.000000</td>\n",
       "      <td>97.000000</td>\n",
       "      <td>97.000000</td>\n",
       "      <td>98.000000</td>\n",
       "      <td>95.000000</td>\n",
       "      <td>96.000000</td>\n",
       "      <td>90.000000</td>\n",
       "    </tr>\n",
       "  </tbody>\n",
       "</table>\n",
       "</div>"
      ],
      "text/plain": [
       "            اختبار        برمجة        تصميم          عرض        تقرير  \\\n",
       "count  2500.000000  2500.000000  2500.000000  2500.000000  2500.000000   \n",
       "mean     57.140400    57.029200    57.144800    56.962000    56.941200   \n",
       "std      20.764016    20.674509    20.628069    20.735644    20.800029   \n",
       "min      14.000000    18.000000    16.000000    15.000000    17.000000   \n",
       "25%      38.000000    38.000000    38.000000    38.000000    38.000000   \n",
       "50%      55.000000    55.000000    56.000000    55.000000    55.000000   \n",
       "75%      80.000000    80.000000    80.000000    80.000000    80.000000   \n",
       "max      98.000000    96.000000    96.000000    98.000000    97.000000   \n",
       "\n",
       "            غيتهاب       مرجعية        تحليل        نتائج        متوسط  \n",
       "count  2500.000000  2500.000000  2500.000000  2500.000000  2500.000000  \n",
       "mean     56.928400    56.924400    56.904400    56.882800    57.469600  \n",
       "std      20.815547    20.692558    20.778546    20.806129    19.991382  \n",
       "min      16.000000    18.000000    20.000000    17.000000    27.000000  \n",
       "25%      38.000000    38.000000    38.000000    38.000000    34.000000  \n",
       "50%      55.000000    55.000000    55.000000    55.000000    56.000000  \n",
       "75%      80.000000    80.000000    80.000000    80.000000    84.000000  \n",
       "max      97.000000    98.000000    95.000000    96.000000    90.000000  "
      ]
     },
     "execution_count": 9,
     "metadata": {},
     "output_type": "execute_result"
    }
   ],
   "source": [
    "df.describe()"
   ]
  },
  {
   "cell_type": "code",
   "execution_count": 10,
   "id": "c15ffc83",
   "metadata": {},
   "outputs": [
    {
     "name": "stdout",
     "output_type": "stream",
     "text": [
      "\n",
      "number of samples :  2500\n",
      "Index(['اختبار', 'برمجة', 'تصميم', 'عرض', 'تقرير', 'غيتهاب', 'مرجعية', 'تحليل',\n",
      "       'نتائج', 'متوسط', 'تصنيف'],\n",
      "      dtype='object')\n"
     ]
    }
   ],
   "source": [
    "print(\"\\nnumber of samples : \" , df.count().max())\n",
    "print(df.columns)"
   ]
  },
  {
   "cell_type": "markdown",
   "id": "38b10429",
   "metadata": {},
   "source": [
    "### Duplicate check"
   ]
  },
  {
   "cell_type": "code",
   "execution_count": 11,
   "id": "c7f336e5",
   "metadata": {},
   "outputs": [
    {
     "name": "stdout",
     "output_type": "stream",
     "text": [
      "number of duplicate row:  0\n"
     ]
    }
   ],
   "source": [
    "print(\"number of duplicate row: \",df.duplicated().sum())"
   ]
  },
  {
   "cell_type": "markdown",
   "id": "42d67436",
   "metadata": {},
   "source": [
    "### data embalance check"
   ]
  },
  {
   "cell_type": "code",
   "execution_count": 12,
   "id": "80c45d1c",
   "metadata": {},
   "outputs": [
    {
     "name": "stdout",
     "output_type": "stream",
     "text": [
      "The number of samples in the class 'red' :  669\n",
      "The number of samples in the class 'orange' :  1181\n",
      "The number of samples in the class 'green' :  650\n"
     ]
    },
    {
     "data": {
      "application/vnd.plotly.v1+json": {
       "config": {
        "plotlyServerURL": "https://plot.ly"
       },
       "data": [
        {
         "domain": {
          "x": [
           0,
           1
          ],
          "y": [
           0,
           1
          ]
         },
         "hovertemplate": "label=%{label}<br>value=%{value}<extra></extra>",
         "labels": [
          "orange",
          "red",
          "green"
         ],
         "legendgroup": "",
         "name": "",
         "showlegend": true,
         "type": "pie",
         "values": [
          1181,
          669,
          650
         ]
        }
       ],
       "layout": {
        "height": 400,
        "legend": {
         "tracegroupgap": 0
        },
        "piecolorway": [
         "orange",
         "red",
         "green"
        ],
        "template": {
         "data": {
          "bar": [
           {
            "error_x": {
             "color": "#2a3f5f"
            },
            "error_y": {
             "color": "#2a3f5f"
            },
            "marker": {
             "line": {
              "color": "#E5ECF6",
              "width": 0.5
             },
             "pattern": {
              "fillmode": "overlay",
              "size": 10,
              "solidity": 0.2
             }
            },
            "type": "bar"
           }
          ],
          "barpolar": [
           {
            "marker": {
             "line": {
              "color": "#E5ECF6",
              "width": 0.5
             },
             "pattern": {
              "fillmode": "overlay",
              "size": 10,
              "solidity": 0.2
             }
            },
            "type": "barpolar"
           }
          ],
          "carpet": [
           {
            "aaxis": {
             "endlinecolor": "#2a3f5f",
             "gridcolor": "white",
             "linecolor": "white",
             "minorgridcolor": "white",
             "startlinecolor": "#2a3f5f"
            },
            "baxis": {
             "endlinecolor": "#2a3f5f",
             "gridcolor": "white",
             "linecolor": "white",
             "minorgridcolor": "white",
             "startlinecolor": "#2a3f5f"
            },
            "type": "carpet"
           }
          ],
          "choropleth": [
           {
            "colorbar": {
             "outlinewidth": 0,
             "ticks": ""
            },
            "type": "choropleth"
           }
          ],
          "contour": [
           {
            "colorbar": {
             "outlinewidth": 0,
             "ticks": ""
            },
            "colorscale": [
             [
              0,
              "#0d0887"
             ],
             [
              0.1111111111111111,
              "#46039f"
             ],
             [
              0.2222222222222222,
              "#7201a8"
             ],
             [
              0.3333333333333333,
              "#9c179e"
             ],
             [
              0.4444444444444444,
              "#bd3786"
             ],
             [
              0.5555555555555556,
              "#d8576b"
             ],
             [
              0.6666666666666666,
              "#ed7953"
             ],
             [
              0.7777777777777778,
              "#fb9f3a"
             ],
             [
              0.8888888888888888,
              "#fdca26"
             ],
             [
              1,
              "#f0f921"
             ]
            ],
            "type": "contour"
           }
          ],
          "contourcarpet": [
           {
            "colorbar": {
             "outlinewidth": 0,
             "ticks": ""
            },
            "type": "contourcarpet"
           }
          ],
          "heatmap": [
           {
            "colorbar": {
             "outlinewidth": 0,
             "ticks": ""
            },
            "colorscale": [
             [
              0,
              "#0d0887"
             ],
             [
              0.1111111111111111,
              "#46039f"
             ],
             [
              0.2222222222222222,
              "#7201a8"
             ],
             [
              0.3333333333333333,
              "#9c179e"
             ],
             [
              0.4444444444444444,
              "#bd3786"
             ],
             [
              0.5555555555555556,
              "#d8576b"
             ],
             [
              0.6666666666666666,
              "#ed7953"
             ],
             [
              0.7777777777777778,
              "#fb9f3a"
             ],
             [
              0.8888888888888888,
              "#fdca26"
             ],
             [
              1,
              "#f0f921"
             ]
            ],
            "type": "heatmap"
           }
          ],
          "heatmapgl": [
           {
            "colorbar": {
             "outlinewidth": 0,
             "ticks": ""
            },
            "colorscale": [
             [
              0,
              "#0d0887"
             ],
             [
              0.1111111111111111,
              "#46039f"
             ],
             [
              0.2222222222222222,
              "#7201a8"
             ],
             [
              0.3333333333333333,
              "#9c179e"
             ],
             [
              0.4444444444444444,
              "#bd3786"
             ],
             [
              0.5555555555555556,
              "#d8576b"
             ],
             [
              0.6666666666666666,
              "#ed7953"
             ],
             [
              0.7777777777777778,
              "#fb9f3a"
             ],
             [
              0.8888888888888888,
              "#fdca26"
             ],
             [
              1,
              "#f0f921"
             ]
            ],
            "type": "heatmapgl"
           }
          ],
          "histogram": [
           {
            "marker": {
             "pattern": {
              "fillmode": "overlay",
              "size": 10,
              "solidity": 0.2
             }
            },
            "type": "histogram"
           }
          ],
          "histogram2d": [
           {
            "colorbar": {
             "outlinewidth": 0,
             "ticks": ""
            },
            "colorscale": [
             [
              0,
              "#0d0887"
             ],
             [
              0.1111111111111111,
              "#46039f"
             ],
             [
              0.2222222222222222,
              "#7201a8"
             ],
             [
              0.3333333333333333,
              "#9c179e"
             ],
             [
              0.4444444444444444,
              "#bd3786"
             ],
             [
              0.5555555555555556,
              "#d8576b"
             ],
             [
              0.6666666666666666,
              "#ed7953"
             ],
             [
              0.7777777777777778,
              "#fb9f3a"
             ],
             [
              0.8888888888888888,
              "#fdca26"
             ],
             [
              1,
              "#f0f921"
             ]
            ],
            "type": "histogram2d"
           }
          ],
          "histogram2dcontour": [
           {
            "colorbar": {
             "outlinewidth": 0,
             "ticks": ""
            },
            "colorscale": [
             [
              0,
              "#0d0887"
             ],
             [
              0.1111111111111111,
              "#46039f"
             ],
             [
              0.2222222222222222,
              "#7201a8"
             ],
             [
              0.3333333333333333,
              "#9c179e"
             ],
             [
              0.4444444444444444,
              "#bd3786"
             ],
             [
              0.5555555555555556,
              "#d8576b"
             ],
             [
              0.6666666666666666,
              "#ed7953"
             ],
             [
              0.7777777777777778,
              "#fb9f3a"
             ],
             [
              0.8888888888888888,
              "#fdca26"
             ],
             [
              1,
              "#f0f921"
             ]
            ],
            "type": "histogram2dcontour"
           }
          ],
          "mesh3d": [
           {
            "colorbar": {
             "outlinewidth": 0,
             "ticks": ""
            },
            "type": "mesh3d"
           }
          ],
          "parcoords": [
           {
            "line": {
             "colorbar": {
              "outlinewidth": 0,
              "ticks": ""
             }
            },
            "type": "parcoords"
           }
          ],
          "pie": [
           {
            "automargin": true,
            "type": "pie"
           }
          ],
          "scatter": [
           {
            "fillpattern": {
             "fillmode": "overlay",
             "size": 10,
             "solidity": 0.2
            },
            "type": "scatter"
           }
          ],
          "scatter3d": [
           {
            "line": {
             "colorbar": {
              "outlinewidth": 0,
              "ticks": ""
             }
            },
            "marker": {
             "colorbar": {
              "outlinewidth": 0,
              "ticks": ""
             }
            },
            "type": "scatter3d"
           }
          ],
          "scattercarpet": [
           {
            "marker": {
             "colorbar": {
              "outlinewidth": 0,
              "ticks": ""
             }
            },
            "type": "scattercarpet"
           }
          ],
          "scattergeo": [
           {
            "marker": {
             "colorbar": {
              "outlinewidth": 0,
              "ticks": ""
             }
            },
            "type": "scattergeo"
           }
          ],
          "scattergl": [
           {
            "marker": {
             "colorbar": {
              "outlinewidth": 0,
              "ticks": ""
             }
            },
            "type": "scattergl"
           }
          ],
          "scattermapbox": [
           {
            "marker": {
             "colorbar": {
              "outlinewidth": 0,
              "ticks": ""
             }
            },
            "type": "scattermapbox"
           }
          ],
          "scatterpolar": [
           {
            "marker": {
             "colorbar": {
              "outlinewidth": 0,
              "ticks": ""
             }
            },
            "type": "scatterpolar"
           }
          ],
          "scatterpolargl": [
           {
            "marker": {
             "colorbar": {
              "outlinewidth": 0,
              "ticks": ""
             }
            },
            "type": "scatterpolargl"
           }
          ],
          "scatterternary": [
           {
            "marker": {
             "colorbar": {
              "outlinewidth": 0,
              "ticks": ""
             }
            },
            "type": "scatterternary"
           }
          ],
          "surface": [
           {
            "colorbar": {
             "outlinewidth": 0,
             "ticks": ""
            },
            "colorscale": [
             [
              0,
              "#0d0887"
             ],
             [
              0.1111111111111111,
              "#46039f"
             ],
             [
              0.2222222222222222,
              "#7201a8"
             ],
             [
              0.3333333333333333,
              "#9c179e"
             ],
             [
              0.4444444444444444,
              "#bd3786"
             ],
             [
              0.5555555555555556,
              "#d8576b"
             ],
             [
              0.6666666666666666,
              "#ed7953"
             ],
             [
              0.7777777777777778,
              "#fb9f3a"
             ],
             [
              0.8888888888888888,
              "#fdca26"
             ],
             [
              1,
              "#f0f921"
             ]
            ],
            "type": "surface"
           }
          ],
          "table": [
           {
            "cells": {
             "fill": {
              "color": "#EBF0F8"
             },
             "line": {
              "color": "white"
             }
            },
            "header": {
             "fill": {
              "color": "#C8D4E3"
             },
             "line": {
              "color": "white"
             }
            },
            "type": "table"
           }
          ]
         },
         "layout": {
          "annotationdefaults": {
           "arrowcolor": "#2a3f5f",
           "arrowhead": 0,
           "arrowwidth": 1
          },
          "autotypenumbers": "strict",
          "coloraxis": {
           "colorbar": {
            "outlinewidth": 0,
            "ticks": ""
           }
          },
          "colorscale": {
           "diverging": [
            [
             0,
             "#8e0152"
            ],
            [
             0.1,
             "#c51b7d"
            ],
            [
             0.2,
             "#de77ae"
            ],
            [
             0.3,
             "#f1b6da"
            ],
            [
             0.4,
             "#fde0ef"
            ],
            [
             0.5,
             "#f7f7f7"
            ],
            [
             0.6,
             "#e6f5d0"
            ],
            [
             0.7,
             "#b8e186"
            ],
            [
             0.8,
             "#7fbc41"
            ],
            [
             0.9,
             "#4d9221"
            ],
            [
             1,
             "#276419"
            ]
           ],
           "sequential": [
            [
             0,
             "#0d0887"
            ],
            [
             0.1111111111111111,
             "#46039f"
            ],
            [
             0.2222222222222222,
             "#7201a8"
            ],
            [
             0.3333333333333333,
             "#9c179e"
            ],
            [
             0.4444444444444444,
             "#bd3786"
            ],
            [
             0.5555555555555556,
             "#d8576b"
            ],
            [
             0.6666666666666666,
             "#ed7953"
            ],
            [
             0.7777777777777778,
             "#fb9f3a"
            ],
            [
             0.8888888888888888,
             "#fdca26"
            ],
            [
             1,
             "#f0f921"
            ]
           ],
           "sequentialminus": [
            [
             0,
             "#0d0887"
            ],
            [
             0.1111111111111111,
             "#46039f"
            ],
            [
             0.2222222222222222,
             "#7201a8"
            ],
            [
             0.3333333333333333,
             "#9c179e"
            ],
            [
             0.4444444444444444,
             "#bd3786"
            ],
            [
             0.5555555555555556,
             "#d8576b"
            ],
            [
             0.6666666666666666,
             "#ed7953"
            ],
            [
             0.7777777777777778,
             "#fb9f3a"
            ],
            [
             0.8888888888888888,
             "#fdca26"
            ],
            [
             1,
             "#f0f921"
            ]
           ]
          },
          "colorway": [
           "#636efa",
           "#EF553B",
           "#00cc96",
           "#ab63fa",
           "#FFA15A",
           "#19d3f3",
           "#FF6692",
           "#B6E880",
           "#FF97FF",
           "#FECB52"
          ],
          "font": {
           "color": "#2a3f5f"
          },
          "geo": {
           "bgcolor": "white",
           "lakecolor": "white",
           "landcolor": "#E5ECF6",
           "showlakes": true,
           "showland": true,
           "subunitcolor": "white"
          },
          "hoverlabel": {
           "align": "left"
          },
          "hovermode": "closest",
          "mapbox": {
           "style": "light"
          },
          "paper_bgcolor": "white",
          "plot_bgcolor": "#E5ECF6",
          "polar": {
           "angularaxis": {
            "gridcolor": "white",
            "linecolor": "white",
            "ticks": ""
           },
           "bgcolor": "#E5ECF6",
           "radialaxis": {
            "gridcolor": "white",
            "linecolor": "white",
            "ticks": ""
           }
          },
          "scene": {
           "xaxis": {
            "backgroundcolor": "#E5ECF6",
            "gridcolor": "white",
            "gridwidth": 2,
            "linecolor": "white",
            "showbackground": true,
            "ticks": "",
            "zerolinecolor": "white"
           },
           "yaxis": {
            "backgroundcolor": "#E5ECF6",
            "gridcolor": "white",
            "gridwidth": 2,
            "linecolor": "white",
            "showbackground": true,
            "ticks": "",
            "zerolinecolor": "white"
           },
           "zaxis": {
            "backgroundcolor": "#E5ECF6",
            "gridcolor": "white",
            "gridwidth": 2,
            "linecolor": "white",
            "showbackground": true,
            "ticks": "",
            "zerolinecolor": "white"
           }
          },
          "shapedefaults": {
           "line": {
            "color": "#2a3f5f"
           }
          },
          "ternary": {
           "aaxis": {
            "gridcolor": "white",
            "linecolor": "white",
            "ticks": ""
           },
           "baxis": {
            "gridcolor": "white",
            "linecolor": "white",
            "ticks": ""
           },
           "bgcolor": "#E5ECF6",
           "caxis": {
            "gridcolor": "white",
            "linecolor": "white",
            "ticks": ""
           }
          },
          "title": {
           "x": 0.05
          },
          "xaxis": {
           "automargin": true,
           "gridcolor": "white",
           "linecolor": "white",
           "ticks": "",
           "title": {
            "standoff": 15
           },
           "zerolinecolor": "white",
           "zerolinewidth": 2
          },
          "yaxis": {
           "automargin": true,
           "gridcolor": "white",
           "linecolor": "white",
           "ticks": "",
           "title": {
            "standoff": 15
           },
           "zerolinecolor": "white",
           "zerolinewidth": 2
          }
         }
        },
        "title": {
         "text": "Marks distribute"
        },
        "width": 700
       }
      }
     },
     "metadata": {},
     "output_type": "display_data"
    }
   ],
   "source": [
    "print(\"The number of samples in the class 'red' : \" , df['تصنيف'][df['تصنيف'] == \"أحمر\"].count())\n",
    "print(\"The number of samples in the class 'orange' : \" , df['تصنيف'][df['تصنيف'] == \"برتقالي\"].count())\n",
    "print(\"The number of samples in the class 'green' : \" , df['تصنيف'][df['تصنيف'] == \"أخضر\"].count())\n",
    "\n",
    "import plotly.express as px\n",
    "\n",
    "colors = {\"red\":df['تصنيف'][df['تصنيف'] == \"أحمر\"].count(), \"orange\":df['تصنيف'][df['تصنيف'] == \"برتقالي\"].count(), \"green\":df['تصنيف'][df['تصنيف'] == \"أخضر\"].count()}\n",
    "sorted_colors = dict(sorted(colors.items(), key=lambda x: x[1], reverse=True))\n",
    "\n",
    "fig = px.pie(values=list(sorted_colors.values()), names=list(sorted_colors.keys()), width=700, height=400, color_discrete_sequence=list(sorted_colors.keys()), title=\"Marks distribute\")\n",
    "\n",
    "fig.show()"
   ]
  },
  {
   "cell_type": "markdown",
   "id": "7b1cb384",
   "metadata": {},
   "source": [
    "### checking for outliers"
   ]
  },
  {
   "cell_type": "code",
   "execution_count": 13,
   "id": "380f9000",
   "metadata": {},
   "outputs": [],
   "source": [
    "numerical_columns = list(df.loc[:,['مرجعية', 'تحليل', 'تصميم', 'برمجة', 'اختبار', 'نتائج', 'تقرير', 'عرض','غيتهاب']])"
   ]
  },
  {
   "cell_type": "code",
   "execution_count": 14,
   "id": "e9b6bff9",
   "metadata": {},
   "outputs": [
    {
     "data": {
      "image/png": "[encoded data removed]",
      "text/plain": [
       "<Figure size 640x480 with 1 Axes>"
      ]
     },
     "metadata": {},
     "output_type": "display_data"
    }
   ],
   "source": [
    "# checking boxplots\n",
    "fig, axs = plt.subplots(1, 1, sharey=True)\n",
    "fig.suptitle('Boxplots for each variable', y=1, size=25)\n",
    "\n",
    "for i, data in enumerate(numerical_columns):\n",
    "    sns.boxplot(data=df[data], orient='h', ax=axs)\n",
    "    axs.set_title(data + ', skewness is: ' + str(round(df[data].skew(axis=0, skipna=True), 2)))\n",
    "\n",
    "plt.tight_layout()"
   ]
  },
  {
   "cell_type": "code",
   "execution_count": 15,
   "id": "e6c59519",
   "metadata": {},
   "outputs": [],
   "source": [
    "from collections import Counter\n",
    "def IQR_method (df,n,features):\n",
    "    \"\"\"\n",
    "    Takes a dataframe and returns an index list corresponding to the observations \n",
    "    containing more than n outliers according to the Tukey IQR method.\n",
    "    \"\"\"\n",
    "    outlier_list = []\n",
    "    \n",
    "    for column in features:\n",
    "        # 1st quartile (25%)\n",
    "        Q1 = np.percentile(df[column], 25)\n",
    "        # 3rd quartile (75%)\n",
    "        Q3 = np.percentile(df[column],75)\n",
    "        # Interquartile range (IQR)\n",
    "        IQR = Q3 - Q1\n",
    "        # outlier step\n",
    "        outlier_step = 1.5 * IQR\n",
    "        # Determining a list of indices of outliers\n",
    "        outlier_list_column = df[(df[column] < Q1 - outlier_step) | (df[column] > Q3 + outlier_step )].index\n",
    "        # appending the list of outliers \n",
    "        outlier_list.extend(outlier_list_column)\n",
    "         # selecting observations containing more than x outliers\n",
    "        outlier_list = Counter(outlier_list)        \n",
    "        multiple_outliers = list( k for k, v in outlier_list.items() if v > n )\n",
    "        \n",
    "        # Calculate the number of records below and above lower and above bound value respectively\n",
    "        out1 = df[df[column] < Q1 - outlier_step]\n",
    "        out2 = df[df[column] > Q3 + outlier_step]\n",
    "        \n",
    "        print('Total number of deleted outliers is:', out1.shape[0]+out2.shape[0])\n",
    "        return multiple_outliers"
   ]
  },
  {
   "cell_type": "code",
   "execution_count": 16,
   "id": "5d086223",
   "metadata": {},
   "outputs": [
    {
     "name": "stdout",
     "output_type": "stream",
     "text": [
      "Total number of deleted outliers is: 0\n"
     ]
    }
   ],
   "source": [
    "# detecting outliers\n",
    "Outliers_IQR = IQR_method(df,1,numerical_columns)\n",
    "\n",
    "# dropping outliers\n",
    "df = df.drop(Outliers_IQR, axis = 0).reset_index(drop=True)"
   ]
  },
  {
   "cell_type": "code",
   "execution_count": 17,
   "id": "6cd43cbd",
   "metadata": {},
   "outputs": [
    {
     "data": {
      "text/plain": [
       "(2500, 11)"
      ]
     },
     "execution_count": 17,
     "metadata": {},
     "output_type": "execute_result"
    }
   ],
   "source": [
    "df.shape"
   ]
  },
  {
   "cell_type": "markdown",
   "id": "35bb375d",
   "metadata": {},
   "source": [
    "### imputaion  missing"
   ]
  },
  {
   "cell_type": "code",
   "execution_count": 18,
   "id": "12b64040",
   "metadata": {},
   "outputs": [
    {
     "data": {
      "text/plain": [
       "اختبار    0\n",
       "برمجة     0\n",
       "تصميم     0\n",
       "عرض       0\n",
       "تقرير     0\n",
       "غيتهاب    0\n",
       "مرجعية    0\n",
       "تحليل     0\n",
       "نتائج     0\n",
       "متوسط     0\n",
       "تصنيف     0\n",
       "dtype: int64"
      ]
     },
     "execution_count": 18,
     "metadata": {},
     "output_type": "execute_result"
    }
   ],
   "source": [
    "df.isna().sum()"
   ]
  },
  {
   "cell_type": "markdown",
   "id": "81027221",
   "metadata": {},
   "source": [
    "### data_split"
   ]
  },
  {
   "cell_type": "code",
   "execution_count": 19,
   "id": "f7e05fd6",
   "metadata": {},
   "outputs": [],
   "source": [
    "from sklearn.model_selection import train_test_split\n",
    "\n",
    "df=df.drop(['متوسط'],axis=1)\n",
    "\n",
    "x=df.drop(['تصنيف'],axis=1)\n",
    "y=df['تصنيف']\n",
    "\n",
    "x_train ,x_test ,y_train ,y_test = train_test_split(x,y, test_size=0.3,shuffle=True, random_state=42)\n",
    "x_train, x_test = x_train.reset_index(drop=True), x_test.reset_index(drop=True)\n",
    "y_train, y_test = y_train.reset_index(drop=True), y_test.reset_index(drop=True)"
   ]
  },
  {
   "cell_type": "markdown",
   "id": "05e2906c",
   "metadata": {},
   "source": [
    "## building and evaluation models"
   ]
  },
  {
   "cell_type": "markdown",
   "id": "bb65027e",
   "metadata": {},
   "source": [
    "### import libraris"
   ]
  },
  {
   "cell_type": "code",
   "execution_count": 20,
   "id": "f8187461",
   "metadata": {},
   "outputs": [],
   "source": [
    "from sklearn.neighbors import KNeighborsClassifier\n",
    "from sklearn.linear_model import LogisticRegression\n",
    "from sklearn.svm import SVC\n",
    "from sklearn.ensemble import RandomForestClassifier\n",
    "from sklearn.naive_bayes import GaussianNB\n",
    "from sklearn.neural_network import MLPClassifier\n",
    "from sklearn.model_selection import GridSearchCV, KFold, cross_val_score\n",
    "from sklearn.metrics import confusion_matrix ,recall_score, precision_score, f1_score, accuracy_score, classification_report\n",
    "from yellowbrick.classifier import ROCAUC\n",
    "\n",
    "##############################################################################################\n",
    "\n",
    "kfold = KFold(n_splits=10, shuffle=True, random_state=42)\n",
    "\n",
    "##############################################################################################\n",
    "\n",
    "import warnings\n",
    "warnings.filterwarnings(\"ignore\", category=UserWarning)\n",
    "\n",
    "##############################################################################################"
   ]
  },
  {
   "cell_type": "markdown",
   "id": "1f1e8261",
   "metadata": {},
   "source": [
    "### confusion matrix"
   ]
  },
  {
   "cell_type": "code",
   "execution_count": 21,
   "id": "8721ff5b",
   "metadata": {},
   "outputs": [],
   "source": [
    "def confusion_matrix_plot(cm):\n",
    "    classes = ['class 1', 'class 2' , 'class 3' ]\n",
    "    with np.errstate(divide='ignore', invalid='ignore'):\n",
    "        cm = cm/np.sum(cm,axis=0)\n",
    "    tick_marks = np.arange(3)\n",
    "    fig, ax = plt.subplots(figsize=(10,10))\n",
    "    im = ax.imshow(cm, interpolation='nearest', cmap=plt.cm.Dark2)\n",
    "    for i in range(cm.shape[0]):\n",
    "        for j in range(cm.shape[1]):\n",
    "            text = ax.text(j, i, np.around(cm[i, j],decimals=2),\n",
    "                        ha=\"center\", va=\"center\", color=\"w\")\n",
    "    plt.title('Normalized confusion matrix for model')\n",
    "    fig.colorbar(im)\n",
    "    plt.xticks(tick_marks, classes, rotation=45)\n",
    "    plt.yticks(tick_marks, classes);"
   ]
  },
  {
   "cell_type": "markdown",
   "id": "2e0aceaa",
   "metadata": {},
   "source": [
    "### sensitivy and specifity"
   ]
  },
  {
   "cell_type": "code",
   "execution_count": 22,
   "id": "dbba2304",
   "metadata": {},
   "outputs": [],
   "source": [
    "def sensitivity_specificity(cm):\n",
    "    sensitivity = []\n",
    "    specificity = []\n",
    "\n",
    "    for i in range(len(cm)):\n",
    "        true_positive = cm[i, i]\n",
    "        false_positive = cm[:, i].sum() - true_positive\n",
    "        false_negative = cm[i, :].sum() - true_positive\n",
    "        true_negative = cm.sum() - (true_positive + false_positive + false_negative)\n",
    "\n",
    "        sensitivity.append(true_positive / (true_positive + false_negative))\n",
    "        specificity.append(true_negative / (true_negative + false_positive))\n",
    "\n",
    "    print(\"Sensitivity for each class:\", sensitivity)\n",
    "    print(\"Specificity for each class:\", specificity)\n",
    "    for i in range(len(sensitivity)):\n",
    "        print(\"Sensitivity for each class: \",i,\" is\", sensitivity[i])\n",
    "        print(\"Specificity for each class:\",i,\" is\", specificity[i])"
   ]
  },
  {
   "cell_type": "markdown",
   "id": "119b7198",
   "metadata": {},
   "source": [
    "### AUC (ROC PLOT)"
   ]
  },
  {
   "cell_type": "code",
   "execution_count": 23,
   "id": "a710c59d",
   "metadata": {},
   "outputs": [],
   "source": [
    "def plot_ROC_curve(model, x_train, y_train, x_test, y_test):\n",
    "\n",
    "    # Creating visualization with the readable labels\n",
    "    visualizer = ROCAUC(model, encoder={\"أحمر\": 'أحمر', \n",
    "                                        \"برتقالي\": 'برتقالي', \n",
    "                                        \"أخضر\": 'أخضر',\n",
    "})\n",
    "                                        \n",
    "    # Fitting to the training data first then scoring with the test data                                    \n",
    "    visualizer.fit(x_train, y_train)\n",
    "    visualizer.score(x_test, y_test)\n",
    "    visualizer.show()\n",
    "    \n",
    "    return visualizer"
   ]
  },
  {
   "cell_type": "markdown",
   "id": "c901e8c0",
   "metadata": {},
   "source": [
    "### plot table score"
   ]
  },
  {
   "cell_type": "code",
   "execution_count": 24,
   "id": "0fa5ea45",
   "metadata": {},
   "outputs": [],
   "source": [
    "def table_score(ypred):\n",
    "    Recall = recall_score(y_test, ypred, average='macro' , zero_division=1)\n",
    "    Precision = precision_score(y_test, ypred, average='macro' , zero_division=1)\n",
    "    f1 = f1_score(y_test, ypred, average='macro' , zero_division=1)\n",
    "    accuracy = accuracy_score(y_test, ypred)\n",
    "    ndf = [(Recall, Precision, f1, accuracy)]\n",
    "\n",
    "    score = pd.DataFrame(data=ndf, columns=['Recall', 'Precision', 'F1 Score', 'Accuracy'])\n",
    "    return score"
   ]
  },
  {
   "cell_type": "markdown",
   "id": "b5727a60",
   "metadata": {},
   "source": [
    "### KNN model"
   ]
  },
  {
   "cell_type": "code",
   "execution_count": 25,
   "id": "4e67829d",
   "metadata": {},
   "outputs": [
    {
     "name": "stdout",
     "output_type": "stream",
     "text": [
      "Test score: 0.99\n"
     ]
    }
   ],
   "source": [
    "knn1 = KNeighborsClassifier(n_neighbors=5, weights='uniform', algorithm='auto', leaf_size=30, p=2, metric='minkowski')\n",
    "knn1.fit(x_train , y_train)\n",
    "print(\"Test score: {:.2f}\".format(knn1.score(x_test , y_test)))"
   ]
  },
  {
   "cell_type": "code",
   "execution_count": 26,
   "id": "7b16455d",
   "metadata": {},
   "outputs": [
    {
     "name": "stdout",
     "output_type": "stream",
     "text": [
      "Fitting 10 folds for each of 24 candidates, totalling 240 fits\n",
      "[CV 1/10] END metric=euclidean, n_neighbors=1, weights=uniform;, score=0.994 total time=   0.0s\n",
      "[CV 2/10] END metric=euclidean, n_neighbors=1, weights=uniform;, score=0.977 total time=   0.0s\n",
      "[CV 3/10] END metric=euclidean, n_neighbors=1, weights=uniform;, score=0.994 total time=   0.0s\n",
      "[CV 4/10] END metric=euclidean, n_neighbors=1, weights=uniform;, score=0.994 total time=   0.0s\n",
      "[CV 5/10] END metric=euclidean, n_neighbors=1, weights=uniform;, score=1.000 total time=   0.0s\n",
      "[CV 6/10] END metric=euclidean, n_neighbors=1, weights=uniform;, score=0.989 total time=   0.0s\n",
      "[CV 7/10] END metric=euclidean, n_neighbors=1, weights=uniform;, score=0.989 total time=   0.0s\n",
      "[CV 8/10] END metric=euclidean, n_neighbors=1, weights=uniform;, score=0.994 total time=   0.0s\n",
      "[CV 9/10] END metric=euclidean, n_neighbors=1, weights=uniform;, score=1.000 total time=   0.0s\n",
      "[CV 10/10] END metric=euclidean, n_neighbors=1, weights=uniform;, score=0.989 total time=   0.0s\n",
      "[CV 1/10] END metric=euclidean, n_neighbors=1, weights=distance;, score=0.994 total time=   0.0s\n",
      "[CV 2/10] END metric=euclidean, n_neighbors=1, weights=distance;, score=0.977 total time=   0.0s\n",
      "[CV 3/10] END metric=euclidean, n_neighbors=1, weights=distance;, score=0.994 total time=   0.0s\n",
      "[CV 4/10] END metric=euclidean, n_neighbors=1, weights=distance;, score=0.994 total time=   0.0s\n",
      "[CV 5/10] END metric=euclidean, n_neighbors=1, weights=distance;, score=1.000 total time=   0.0s\n",
      "[CV 6/10] END metric=euclidean, n_neighbors=1, weights=distance;, score=0.989 total time=   0.0s\n",
      "[CV 7/10] END metric=euclidean, n_neighbors=1, weights=distance;, score=0.989 total time=   0.0s\n",
      "[CV 8/10] END metric=euclidean, n_neighbors=1, weights=distance;, score=0.994 total time=   0.0s\n",
      "[CV 9/10] END metric=euclidean, n_neighbors=1, weights=distance;, score=1.000 total time=   0.0s\n",
      "[CV 10/10] END metric=euclidean, n_neighbors=1, weights=distance;, score=0.989 total time=   0.0s\n",
      "[CV 1/10] END metric=euclidean, n_neighbors=10, weights=uniform;, score=0.994 total time=   0.0s\n",
      "[CV 2/10] END metric=euclidean, n_neighbors=10, weights=uniform;, score=0.977 total time=   0.0s\n",
      "[CV 3/10] END metric=euclidean, n_neighbors=10, weights=uniform;, score=0.994 total time=   0.0s\n",
      "[CV 4/10] END metric=euclidean, n_neighbors=10, weights=uniform;, score=0.994 total time=   0.0s\n",
      "[CV 5/10] END metric=euclidean, n_neighbors=10, weights=uniform;, score=1.000 total time=   0.0s\n",
      "[CV 6/10] END metric=euclidean, n_neighbors=10, weights=uniform;, score=0.989 total time=   0.0s\n",
      "[CV 7/10] END metric=euclidean, n_neighbors=10, weights=uniform;, score=0.989 total time=   0.0s\n",
      "[CV 8/10] END metric=euclidean, n_neighbors=10, weights=uniform;, score=0.994 total time=   0.0s\n",
      "[CV 9/10] END metric=euclidean, n_neighbors=10, weights=uniform;, score=0.994 total time=   0.0s\n",
      "[CV 10/10] END metric=euclidean, n_neighbors=10, weights=uniform;, score=1.000 total time=   0.0s\n",
      "[CV 1/10] END metric=euclidean, n_neighbors=10, weights=distance;, score=0.994 total time=   0.0s\n",
      "[CV 2/10] END metric=euclidean, n_neighbors=10, weights=distance;, score=0.977 total time=   0.0s\n",
      "[CV 3/10] END metric=euclidean, n_neighbors=10, weights=distance;, score=0.994 total time=   0.0s\n",
      "[CV 4/10] END metric=euclidean, n_neighbors=10, weights=distance;, score=0.994 total time=   0.0s\n",
      "[CV 5/10] END metric=euclidean, n_neighbors=10, weights=distance;, score=1.000 total time=   0.0s\n",
      "[CV 6/10] END metric=euclidean, n_neighbors=10, weights=distance;, score=0.989 total time=   0.0s\n",
      "[CV 7/10] END metric=euclidean, n_neighbors=10, weights=distance;, score=0.989 total time=   0.0s\n",
      "[CV 8/10] END metric=euclidean, n_neighbors=10, weights=distance;, score=0.994 total time=   0.0s\n",
      "[CV 9/10] END metric=euclidean, n_neighbors=10, weights=distance;, score=0.994 total time=   0.0s\n",
      "[CV 10/10] END metric=euclidean, n_neighbors=10, weights=distance;, score=1.000 total time=   0.0s\n",
      "[CV 1/10] END metric=euclidean, n_neighbors=100, weights=uniform;, score=0.994 total time=   0.0s\n",
      "[CV 2/10] END metric=euclidean, n_neighbors=100, weights=uniform;, score=0.977 total time=   0.0s\n",
      "[CV 3/10] END metric=euclidean, n_neighbors=100, weights=uniform;, score=0.994 total time=   0.0s\n",
      "[CV 4/10] END metric=euclidean, n_neighbors=100, weights=uniform;, score=0.994 total time=   0.0s\n",
      "[CV 5/10] END metric=euclidean, n_neighbors=100, weights=uniform;, score=1.000 total time=   0.0s\n",
      "[CV 6/10] END metric=euclidean, n_neighbors=100, weights=uniform;, score=0.989 total time=   0.0s\n",
      "[CV 7/10] END metric=euclidean, n_neighbors=100, weights=uniform;, score=0.989 total time=   0.0s\n",
      "[CV 8/10] END metric=euclidean, n_neighbors=100, weights=uniform;, score=0.994 total time=   0.0s\n",
      "[CV 9/10] END metric=euclidean, n_neighbors=100, weights=uniform;, score=0.994 total time=   0.0s\n",
      "[CV 10/10] END metric=euclidean, n_neighbors=100, weights=uniform;, score=1.000 total time=   0.0s\n",
      "[CV 1/10] END metric=euclidean, n_neighbors=100, weights=distance;, score=0.994 total time=   0.0s\n",
      "[CV 2/10] END metric=euclidean, n_neighbors=100, weights=distance;, score=0.977 total time=   0.0s\n",
      "[CV 3/10] END metric=euclidean, n_neighbors=100, weights=distance;, score=0.994 total time=   0.0s\n",
      "[CV 4/10] END metric=euclidean, n_neighbors=100, weights=distance;, score=0.994 total time=   0.0s\n",
      "[CV 5/10] END metric=euclidean, n_neighbors=100, weights=distance;, score=1.000 total time=   0.0s\n",
      "[CV 6/10] END metric=euclidean, n_neighbors=100, weights=distance;, score=0.989 total time=   0.0s\n",
      "[CV 7/10] END metric=euclidean, n_neighbors=100, weights=distance;, score=0.989 total time=   0.0s\n",
      "[CV 8/10] END metric=euclidean, n_neighbors=100, weights=distance;, score=0.994 total time=   0.0s\n",
      "[CV 9/10] END metric=euclidean, n_neighbors=100, weights=distance;, score=0.994 total time=   0.0s\n",
      "[CV 10/10] END metric=euclidean, n_neighbors=100, weights=distance;, score=1.000 total time=   0.0s\n",
      "[CV 1/10] END metric=cosine, n_neighbors=1, weights=uniform;, score=0.651 total time=   0.0s\n",
      "[CV 2/10] END metric=cosine, n_neighbors=1, weights=uniform;, score=0.623 total time=   0.0s\n",
      "[CV 3/10] END metric=cosine, n_neighbors=1, weights=uniform;, score=0.583 total time=   0.0s\n",
      "[CV 4/10] END metric=cosine, n_neighbors=1, weights=uniform;, score=0.657 total time=   0.0s\n",
      "[CV 5/10] END metric=cosine, n_neighbors=1, weights=uniform;, score=0.629 total time=   0.0s\n",
      "[CV 6/10] END metric=cosine, n_neighbors=1, weights=uniform;, score=0.629 total time=   0.0s\n",
      "[CV 7/10] END metric=cosine, n_neighbors=1, weights=uniform;, score=0.600 total time=   0.0s\n",
      "[CV 8/10] END metric=cosine, n_neighbors=1, weights=uniform;, score=0.583 total time=   0.0s\n",
      "[CV 9/10] END metric=cosine, n_neighbors=1, weights=uniform;, score=0.663 total time=   0.0s\n",
      "[CV 10/10] END metric=cosine, n_neighbors=1, weights=uniform;, score=0.606 total time=   0.0s\n",
      "[CV 1/10] END metric=cosine, n_neighbors=1, weights=distance;, score=0.651 total time=   0.0s\n",
      "[CV 2/10] END metric=cosine, n_neighbors=1, weights=distance;, score=0.623 total time=   0.0s\n",
      "[CV 3/10] END metric=cosine, n_neighbors=1, weights=distance;, score=0.583 total time=   0.0s\n",
      "[CV 4/10] END metric=cosine, n_neighbors=1, weights=distance;, score=0.657 total time=   0.0s\n",
      "[CV 5/10] END metric=cosine, n_neighbors=1, weights=distance;, score=0.629 total time=   0.0s\n",
      "[CV 6/10] END metric=cosine, n_neighbors=1, weights=distance;, score=0.629 total time=   0.0s\n",
      "[CV 7/10] END metric=cosine, n_neighbors=1, weights=distance;, score=0.600 total time=   0.0s\n",
      "[CV 8/10] END metric=cosine, n_neighbors=1, weights=distance;, score=0.583 total time=   0.0s\n",
      "[CV 9/10] END metric=cosine, n_neighbors=1, weights=distance;, score=0.663 total time=   0.0s\n",
      "[CV 10/10] END metric=cosine, n_neighbors=1, weights=distance;, score=0.606 total time=   0.0s\n",
      "[CV 1/10] END metric=cosine, n_neighbors=10, weights=uniform;, score=0.617 total time=   0.0s\n",
      "[CV 2/10] END metric=cosine, n_neighbors=10, weights=uniform;, score=0.589 total time=   0.0s\n",
      "[CV 3/10] END metric=cosine, n_neighbors=10, weights=uniform;, score=0.594 total time=   0.0s\n",
      "[CV 4/10] END metric=cosine, n_neighbors=10, weights=uniform;, score=0.629 total time=   0.0s\n",
      "[CV 5/10] END metric=cosine, n_neighbors=10, weights=uniform;, score=0.657 total time=   0.0s\n",
      "[CV 6/10] END metric=cosine, n_neighbors=10, weights=uniform;, score=0.611 total time=   0.0s\n",
      "[CV 7/10] END metric=cosine, n_neighbors=10, weights=uniform;, score=0.600 total time=   0.0s\n",
      "[CV 8/10] END metric=cosine, n_neighbors=10, weights=uniform;, score=0.657 total time=   0.0s\n",
      "[CV 9/10] END metric=cosine, n_neighbors=10, weights=uniform;, score=0.623 total time=   0.0s\n",
      "[CV 10/10] END metric=cosine, n_neighbors=10, weights=uniform;, score=0.606 total time=   0.0s\n",
      "[CV 1/10] END metric=cosine, n_neighbors=10, weights=distance;, score=0.634 total time=   0.0s\n",
      "[CV 2/10] END metric=cosine, n_neighbors=10, weights=distance;, score=0.577 total time=   0.0s\n",
      "[CV 3/10] END metric=cosine, n_neighbors=10, weights=distance;, score=0.623 total time=   0.0s\n",
      "[CV 4/10] END metric=cosine, n_neighbors=10, weights=distance;, score=0.651 total time=   0.0s\n",
      "[CV 5/10] END metric=cosine, n_neighbors=10, weights=distance;, score=0.686 total time=   0.0s\n",
      "[CV 6/10] END metric=cosine, n_neighbors=10, weights=distance;, score=0.629 total time=   0.0s\n",
      "[CV 7/10] END metric=cosine, n_neighbors=10, weights=distance;, score=0.623 total time=   0.0s\n",
      "[CV 8/10] END metric=cosine, n_neighbors=10, weights=distance;, score=0.680 total time=   0.0s\n",
      "[CV 9/10] END metric=cosine, n_neighbors=10, weights=distance;, score=0.646 total time=   0.0s\n",
      "[CV 10/10] END metric=cosine, n_neighbors=10, weights=distance;, score=0.634 total time=   0.0s\n",
      "[CV 1/10] END metric=cosine, n_neighbors=100, weights=uniform;, score=0.469 total time=   0.0s\n",
      "[CV 2/10] END metric=cosine, n_neighbors=100, weights=uniform;, score=0.383 total time=   0.0s\n",
      "[CV 3/10] END metric=cosine, n_neighbors=100, weights=uniform;, score=0.497 total time=   0.0s\n",
      "[CV 4/10] END metric=cosine, n_neighbors=100, weights=uniform;, score=0.463 total time=   0.0s\n",
      "[CV 5/10] END metric=cosine, n_neighbors=100, weights=uniform;, score=0.514 total time=   0.0s\n",
      "[CV 6/10] END metric=cosine, n_neighbors=100, weights=uniform;, score=0.491 total time=   0.0s\n",
      "[CV 7/10] END metric=cosine, n_neighbors=100, weights=uniform;, score=0.440 total time=   0.0s\n",
      "[CV 8/10] END metric=cosine, n_neighbors=100, weights=uniform;, score=0.480 total time=   0.0s\n",
      "[CV 9/10] END metric=cosine, n_neighbors=100, weights=uniform;, score=0.451 total time=   0.0s\n",
      "[CV 10/10] END metric=cosine, n_neighbors=100, weights=uniform;, score=0.531 total time=   0.0s\n",
      "[CV 1/10] END metric=cosine, n_neighbors=100, weights=distance;, score=0.509 total time=   0.0s\n",
      "[CV 2/10] END metric=cosine, n_neighbors=100, weights=distance;, score=0.411 total time=   0.0s\n",
      "[CV 3/10] END metric=cosine, n_neighbors=100, weights=distance;, score=0.543 total time=   0.0s\n",
      "[CV 4/10] END metric=cosine, n_neighbors=100, weights=distance;, score=0.514 total time=   0.0s\n",
      "[CV 5/10] END metric=cosine, n_neighbors=100, weights=distance;, score=0.531 total time=   0.0s\n",
      "[CV 6/10] END metric=cosine, n_neighbors=100, weights=distance;, score=0.537 total time=   0.0s\n",
      "[CV 7/10] END metric=cosine, n_neighbors=100, weights=distance;, score=0.463 total time=   0.0s\n",
      "[CV 8/10] END metric=cosine, n_neighbors=100, weights=distance;, score=0.526 total time=   0.0s\n",
      "[CV 9/10] END metric=cosine, n_neighbors=100, weights=distance;, score=0.503 total time=   0.0s\n",
      "[CV 10/10] END metric=cosine, n_neighbors=100, weights=distance;, score=0.566 total time=   0.0s\n",
      "[CV 1/10] END metric=manhattan, n_neighbors=1, weights=uniform;, score=0.989 total time=   0.0s\n",
      "[CV 2/10] END metric=manhattan, n_neighbors=1, weights=uniform;, score=0.977 total time=   0.0s\n",
      "[CV 3/10] END metric=manhattan, n_neighbors=1, weights=uniform;, score=1.000 total time=   0.0s\n",
      "[CV 4/10] END metric=manhattan, n_neighbors=1, weights=uniform;, score=0.994 total time=   0.0s\n",
      "[CV 5/10] END metric=manhattan, n_neighbors=1, weights=uniform;, score=1.000 total time=   0.0s\n",
      "[CV 6/10] END metric=manhattan, n_neighbors=1, weights=uniform;, score=0.983 total time=   0.0s\n",
      "[CV 7/10] END metric=manhattan, n_neighbors=1, weights=uniform;, score=0.989 total time=   0.0s\n",
      "[CV 8/10] END metric=manhattan, n_neighbors=1, weights=uniform;, score=0.994 total time=   0.0s\n",
      "[CV 9/10] END metric=manhattan, n_neighbors=1, weights=uniform;, score=1.000 total time=   0.0s\n",
      "[CV 10/10] END metric=manhattan, n_neighbors=1, weights=uniform;, score=1.000 total time=   0.0s\n",
      "[CV 1/10] END metric=manhattan, n_neighbors=1, weights=distance;, score=0.989 total time=   0.0s\n",
      "[CV 2/10] END metric=manhattan, n_neighbors=1, weights=distance;, score=0.977 total time=   0.0s\n",
      "[CV 3/10] END metric=manhattan, n_neighbors=1, weights=distance;, score=1.000 total time=   0.0s\n",
      "[CV 4/10] END metric=manhattan, n_neighbors=1, weights=distance;, score=0.994 total time=   0.0s\n",
      "[CV 5/10] END metric=manhattan, n_neighbors=1, weights=distance;, score=1.000 total time=   0.0s\n",
      "[CV 6/10] END metric=manhattan, n_neighbors=1, weights=distance;, score=0.983 total time=   0.0s\n",
      "[CV 7/10] END metric=manhattan, n_neighbors=1, weights=distance;, score=0.989 total time=   0.0s\n",
      "[CV 8/10] END metric=manhattan, n_neighbors=1, weights=distance;, score=0.994 total time=   0.0s\n",
      "[CV 9/10] END metric=manhattan, n_neighbors=1, weights=distance;, score=1.000 total time=   0.0s\n",
      "[CV 10/10] END metric=manhattan, n_neighbors=1, weights=distance;, score=1.000 total time=   0.0s\n",
      "[CV 1/10] END metric=manhattan, n_neighbors=10, weights=uniform;, score=0.994 total time=   0.0s\n",
      "[CV 2/10] END metric=manhattan, n_neighbors=10, weights=uniform;, score=0.977 total time=   0.0s\n",
      "[CV 3/10] END metric=manhattan, n_neighbors=10, weights=uniform;, score=0.994 total time=   0.0s\n",
      "[CV 4/10] END metric=manhattan, n_neighbors=10, weights=uniform;, score=0.994 total time=   0.0s\n",
      "[CV 5/10] END metric=manhattan, n_neighbors=10, weights=uniform;, score=1.000 total time=   0.0s\n",
      "[CV 6/10] END metric=manhattan, n_neighbors=10, weights=uniform;, score=0.989 total time=   0.0s\n",
      "[CV 7/10] END metric=manhattan, n_neighbors=10, weights=uniform;, score=0.989 total time=   0.0s\n",
      "[CV 8/10] END metric=manhattan, n_neighbors=10, weights=uniform;, score=0.994 total time=   0.0s\n",
      "[CV 9/10] END metric=manhattan, n_neighbors=10, weights=uniform;, score=0.994 total time=   0.0s\n",
      "[CV 10/10] END metric=manhattan, n_neighbors=10, weights=uniform;, score=1.000 total time=   0.0s\n",
      "[CV 1/10] END metric=manhattan, n_neighbors=10, weights=distance;, score=0.994 total time=   0.0s\n",
      "[CV 2/10] END metric=manhattan, n_neighbors=10, weights=distance;, score=0.977 total time=   0.0s\n",
      "[CV 3/10] END metric=manhattan, n_neighbors=10, weights=distance;, score=0.994 total time=   0.0s\n",
      "[CV 4/10] END metric=manhattan, n_neighbors=10, weights=distance;, score=0.994 total time=   0.0s\n",
      "[CV 5/10] END metric=manhattan, n_neighbors=10, weights=distance;, score=1.000 total time=   0.0s\n",
      "[CV 6/10] END metric=manhattan, n_neighbors=10, weights=distance;, score=0.989 total time=   0.0s\n",
      "[CV 7/10] END metric=manhattan, n_neighbors=10, weights=distance;, score=0.989 total time=   0.0s\n",
      "[CV 8/10] END metric=manhattan, n_neighbors=10, weights=distance;, score=0.994 total time=   0.0s\n",
      "[CV 9/10] END metric=manhattan, n_neighbors=10, weights=distance;, score=0.994 total time=   0.0s\n",
      "[CV 10/10] END metric=manhattan, n_neighbors=10, weights=distance;, score=1.000 total time=   0.0s\n",
      "[CV 1/10] END metric=manhattan, n_neighbors=100, weights=uniform;, score=0.994 total time=   0.0s\n",
      "[CV 2/10] END metric=manhattan, n_neighbors=100, weights=uniform;, score=0.977 total time=   0.0s\n",
      "[CV 3/10] END metric=manhattan, n_neighbors=100, weights=uniform;, score=0.994 total time=   0.0s\n",
      "[CV 4/10] END metric=manhattan, n_neighbors=100, weights=uniform;, score=0.994 total time=   0.0s\n",
      "[CV 5/10] END metric=manhattan, n_neighbors=100, weights=uniform;, score=1.000 total time=   0.0s\n",
      "[CV 6/10] END metric=manhattan, n_neighbors=100, weights=uniform;, score=0.989 total time=   0.0s\n",
      "[CV 7/10] END metric=manhattan, n_neighbors=100, weights=uniform;, score=0.989 total time=   0.0s\n",
      "[CV 8/10] END metric=manhattan, n_neighbors=100, weights=uniform;, score=0.994 total time=   0.0s\n",
      "[CV 9/10] END metric=manhattan, n_neighbors=100, weights=uniform;, score=0.994 total time=   0.0s\n",
      "[CV 10/10] END metric=manhattan, n_neighbors=100, weights=uniform;, score=1.000 total time=   0.0s\n",
      "[CV 1/10] END metric=manhattan, n_neighbors=100, weights=distance;, score=0.994 total time=   0.0s\n",
      "[CV 2/10] END metric=manhattan, n_neighbors=100, weights=distance;, score=0.977 total time=   0.0s\n",
      "[CV 3/10] END metric=manhattan, n_neighbors=100, weights=distance;, score=0.994 total time=   0.0s\n",
      "[CV 4/10] END metric=manhattan, n_neighbors=100, weights=distance;, score=0.994 total time=   0.0s\n",
      "[CV 5/10] END metric=manhattan, n_neighbors=100, weights=distance;, score=1.000 total time=   0.0s\n",
      "[CV 6/10] END metric=manhattan, n_neighbors=100, weights=distance;, score=0.989 total time=   0.0s\n",
      "[CV 7/10] END metric=manhattan, n_neighbors=100, weights=distance;, score=0.989 total time=   0.0s\n",
      "[CV 8/10] END metric=manhattan, n_neighbors=100, weights=distance;, score=0.994 total time=   0.0s\n",
      "[CV 9/10] END metric=manhattan, n_neighbors=100, weights=distance;, score=0.994 total time=   0.0s\n",
      "[CV 10/10] END metric=manhattan, n_neighbors=100, weights=distance;, score=1.000 total time=   0.0s\n",
      "[CV 1/10] END metric=minkowski, n_neighbors=1, weights=uniform;, score=0.994 total time=   0.0s\n",
      "[CV 2/10] END metric=minkowski, n_neighbors=1, weights=uniform;, score=0.977 total time=   0.0s\n",
      "[CV 3/10] END metric=minkowski, n_neighbors=1, weights=uniform;, score=0.994 total time=   0.0s\n",
      "[CV 4/10] END metric=minkowski, n_neighbors=1, weights=uniform;, score=0.994 total time=   0.0s\n",
      "[CV 5/10] END metric=minkowski, n_neighbors=1, weights=uniform;, score=1.000 total time=   0.0s\n",
      "[CV 6/10] END metric=minkowski, n_neighbors=1, weights=uniform;, score=0.989 total time=   0.0s\n",
      "[CV 7/10] END metric=minkowski, n_neighbors=1, weights=uniform;, score=0.989 total time=   0.0s\n",
      "[CV 8/10] END metric=minkowski, n_neighbors=1, weights=uniform;, score=0.994 total time=   0.0s\n",
      "[CV 9/10] END metric=minkowski, n_neighbors=1, weights=uniform;, score=1.000 total time=   0.0s\n",
      "[CV 10/10] END metric=minkowski, n_neighbors=1, weights=uniform;, score=0.989 total time=   0.0s\n",
      "[CV 1/10] END metric=minkowski, n_neighbors=1, weights=distance;, score=0.994 total time=   0.0s\n",
      "[CV 2/10] END metric=minkowski, n_neighbors=1, weights=distance;, score=0.977 total time=   0.0s\n",
      "[CV 3/10] END metric=minkowski, n_neighbors=1, weights=distance;, score=0.994 total time=   0.0s\n",
      "[CV 4/10] END metric=minkowski, n_neighbors=1, weights=distance;, score=0.994 total time=   0.0s\n",
      "[CV 5/10] END metric=minkowski, n_neighbors=1, weights=distance;, score=1.000 total time=   0.0s\n",
      "[CV 6/10] END metric=minkowski, n_neighbors=1, weights=distance;, score=0.989 total time=   0.0s\n",
      "[CV 7/10] END metric=minkowski, n_neighbors=1, weights=distance;, score=0.989 total time=   0.0s\n",
      "[CV 8/10] END metric=minkowski, n_neighbors=1, weights=distance;, score=0.994 total time=   0.0s\n",
      "[CV 9/10] END metric=minkowski, n_neighbors=1, weights=distance;, score=1.000 total time=   0.0s\n",
      "[CV 10/10] END metric=minkowski, n_neighbors=1, weights=distance;, score=0.989 total time=   0.0s\n",
      "[CV 1/10] END metric=minkowski, n_neighbors=10, weights=uniform;, score=0.994 total time=   0.0s\n",
      "[CV 2/10] END metric=minkowski, n_neighbors=10, weights=uniform;, score=0.977 total time=   0.0s\n",
      "[CV 3/10] END metric=minkowski, n_neighbors=10, weights=uniform;, score=0.994 total time=   0.0s\n",
      "[CV 4/10] END metric=minkowski, n_neighbors=10, weights=uniform;, score=0.994 total time=   0.0s\n",
      "[CV 5/10] END metric=minkowski, n_neighbors=10, weights=uniform;, score=1.000 total time=   0.0s\n",
      "[CV 6/10] END metric=minkowski, n_neighbors=10, weights=uniform;, score=0.989 total time=   0.0s\n",
      "[CV 7/10] END metric=minkowski, n_neighbors=10, weights=uniform;, score=0.989 total time=   0.0s\n",
      "[CV 8/10] END metric=minkowski, n_neighbors=10, weights=uniform;, score=0.994 total time=   0.0s\n",
      "[CV 9/10] END metric=minkowski, n_neighbors=10, weights=uniform;, score=0.994 total time=   0.0s\n",
      "[CV 10/10] END metric=minkowski, n_neighbors=10, weights=uniform;, score=1.000 total time=   0.0s\n",
      "[CV 1/10] END metric=minkowski, n_neighbors=10, weights=distance;, score=0.994 total time=   0.0s\n",
      "[CV 2/10] END metric=minkowski, n_neighbors=10, weights=distance;, score=0.977 total time=   0.0s\n",
      "[CV 3/10] END metric=minkowski, n_neighbors=10, weights=distance;, score=0.994 total time=   0.0s\n",
      "[CV 4/10] END metric=minkowski, n_neighbors=10, weights=distance;, score=0.994 total time=   0.0s\n",
      "[CV 5/10] END metric=minkowski, n_neighbors=10, weights=distance;, score=1.000 total time=   0.0s\n",
      "[CV 6/10] END metric=minkowski, n_neighbors=10, weights=distance;, score=0.989 total time=   0.0s\n",
      "[CV 7/10] END metric=minkowski, n_neighbors=10, weights=distance;, score=0.989 total time=   0.0s\n",
      "[CV 8/10] END metric=minkowski, n_neighbors=10, weights=distance;, score=0.994 total time=   0.0s\n",
      "[CV 9/10] END metric=minkowski, n_neighbors=10, weights=distance;, score=0.994 total time=   0.0s\n",
      "[CV 10/10] END metric=minkowski, n_neighbors=10, weights=distance;, score=1.000 total time=   0.0s\n",
      "[CV 1/10] END metric=minkowski, n_neighbors=100, weights=uniform;, score=0.994 total time=   0.0s\n",
      "[CV 2/10] END metric=minkowski, n_neighbors=100, weights=uniform;, score=0.977 total time=   0.0s\n",
      "[CV 3/10] END metric=minkowski, n_neighbors=100, weights=uniform;, score=0.994 total time=   0.0s\n",
      "[CV 4/10] END metric=minkowski, n_neighbors=100, weights=uniform;, score=0.994 total time=   0.0s\n",
      "[CV 5/10] END metric=minkowski, n_neighbors=100, weights=uniform;, score=1.000 total time=   0.0s\n",
      "[CV 6/10] END metric=minkowski, n_neighbors=100, weights=uniform;, score=0.989 total time=   0.0s\n",
      "[CV 7/10] END metric=minkowski, n_neighbors=100, weights=uniform;, score=0.989 total time=   0.0s\n",
      "[CV 8/10] END metric=minkowski, n_neighbors=100, weights=uniform;, score=0.994 total time=   0.0s\n",
      "[CV 9/10] END metric=minkowski, n_neighbors=100, weights=uniform;, score=0.994 total time=   0.0s\n",
      "[CV 10/10] END metric=minkowski, n_neighbors=100, weights=uniform;, score=1.000 total time=   0.0s\n",
      "[CV 1/10] END metric=minkowski, n_neighbors=100, weights=distance;, score=0.994 total time=   0.0s\n",
      "[CV 2/10] END metric=minkowski, n_neighbors=100, weights=distance;, score=0.977 total time=   0.0s\n",
      "[CV 3/10] END metric=minkowski, n_neighbors=100, weights=distance;, score=0.994 total time=   0.0s\n",
      "[CV 4/10] END metric=minkowski, n_neighbors=100, weights=distance;, score=0.994 total time=   0.0s\n",
      "[CV 5/10] END metric=minkowski, n_neighbors=100, weights=distance;, score=1.000 total time=   0.0s\n",
      "[CV 6/10] END metric=minkowski, n_neighbors=100, weights=distance;, score=0.989 total time=   0.0s\n",
      "[CV 7/10] END metric=minkowski, n_neighbors=100, weights=distance;, score=0.989 total time=   0.0s\n",
      "[CV 8/10] END metric=minkowski, n_neighbors=100, weights=distance;, score=0.994 total time=   0.0s\n",
      "[CV 9/10] END metric=minkowski, n_neighbors=100, weights=distance;, score=0.994 total time=   0.0s\n",
      "[CV 10/10] END metric=minkowski, n_neighbors=100, weights=distance;, score=1.000 total time=   0.0s\n"
     ]
    },
    {
     "data": {
      "text/plain": [
       "GridSearchCV(cv=KFold(n_splits=10, random_state=42, shuffle=True),\n",
       "             estimator=KNeighborsClassifier(),\n",
       "             param_grid={'metric': ['euclidean', 'cosine', 'manhattan',\n",
       "                                    'minkowski'],\n",
       "                         'n_neighbors': [1, 10, 100],\n",
       "                         'weights': ['uniform', 'distance']},\n",
       "             scoring='accuracy', verbose=3)"
      ]
     },
     "execution_count": 26,
     "metadata": {},
     "output_type": "execute_result"
    }
   ],
   "source": [
    "param_grid_knn = {\n",
    "    'n_neighbors': [1, 10 , 100], \n",
    "    'weights': ['uniform', 'distance'], \n",
    "    'metric': ['euclidean' , 'cosine' , 'manhattan' , 'minkowski']\n",
    "}\n",
    "clf_knn = GridSearchCV(estimator= KNeighborsClassifier(), param_grid= param_grid_knn , cv=kfold, scoring='accuracy', verbose=3)\n",
    "clf_knn.fit(x_train, y_train)"
   ]
  },
  {
   "cell_type": "code",
   "execution_count": 27,
   "id": "707a2d47",
   "metadata": {},
   "outputs": [
    {
     "name": "stdout",
     "output_type": "stream",
     "text": [
      "Best of Hyper Parameter : {'metric': 'euclidean', 'n_neighbors': 10, 'weights': 'uniform'} \n",
      "Score :  0.9925714285714285\n"
     ]
    }
   ],
   "source": [
    "print(\"Best of Hyper Parameter :\" , clf_knn.best_params_, \"\\nScore : \" , clf_knn.best_score_)"
   ]
  },
  {
   "cell_type": "code",
   "execution_count": 28,
   "id": "4c87fa35",
   "metadata": {},
   "outputs": [
    {
     "name": "stdout",
     "output_type": "stream",
     "text": [
      "Test score for test_data: 0.99\n",
      "Test score for train_data: 0.99\n"
     ]
    }
   ],
   "source": [
    "knn2 = clf_knn.best_estimator_.fit(x_train,y_train)\n",
    "print(\"Test score for test_data: {:.2f}\".format(knn2.score(x_test, y_test)))\n",
    "print(\"Test score for train_data: {:.2f}\".format(knn2.score(x_train, y_train)))"
   ]
  },
  {
   "cell_type": "code",
   "execution_count": 29,
   "id": "97f06af9",
   "metadata": {},
   "outputs": [
    {
     "name": "stdout",
     "output_type": "stream",
     "text": [
      "[0.99428571 0.97714286 0.99428571 0.99428571 1.         0.98857143\n",
      " 0.98857143 0.99428571 0.99428571 1.        ]\n",
      "Mean for k_fold cross validation for KNN model 0.9925714285714285\n"
     ]
    }
   ],
   "source": [
    "# kfold = KFold(n_splits=10, shuffle=True, random_state=42)\n",
    "scores_clf1 = cross_val_score(knn2, x_train, y_train, cv=kfold, scoring='accuracy')\n",
    "print(scores_clf1)\n",
    "print(\"Mean for k_fold cross validation for KNN model\", np.mean(scores_clf1))"
   ]
  },
  {
   "cell_type": "code",
   "execution_count": 30,
   "id": "763b3b8d",
   "metadata": {},
   "outputs": [
    {
     "name": "stdout",
     "output_type": "stream",
     "text": [
      "confusion_matrix(ytest, ypred): \n",
      " [[203   0   6]\n",
      " [  0 187   0]\n",
      " [  0   0 354]]\n"
     ]
    }
   ],
   "source": [
    "ypred1 = knn2.predict(x_test)\n",
    "cm_knn = confusion_matrix(y_test, ypred1)\n",
    "print(\"confusion_matrix(ytest, ypred): \\n\", cm_knn)"
   ]
  },
  {
   "cell_type": "code",
   "execution_count": 31,
   "id": "0cc7aa30",
   "metadata": {},
   "outputs": [
    {
     "name": "stdout",
     "output_type": "stream",
     "text": [
      "Sensitivity for each class: [0.9712918660287081, 1.0, 1.0]\n",
      "Specificity for each class: [1.0, 1.0, 0.9848484848484849]\n",
      "Sensitivity for each class:  0  is 0.9712918660287081\n",
      "Specificity for each class: 0  is 1.0\n",
      "Sensitivity for each class:  1  is 1.0\n",
      "Specificity for each class: 1  is 1.0\n",
      "Sensitivity for each class:  2  is 1.0\n",
      "Specificity for each class: 2  is 0.9848484848484849\n"
     ]
    }
   ],
   "source": [
    "sensitivity_specificity(cm_knn)"
   ]
  },
  {
   "cell_type": "code",
   "execution_count": 32,
   "id": "c10c55a8",
   "metadata": {},
   "outputs": [
    {
     "data": {
      "image/png": "[encoded data removed]",
      "text/plain": [
       "<Figure size 1000x1000 with 2 Axes>"
      ]
     },
     "metadata": {},
     "output_type": "display_data"
    }
   ],
   "source": [
    "confusion_matrix_plot(cm_knn)"
   ]
  },
  {
   "cell_type": "code",
   "execution_count": 33,
   "id": "51da9b51",
   "metadata": {},
   "outputs": [
    {
     "name": "stdout",
     "output_type": "stream",
     "text": [
      "Classification Report:\n",
      "               precision    recall  f1-score   support\n",
      "\n",
      "        أحمر       1.00      0.97      0.99       209\n",
      "        أخضر       1.00      1.00      1.00       187\n",
      "     برتقالي       0.98      1.00      0.99       354\n",
      "\n",
      "    accuracy                           0.99       750\n",
      "   macro avg       0.99      0.99      0.99       750\n",
      "weighted avg       0.99      0.99      0.99       750\n",
      "\n"
     ]
    }
   ],
   "source": [
    "print(\"Classification Report:\\n\", classification_report(y_test, ypred1 , zero_division=1))"
   ]
  },
  {
   "cell_type": "code",
   "execution_count": 34,
   "id": "fa8f35b4",
   "metadata": {},
   "outputs": [
    {
     "data": {
      "image/png": "[encoded data removed]",
      "text/plain": [
       "<Figure size 800x550 with 1 Axes>"
      ]
     },
     "metadata": {},
     "output_type": "display_data"
    },
    {
     "data": {
      "text/plain": [
       "ROCAUC(ax=<AxesSubplot:title={'center':'ROC Curves for KNeighborsClassifier'}, xlabel='False Positive Rate', ylabel='True Positive Rate'>,\n",
       "       encoder={'أحمر': 'أحمر', 'أخضر': 'أخضر', 'برتقالي': 'برتقالي'},\n",
       "       estimator=KNeighborsClassifier(metric='euclidean', n_neighbors=10))"
      ]
     },
     "execution_count": 34,
     "metadata": {},
     "output_type": "execute_result"
    }
   ],
   "source": [
    "plot_ROC_curve(knn2, x_train, y_train, x_test, y_test)"
   ]
  },
  {
   "cell_type": "code",
   "execution_count": 35,
   "id": "5f82a664",
   "metadata": {},
   "outputs": [
    {
     "data": {
      "text/html": [
       "<div>\n",
       "<style scoped>\n",
       "    .dataframe tbody tr th:only-of-type {\n",
       "        vertical-align: middle;\n",
       "    }\n",
       "\n",
       "    .dataframe tbody tr th {\n",
       "        vertical-align: top;\n",
       "    }\n",
       "\n",
       "    .dataframe thead th {\n",
       "        text-align: right;\n",
       "    }\n",
       "</style>\n",
       "<table border=\"1\" class=\"dataframe\">\n",
       "  <thead>\n",
       "    <tr style=\"text-align: right;\">\n",
       "      <th></th>\n",
       "      <th>Model</th>\n",
       "      <th>Recall</th>\n",
       "      <th>Precision</th>\n",
       "      <th>F1 Score</th>\n",
       "      <th>Accuracy</th>\n",
       "    </tr>\n",
       "  </thead>\n",
       "  <tbody>\n",
       "    <tr>\n",
       "      <th>0</th>\n",
       "      <td>KNN</td>\n",
       "      <td>0.990431</td>\n",
       "      <td>0.994444</td>\n",
       "      <td>0.992345</td>\n",
       "      <td>0.992</td>\n",
       "    </tr>\n",
       "  </tbody>\n",
       "</table>\n",
       "</div>"
      ],
      "text/plain": [
       "  Model    Recall  Precision  F1 Score  Accuracy\n",
       "0   KNN  0.990431   0.994444  0.992345     0.992"
      ]
     },
     "execution_count": 35,
     "metadata": {},
     "output_type": "execute_result"
    }
   ],
   "source": [
    "knn_score = table_score(ypred1)\n",
    "knn_score.insert(0, 'Model', 'KNN')\n",
    "knn_score\n"
   ]
  },
  {
   "cell_type": "markdown",
   "id": "1ea1831f",
   "metadata": {},
   "source": [
    "### logistic regresion model"
   ]
  },
  {
   "cell_type": "code",
   "execution_count": 36,
   "id": "0eb926a1",
   "metadata": {},
   "outputs": [
    {
     "name": "stdout",
     "output_type": "stream",
     "text": [
      "Test score: 1.00\n"
     ]
    }
   ],
   "source": [
    "lr = LogisticRegression(multi_class=\"ovr\")\n",
    "lr.fit(x_train, y_train)\n",
    "print(\"Test score: {:.2f}\".format(lr.score(x_test , y_test)))"
   ]
  },
  {
   "cell_type": "code",
   "execution_count": 37,
   "id": "c67a5280",
   "metadata": {},
   "outputs": [
    {
     "name": "stdout",
     "output_type": "stream",
     "text": [
      "Fitting 10 folds for each of 12 candidates, totalling 120 fits\n",
      "[CV 1/10] END C=1, multi_class=auto, solver=lbfgs;, score=1.000 total time=   0.1s\n",
      "[CV 2/10] END C=1, multi_class=auto, solver=lbfgs;, score=0.983 total time=   0.2s\n",
      "[CV 3/10] END C=1, multi_class=auto, solver=lbfgs;, score=1.000 total time=   0.0s\n",
      "[CV 4/10] END C=1, multi_class=auto, solver=lbfgs;, score=0.994 total time=   0.1s\n",
      "[CV 5/10] END C=1, multi_class=auto, solver=lbfgs;, score=1.000 total time=   0.2s\n",
      "[CV 6/10] END C=1, multi_class=auto, solver=lbfgs;, score=0.994 total time=   0.0s\n",
      "[CV 7/10] END C=1, multi_class=auto, solver=lbfgs;, score=1.000 total time=   0.2s\n",
      "[CV 8/10] END C=1, multi_class=auto, solver=lbfgs;, score=1.000 total time=   0.2s\n",
      "[CV 9/10] END C=1, multi_class=auto, solver=lbfgs;, score=1.000 total time=   0.1s\n",
      "[CV 10/10] END C=1, multi_class=auto, solver=lbfgs;, score=0.989 total time=   0.2s\n",
      "[CV 1/10] END C=1, multi_class=auto, solver=liblinear;, score=0.994 total time=   0.0s\n",
      "[CV 2/10] END C=1, multi_class=auto, solver=liblinear;, score=0.977 total time=   0.0s\n",
      "[CV 3/10] END C=1, multi_class=auto, solver=liblinear;, score=0.994 total time=   0.0s\n",
      "[CV 4/10] END C=1, multi_class=auto, solver=liblinear;, score=0.994 total time=   0.0s\n",
      "[CV 5/10] END C=1, multi_class=auto, solver=liblinear;, score=1.000 total time=   0.0s\n",
      "[CV 6/10] END C=1, multi_class=auto, solver=liblinear;, score=0.989 total time=   0.0s\n",
      "[CV 7/10] END C=1, multi_class=auto, solver=liblinear;, score=0.989 total time=   0.0s\n",
      "[CV 8/10] END C=1, multi_class=auto, solver=liblinear;, score=0.994 total time=   0.0s\n",
      "[CV 9/10] END C=1, multi_class=auto, solver=liblinear;, score=0.994 total time=   0.0s\n",
      "[CV 10/10] END C=1, multi_class=auto, solver=liblinear;, score=1.000 total time=   0.0s\n",
      "[CV 1/10] END C=1, multi_class=ovr, solver=lbfgs;, score=1.000 total time=   0.4s\n",
      "[CV 2/10] END C=1, multi_class=ovr, solver=lbfgs;, score=0.989 total time=   0.3s\n",
      "[CV 3/10] END C=1, multi_class=ovr, solver=lbfgs;, score=0.994 total time=   0.4s\n",
      "[CV 4/10] END C=1, multi_class=ovr, solver=lbfgs;, score=1.000 total time=   0.4s\n",
      "[CV 5/10] END C=1, multi_class=ovr, solver=lbfgs;, score=0.994 total time=   0.2s\n",
      "[CV 6/10] END C=1, multi_class=ovr, solver=lbfgs;, score=0.994 total time=   0.2s\n",
      "[CV 7/10] END C=1, multi_class=ovr, solver=lbfgs;, score=1.000 total time=   0.2s\n",
      "[CV 8/10] END C=1, multi_class=ovr, solver=lbfgs;, score=0.994 total time=   0.3s\n",
      "[CV 9/10] END C=1, multi_class=ovr, solver=lbfgs;, score=1.000 total time=   0.4s\n",
      "[CV 10/10] END C=1, multi_class=ovr, solver=lbfgs;, score=0.994 total time=   0.5s\n",
      "[CV 1/10] END C=1, multi_class=ovr, solver=liblinear;, score=0.994 total time=   0.0s\n",
      "[CV 2/10] END C=1, multi_class=ovr, solver=liblinear;, score=0.977 total time=   0.0s\n",
      "[CV 3/10] END C=1, multi_class=ovr, solver=liblinear;, score=0.994 total time=   0.0s\n",
      "[CV 4/10] END C=1, multi_class=ovr, solver=liblinear;, score=0.994 total time=   0.0s\n",
      "[CV 5/10] END C=1, multi_class=ovr, solver=liblinear;, score=1.000 total time=   0.0s\n",
      "[CV 6/10] END C=1, multi_class=ovr, solver=liblinear;, score=0.989 total time=   0.0s\n",
      "[CV 7/10] END C=1, multi_class=ovr, solver=liblinear;, score=0.989 total time=   0.0s\n",
      "[CV 8/10] END C=1, multi_class=ovr, solver=liblinear;, score=0.994 total time=   0.0s\n",
      "[CV 9/10] END C=1, multi_class=ovr, solver=liblinear;, score=0.994 total time=   0.0s\n",
      "[CV 10/10] END C=1, multi_class=ovr, solver=liblinear;, score=1.000 total time=   0.0s\n",
      "[CV 1/10] END C=2, multi_class=auto, solver=lbfgs;, score=1.000 total time=   0.1s\n",
      "[CV 2/10] END C=2, multi_class=auto, solver=lbfgs;, score=0.989 total time=   0.1s\n",
      "[CV 3/10] END C=2, multi_class=auto, solver=lbfgs;, score=1.000 total time=   0.2s\n",
      "[CV 4/10] END C=2, multi_class=auto, solver=lbfgs;, score=1.000 total time=   0.1s\n",
      "[CV 5/10] END C=2, multi_class=auto, solver=lbfgs;, score=1.000 total time=   0.2s\n",
      "[CV 6/10] END C=2, multi_class=auto, solver=lbfgs;, score=0.994 total time=   0.1s\n",
      "[CV 7/10] END C=2, multi_class=auto, solver=lbfgs;, score=1.000 total time=   0.1s\n",
      "[CV 8/10] END C=2, multi_class=auto, solver=lbfgs;, score=1.000 total time=   0.2s\n",
      "[CV 9/10] END C=2, multi_class=auto, solver=lbfgs;, score=1.000 total time=   0.2s\n",
      "[CV 10/10] END C=2, multi_class=auto, solver=lbfgs;, score=0.994 total time=   0.1s\n",
      "[CV 1/10] END C=2, multi_class=auto, solver=liblinear;, score=0.994 total time=   0.0s\n",
      "[CV 2/10] END C=2, multi_class=auto, solver=liblinear;, score=0.977 total time=   0.0s\n",
      "[CV 3/10] END C=2, multi_class=auto, solver=liblinear;, score=0.994 total time=   0.0s\n",
      "[CV 4/10] END C=2, multi_class=auto, solver=liblinear;, score=0.994 total time=   0.0s\n",
      "[CV 5/10] END C=2, multi_class=auto, solver=liblinear;, score=1.000 total time=   0.0s\n",
      "[CV 6/10] END C=2, multi_class=auto, solver=liblinear;, score=0.989 total time=   0.0s\n",
      "[CV 7/10] END C=2, multi_class=auto, solver=liblinear;, score=0.989 total time=   0.0s\n",
      "[CV 8/10] END C=2, multi_class=auto, solver=liblinear;, score=0.994 total time=   0.0s\n",
      "[CV 9/10] END C=2, multi_class=auto, solver=liblinear;, score=0.994 total time=   0.0s\n",
      "[CV 10/10] END C=2, multi_class=auto, solver=liblinear;, score=1.000 total time=   0.0s\n",
      "[CV 1/10] END C=2, multi_class=ovr, solver=lbfgs;, score=1.000 total time=   0.2s\n",
      "[CV 2/10] END C=2, multi_class=ovr, solver=lbfgs;, score=0.989 total time=   0.2s\n",
      "[CV 3/10] END C=2, multi_class=ovr, solver=lbfgs;, score=0.994 total time=   0.1s\n",
      "[CV 4/10] END C=2, multi_class=ovr, solver=lbfgs;, score=1.000 total time=   0.2s\n",
      "[CV 5/10] END C=2, multi_class=ovr, solver=lbfgs;, score=0.994 total time=   0.1s\n",
      "[CV 6/10] END C=2, multi_class=ovr, solver=lbfgs;, score=0.994 total time=   0.2s\n",
      "[CV 7/10] END C=2, multi_class=ovr, solver=lbfgs;, score=1.000 total time=   0.2s\n",
      "[CV 8/10] END C=2, multi_class=ovr, solver=lbfgs;, score=0.994 total time=   0.2s\n",
      "[CV 9/10] END C=2, multi_class=ovr, solver=lbfgs;, score=1.000 total time=   0.2s\n",
      "[CV 10/10] END C=2, multi_class=ovr, solver=lbfgs;, score=0.994 total time=   0.2s\n",
      "[CV 1/10] END C=2, multi_class=ovr, solver=liblinear;, score=0.994 total time=   0.0s\n",
      "[CV 2/10] END C=2, multi_class=ovr, solver=liblinear;, score=0.977 total time=   0.0s\n",
      "[CV 3/10] END C=2, multi_class=ovr, solver=liblinear;, score=0.994 total time=   0.0s\n",
      "[CV 4/10] END C=2, multi_class=ovr, solver=liblinear;, score=0.994 total time=   0.0s\n",
      "[CV 5/10] END C=2, multi_class=ovr, solver=liblinear;, score=1.000 total time=   0.0s\n",
      "[CV 6/10] END C=2, multi_class=ovr, solver=liblinear;, score=0.989 total time=   0.0s\n",
      "[CV 7/10] END C=2, multi_class=ovr, solver=liblinear;, score=0.989 total time=   0.0s\n",
      "[CV 8/10] END C=2, multi_class=ovr, solver=liblinear;, score=0.994 total time=   0.0s\n",
      "[CV 9/10] END C=2, multi_class=ovr, solver=liblinear;, score=0.994 total time=   0.0s\n",
      "[CV 10/10] END C=2, multi_class=ovr, solver=liblinear;, score=1.000 total time=   0.0s\n",
      "[CV 1/10] END C=4, multi_class=auto, solver=lbfgs;, score=1.000 total time=   0.1s\n",
      "[CV 2/10] END C=4, multi_class=auto, solver=lbfgs;, score=0.989 total time=   0.1s\n",
      "[CV 3/10] END C=4, multi_class=auto, solver=lbfgs;, score=1.000 total time=   0.1s\n",
      "[CV 4/10] END C=4, multi_class=auto, solver=lbfgs;, score=0.994 total time=   0.0s\n",
      "[CV 5/10] END C=4, multi_class=auto, solver=lbfgs;, score=0.994 total time=   0.1s\n",
      "[CV 6/10] END C=4, multi_class=auto, solver=lbfgs;, score=0.994 total time=   0.1s\n",
      "[CV 7/10] END C=4, multi_class=auto, solver=lbfgs;, score=1.000 total time=   0.0s\n",
      "[CV 8/10] END C=4, multi_class=auto, solver=lbfgs;, score=1.000 total time=   0.0s\n",
      "[CV 9/10] END C=4, multi_class=auto, solver=lbfgs;, score=1.000 total time=   0.1s\n",
      "[CV 10/10] END C=4, multi_class=auto, solver=lbfgs;, score=0.994 total time=   0.1s\n",
      "[CV 1/10] END C=4, multi_class=auto, solver=liblinear;, score=0.994 total time=   0.0s\n",
      "[CV 2/10] END C=4, multi_class=auto, solver=liblinear;, score=0.977 total time=   0.0s\n",
      "[CV 3/10] END C=4, multi_class=auto, solver=liblinear;, score=0.994 total time=   0.0s\n",
      "[CV 4/10] END C=4, multi_class=auto, solver=liblinear;, score=0.994 total time=   0.0s\n",
      "[CV 5/10] END C=4, multi_class=auto, solver=liblinear;, score=1.000 total time=   0.0s\n",
      "[CV 6/10] END C=4, multi_class=auto, solver=liblinear;, score=0.989 total time=   0.0s\n",
      "[CV 7/10] END C=4, multi_class=auto, solver=liblinear;, score=0.989 total time=   0.0s\n",
      "[CV 8/10] END C=4, multi_class=auto, solver=liblinear;, score=0.994 total time=   0.0s\n",
      "[CV 9/10] END C=4, multi_class=auto, solver=liblinear;, score=0.994 total time=   0.0s\n",
      "[CV 10/10] END C=4, multi_class=auto, solver=liblinear;, score=0.994 total time=   0.0s\n",
      "[CV 1/10] END C=4, multi_class=ovr, solver=lbfgs;, score=1.000 total time=   0.4s\n",
      "[CV 2/10] END C=4, multi_class=ovr, solver=lbfgs;, score=0.989 total time=   0.4s\n",
      "[CV 3/10] END C=4, multi_class=ovr, solver=lbfgs;, score=0.994 total time=   0.2s\n",
      "[CV 4/10] END C=4, multi_class=ovr, solver=lbfgs;, score=1.000 total time=   0.2s\n",
      "[CV 5/10] END C=4, multi_class=ovr, solver=lbfgs;, score=0.994 total time=   0.2s\n",
      "[CV 6/10] END C=4, multi_class=ovr, solver=lbfgs;, score=0.994 total time=   0.1s\n",
      "[CV 7/10] END C=4, multi_class=ovr, solver=lbfgs;, score=1.000 total time=   0.2s\n",
      "[CV 8/10] END C=4, multi_class=ovr, solver=lbfgs;, score=0.994 total time=   0.1s\n",
      "[CV 9/10] END C=4, multi_class=ovr, solver=lbfgs;, score=1.000 total time=   0.2s\n",
      "[CV 10/10] END C=4, multi_class=ovr, solver=lbfgs;, score=0.994 total time=   0.4s\n",
      "[CV 1/10] END C=4, multi_class=ovr, solver=liblinear;, score=0.994 total time=   0.0s\n",
      "[CV 2/10] END C=4, multi_class=ovr, solver=liblinear;, score=0.977 total time=   0.0s\n",
      "[CV 3/10] END C=4, multi_class=ovr, solver=liblinear;, score=0.994 total time=   0.0s\n",
      "[CV 4/10] END C=4, multi_class=ovr, solver=liblinear;, score=0.994 total time=   0.0s\n",
      "[CV 5/10] END C=4, multi_class=ovr, solver=liblinear;, score=1.000 total time=   0.0s\n",
      "[CV 6/10] END C=4, multi_class=ovr, solver=liblinear;, score=0.989 total time=   0.0s\n",
      "[CV 7/10] END C=4, multi_class=ovr, solver=liblinear;, score=0.989 total time=   0.0s\n",
      "[CV 8/10] END C=4, multi_class=ovr, solver=liblinear;, score=0.994 total time=   0.0s\n",
      "[CV 9/10] END C=4, multi_class=ovr, solver=liblinear;, score=0.994 total time=   0.0s\n",
      "[CV 10/10] END C=4, multi_class=ovr, solver=liblinear;, score=0.994 total time=   0.0s\n"
     ]
    },
    {
     "data": {
      "text/plain": [
       "GridSearchCV(cv=KFold(n_splits=10, random_state=42, shuffle=True),\n",
       "             estimator=LogisticRegression(),\n",
       "             param_grid={'C': [1, 2, 4], 'multi_class': ['auto', 'ovr'],\n",
       "                         'solver': ['lbfgs', 'liblinear']},\n",
       "             scoring='accuracy', verbose=3)"
      ]
     },
     "execution_count": 37,
     "metadata": {},
     "output_type": "execute_result"
    }
   ],
   "source": [
    "param_grid_lr = { \n",
    "    'multi_class': ['auto' , 'ovr'] ,\n",
    "    'solver': ['lbfgs' , 'liblinear'], \n",
    "    'C': [1, 2 , 4]\n",
    "}\n",
    "clf_lr = GridSearchCV(estimator= LogisticRegression() , param_grid= param_grid_lr , cv=kfold, scoring='accuracy', verbose=3)\n",
    "clf_lr.fit(x_train, y_train)"
   ]
  },
  {
   "cell_type": "code",
   "execution_count": 38,
   "id": "44f3256f",
   "metadata": {},
   "outputs": [
    {
     "name": "stdout",
     "output_type": "stream",
     "text": [
      "Best of Hyper Parameter : {'C': 2, 'multi_class': 'auto', 'solver': 'lbfgs'} \n",
      "Score :  0.9977142857142857\n"
     ]
    }
   ],
   "source": [
    "print(\"Best of Hyper Parameter :\" , clf_lr.best_params_, \"\\nScore : \" , clf_lr.best_score_)"
   ]
  },
  {
   "cell_type": "code",
   "execution_count": 39,
   "id": "964ab4f3",
   "metadata": {},
   "outputs": [
    {
     "name": "stdout",
     "output_type": "stream",
     "text": [
      "Test score for test_data: 1.00\n",
      "Test score for train_data: 1.00\n"
     ]
    }
   ],
   "source": [
    "lr2 = clf_lr.best_estimator_.fit(x_train,y_train)\n",
    "print(\"Test score for test_data: {:.2f}\".format(lr2.score(x_test, y_test)))\n",
    "print(\"Test score for train_data: {:.2f}\".format(lr2.score(x_train, y_train)))"
   ]
  },
  {
   "cell_type": "code",
   "execution_count": 40,
   "id": "1717fb35",
   "metadata": {},
   "outputs": [
    {
     "name": "stdout",
     "output_type": "stream",
     "text": [
      "[1.         0.98857143 1.         1.         1.         0.99428571\n",
      " 1.         1.         1.         0.99428571]\n",
      "Mean for k_fold cross validation for Logistic Regression model 0.9977142857142857\n"
     ]
    }
   ],
   "source": [
    "scores_clf2 = cross_val_score(lr2, x_train, y_train, cv=kfold, scoring='accuracy')\n",
    "print(scores_clf2)\n",
    "print(\"Mean for k_fold cross validation for Logistic Regression model\", np.mean(scores_clf2))"
   ]
  },
  {
   "cell_type": "code",
   "execution_count": 41,
   "id": "a904e1ca",
   "metadata": {},
   "outputs": [
    {
     "name": "stdout",
     "output_type": "stream",
     "text": [
      "confusion_matrix(ytest, ypred): \n",
      " [[209   0   0]\n",
      " [  0 187   0]\n",
      " [  0   0 354]]\n"
     ]
    }
   ],
   "source": [
    "ypred2 = lr2.predict(x_test)\n",
    "cm_lr = confusion_matrix(y_test, ypred2)\n",
    "print(\"confusion_matrix(ytest, ypred): \\n\", cm_lr)"
   ]
  },
  {
   "cell_type": "code",
   "execution_count": 42,
   "id": "eb5f4511",
   "metadata": {},
   "outputs": [
    {
     "name": "stdout",
     "output_type": "stream",
     "text": [
      "Sensitivity for each class: [1.0, 1.0, 1.0]\n",
      "Specificity for each class: [1.0, 1.0, 1.0]\n",
      "Sensitivity for each class:  0  is 1.0\n",
      "Specificity for each class: 0  is 1.0\n",
      "Sensitivity for each class:  1  is 1.0\n",
      "Specificity for each class: 1  is 1.0\n",
      "Sensitivity for each class:  2  is 1.0\n",
      "Specificity for each class: 2  is 1.0\n"
     ]
    }
   ],
   "source": [
    "sensitivity_specificity(cm_lr)"
   ]
  },
  {
   "cell_type": "code",
   "execution_count": 43,
   "id": "8de21807",
   "metadata": {},
   "outputs": [
    {
     "data": {
      "image/png": "[encoded data removed]",
      "text/plain": [
       "<Figure size 1000x1000 with 2 Axes>"
      ]
     },
     "metadata": {},
     "output_type": "display_data"
    }
   ],
   "source": [
    "confusion_matrix_plot(cm_lr)"
   ]
  },
  {
   "cell_type": "code",
   "execution_count": 44,
   "id": "0536f1d2",
   "metadata": {},
   "outputs": [
    {
     "name": "stdout",
     "output_type": "stream",
     "text": [
      "Classification Report:\n",
      "               precision    recall  f1-score   support\n",
      "\n",
      "        أحمر       1.00      1.00      1.00       209\n",
      "        أخضر       1.00      1.00      1.00       187\n",
      "     برتقالي       1.00      1.00      1.00       354\n",
      "\n",
      "    accuracy                           1.00       750\n",
      "   macro avg       1.00      1.00      1.00       750\n",
      "weighted avg       1.00      1.00      1.00       750\n",
      "\n"
     ]
    }
   ],
   "source": [
    "print(\"Classification Report:\\n\", classification_report(y_test, ypred2 , zero_division=1))"
   ]
  },
  {
   "cell_type": "code",
   "execution_count": 45,
   "id": "0a90ee23",
   "metadata": {},
   "outputs": [
    {
     "data": {
      "image/png": "[encoded data removed]",
      "text/plain": [
       "<Figure size 800x550 with 1 Axes>"
      ]
     },
     "metadata": {},
     "output_type": "display_data"
    },
    {
     "data": {
      "text/plain": [
       "ROCAUC(ax=<AxesSubplot:title={'center':'ROC Curves for LogisticRegression'}, xlabel='False Positive Rate', ylabel='True Positive Rate'>,\n",
       "       encoder={'أحمر': 'أحمر', 'أخضر': 'أخضر', 'برتقالي': 'برتقالي'},\n",
       "       estimator=LogisticRegression(C=2))"
      ]
     },
     "execution_count": 45,
     "metadata": {},
     "output_type": "execute_result"
    }
   ],
   "source": [
    "plot_ROC_curve(lr2, x_train, y_train, x_test, y_test)"
   ]
  },
  {
   "cell_type": "code",
   "execution_count": 46,
   "id": "2c3bba72",
   "metadata": {},
   "outputs": [
    {
     "data": {
      "text/html": [
       "<div>\n",
       "<style scoped>\n",
       "    .dataframe tbody tr th:only-of-type {\n",
       "        vertical-align: middle;\n",
       "    }\n",
       "\n",
       "    .dataframe tbody tr th {\n",
       "        vertical-align: top;\n",
       "    }\n",
       "\n",
       "    .dataframe thead th {\n",
       "        text-align: right;\n",
       "    }\n",
       "</style>\n",
       "<table border=\"1\" class=\"dataframe\">\n",
       "  <thead>\n",
       "    <tr style=\"text-align: right;\">\n",
       "      <th></th>\n",
       "      <th>Model</th>\n",
       "      <th>Recall</th>\n",
       "      <th>Precision</th>\n",
       "      <th>F1 Score</th>\n",
       "      <th>Accuracy</th>\n",
       "    </tr>\n",
       "  </thead>\n",
       "  <tbody>\n",
       "    <tr>\n",
       "      <th>0</th>\n",
       "      <td>LR</td>\n",
       "      <td>1.0</td>\n",
       "      <td>1.0</td>\n",
       "      <td>1.0</td>\n",
       "      <td>1.0</td>\n",
       "    </tr>\n",
       "  </tbody>\n",
       "</table>\n",
       "</div>"
      ],
      "text/plain": [
       "  Model  Recall  Precision  F1 Score  Accuracy\n",
       "0    LR     1.0        1.0       1.0       1.0"
      ]
     },
     "execution_count": 46,
     "metadata": {},
     "output_type": "execute_result"
    }
   ],
   "source": [
    "lr_score = table_score(ypred2)\n",
    "lr_score.insert(0, 'Model', 'LR')\n",
    "lr_score"
   ]
  },
  {
   "cell_type": "markdown",
   "id": "010065d2",
   "metadata": {},
   "source": [
    "### SVM model"
   ]
  },
  {
   "cell_type": "code",
   "execution_count": 47,
   "id": "8ae60729",
   "metadata": {},
   "outputs": [
    {
     "name": "stdout",
     "output_type": "stream",
     "text": [
      "Test score: 0.99\n"
     ]
    }
   ],
   "source": [
    "svm = SVC(decision_function_shape='ovo')\n",
    "svm.fit(x_train , y_train)\n",
    "print(\"Test score: {:.2f}\".format(svm.score(x_test , y_test)))"
   ]
  },
  {
   "cell_type": "code",
   "execution_count": 48,
   "id": "a680ee2c",
   "metadata": {},
   "outputs": [
    {
     "name": "stdout",
     "output_type": "stream",
     "text": [
      "Fitting 10 folds for each of 16 candidates, totalling 160 fits\n",
      "[CV 1/10] END C=1, decision_function_shape=ovo, kernel=rbf;, score=0.994 total time=   0.0s\n",
      "[CV 2/10] END C=1, decision_function_shape=ovo, kernel=rbf;, score=0.977 total time=   0.0s\n",
      "[CV 3/10] END C=1, decision_function_shape=ovo, kernel=rbf;, score=0.994 total time=   0.0s\n",
      "[CV 4/10] END C=1, decision_function_shape=ovo, kernel=rbf;, score=0.994 total time=   0.0s\n",
      "[CV 5/10] END C=1, decision_function_shape=ovo, kernel=rbf;, score=1.000 total time=   0.0s\n",
      "[CV 6/10] END C=1, decision_function_shape=ovo, kernel=rbf;, score=0.989 total time=   0.0s\n",
      "[CV 7/10] END C=1, decision_function_shape=ovo, kernel=rbf;, score=0.989 total time=   0.0s\n",
      "[CV 8/10] END C=1, decision_function_shape=ovo, kernel=rbf;, score=0.994 total time=   0.0s\n",
      "[CV 9/10] END C=1, decision_function_shape=ovo, kernel=rbf;, score=0.994 total time=   0.0s\n",
      "[CV 10/10] END C=1, decision_function_shape=ovo, kernel=rbf;, score=1.000 total time=   0.0s\n",
      "[CV 1/10] END C=1, decision_function_shape=ovo, kernel=poly;, score=1.000 total time=   0.0s\n",
      "[CV 2/10] END C=1, decision_function_shape=ovo, kernel=poly;, score=0.989 total time=   0.0s\n",
      "[CV 3/10] END C=1, decision_function_shape=ovo, kernel=poly;, score=0.994 total time=   0.0s\n",
      "[CV 4/10] END C=1, decision_function_shape=ovo, kernel=poly;, score=1.000 total time=   0.0s\n",
      "[CV 5/10] END C=1, decision_function_shape=ovo, kernel=poly;, score=0.994 total time=   0.0s\n",
      "[CV 6/10] END C=1, decision_function_shape=ovo, kernel=poly;, score=0.989 total time=   0.0s\n",
      "[CV 7/10] END C=1, decision_function_shape=ovo, kernel=poly;, score=1.000 total time=   0.0s\n",
      "[CV 8/10] END C=1, decision_function_shape=ovo, kernel=poly;, score=1.000 total time=   0.0s\n",
      "[CV 9/10] END C=1, decision_function_shape=ovo, kernel=poly;, score=1.000 total time=   0.0s\n",
      "[CV 10/10] END C=1, decision_function_shape=ovo, kernel=poly;, score=0.994 total time=   0.0s\n",
      "[CV 1/10] END C=1, decision_function_shape=ovr, kernel=rbf;, score=0.994 total time=   0.0s\n",
      "[CV 2/10] END C=1, decision_function_shape=ovr, kernel=rbf;, score=0.977 total time=   0.0s\n",
      "[CV 3/10] END C=1, decision_function_shape=ovr, kernel=rbf;, score=0.994 total time=   0.0s\n",
      "[CV 4/10] END C=1, decision_function_shape=ovr, kernel=rbf;, score=0.994 total time=   0.0s\n",
      "[CV 5/10] END C=1, decision_function_shape=ovr, kernel=rbf;, score=1.000 total time=   0.0s\n",
      "[CV 6/10] END C=1, decision_function_shape=ovr, kernel=rbf;, score=0.989 total time=   0.0s\n",
      "[CV 7/10] END C=1, decision_function_shape=ovr, kernel=rbf;, score=0.989 total time=   0.0s\n",
      "[CV 8/10] END C=1, decision_function_shape=ovr, kernel=rbf;, score=0.994 total time=   0.0s\n",
      "[CV 9/10] END C=1, decision_function_shape=ovr, kernel=rbf;, score=0.994 total time=   0.0s\n",
      "[CV 10/10] END C=1, decision_function_shape=ovr, kernel=rbf;, score=1.000 total time=   0.0s\n",
      "[CV 1/10] END C=1, decision_function_shape=ovr, kernel=poly;, score=1.000 total time=   0.0s\n",
      "[CV 2/10] END C=1, decision_function_shape=ovr, kernel=poly;, score=0.989 total time=   0.0s\n",
      "[CV 3/10] END C=1, decision_function_shape=ovr, kernel=poly;, score=0.994 total time=   0.0s\n",
      "[CV 4/10] END C=1, decision_function_shape=ovr, kernel=poly;, score=1.000 total time=   0.0s\n",
      "[CV 5/10] END C=1, decision_function_shape=ovr, kernel=poly;, score=0.994 total time=   0.0s\n",
      "[CV 6/10] END C=1, decision_function_shape=ovr, kernel=poly;, score=0.989 total time=   0.0s\n",
      "[CV 7/10] END C=1, decision_function_shape=ovr, kernel=poly;, score=1.000 total time=   0.0s\n",
      "[CV 8/10] END C=1, decision_function_shape=ovr, kernel=poly;, score=1.000 total time=   0.0s\n",
      "[CV 9/10] END C=1, decision_function_shape=ovr, kernel=poly;, score=1.000 total time=   0.0s\n",
      "[CV 10/10] END C=1, decision_function_shape=ovr, kernel=poly;, score=0.994 total time=   0.0s\n",
      "[CV 1/10] END C=2, decision_function_shape=ovo, kernel=rbf;, score=0.994 total time=   0.0s\n",
      "[CV 2/10] END C=2, decision_function_shape=ovo, kernel=rbf;, score=0.977 total time=   0.0s\n",
      "[CV 3/10] END C=2, decision_function_shape=ovo, kernel=rbf;, score=0.994 total time=   0.0s\n",
      "[CV 4/10] END C=2, decision_function_shape=ovo, kernel=rbf;, score=0.994 total time=   0.0s\n",
      "[CV 5/10] END C=2, decision_function_shape=ovo, kernel=rbf;, score=1.000 total time=   0.0s\n",
      "[CV 6/10] END C=2, decision_function_shape=ovo, kernel=rbf;, score=0.989 total time=   0.0s\n",
      "[CV 7/10] END C=2, decision_function_shape=ovo, kernel=rbf;, score=0.989 total time=   0.0s\n",
      "[CV 8/10] END C=2, decision_function_shape=ovo, kernel=rbf;, score=0.994 total time=   0.0s\n",
      "[CV 9/10] END C=2, decision_function_shape=ovo, kernel=rbf;, score=0.994 total time=   0.0s\n",
      "[CV 10/10] END C=2, decision_function_shape=ovo, kernel=rbf;, score=1.000 total time=   0.0s\n",
      "[CV 1/10] END C=2, decision_function_shape=ovo, kernel=poly;, score=1.000 total time=   0.0s\n",
      "[CV 2/10] END C=2, decision_function_shape=ovo, kernel=poly;, score=0.989 total time=   0.0s\n",
      "[CV 3/10] END C=2, decision_function_shape=ovo, kernel=poly;, score=0.994 total time=   0.0s\n",
      "[CV 4/10] END C=2, decision_function_shape=ovo, kernel=poly;, score=1.000 total time=   0.0s\n",
      "[CV 5/10] END C=2, decision_function_shape=ovo, kernel=poly;, score=1.000 total time=   0.0s\n",
      "[CV 6/10] END C=2, decision_function_shape=ovo, kernel=poly;, score=0.989 total time=   0.0s\n",
      "[CV 7/10] END C=2, decision_function_shape=ovo, kernel=poly;, score=1.000 total time=   0.0s\n",
      "[CV 8/10] END C=2, decision_function_shape=ovo, kernel=poly;, score=0.994 total time=   0.0s\n",
      "[CV 9/10] END C=2, decision_function_shape=ovo, kernel=poly;, score=1.000 total time=   0.0s\n",
      "[CV 10/10] END C=2, decision_function_shape=ovo, kernel=poly;, score=0.994 total time=   0.0s\n",
      "[CV 1/10] END C=2, decision_function_shape=ovr, kernel=rbf;, score=0.994 total time=   0.0s\n",
      "[CV 2/10] END C=2, decision_function_shape=ovr, kernel=rbf;, score=0.977 total time=   0.0s\n",
      "[CV 3/10] END C=2, decision_function_shape=ovr, kernel=rbf;, score=0.994 total time=   0.0s\n",
      "[CV 4/10] END C=2, decision_function_shape=ovr, kernel=rbf;, score=0.994 total time=   0.0s\n",
      "[CV 5/10] END C=2, decision_function_shape=ovr, kernel=rbf;, score=1.000 total time=   0.0s\n",
      "[CV 6/10] END C=2, decision_function_shape=ovr, kernel=rbf;, score=0.989 total time=   0.0s\n",
      "[CV 7/10] END C=2, decision_function_shape=ovr, kernel=rbf;, score=0.989 total time=   0.0s\n",
      "[CV 8/10] END C=2, decision_function_shape=ovr, kernel=rbf;, score=0.994 total time=   0.0s\n",
      "[CV 9/10] END C=2, decision_function_shape=ovr, kernel=rbf;, score=0.994 total time=   0.0s\n",
      "[CV 10/10] END C=2, decision_function_shape=ovr, kernel=rbf;, score=1.000 total time=   0.0s\n",
      "[CV 1/10] END C=2, decision_function_shape=ovr, kernel=poly;, score=1.000 total time=   0.0s\n",
      "[CV 2/10] END C=2, decision_function_shape=ovr, kernel=poly;, score=0.989 total time=   0.0s\n",
      "[CV 3/10] END C=2, decision_function_shape=ovr, kernel=poly;, score=0.994 total time=   0.0s\n",
      "[CV 4/10] END C=2, decision_function_shape=ovr, kernel=poly;, score=1.000 total time=   0.0s\n",
      "[CV 5/10] END C=2, decision_function_shape=ovr, kernel=poly;, score=1.000 total time=   0.0s\n",
      "[CV 6/10] END C=2, decision_function_shape=ovr, kernel=poly;, score=0.989 total time=   0.0s\n",
      "[CV 7/10] END C=2, decision_function_shape=ovr, kernel=poly;, score=1.000 total time=   0.0s\n",
      "[CV 8/10] END C=2, decision_function_shape=ovr, kernel=poly;, score=0.994 total time=   0.0s\n",
      "[CV 9/10] END C=2, decision_function_shape=ovr, kernel=poly;, score=1.000 total time=   0.0s\n",
      "[CV 10/10] END C=2, decision_function_shape=ovr, kernel=poly;, score=0.994 total time=   0.0s\n",
      "[CV 1/10] END C=4, decision_function_shape=ovo, kernel=rbf;, score=1.000 total time=   0.0s\n",
      "[CV 2/10] END C=4, decision_function_shape=ovo, kernel=rbf;, score=0.977 total time=   0.0s\n",
      "[CV 3/10] END C=4, decision_function_shape=ovo, kernel=rbf;, score=0.994 total time=   0.0s\n",
      "[CV 4/10] END C=4, decision_function_shape=ovo, kernel=rbf;, score=0.994 total time=   0.0s\n",
      "[CV 5/10] END C=4, decision_function_shape=ovo, kernel=rbf;, score=1.000 total time=   0.0s\n",
      "[CV 6/10] END C=4, decision_function_shape=ovo, kernel=rbf;, score=0.989 total time=   0.0s\n",
      "[CV 7/10] END C=4, decision_function_shape=ovo, kernel=rbf;, score=0.989 total time=   0.0s\n",
      "[CV 8/10] END C=4, decision_function_shape=ovo, kernel=rbf;, score=0.994 total time=   0.0s\n",
      "[CV 9/10] END C=4, decision_function_shape=ovo, kernel=rbf;, score=0.994 total time=   0.0s\n",
      "[CV 10/10] END C=4, decision_function_shape=ovo, kernel=rbf;, score=1.000 total time=   0.0s\n",
      "[CV 1/10] END C=4, decision_function_shape=ovo, kernel=poly;, score=1.000 total time=   0.0s\n",
      "[CV 2/10] END C=4, decision_function_shape=ovo, kernel=poly;, score=0.989 total time=   0.0s\n",
      "[CV 3/10] END C=4, decision_function_shape=ovo, kernel=poly;, score=0.994 total time=   0.0s\n",
      "[CV 4/10] END C=4, decision_function_shape=ovo, kernel=poly;, score=1.000 total time=   0.0s\n",
      "[CV 5/10] END C=4, decision_function_shape=ovo, kernel=poly;, score=1.000 total time=   0.0s\n",
      "[CV 6/10] END C=4, decision_function_shape=ovo, kernel=poly;, score=0.989 total time=   0.0s\n",
      "[CV 7/10] END C=4, decision_function_shape=ovo, kernel=poly;, score=1.000 total time=   0.0s\n",
      "[CV 8/10] END C=4, decision_function_shape=ovo, kernel=poly;, score=0.994 total time=   0.0s\n",
      "[CV 9/10] END C=4, decision_function_shape=ovo, kernel=poly;, score=1.000 total time=   0.0s\n",
      "[CV 10/10] END C=4, decision_function_shape=ovo, kernel=poly;, score=0.994 total time=   0.0s\n",
      "[CV 1/10] END C=4, decision_function_shape=ovr, kernel=rbf;, score=1.000 total time=   0.0s\n",
      "[CV 2/10] END C=4, decision_function_shape=ovr, kernel=rbf;, score=0.977 total time=   0.0s\n",
      "[CV 3/10] END C=4, decision_function_shape=ovr, kernel=rbf;, score=0.994 total time=   0.0s\n",
      "[CV 4/10] END C=4, decision_function_shape=ovr, kernel=rbf;, score=0.994 total time=   0.0s\n",
      "[CV 5/10] END C=4, decision_function_shape=ovr, kernel=rbf;, score=1.000 total time=   0.0s\n",
      "[CV 6/10] END C=4, decision_function_shape=ovr, kernel=rbf;, score=0.989 total time=   0.0s\n",
      "[CV 7/10] END C=4, decision_function_shape=ovr, kernel=rbf;, score=0.989 total time=   0.0s\n",
      "[CV 8/10] END C=4, decision_function_shape=ovr, kernel=rbf;, score=0.994 total time=   0.0s\n",
      "[CV 9/10] END C=4, decision_function_shape=ovr, kernel=rbf;, score=0.994 total time=   0.0s\n",
      "[CV 10/10] END C=4, decision_function_shape=ovr, kernel=rbf;, score=1.000 total time=   0.0s\n",
      "[CV 1/10] END C=4, decision_function_shape=ovr, kernel=poly;, score=1.000 total time=   0.0s\n",
      "[CV 2/10] END C=4, decision_function_shape=ovr, kernel=poly;, score=0.989 total time=   0.0s\n",
      "[CV 3/10] END C=4, decision_function_shape=ovr, kernel=poly;, score=0.994 total time=   0.0s\n",
      "[CV 4/10] END C=4, decision_function_shape=ovr, kernel=poly;, score=1.000 total time=   0.0s\n",
      "[CV 5/10] END C=4, decision_function_shape=ovr, kernel=poly;, score=1.000 total time=   0.0s\n",
      "[CV 6/10] END C=4, decision_function_shape=ovr, kernel=poly;, score=0.989 total time=   0.0s\n",
      "[CV 7/10] END C=4, decision_function_shape=ovr, kernel=poly;, score=1.000 total time=   0.0s\n",
      "[CV 8/10] END C=4, decision_function_shape=ovr, kernel=poly;, score=0.994 total time=   0.0s\n",
      "[CV 9/10] END C=4, decision_function_shape=ovr, kernel=poly;, score=1.000 total time=   0.0s\n",
      "[CV 10/10] END C=4, decision_function_shape=ovr, kernel=poly;, score=0.994 total time=   0.0s\n",
      "[CV 1/10] END C=6, decision_function_shape=ovo, kernel=rbf;, score=1.000 total time=   0.0s\n",
      "[CV 2/10] END C=6, decision_function_shape=ovo, kernel=rbf;, score=0.977 total time=   0.0s\n",
      "[CV 3/10] END C=6, decision_function_shape=ovo, kernel=rbf;, score=1.000 total time=   0.0s\n",
      "[CV 4/10] END C=6, decision_function_shape=ovo, kernel=rbf;, score=1.000 total time=   0.0s\n",
      "[CV 5/10] END C=6, decision_function_shape=ovo, kernel=rbf;, score=1.000 total time=   0.0s\n",
      "[CV 6/10] END C=6, decision_function_shape=ovo, kernel=rbf;, score=0.989 total time=   0.0s\n",
      "[CV 7/10] END C=6, decision_function_shape=ovo, kernel=rbf;, score=0.989 total time=   0.0s\n",
      "[CV 8/10] END C=6, decision_function_shape=ovo, kernel=rbf;, score=1.000 total time=   0.0s\n",
      "[CV 9/10] END C=6, decision_function_shape=ovo, kernel=rbf;, score=1.000 total time=   0.0s\n",
      "[CV 10/10] END C=6, decision_function_shape=ovo, kernel=rbf;, score=0.989 total time=   0.0s\n",
      "[CV 1/10] END C=6, decision_function_shape=ovo, kernel=poly;, score=1.000 total time=   0.0s\n",
      "[CV 2/10] END C=6, decision_function_shape=ovo, kernel=poly;, score=0.989 total time=   0.0s\n",
      "[CV 3/10] END C=6, decision_function_shape=ovo, kernel=poly;, score=0.994 total time=   0.0s\n",
      "[CV 4/10] END C=6, decision_function_shape=ovo, kernel=poly;, score=1.000 total time=   0.0s\n",
      "[CV 5/10] END C=6, decision_function_shape=ovo, kernel=poly;, score=1.000 total time=   0.0s\n",
      "[CV 6/10] END C=6, decision_function_shape=ovo, kernel=poly;, score=0.989 total time=   0.0s\n",
      "[CV 7/10] END C=6, decision_function_shape=ovo, kernel=poly;, score=1.000 total time=   0.0s\n",
      "[CV 8/10] END C=6, decision_function_shape=ovo, kernel=poly;, score=0.994 total time=   0.0s\n",
      "[CV 9/10] END C=6, decision_function_shape=ovo, kernel=poly;, score=1.000 total time=   0.0s\n",
      "[CV 10/10] END C=6, decision_function_shape=ovo, kernel=poly;, score=0.994 total time=   0.0s\n",
      "[CV 1/10] END C=6, decision_function_shape=ovr, kernel=rbf;, score=1.000 total time=   0.0s\n",
      "[CV 2/10] END C=6, decision_function_shape=ovr, kernel=rbf;, score=0.977 total time=   0.0s\n",
      "[CV 3/10] END C=6, decision_function_shape=ovr, kernel=rbf;, score=1.000 total time=   0.0s\n",
      "[CV 4/10] END C=6, decision_function_shape=ovr, kernel=rbf;, score=1.000 total time=   0.0s\n",
      "[CV 5/10] END C=6, decision_function_shape=ovr, kernel=rbf;, score=1.000 total time=   0.0s\n",
      "[CV 6/10] END C=6, decision_function_shape=ovr, kernel=rbf;, score=0.989 total time=   0.0s\n",
      "[CV 7/10] END C=6, decision_function_shape=ovr, kernel=rbf;, score=0.989 total time=   0.0s\n",
      "[CV 8/10] END C=6, decision_function_shape=ovr, kernel=rbf;, score=1.000 total time=   0.0s\n",
      "[CV 9/10] END C=6, decision_function_shape=ovr, kernel=rbf;, score=1.000 total time=   0.0s\n",
      "[CV 10/10] END C=6, decision_function_shape=ovr, kernel=rbf;, score=0.989 total time=   0.0s\n",
      "[CV 1/10] END C=6, decision_function_shape=ovr, kernel=poly;, score=1.000 total time=   0.0s\n",
      "[CV 2/10] END C=6, decision_function_shape=ovr, kernel=poly;, score=0.989 total time=   0.0s\n",
      "[CV 3/10] END C=6, decision_function_shape=ovr, kernel=poly;, score=0.994 total time=   0.0s\n",
      "[CV 4/10] END C=6, decision_function_shape=ovr, kernel=poly;, score=1.000 total time=   0.0s\n",
      "[CV 5/10] END C=6, decision_function_shape=ovr, kernel=poly;, score=1.000 total time=   0.0s\n",
      "[CV 6/10] END C=6, decision_function_shape=ovr, kernel=poly;, score=0.989 total time=   0.0s\n",
      "[CV 7/10] END C=6, decision_function_shape=ovr, kernel=poly;, score=1.000 total time=   0.0s\n",
      "[CV 8/10] END C=6, decision_function_shape=ovr, kernel=poly;, score=0.994 total time=   0.0s\n",
      "[CV 9/10] END C=6, decision_function_shape=ovr, kernel=poly;, score=1.000 total time=   0.0s\n",
      "[CV 10/10] END C=6, decision_function_shape=ovr, kernel=poly;, score=0.994 total time=   0.0s\n"
     ]
    },
    {
     "data": {
      "text/plain": [
       "GridSearchCV(cv=KFold(n_splits=10, random_state=42, shuffle=True),\n",
       "             estimator=SVC(),\n",
       "             param_grid={'C': [1, 2, 4, 6],\n",
       "                         'decision_function_shape': ['ovo', 'ovr'],\n",
       "                         'kernel': ['rbf', 'poly']},\n",
       "             scoring='accuracy', verbose=3)"
      ]
     },
     "execution_count": 48,
     "metadata": {},
     "output_type": "execute_result"
    }
   ],
   "source": [
    "param_grid_svm = { \n",
    "    'decision_function_shape': ['ovo' , 'ovr'],\n",
    "    'kernel': ['rbf' , 'poly'], \n",
    "    'C': [1, 2 , 4 , 6]\n",
    "}\n",
    "clf_svm = GridSearchCV(estimator= SVC() , param_grid= param_grid_svm , cv=kfold, scoring='accuracy', verbose=3)\n",
    "clf_svm.fit(x_train, y_train)"
   ]
  },
  {
   "cell_type": "code",
   "execution_count": 49,
   "id": "df81ee41",
   "metadata": {},
   "outputs": [
    {
     "name": "stdout",
     "output_type": "stream",
     "text": [
      "Best of Hyper Parameter : {'C': 1, 'decision_function_shape': 'ovo', 'kernel': 'poly'} \n",
      "Score :  0.9960000000000001\n"
     ]
    }
   ],
   "source": [
    "print(\"Best of Hyper Parameter :\" , clf_svm.best_params_, \"\\nScore : \" , clf_svm.best_score_)"
   ]
  },
  {
   "cell_type": "code",
   "execution_count": 50,
   "id": "77a2df3e",
   "metadata": {},
   "outputs": [
    {
     "name": "stdout",
     "output_type": "stream",
     "text": [
      "Test score for test_data: 1.00\n",
      "Test score for train_data: 1.00\n"
     ]
    }
   ],
   "source": [
    "svm2 = clf_svm.best_estimator_.fit(x_train,y_train)\n",
    "print(\"Test score for test_data: {:.2f}\".format(svm2.score(x_test, y_test)))\n",
    "print(\"Test score for train_data: {:.2f}\".format(svm2.score(x_train, y_train)))"
   ]
  },
  {
   "cell_type": "code",
   "execution_count": 51,
   "id": "d694072d",
   "metadata": {},
   "outputs": [
    {
     "name": "stdout",
     "output_type": "stream",
     "text": [
      "[1.         0.98857143 0.99428571 1.         0.99428571 0.98857143\n",
      " 1.         1.         1.         0.99428571]\n",
      "Mean for k_fold cross validation for SVM model 0.9960000000000001\n"
     ]
    }
   ],
   "source": [
    "scores_clf3 = cross_val_score(svm2, x_train, y_train, cv=kfold, scoring='accuracy')\n",
    "print(scores_clf3)\n",
    "print(\"Mean for k_fold cross validation for SVM model\", np.mean(scores_clf3))"
   ]
  },
  {
   "cell_type": "code",
   "execution_count": 52,
   "id": "bdfebcbc",
   "metadata": {},
   "outputs": [
    {
     "name": "stdout",
     "output_type": "stream",
     "text": [
      "confusion_matrix(ytest, ypred): \n",
      " [[209   0   0]\n",
      " [  0 187   0]\n",
      " [  0   0 354]]\n"
     ]
    }
   ],
   "source": [
    "ypred3 = svm2.predict(x_test)\n",
    "cm_svm = confusion_matrix(y_test, ypred3)\n",
    "print(\"confusion_matrix(ytest, ypred): \\n\", cm_svm)"
   ]
  },
  {
   "cell_type": "code",
   "execution_count": 53,
   "id": "47e8b243",
   "metadata": {},
   "outputs": [
    {
     "name": "stdout",
     "output_type": "stream",
     "text": [
      "Sensitivity for each class: [1.0, 1.0, 1.0]\n",
      "Specificity for each class: [1.0, 1.0, 1.0]\n",
      "Sensitivity for each class:  0  is 1.0\n",
      "Specificity for each class: 0  is 1.0\n",
      "Sensitivity for each class:  1  is 1.0\n",
      "Specificity for each class: 1  is 1.0\n",
      "Sensitivity for each class:  2  is 1.0\n",
      "Specificity for each class: 2  is 1.0\n"
     ]
    }
   ],
   "source": [
    "sensitivity_specificity(cm_svm)"
   ]
  },
  {
   "cell_type": "code",
   "execution_count": 54,
   "id": "c0c5fae2",
   "metadata": {},
   "outputs": [
    {
     "data": {
      "image/png": "[encoded data removed]",
      "text/plain": [
       "<Figure size 1000x1000 with 2 Axes>"
      ]
     },
     "metadata": {},
     "output_type": "display_data"
    }
   ],
   "source": [
    "confusion_matrix_plot(cm_svm)"
   ]
  },
  {
   "cell_type": "code",
   "execution_count": 55,
   "id": "cf8fca6a",
   "metadata": {},
   "outputs": [
    {
     "name": "stdout",
     "output_type": "stream",
     "text": [
      "Classification Report:\n",
      "               precision    recall  f1-score   support\n",
      "\n",
      "        أحمر       1.00      1.00      1.00       209\n",
      "        أخضر       1.00      1.00      1.00       187\n",
      "     برتقالي       1.00      1.00      1.00       354\n",
      "\n",
      "    accuracy                           1.00       750\n",
      "   macro avg       1.00      1.00      1.00       750\n",
      "weighted avg       1.00      1.00      1.00       750\n",
      "\n"
     ]
    }
   ],
   "source": [
    "print(\"Classification Report:\\n\", classification_report(y_test, ypred3 , zero_division=1))"
   ]
  },
  {
   "cell_type": "code",
   "execution_count": 56,
   "id": "e89be0b9",
   "metadata": {},
   "outputs": [
    {
     "data": {
      "image/png": "[encoded data removed]",
      "text/plain": [
       "<Figure size 800x550 with 1 Axes>"
      ]
     },
     "metadata": {},
     "output_type": "display_data"
    },
    {
     "data": {
      "text/plain": [
       "ROCAUC(ax=<AxesSubplot:title={'center':'ROC Curves for SVC'}, xlabel='False Positive Rate', ylabel='True Positive Rate'>,\n",
       "       encoder={'أحمر': 'أحمر', 'أخضر': 'أخضر', 'برتقالي': 'برتقالي'},\n",
       "       estimator=SVC(C=1, decision_function_shape='ovo', kernel='poly'))"
      ]
     },
     "execution_count": 56,
     "metadata": {},
     "output_type": "execute_result"
    }
   ],
   "source": [
    "plot_ROC_curve(svm2, x_train, y_train, x_test, y_test)\n",
    "# print(x_train.shape, y_train.shape, x_test.shape, y_test.shape)"
   ]
  },
  {
   "cell_type": "code",
   "execution_count": 57,
   "id": "5f2d5c0c",
   "metadata": {},
   "outputs": [
    {
     "data": {
      "text/html": [
       "<div>\n",
       "<style scoped>\n",
       "    .dataframe tbody tr th:only-of-type {\n",
       "        vertical-align: middle;\n",
       "    }\n",
       "\n",
       "    .dataframe tbody tr th {\n",
       "        vertical-align: top;\n",
       "    }\n",
       "\n",
       "    .dataframe thead th {\n",
       "        text-align: right;\n",
       "    }\n",
       "</style>\n",
       "<table border=\"1\" class=\"dataframe\">\n",
       "  <thead>\n",
       "    <tr style=\"text-align: right;\">\n",
       "      <th></th>\n",
       "      <th>Model</th>\n",
       "      <th>Recall</th>\n",
       "      <th>Precision</th>\n",
       "      <th>F1 Score</th>\n",
       "      <th>Accuracy</th>\n",
       "    </tr>\n",
       "  </thead>\n",
       "  <tbody>\n",
       "    <tr>\n",
       "      <th>0</th>\n",
       "      <td>SVM</td>\n",
       "      <td>1.0</td>\n",
       "      <td>1.0</td>\n",
       "      <td>1.0</td>\n",
       "      <td>1.0</td>\n",
       "    </tr>\n",
       "  </tbody>\n",
       "</table>\n",
       "</div>"
      ],
      "text/plain": [
       "  Model  Recall  Precision  F1 Score  Accuracy\n",
       "0   SVM     1.0        1.0       1.0       1.0"
      ]
     },
     "execution_count": 57,
     "metadata": {},
     "output_type": "execute_result"
    }
   ],
   "source": [
    "svm_score = table_score(ypred3)\n",
    "svm_score.insert(0, 'Model', 'SVM')\n",
    "svm_score"
   ]
  },
  {
   "cell_type": "markdown",
   "id": "9590174c",
   "metadata": {},
   "source": [
    "### Random forest model"
   ]
  },
  {
   "cell_type": "code",
   "execution_count": 58,
   "id": "69909546",
   "metadata": {},
   "outputs": [
    {
     "name": "stdout",
     "output_type": "stream",
     "text": [
      "Test score: 0.99\n"
     ]
    }
   ],
   "source": [
    "RF = RandomForestClassifier(criterion = 'gini',n_estimators=100,max_depth=2) #criterion can be also : entropy \n",
    "RF.fit(x_train, y_train)\n",
    "print(\"Test score: {:.2f}\".format(RF.score(x_test , y_test)))"
   ]
  },
  {
   "cell_type": "code",
   "execution_count": 59,
   "id": "e70cb3b5",
   "metadata": {},
   "outputs": [
    {
     "name": "stdout",
     "output_type": "stream",
     "text": [
      "Fitting 10 folds for each of 18 candidates, totalling 180 fits\n",
      "[CV 1/10] END criterion=gini, max_depth=2, n_estimators=100;, score=0.994 total time=   0.2s\n",
      "[CV 2/10] END criterion=gini, max_depth=2, n_estimators=100;, score=0.977 total time=   0.5s\n",
      "[CV 3/10] END criterion=gini, max_depth=2, n_estimators=100;, score=0.994 total time=   0.3s\n",
      "[CV 4/10] END criterion=gini, max_depth=2, n_estimators=100;, score=1.000 total time=   0.2s\n",
      "[CV 5/10] END criterion=gini, max_depth=2, n_estimators=100;, score=1.000 total time=   0.3s\n",
      "[CV 6/10] END criterion=gini, max_depth=2, n_estimators=100;, score=0.989 total time=   0.3s\n",
      "[CV 7/10] END criterion=gini, max_depth=2, n_estimators=100;, score=0.994 total time=   0.4s\n",
      "[CV 8/10] END criterion=gini, max_depth=2, n_estimators=100;, score=0.989 total time=   0.4s\n",
      "[CV 9/10] END criterion=gini, max_depth=2, n_estimators=100;, score=0.994 total time=   0.3s\n",
      "[CV 10/10] END criterion=gini, max_depth=2, n_estimators=100;, score=1.000 total time=   0.4s\n",
      "[CV 1/10] END criterion=gini, max_depth=2, n_estimators=200;, score=0.994 total time=   0.7s\n",
      "[CV 2/10] END criterion=gini, max_depth=2, n_estimators=200;, score=0.977 total time=   0.8s\n",
      "[CV 3/10] END criterion=gini, max_depth=2, n_estimators=200;, score=0.994 total time=   0.7s\n",
      "[CV 4/10] END criterion=gini, max_depth=2, n_estimators=200;, score=1.000 total time=   0.7s\n",
      "[CV 5/10] END criterion=gini, max_depth=2, n_estimators=200;, score=1.000 total time=   0.9s\n",
      "[CV 6/10] END criterion=gini, max_depth=2, n_estimators=200;, score=0.989 total time=   0.7s\n",
      "[CV 7/10] END criterion=gini, max_depth=2, n_estimators=200;, score=0.994 total time=   0.8s\n",
      "[CV 8/10] END criterion=gini, max_depth=2, n_estimators=200;, score=0.989 total time=   0.8s\n",
      "[CV 9/10] END criterion=gini, max_depth=2, n_estimators=200;, score=0.994 total time=   0.6s\n",
      "[CV 10/10] END criterion=gini, max_depth=2, n_estimators=200;, score=1.000 total time=   0.8s\n",
      "[CV 1/10] END criterion=gini, max_depth=2, n_estimators=300;, score=0.994 total time=   1.1s\n",
      "[CV 2/10] END criterion=gini, max_depth=2, n_estimators=300;, score=0.977 total time=   1.0s\n",
      "[CV 3/10] END criterion=gini, max_depth=2, n_estimators=300;, score=0.994 total time=   1.2s\n",
      "[CV 4/10] END criterion=gini, max_depth=2, n_estimators=300;, score=0.994 total time=   1.0s\n",
      "[CV 5/10] END criterion=gini, max_depth=2, n_estimators=300;, score=1.000 total time=   1.0s\n",
      "[CV 6/10] END criterion=gini, max_depth=2, n_estimators=300;, score=0.989 total time=   1.4s\n",
      "[CV 7/10] END criterion=gini, max_depth=2, n_estimators=300;, score=0.994 total time=   1.0s\n",
      "[CV 8/10] END criterion=gini, max_depth=2, n_estimators=300;, score=0.989 total time=   1.0s\n",
      "[CV 9/10] END criterion=gini, max_depth=2, n_estimators=300;, score=0.994 total time=   1.3s\n",
      "[CV 10/10] END criterion=gini, max_depth=2, n_estimators=300;, score=1.000 total time=   1.3s\n",
      "[CV 1/10] END criterion=gini, max_depth=4, n_estimators=100;, score=0.994 total time=   0.3s\n",
      "[CV 2/10] END criterion=gini, max_depth=4, n_estimators=100;, score=0.977 total time=   0.3s\n",
      "[CV 3/10] END criterion=gini, max_depth=4, n_estimators=100;, score=0.994 total time=   0.3s\n",
      "[CV 4/10] END criterion=gini, max_depth=4, n_estimators=100;, score=0.994 total time=   0.4s\n",
      "[CV 5/10] END criterion=gini, max_depth=4, n_estimators=100;, score=1.000 total time=   0.2s\n",
      "[CV 6/10] END criterion=gini, max_depth=4, n_estimators=100;, score=0.989 total time=   0.5s\n",
      "[CV 7/10] END criterion=gini, max_depth=4, n_estimators=100;, score=0.989 total time=   0.4s\n",
      "[CV 8/10] END criterion=gini, max_depth=4, n_estimators=100;, score=0.989 total time=   0.3s\n",
      "[CV 9/10] END criterion=gini, max_depth=4, n_estimators=100;, score=0.994 total time=   0.3s\n",
      "[CV 10/10] END criterion=gini, max_depth=4, n_estimators=100;, score=1.000 total time=   0.2s\n",
      "[CV 1/10] END criterion=gini, max_depth=4, n_estimators=200;, score=0.994 total time=   1.0s\n",
      "[CV 2/10] END criterion=gini, max_depth=4, n_estimators=200;, score=0.977 total time=   0.6s\n",
      "[CV 3/10] END criterion=gini, max_depth=4, n_estimators=200;, score=0.994 total time=   0.9s\n",
      "[CV 4/10] END criterion=gini, max_depth=4, n_estimators=200;, score=0.994 total time=   0.8s\n",
      "[CV 5/10] END criterion=gini, max_depth=4, n_estimators=200;, score=1.000 total time=   0.8s\n",
      "[CV 6/10] END criterion=gini, max_depth=4, n_estimators=200;, score=0.989 total time=   0.7s\n",
      "[CV 7/10] END criterion=gini, max_depth=4, n_estimators=200;, score=0.989 total time=   0.8s\n",
      "[CV 8/10] END criterion=gini, max_depth=4, n_estimators=200;, score=0.994 total time=   0.8s\n",
      "[CV 9/10] END criterion=gini, max_depth=4, n_estimators=200;, score=0.994 total time=   0.8s\n",
      "[CV 10/10] END criterion=gini, max_depth=4, n_estimators=200;, score=1.000 total time=   0.6s\n",
      "[CV 1/10] END criterion=gini, max_depth=4, n_estimators=300;, score=0.994 total time=   1.4s\n",
      "[CV 2/10] END criterion=gini, max_depth=4, n_estimators=300;, score=0.977 total time=   1.4s\n",
      "[CV 3/10] END criterion=gini, max_depth=4, n_estimators=300;, score=0.994 total time=   1.5s\n",
      "[CV 4/10] END criterion=gini, max_depth=4, n_estimators=300;, score=0.994 total time=   1.4s\n",
      "[CV 5/10] END criterion=gini, max_depth=4, n_estimators=300;, score=1.000 total time=   1.4s\n",
      "[CV 6/10] END criterion=gini, max_depth=4, n_estimators=300;, score=0.989 total time=   0.5s\n",
      "[CV 7/10] END criterion=gini, max_depth=4, n_estimators=300;, score=0.989 total time=   0.8s\n",
      "[CV 8/10] END criterion=gini, max_depth=4, n_estimators=300;, score=0.989 total time=   0.8s\n",
      "[CV 9/10] END criterion=gini, max_depth=4, n_estimators=300;, score=0.994 total time=   0.6s\n",
      "[CV 10/10] END criterion=gini, max_depth=4, n_estimators=300;, score=1.000 total time=   0.8s\n",
      "[CV 1/10] END criterion=gini, max_depth=8, n_estimators=100;, score=0.994 total time=   0.1s\n",
      "[CV 2/10] END criterion=gini, max_depth=8, n_estimators=100;, score=0.977 total time=   0.1s\n",
      "[CV 3/10] END criterion=gini, max_depth=8, n_estimators=100;, score=0.994 total time=   0.3s\n",
      "[CV 4/10] END criterion=gini, max_depth=8, n_estimators=100;, score=0.994 total time=   0.3s\n",
      "[CV 5/10] END criterion=gini, max_depth=8, n_estimators=100;, score=1.000 total time=   0.2s\n",
      "[CV 6/10] END criterion=gini, max_depth=8, n_estimators=100;, score=0.989 total time=   0.3s\n",
      "[CV 7/10] END criterion=gini, max_depth=8, n_estimators=100;, score=0.989 total time=   0.3s\n",
      "[CV 8/10] END criterion=gini, max_depth=8, n_estimators=100;, score=0.994 total time=   0.3s\n",
      "[CV 9/10] END criterion=gini, max_depth=8, n_estimators=100;, score=0.994 total time=   0.2s\n",
      "[CV 10/10] END criterion=gini, max_depth=8, n_estimators=100;, score=1.000 total time=   0.3s\n",
      "[CV 1/10] END criterion=gini, max_depth=8, n_estimators=200;, score=0.994 total time=   0.3s\n",
      "[CV 2/10] END criterion=gini, max_depth=8, n_estimators=200;, score=0.977 total time=   0.3s\n",
      "[CV 3/10] END criterion=gini, max_depth=8, n_estimators=200;, score=0.994 total time=   0.4s\n",
      "[CV 4/10] END criterion=gini, max_depth=8, n_estimators=200;, score=1.000 total time=   0.6s\n",
      "[CV 5/10] END criterion=gini, max_depth=8, n_estimators=200;, score=1.000 total time=   0.4s\n",
      "[CV 6/10] END criterion=gini, max_depth=8, n_estimators=200;, score=0.989 total time=   0.3s\n",
      "[CV 7/10] END criterion=gini, max_depth=8, n_estimators=200;, score=0.989 total time=   0.4s\n",
      "[CV 8/10] END criterion=gini, max_depth=8, n_estimators=200;, score=0.994 total time=   0.3s\n",
      "[CV 9/10] END criterion=gini, max_depth=8, n_estimators=200;, score=0.994 total time=   0.4s\n",
      "[CV 10/10] END criterion=gini, max_depth=8, n_estimators=200;, score=1.000 total time=   0.7s\n",
      "[CV 1/10] END criterion=gini, max_depth=8, n_estimators=300;, score=0.994 total time=   0.8s\n",
      "[CV 2/10] END criterion=gini, max_depth=8, n_estimators=300;, score=0.977 total time=   0.7s\n",
      "[CV 3/10] END criterion=gini, max_depth=8, n_estimators=300;, score=0.994 total time=   0.6s\n",
      "[CV 4/10] END criterion=gini, max_depth=8, n_estimators=300;, score=0.994 total time=   0.6s\n",
      "[CV 5/10] END criterion=gini, max_depth=8, n_estimators=300;, score=1.000 total time=   0.6s\n",
      "[CV 6/10] END criterion=gini, max_depth=8, n_estimators=300;, score=0.989 total time=   0.7s\n",
      "[CV 7/10] END criterion=gini, max_depth=8, n_estimators=300;, score=0.989 total time=   0.6s\n",
      "[CV 8/10] END criterion=gini, max_depth=8, n_estimators=300;, score=0.994 total time=   0.8s\n",
      "[CV 9/10] END criterion=gini, max_depth=8, n_estimators=300;, score=0.994 total time=   0.7s\n",
      "[CV 10/10] END criterion=gini, max_depth=8, n_estimators=300;, score=1.000 total time=   0.6s\n",
      "[CV 1/10] END criterion=entropy, max_depth=2, n_estimators=100;, score=0.994 total time=   0.1s\n",
      "[CV 2/10] END criterion=entropy, max_depth=2, n_estimators=100;, score=0.977 total time=   0.1s\n",
      "[CV 3/10] END criterion=entropy, max_depth=2, n_estimators=100;, score=0.994 total time=   0.1s\n",
      "[CV 4/10] END criterion=entropy, max_depth=2, n_estimators=100;, score=1.000 total time=   0.1s\n",
      "[CV 5/10] END criterion=entropy, max_depth=2, n_estimators=100;, score=1.000 total time=   0.1s\n",
      "[CV 6/10] END criterion=entropy, max_depth=2, n_estimators=100;, score=0.989 total time=   0.2s\n",
      "[CV 7/10] END criterion=entropy, max_depth=2, n_estimators=100;, score=0.994 total time=   0.2s\n",
      "[CV 8/10] END criterion=entropy, max_depth=2, n_estimators=100;, score=0.989 total time=   0.1s\n",
      "[CV 9/10] END criterion=entropy, max_depth=2, n_estimators=100;, score=0.994 total time=   0.1s\n",
      "[CV 10/10] END criterion=entropy, max_depth=2, n_estimators=100;, score=1.000 total time=   0.1s\n",
      "[CV 1/10] END criterion=entropy, max_depth=2, n_estimators=200;, score=0.994 total time=   0.3s\n",
      "[CV 2/10] END criterion=entropy, max_depth=2, n_estimators=200;, score=0.977 total time=   0.5s\n",
      "[CV 3/10] END criterion=entropy, max_depth=2, n_estimators=200;, score=0.994 total time=   0.4s\n",
      "[CV 4/10] END criterion=entropy, max_depth=2, n_estimators=200;, score=1.000 total time=   0.3s\n",
      "[CV 5/10] END criterion=entropy, max_depth=2, n_estimators=200;, score=1.000 total time=   0.3s\n",
      "[CV 6/10] END criterion=entropy, max_depth=2, n_estimators=200;, score=0.989 total time=   0.3s\n",
      "[CV 7/10] END criterion=entropy, max_depth=2, n_estimators=200;, score=0.994 total time=   0.4s\n",
      "[CV 8/10] END criterion=entropy, max_depth=2, n_estimators=200;, score=0.989 total time=   0.4s\n",
      "[CV 9/10] END criterion=entropy, max_depth=2, n_estimators=200;, score=0.994 total time=   0.2s\n",
      "[CV 10/10] END criterion=entropy, max_depth=2, n_estimators=200;, score=1.000 total time=   0.6s\n",
      "[CV 1/10] END criterion=entropy, max_depth=2, n_estimators=300;, score=0.994 total time=   0.7s\n",
      "[CV 2/10] END criterion=entropy, max_depth=2, n_estimators=300;, score=0.977 total time=   0.7s\n",
      "[CV 3/10] END criterion=entropy, max_depth=2, n_estimators=300;, score=0.994 total time=   0.7s\n",
      "[CV 4/10] END criterion=entropy, max_depth=2, n_estimators=300;, score=1.000 total time=   0.8s\n",
      "[CV 5/10] END criterion=entropy, max_depth=2, n_estimators=300;, score=1.000 total time=   0.7s\n",
      "[CV 6/10] END criterion=entropy, max_depth=2, n_estimators=300;, score=0.989 total time=   1.0s\n",
      "[CV 7/10] END criterion=entropy, max_depth=2, n_estimators=300;, score=0.994 total time=   0.8s\n",
      "[CV 8/10] END criterion=entropy, max_depth=2, n_estimators=300;, score=0.989 total time=   0.7s\n",
      "[CV 9/10] END criterion=entropy, max_depth=2, n_estimators=300;, score=0.994 total time=   0.7s\n",
      "[CV 10/10] END criterion=entropy, max_depth=2, n_estimators=300;, score=1.000 total time=   0.8s\n",
      "[CV 1/10] END criterion=entropy, max_depth=4, n_estimators=100;, score=0.994 total time=   0.3s\n",
      "[CV 2/10] END criterion=entropy, max_depth=4, n_estimators=100;, score=0.977 total time=   0.2s\n",
      "[CV 3/10] END criterion=entropy, max_depth=4, n_estimators=100;, score=0.994 total time=   0.2s\n",
      "[CV 4/10] END criterion=entropy, max_depth=4, n_estimators=100;, score=0.994 total time=   0.2s\n",
      "[CV 5/10] END criterion=entropy, max_depth=4, n_estimators=100;, score=1.000 total time=   0.2s\n",
      "[CV 6/10] END criterion=entropy, max_depth=4, n_estimators=100;, score=0.989 total time=   0.2s\n",
      "[CV 7/10] END criterion=entropy, max_depth=4, n_estimators=100;, score=0.989 total time=   0.2s\n",
      "[CV 8/10] END criterion=entropy, max_depth=4, n_estimators=100;, score=0.994 total time=   0.2s\n",
      "[CV 9/10] END criterion=entropy, max_depth=4, n_estimators=100;, score=0.994 total time=   0.2s\n",
      "[CV 10/10] END criterion=entropy, max_depth=4, n_estimators=100;, score=1.000 total time=   0.4s\n",
      "[CV 1/10] END criterion=entropy, max_depth=4, n_estimators=200;, score=0.994 total time=   0.5s\n",
      "[CV 2/10] END criterion=entropy, max_depth=4, n_estimators=200;, score=0.977 total time=   0.3s\n",
      "[CV 3/10] END criterion=entropy, max_depth=4, n_estimators=200;, score=0.994 total time=   0.4s\n",
      "[CV 4/10] END criterion=entropy, max_depth=4, n_estimators=200;, score=0.994 total time=   0.7s\n",
      "[CV 5/10] END criterion=entropy, max_depth=4, n_estimators=200;, score=1.000 total time=   0.5s\n",
      "[CV 6/10] END criterion=entropy, max_depth=4, n_estimators=200;, score=0.989 total time=   0.6s\n",
      "[CV 7/10] END criterion=entropy, max_depth=4, n_estimators=200;, score=0.989 total time=   0.6s\n",
      "[CV 8/10] END criterion=entropy, max_depth=4, n_estimators=200;, score=0.994 total time=   0.7s\n",
      "[CV 9/10] END criterion=entropy, max_depth=4, n_estimators=200;, score=0.994 total time=   0.6s\n",
      "[CV 10/10] END criterion=entropy, max_depth=4, n_estimators=200;, score=1.000 total time=   0.5s\n",
      "[CV 1/10] END criterion=entropy, max_depth=4, n_estimators=300;, score=0.994 total time=   0.7s\n",
      "[CV 2/10] END criterion=entropy, max_depth=4, n_estimators=300;, score=0.977 total time=   0.8s\n",
      "[CV 3/10] END criterion=entropy, max_depth=4, n_estimators=300;, score=0.994 total time=   0.8s\n",
      "[CV 4/10] END criterion=entropy, max_depth=4, n_estimators=300;, score=0.994 total time=   0.8s\n",
      "[CV 5/10] END criterion=entropy, max_depth=4, n_estimators=300;, score=1.000 total time=   0.8s\n",
      "[CV 6/10] END criterion=entropy, max_depth=4, n_estimators=300;, score=0.989 total time=   0.8s\n",
      "[CV 7/10] END criterion=entropy, max_depth=4, n_estimators=300;, score=0.989 total time=   0.9s\n",
      "[CV 8/10] END criterion=entropy, max_depth=4, n_estimators=300;, score=0.994 total time=   0.8s\n",
      "[CV 9/10] END criterion=entropy, max_depth=4, n_estimators=300;, score=0.994 total time=   0.8s\n",
      "[CV 10/10] END criterion=entropy, max_depth=4, n_estimators=300;, score=1.000 total time=   0.8s\n",
      "[CV 1/10] END criterion=entropy, max_depth=8, n_estimators=100;, score=1.000 total time=   0.2s\n",
      "[CV 2/10] END criterion=entropy, max_depth=8, n_estimators=100;, score=0.977 total time=   0.3s\n",
      "[CV 3/10] END criterion=entropy, max_depth=8, n_estimators=100;, score=0.994 total time=   0.2s\n",
      "[CV 4/10] END criterion=entropy, max_depth=8, n_estimators=100;, score=1.000 total time=   0.2s\n",
      "[CV 5/10] END criterion=entropy, max_depth=8, n_estimators=100;, score=1.000 total time=   0.2s\n",
      "[CV 6/10] END criterion=entropy, max_depth=8, n_estimators=100;, score=0.989 total time=   0.3s\n",
      "[CV 7/10] END criterion=entropy, max_depth=8, n_estimators=100;, score=0.989 total time=   0.2s\n",
      "[CV 8/10] END criterion=entropy, max_depth=8, n_estimators=100;, score=0.994 total time=   0.1s\n",
      "[CV 9/10] END criterion=entropy, max_depth=8, n_estimators=100;, score=0.994 total time=   0.1s\n",
      "[CV 10/10] END criterion=entropy, max_depth=8, n_estimators=100;, score=1.000 total time=   0.2s\n",
      "[CV 1/10] END criterion=entropy, max_depth=8, n_estimators=200;, score=0.994 total time=   0.5s\n",
      "[CV 2/10] END criterion=entropy, max_depth=8, n_estimators=200;, score=0.977 total time=   0.5s\n",
      "[CV 3/10] END criterion=entropy, max_depth=8, n_estimators=200;, score=0.994 total time=   0.6s\n",
      "[CV 4/10] END criterion=entropy, max_depth=8, n_estimators=200;, score=0.994 total time=   0.6s\n",
      "[CV 5/10] END criterion=entropy, max_depth=8, n_estimators=200;, score=1.000 total time=   0.6s\n",
      "[CV 6/10] END criterion=entropy, max_depth=8, n_estimators=200;, score=0.989 total time=   0.6s\n",
      "[CV 7/10] END criterion=entropy, max_depth=8, n_estimators=200;, score=0.989 total time=   0.5s\n",
      "[CV 8/10] END criterion=entropy, max_depth=8, n_estimators=200;, score=0.994 total time=   0.4s\n",
      "[CV 9/10] END criterion=entropy, max_depth=8, n_estimators=200;, score=0.994 total time=   0.5s\n",
      "[CV 10/10] END criterion=entropy, max_depth=8, n_estimators=200;, score=1.000 total time=   0.5s\n",
      "[CV 1/10] END criterion=entropy, max_depth=8, n_estimators=300;, score=0.994 total time=   0.6s\n",
      "[CV 2/10] END criterion=entropy, max_depth=8, n_estimators=300;, score=0.977 total time=   0.9s\n",
      "[CV 3/10] END criterion=entropy, max_depth=8, n_estimators=300;, score=0.994 total time=   1.1s\n",
      "[CV 4/10] END criterion=entropy, max_depth=8, n_estimators=300;, score=0.994 total time=   0.9s\n",
      "[CV 5/10] END criterion=entropy, max_depth=8, n_estimators=300;, score=1.000 total time=   0.9s\n",
      "[CV 6/10] END criterion=entropy, max_depth=8, n_estimators=300;, score=0.989 total time=   0.7s\n",
      "[CV 7/10] END criterion=entropy, max_depth=8, n_estimators=300;, score=0.989 total time=   0.7s\n",
      "[CV 8/10] END criterion=entropy, max_depth=8, n_estimators=300;, score=0.994 total time=   0.6s\n",
      "[CV 9/10] END criterion=entropy, max_depth=8, n_estimators=300;, score=0.994 total time=   0.7s\n",
      "[CV 10/10] END criterion=entropy, max_depth=8, n_estimators=300;, score=1.000 total time=   0.6s\n"
     ]
    },
    {
     "data": {
      "text/plain": [
       "GridSearchCV(cv=KFold(n_splits=10, random_state=42, shuffle=True),\n",
       "             estimator=RandomForestClassifier(),\n",
       "             param_grid={'criterion': ['gini', 'entropy'],\n",
       "                         'max_depth': [2, 4, 8],\n",
       "                         'n_estimators': [100, 200, 300]},\n",
       "             scoring='accuracy', verbose=3)"
      ]
     },
     "execution_count": 59,
     "metadata": {},
     "output_type": "execute_result"
    }
   ],
   "source": [
    "param_grid_RF = { \n",
    "    'criterion': ['gini' , 'entropy'],\n",
    "    'n_estimators': [100, 200, 300],\n",
    "    'max_depth': [2 , 4 , 8]\n",
    "}\n",
    "clf_RF = GridSearchCV(estimator= RandomForestClassifier() , param_grid= param_grid_RF , cv=kfold, scoring='accuracy', verbose=3)\n",
    "clf_RF.fit(x_train, y_train)"
   ]
  },
  {
   "cell_type": "code",
   "execution_count": 60,
   "id": "5ea93a3f",
   "metadata": {},
   "outputs": [
    {
     "name": "stdout",
     "output_type": "stream",
     "text": [
      "Best of Hyper Parameter : {'criterion': 'entropy', 'max_depth': 8, 'n_estimators': 100} \n",
      "Score :  0.9937142857142858\n"
     ]
    }
   ],
   "source": [
    "print(\"Best of Hyper Parameter :\" , clf_RF.best_params_, \"\\nScore : \" , clf_RF.best_score_)"
   ]
  },
  {
   "cell_type": "code",
   "execution_count": 61,
   "id": "0423c929",
   "metadata": {},
   "outputs": [
    {
     "name": "stdout",
     "output_type": "stream",
     "text": [
      "Test score for test_data: 0.99\n",
      "Test score for train_data: 1.00\n"
     ]
    }
   ],
   "source": [
    "RF2 = clf_RF.best_estimator_.fit(x_train,y_train)\n",
    "print(\"Test score for test_data: {:.2f}\".format(RF2.score(x_test, y_test)))\n",
    "print(\"Test score for train_data: {:.2f}\".format(RF2.score(x_train, y_train)))"
   ]
  },
  {
   "cell_type": "code",
   "execution_count": 62,
   "id": "23ccd86d",
   "metadata": {},
   "outputs": [
    {
     "name": "stdout",
     "output_type": "stream",
     "text": [
      "[1.         0.97714286 0.99428571 0.99428571 1.         0.98857143\n",
      " 0.98857143 0.99428571 0.99428571 1.        ]\n",
      "Mean for k_fold cross validation for Random Forest model 0.9931428571428572\n"
     ]
    }
   ],
   "source": [
    "scores_clf4 = cross_val_score(RF2, x_train, y_train, cv=kfold, scoring='accuracy')\n",
    "print(scores_clf4)\n",
    "print(\"Mean for k_fold cross validation for Random Forest model\", np.mean(scores_clf4))"
   ]
  },
  {
   "cell_type": "code",
   "execution_count": 63,
   "id": "b3231a7f",
   "metadata": {},
   "outputs": [
    {
     "name": "stdout",
     "output_type": "stream",
     "text": [
      "confusion_matrix(ytest, ypred): \n",
      " [[204   0   5]\n",
      " [  0 187   0]\n",
      " [  0   0 354]]\n"
     ]
    }
   ],
   "source": [
    "ypred4 = RF2.predict(x_test)\n",
    "cm_rf = confusion_matrix(y_test, ypred4)\n",
    "print(\"confusion_matrix(ytest, ypred): \\n\", cm_rf)"
   ]
  },
  {
   "cell_type": "code",
   "execution_count": 64,
   "id": "925ca9d0",
   "metadata": {},
   "outputs": [
    {
     "name": "stdout",
     "output_type": "stream",
     "text": [
      "Sensitivity for each class: [0.9760765550239234, 1.0, 1.0]\n",
      "Specificity for each class: [1.0, 1.0, 0.9873737373737373]\n",
      "Sensitivity for each class:  0  is 0.9760765550239234\n",
      "Specificity for each class: 0  is 1.0\n",
      "Sensitivity for each class:  1  is 1.0\n",
      "Specificity for each class: 1  is 1.0\n",
      "Sensitivity for each class:  2  is 1.0\n",
      "Specificity for each class: 2  is 0.9873737373737373\n"
     ]
    }
   ],
   "source": [
    "sensitivity_specificity(cm_rf)"
   ]
  },
  {
   "cell_type": "code",
   "execution_count": 65,
   "id": "13e66fea",
   "metadata": {},
   "outputs": [
    {
     "data": {
      "image/png": "[encoded data removed]",
      "text/plain": [
       "<Figure size 1000x1000 with 2 Axes>"
      ]
     },
     "metadata": {},
     "output_type": "display_data"
    }
   ],
   "source": [
    "confusion_matrix_plot(cm_rf)"
   ]
  },
  {
   "cell_type": "code",
   "execution_count": 66,
   "id": "ce95f4ff",
   "metadata": {},
   "outputs": [
    {
     "name": "stdout",
     "output_type": "stream",
     "text": [
      "Classification Report:\n",
      "               precision    recall  f1-score   support\n",
      "\n",
      "        أحمر       1.00      0.98      0.99       209\n",
      "        أخضر       1.00      1.00      1.00       187\n",
      "     برتقالي       0.99      1.00      0.99       354\n",
      "\n",
      "    accuracy                           0.99       750\n",
      "   macro avg       1.00      0.99      0.99       750\n",
      "weighted avg       0.99      0.99      0.99       750\n",
      "\n"
     ]
    }
   ],
   "source": [
    "print(\"Classification Report:\\n\", classification_report(y_test, ypred4, zero_division=1))"
   ]
  },
  {
   "cell_type": "code",
   "execution_count": 67,
   "id": "4fb475fd",
   "metadata": {},
   "outputs": [
    {
     "data": {
      "image/png": "[encoded data removed]",
      "text/plain": [
       "<Figure size 800x550 with 1 Axes>"
      ]
     },
     "metadata": {},
     "output_type": "display_data"
    },
    {
     "data": {
      "text/plain": [
       "ROCAUC(ax=<AxesSubplot:title={'center':'ROC Curves for RandomForestClassifier'}, xlabel='False Positive Rate', ylabel='True Positive Rate'>,\n",
       "       encoder={'أحمر': 'أحمر', 'أخضر': 'أخضر', 'برتقالي': 'برتقالي'},\n",
       "       estimator=RandomForestClassifier(criterion='entropy', max_depth=8))"
      ]
     },
     "execution_count": 67,
     "metadata": {},
     "output_type": "execute_result"
    }
   ],
   "source": [
    "plot_ROC_curve(RF2, x_train, y_train, x_test, y_test)"
   ]
  },
  {
   "cell_type": "code",
   "execution_count": 68,
   "id": "40679b04",
   "metadata": {},
   "outputs": [
    {
     "data": {
      "text/html": [
       "<div>\n",
       "<style scoped>\n",
       "    .dataframe tbody tr th:only-of-type {\n",
       "        vertical-align: middle;\n",
       "    }\n",
       "\n",
       "    .dataframe tbody tr th {\n",
       "        vertical-align: top;\n",
       "    }\n",
       "\n",
       "    .dataframe thead th {\n",
       "        text-align: right;\n",
       "    }\n",
       "</style>\n",
       "<table border=\"1\" class=\"dataframe\">\n",
       "  <thead>\n",
       "    <tr style=\"text-align: right;\">\n",
       "      <th></th>\n",
       "      <th>Model</th>\n",
       "      <th>Recall</th>\n",
       "      <th>Precision</th>\n",
       "      <th>F1 Score</th>\n",
       "      <th>Accuracy</th>\n",
       "    </tr>\n",
       "  </thead>\n",
       "  <tbody>\n",
       "    <tr>\n",
       "      <th>0</th>\n",
       "      <td>RF</td>\n",
       "      <td>0.992026</td>\n",
       "      <td>0.995357</td>\n",
       "      <td>0.993627</td>\n",
       "      <td>0.993333</td>\n",
       "    </tr>\n",
       "  </tbody>\n",
       "</table>\n",
       "</div>"
      ],
      "text/plain": [
       "  Model    Recall  Precision  F1 Score  Accuracy\n",
       "0    RF  0.992026   0.995357  0.993627  0.993333"
      ]
     },
     "execution_count": 68,
     "metadata": {},
     "output_type": "execute_result"
    }
   ],
   "source": [
    "rf_score = table_score(ypred4)\n",
    "rf_score.insert(0, 'Model', 'RF')\n",
    "rf_score"
   ]
  },
  {
   "cell_type": "markdown",
   "id": "4f179430",
   "metadata": {},
   "source": [
    "### Naive Bayes"
   ]
  },
  {
   "cell_type": "code",
   "execution_count": 69,
   "id": "061a1889",
   "metadata": {},
   "outputs": [
    {
     "name": "stdout",
     "output_type": "stream",
     "text": [
      "Test score: 0.99\n"
     ]
    }
   ],
   "source": [
    "NB = GaussianNB()\n",
    "NB.fit(x_train, y_train)\n",
    "print(\"Test score: {:.2f}\".format(NB.score(x_test , y_test)))"
   ]
  },
  {
   "cell_type": "code",
   "execution_count": 70,
   "id": "6f52e493",
   "metadata": {},
   "outputs": [
    {
     "name": "stdout",
     "output_type": "stream",
     "text": [
      "Fitting 10 folds for each of 9 candidates, totalling 90 fits\n",
      "[CV 1/10] END ..............var_smoothing=1e-09;, score=0.994 total time=   0.0s\n",
      "[CV 2/10] END ..............var_smoothing=1e-09;, score=0.977 total time=   0.0s\n",
      "[CV 3/10] END ..............var_smoothing=1e-09;, score=0.994 total time=   0.0s\n",
      "[CV 4/10] END ..............var_smoothing=1e-09;, score=0.994 total time=   0.0s\n",
      "[CV 5/10] END ..............var_smoothing=1e-09;, score=1.000 total time=   0.0s\n",
      "[CV 6/10] END ..............var_smoothing=1e-09;, score=0.989 total time=   0.0s\n",
      "[CV 7/10] END ..............var_smoothing=1e-09;, score=0.989 total time=   0.0s\n",
      "[CV 8/10] END ..............var_smoothing=1e-09;, score=0.994 total time=   0.0s\n",
      "[CV 9/10] END ..............var_smoothing=1e-09;, score=0.994 total time=   0.0s\n",
      "[CV 10/10] END .............var_smoothing=1e-09;, score=1.000 total time=   0.0s\n",
      "[CV 1/10] END ..............var_smoothing=1e-08;, score=0.994 total time=   0.0s\n",
      "[CV 2/10] END ..............var_smoothing=1e-08;, score=0.977 total time=   0.0s\n",
      "[CV 3/10] END ..............var_smoothing=1e-08;, score=0.994 total time=   0.0s\n",
      "[CV 4/10] END ..............var_smoothing=1e-08;, score=0.994 total time=   0.0s\n",
      "[CV 5/10] END ..............var_smoothing=1e-08;, score=1.000 total time=   0.0s\n",
      "[CV 6/10] END ..............var_smoothing=1e-08;, score=0.989 total time=   0.0s\n",
      "[CV 7/10] END ..............var_smoothing=1e-08;, score=0.989 total time=   0.0s\n",
      "[CV 8/10] END ..............var_smoothing=1e-08;, score=0.994 total time=   0.0s\n",
      "[CV 9/10] END ..............var_smoothing=1e-08;, score=0.994 total time=   0.0s\n",
      "[CV 10/10] END .............var_smoothing=1e-08;, score=1.000 total time=   0.0s\n",
      "[CV 1/10] END ..............var_smoothing=1e-07;, score=0.994 total time=   0.0s\n",
      "[CV 2/10] END ..............var_smoothing=1e-07;, score=0.977 total time=   0.0s\n",
      "[CV 3/10] END ..............var_smoothing=1e-07;, score=0.994 total time=   0.0s\n",
      "[CV 4/10] END ..............var_smoothing=1e-07;, score=0.994 total time=   0.0s\n",
      "[CV 5/10] END ..............var_smoothing=1e-07;, score=1.000 total time=   0.0s\n",
      "[CV 6/10] END ..............var_smoothing=1e-07;, score=0.989 total time=   0.0s\n",
      "[CV 7/10] END ..............var_smoothing=1e-07;, score=0.989 total time=   0.0s\n",
      "[CV 8/10] END ..............var_smoothing=1e-07;, score=0.994 total time=   0.0s\n",
      "[CV 9/10] END ..............var_smoothing=1e-07;, score=0.994 total time=   0.0s\n",
      "[CV 10/10] END .............var_smoothing=1e-07;, score=1.000 total time=   0.0s\n",
      "[CV 1/10] END ..............var_smoothing=1e-06;, score=0.994 total time=   0.0s\n",
      "[CV 2/10] END ..............var_smoothing=1e-06;, score=0.977 total time=   0.0s\n",
      "[CV 3/10] END ..............var_smoothing=1e-06;, score=0.994 total time=   0.0s\n",
      "[CV 4/10] END ..............var_smoothing=1e-06;, score=0.994 total time=   0.0s\n",
      "[CV 5/10] END ..............var_smoothing=1e-06;, score=1.000 total time=   0.0s\n",
      "[CV 6/10] END ..............var_smoothing=1e-06;, score=0.989 total time=   0.0s\n",
      "[CV 7/10] END ..............var_smoothing=1e-06;, score=0.989 total time=   0.0s\n",
      "[CV 8/10] END ..............var_smoothing=1e-06;, score=0.994 total time=   0.0s\n",
      "[CV 9/10] END ..............var_smoothing=1e-06;, score=0.994 total time=   0.0s\n",
      "[CV 10/10] END .............var_smoothing=1e-06;, score=1.000 total time=   0.0s\n",
      "[CV 1/10] END ..............var_smoothing=1e-05;, score=0.994 total time=   0.0s\n",
      "[CV 2/10] END ..............var_smoothing=1e-05;, score=0.977 total time=   0.0s\n",
      "[CV 3/10] END ..............var_smoothing=1e-05;, score=0.994 total time=   0.0s\n",
      "[CV 4/10] END ..............var_smoothing=1e-05;, score=0.994 total time=   0.0s\n",
      "[CV 5/10] END ..............var_smoothing=1e-05;, score=1.000 total time=   0.0s\n",
      "[CV 6/10] END ..............var_smoothing=1e-05;, score=0.989 total time=   0.0s\n",
      "[CV 7/10] END ..............var_smoothing=1e-05;, score=0.989 total time=   0.0s\n",
      "[CV 8/10] END ..............var_smoothing=1e-05;, score=0.994 total time=   0.0s\n",
      "[CV 9/10] END ..............var_smoothing=1e-05;, score=0.994 total time=   0.0s\n",
      "[CV 10/10] END .............var_smoothing=1e-05;, score=1.000 total time=   0.0s\n",
      "[CV 1/10] END .............var_smoothing=0.0001;, score=0.994 total time=   0.0s\n",
      "[CV 2/10] END .............var_smoothing=0.0001;, score=0.977 total time=   0.0s\n",
      "[CV 3/10] END .............var_smoothing=0.0001;, score=0.994 total time=   0.0s\n",
      "[CV 4/10] END .............var_smoothing=0.0001;, score=0.994 total time=   0.0s\n",
      "[CV 5/10] END .............var_smoothing=0.0001;, score=1.000 total time=   0.0s\n",
      "[CV 6/10] END .............var_smoothing=0.0001;, score=0.989 total time=   0.0s\n",
      "[CV 7/10] END .............var_smoothing=0.0001;, score=0.989 total time=   0.0s\n",
      "[CV 8/10] END .............var_smoothing=0.0001;, score=0.994 total time=   0.0s\n",
      "[CV 9/10] END .............var_smoothing=0.0001;, score=0.994 total time=   0.0s\n",
      "[CV 10/10] END ............var_smoothing=0.0001;, score=1.000 total time=   0.0s\n",
      "[CV 1/10] END ..............var_smoothing=0.001;, score=0.994 total time=   0.0s\n",
      "[CV 2/10] END ..............var_smoothing=0.001;, score=0.977 total time=   0.0s\n",
      "[CV 3/10] END ..............var_smoothing=0.001;, score=0.994 total time=   0.0s\n",
      "[CV 4/10] END ..............var_smoothing=0.001;, score=0.994 total time=   0.0s\n",
      "[CV 5/10] END ..............var_smoothing=0.001;, score=1.000 total time=   0.0s\n",
      "[CV 6/10] END ..............var_smoothing=0.001;, score=0.989 total time=   0.0s\n",
      "[CV 7/10] END ..............var_smoothing=0.001;, score=0.989 total time=   0.0s\n",
      "[CV 8/10] END ..............var_smoothing=0.001;, score=0.994 total time=   0.0s\n",
      "[CV 9/10] END ..............var_smoothing=0.001;, score=0.994 total time=   0.0s\n",
      "[CV 10/10] END .............var_smoothing=0.001;, score=1.000 total time=   0.0s\n",
      "[CV 1/10] END ...............var_smoothing=0.01;, score=0.994 total time=   0.0s\n",
      "[CV 2/10] END ...............var_smoothing=0.01;, score=0.977 total time=   0.0s\n",
      "[CV 3/10] END ...............var_smoothing=0.01;, score=0.994 total time=   0.0s\n",
      "[CV 4/10] END ...............var_smoothing=0.01;, score=0.994 total time=   0.0s\n",
      "[CV 5/10] END ...............var_smoothing=0.01;, score=1.000 total time=   0.0s\n",
      "[CV 6/10] END ...............var_smoothing=0.01;, score=0.989 total time=   0.0s\n",
      "[CV 7/10] END ...............var_smoothing=0.01;, score=0.989 total time=   0.0s\n",
      "[CV 8/10] END ...............var_smoothing=0.01;, score=0.994 total time=   0.0s\n",
      "[CV 9/10] END ...............var_smoothing=0.01;, score=0.994 total time=   0.0s\n",
      "[CV 10/10] END ..............var_smoothing=0.01;, score=1.000 total time=   0.0s\n",
      "[CV 1/10] END ................var_smoothing=0.1;, score=0.994 total time=   0.0s\n",
      "[CV 2/10] END ................var_smoothing=0.1;, score=0.977 total time=   0.0s\n",
      "[CV 3/10] END ................var_smoothing=0.1;, score=0.994 total time=   0.0s\n",
      "[CV 4/10] END ................var_smoothing=0.1;, score=0.994 total time=   0.0s\n",
      "[CV 5/10] END ................var_smoothing=0.1;, score=1.000 total time=   0.0s\n",
      "[CV 6/10] END ................var_smoothing=0.1;, score=0.989 total time=   0.0s\n",
      "[CV 7/10] END ................var_smoothing=0.1;, score=0.989 total time=   0.0s\n",
      "[CV 8/10] END ................var_smoothing=0.1;, score=0.994 total time=   0.0s\n",
      "[CV 9/10] END ................var_smoothing=0.1;, score=0.994 total time=   0.0s\n",
      "[CV 10/10] END ...............var_smoothing=0.1;, score=1.000 total time=   0.0s\n"
     ]
    },
    {
     "data": {
      "text/plain": [
       "GridSearchCV(cv=KFold(n_splits=10, random_state=42, shuffle=True),\n",
       "             estimator=GaussianNB(),\n",
       "             param_grid={'var_smoothing': [1e-09, 1e-08, 1e-07, 1e-06, 1e-05,\n",
       "                                           0.0001, 0.001, 0.01, 0.1]},\n",
       "             scoring='accuracy', verbose=3)"
      ]
     },
     "execution_count": 70,
     "metadata": {},
     "output_type": "execute_result"
    }
   ],
   "source": [
    "param_grid_NB = {\n",
    "    'var_smoothing': [1e-9, 1e-8, 1e-7, 1e-6, 1e-5, 1e-4, 1e-3, 1e-2, 1e-1],\n",
    "}\n",
    "clf_NB = GridSearchCV(estimator= GaussianNB() , param_grid= param_grid_NB , cv=kfold, scoring='accuracy', verbose=3)\n",
    "clf_NB.fit(x_train, y_train)"
   ]
  },
  {
   "cell_type": "code",
   "execution_count": 71,
   "id": "2b013f3d",
   "metadata": {},
   "outputs": [
    {
     "name": "stdout",
     "output_type": "stream",
     "text": [
      "Best of Hyper Parameter : {'var_smoothing': 1e-09} \n",
      "Score :  0.9925714285714285\n"
     ]
    }
   ],
   "source": [
    "print(\"Best of Hyper Parameter :\" , clf_NB.best_params_, \"\\nScore : \" , clf_NB.best_score_)"
   ]
  },
  {
   "cell_type": "code",
   "execution_count": 72,
   "id": "6dea01ca",
   "metadata": {},
   "outputs": [
    {
     "name": "stdout",
     "output_type": "stream",
     "text": [
      "Test score for test_data: 0.99\n",
      "Test score for train_data: 0.99\n"
     ]
    }
   ],
   "source": [
    "NB2 = clf_NB.best_estimator_.fit(x_train,y_train)\n",
    "print(\"Test score for test_data: {:.2f}\".format(NB2.score(x_test, y_test)))\n",
    "print(\"Test score for train_data: {:.2f}\".format(NB2.score(x_train, y_train)))"
   ]
  },
  {
   "cell_type": "code",
   "execution_count": 73,
   "id": "37451215",
   "metadata": {},
   "outputs": [
    {
     "name": "stdout",
     "output_type": "stream",
     "text": [
      "[0.99428571 0.97714286 0.99428571 0.99428571 1.         0.98857143\n",
      " 0.98857143 0.99428571 0.99428571 1.        ]\n",
      "Mean for k_fold cross validation for Naive Bayes model 0.9925714285714285\n"
     ]
    }
   ],
   "source": [
    "scores_clf5 = cross_val_score(NB2, x_train, y_train, cv=kfold, scoring='accuracy')\n",
    "print(scores_clf5)\n",
    "print(\"Mean for k_fold cross validation for Naive Bayes model\", np.mean(scores_clf5))"
   ]
  },
  {
   "cell_type": "code",
   "execution_count": 74,
   "id": "da72bcbf",
   "metadata": {},
   "outputs": [
    {
     "name": "stdout",
     "output_type": "stream",
     "text": [
      "confusion_matrix(ytest, ypred): \n",
      " [[203   0   6]\n",
      " [  0 187   0]\n",
      " [  0   0 354]]\n"
     ]
    }
   ],
   "source": [
    "ypred5 = NB2.predict(x_test)\n",
    "cm_NB = confusion_matrix(y_test, ypred5)\n",
    "print(\"confusion_matrix(ytest, ypred): \\n\", cm_NB)"
   ]
  },
  {
   "cell_type": "code",
   "execution_count": 75,
   "id": "43e8b5eb",
   "metadata": {},
   "outputs": [
    {
     "name": "stdout",
     "output_type": "stream",
     "text": [
      "Sensitivity for each class: [0.9712918660287081, 1.0, 1.0]\n",
      "Specificity for each class: [1.0, 1.0, 0.9848484848484849]\n",
      "Sensitivity for each class:  0  is 0.9712918660287081\n",
      "Specificity for each class: 0  is 1.0\n",
      "Sensitivity for each class:  1  is 1.0\n",
      "Specificity for each class: 1  is 1.0\n",
      "Sensitivity for each class:  2  is 1.0\n",
      "Specificity for each class: 2  is 0.9848484848484849\n"
     ]
    }
   ],
   "source": [
    "sensitivity_specificity(cm_NB)"
   ]
  },
  {
   "cell_type": "code",
   "execution_count": 76,
   "id": "4f691eae",
   "metadata": {},
   "outputs": [
    {
     "data": {
      "image/png": "[encoded data removed]",
      "text/plain": [
       "<Figure size 1000x1000 with 2 Axes>"
      ]
     },
     "metadata": {},
     "output_type": "display_data"
    }
   ],
   "source": [
    "confusion_matrix_plot(cm_NB)"
   ]
  },
  {
   "cell_type": "code",
   "execution_count": 77,
   "id": "cdf0ef4c",
   "metadata": {},
   "outputs": [
    {
     "name": "stdout",
     "output_type": "stream",
     "text": [
      "Classification Report:\n",
      "               precision    recall  f1-score   support\n",
      "\n",
      "        أحمر       1.00      0.97      0.99       209\n",
      "        أخضر       1.00      1.00      1.00       187\n",
      "     برتقالي       0.98      1.00      0.99       354\n",
      "\n",
      "    accuracy                           0.99       750\n",
      "   macro avg       0.99      0.99      0.99       750\n",
      "weighted avg       0.99      0.99      0.99       750\n",
      "\n"
     ]
    }
   ],
   "source": [
    "print(\"Classification Report:\\n\", classification_report(y_test, ypred5, zero_division=1))"
   ]
  },
  {
   "cell_type": "code",
   "execution_count": 78,
   "id": "252ca070",
   "metadata": {},
   "outputs": [
    {
     "data": {
      "image/png": "[encoded data removed]",
      "text/plain": [
       "<Figure size 800x550 with 1 Axes>"
      ]
     },
     "metadata": {},
     "output_type": "display_data"
    },
    {
     "data": {
      "text/plain": [
       "ROCAUC(ax=<AxesSubplot:title={'center':'ROC Curves for GaussianNB'}, xlabel='False Positive Rate', ylabel='True Positive Rate'>,\n",
       "       encoder={'أحمر': 'أحمر', 'أخضر': 'أخضر', 'برتقالي': 'برتقالي'},\n",
       "       estimator=GaussianNB())"
      ]
     },
     "execution_count": 78,
     "metadata": {},
     "output_type": "execute_result"
    }
   ],
   "source": [
    "plot_ROC_curve(NB2, x_train, y_train, x_test, y_test)"
   ]
  },
  {
   "cell_type": "code",
   "execution_count": 79,
   "id": "b386ec8c",
   "metadata": {},
   "outputs": [
    {
     "data": {
      "text/html": [
       "<div>\n",
       "<style scoped>\n",
       "    .dataframe tbody tr th:only-of-type {\n",
       "        vertical-align: middle;\n",
       "    }\n",
       "\n",
       "    .dataframe tbody tr th {\n",
       "        vertical-align: top;\n",
       "    }\n",
       "\n",
       "    .dataframe thead th {\n",
       "        text-align: right;\n",
       "    }\n",
       "</style>\n",
       "<table border=\"1\" class=\"dataframe\">\n",
       "  <thead>\n",
       "    <tr style=\"text-align: right;\">\n",
       "      <th></th>\n",
       "      <th>Model</th>\n",
       "      <th>Recall</th>\n",
       "      <th>Precision</th>\n",
       "      <th>F1 Score</th>\n",
       "      <th>Accuracy</th>\n",
       "    </tr>\n",
       "  </thead>\n",
       "  <tbody>\n",
       "    <tr>\n",
       "      <th>0</th>\n",
       "      <td>NB</td>\n",
       "      <td>0.990431</td>\n",
       "      <td>0.994444</td>\n",
       "      <td>0.992345</td>\n",
       "      <td>0.992</td>\n",
       "    </tr>\n",
       "  </tbody>\n",
       "</table>\n",
       "</div>"
      ],
      "text/plain": [
       "  Model    Recall  Precision  F1 Score  Accuracy\n",
       "0    NB  0.990431   0.994444  0.992345     0.992"
      ]
     },
     "execution_count": 79,
     "metadata": {},
     "output_type": "execute_result"
    }
   ],
   "source": [
    "nb_score = table_score(ypred5)\n",
    "nb_score.insert(0, 'Model', 'NB')\n",
    "nb_score"
   ]
  },
  {
   "cell_type": "markdown",
   "id": "8948c975",
   "metadata": {},
   "source": [
    "### NN model"
   ]
  },
  {
   "cell_type": "code",
   "execution_count": 80,
   "id": "8f94627b",
   "metadata": {},
   "outputs": [
    {
     "name": "stdout",
     "output_type": "stream",
     "text": [
      "Test score: 0.47\n"
     ]
    }
   ],
   "source": [
    "MLP = MLPClassifier(activation='tanh',solver='sgd', hidden_layer_sizes=(5,), max_iter=5000, random_state=1)\n",
    "MLP.fit(x_train,y_train)\n",
    "print(\"Test score: {:.2f}\".format(MLP.score(x_test, y_test)))"
   ]
  },
  {
   "cell_type": "code",
   "execution_count": 81,
   "id": "09495880",
   "metadata": {},
   "outputs": [
    {
     "name": "stdout",
     "output_type": "stream",
     "text": [
      "Fitting 10 folds for each of 2 candidates, totalling 20 fits\n",
      "[CV 1/10] END batch_size=1, learning_rate_init=0.001;, score=0.994 total time=  43.4s\n",
      "[CV 2/10] END batch_size=1, learning_rate_init=0.001;, score=0.977 total time=  34.9s\n",
      "[CV 3/10] END batch_size=1, learning_rate_init=0.001;, score=0.989 total time=  35.7s\n",
      "[CV 4/10] END batch_size=1, learning_rate_init=0.001;, score=0.989 total time= 1.2min\n",
      "[CV 5/10] END batch_size=1, learning_rate_init=0.001;, score=0.994 total time=  27.7s\n",
      "[CV 6/10] END batch_size=1, learning_rate_init=0.001;, score=0.989 total time=  33.7s\n",
      "[CV 7/10] END batch_size=1, learning_rate_init=0.001;, score=0.983 total time=  48.3s\n",
      "[CV 8/10] END batch_size=1, learning_rate_init=0.001;, score=0.994 total time= 1.5min\n",
      "[CV 9/10] END batch_size=1, learning_rate_init=0.001;, score=0.994 total time=  53.1s\n",
      "[CV 10/10] END batch_size=1, learning_rate_init=0.001;, score=0.994 total time=  51.1s\n",
      "[CV 1/10] END batch_size=1, learning_rate_init=0.01;, score=0.434 total time=  11.4s\n",
      "[CV 2/10] END batch_size=1, learning_rate_init=0.01;, score=0.451 total time=  21.3s\n",
      "[CV 3/10] END batch_size=1, learning_rate_init=0.01;, score=0.497 total time=  26.2s\n",
      "[CV 4/10] END batch_size=1, learning_rate_init=0.01;, score=0.817 total time=  26.8s\n",
      "[CV 5/10] END batch_size=1, learning_rate_init=0.01;, score=1.000 total time=  20.1s\n",
      "[CV 6/10] END batch_size=1, learning_rate_init=0.01;, score=0.451 total time=  10.9s\n",
      "[CV 7/10] END batch_size=1, learning_rate_init=0.01;, score=0.417 total time=  11.0s\n",
      "[CV 8/10] END batch_size=1, learning_rate_init=0.01;, score=0.994 total time=  35.4s\n",
      "[CV 9/10] END batch_size=1, learning_rate_init=0.01;, score=0.531 total time=  13.7s\n",
      "[CV 10/10] END batch_size=1, learning_rate_init=0.01;, score=1.000 total time=  34.1s\n"
     ]
    },
    {
     "data": {
      "text/plain": [
       "GridSearchCV(cv=KFold(n_splits=10, random_state=42, shuffle=True),\n",
       "             estimator=MLPClassifier(),\n",
       "             param_grid={'batch_size': [1],\n",
       "                         'learning_rate_init': [0.001, 0.01]},\n",
       "             scoring='accuracy', verbose=3)"
      ]
     },
     "execution_count": 81,
     "metadata": {},
     "output_type": "execute_result"
    }
   ],
   "source": [
    "param_grid_MLP = {\n",
    "    'learning_rate_init': [0.001 , 0.01], \n",
    "    'batch_size': [1]\n",
    "    # 'hidden_layer_sizes': [(20,), (50, 50)],\n",
    "    # 'activation': ['relu', 'tanh'],\n",
    "    # 'alpha': [0.0001, 0.01],\n",
    "}\n",
    "clf_MLP = GridSearchCV(estimator=MLPClassifier(), param_grid= param_grid_MLP , cv=kfold, scoring='accuracy' , verbose=3)\n",
    "clf_MLP.fit(x_train, y_train)"
   ]
  },
  {
   "cell_type": "code",
   "execution_count": 82,
   "id": "2779180b",
   "metadata": {},
   "outputs": [
    {
     "name": "stdout",
     "output_type": "stream",
     "text": [
      "Best of Hyper Parameter : {'batch_size': 1, 'learning_rate_init': 0.001} \n",
      "Score :  0.9897142857142857\n"
     ]
    }
   ],
   "source": [
    "print(\"Best of Hyper Parameter :\" , clf_MLP.best_params_, \"\\nScore : \" , clf_MLP.best_score_)"
   ]
  },
  {
   "cell_type": "code",
   "execution_count": 83,
   "id": "623aca2b",
   "metadata": {},
   "outputs": [
    {
     "name": "stdout",
     "output_type": "stream",
     "text": [
      "Test score for test_data: 0.99\n",
      "Test score for train_data: 0.99\n"
     ]
    }
   ],
   "source": [
    "MLP2 = clf_MLP.best_estimator_.fit(x_train,y_train)\n",
    "print(\"Test score for test_data: {:.2f}\".format(MLP2.score(x_test, y_test)))\n",
    "print(\"Test score for train_data: {:.2f}\".format(MLP2.score(x_train, y_train)))"
   ]
  },
  {
   "cell_type": "code",
   "execution_count": 84,
   "id": "36c1992c",
   "metadata": {},
   "outputs": [
    {
     "name": "stdout",
     "output_type": "stream",
     "text": [
      "[0.99428571 0.96       0.99428571 0.99428571 1.         0.98857143\n",
      " 0.99428571 0.99428571 0.99428571 0.98857143]\n",
      "Mean for k_fold cross validation for Neural Network model 0.9902857142857144\n"
     ]
    }
   ],
   "source": [
    "scores_clf6 = cross_val_score(MLP2, x_train, y_train, cv=kfold, scoring='accuracy')\n",
    "print(scores_clf6)\n",
    "print(\"Mean for k_fold cross validation for Neural Network model\", np.mean(scores_clf6))"
   ]
  },
  {
   "cell_type": "code",
   "execution_count": 85,
   "id": "6d33db9c",
   "metadata": {},
   "outputs": [
    {
     "name": "stdout",
     "output_type": "stream",
     "text": [
      "confusion_matrix(ytest, ypred): \n",
      " [[203   0   6]\n",
      " [  0 187   0]\n",
      " [  0   0 354]]\n"
     ]
    }
   ],
   "source": [
    "ypred6 = MLP2.predict(x_test)\n",
    "cm_MLP = confusion_matrix(y_test, ypred6)\n",
    "print(\"confusion_matrix(ytest, ypred): \\n\", cm_MLP)"
   ]
  },
  {
   "cell_type": "code",
   "execution_count": 86,
   "id": "9d3caa50",
   "metadata": {},
   "outputs": [
    {
     "name": "stdout",
     "output_type": "stream",
     "text": [
      "Sensitivity for each class: [0.9712918660287081, 1.0, 1.0]\n",
      "Specificity for each class: [1.0, 1.0, 0.9848484848484849]\n",
      "Sensitivity for each class:  0  is 0.9712918660287081\n",
      "Specificity for each class: 0  is 1.0\n",
      "Sensitivity for each class:  1  is 1.0\n",
      "Specificity for each class: 1  is 1.0\n",
      "Sensitivity for each class:  2  is 1.0\n",
      "Specificity for each class: 2  is 0.9848484848484849\n"
     ]
    }
   ],
   "source": [
    "sensitivity_specificity(cm_MLP)"
   ]
  },
  {
   "cell_type": "code",
   "execution_count": 87,
   "id": "51bab6c1",
   "metadata": {},
   "outputs": [
    {
     "data": {
      "image/png": "[encoded data removed]",
      "text/plain": [
       "<Figure size 1000x1000 with 2 Axes>"
      ]
     },
     "metadata": {},
     "output_type": "display_data"
    }
   ],
   "source": [
    "confusion_matrix_plot(cm_MLP)"
   ]
  },
  {
   "cell_type": "code",
   "execution_count": 88,
   "id": "938a5482",
   "metadata": {},
   "outputs": [
    {
     "name": "stdout",
     "output_type": "stream",
     "text": [
      "Classification Report:\n",
      "               precision    recall  f1-score   support\n",
      "\n",
      "        أحمر       1.00      0.97      0.99       209\n",
      "        أخضر       1.00      1.00      1.00       187\n",
      "     برتقالي       0.98      1.00      0.99       354\n",
      "\n",
      "    accuracy                           0.99       750\n",
      "   macro avg       0.99      0.99      0.99       750\n",
      "weighted avg       0.99      0.99      0.99       750\n",
      "\n"
     ]
    }
   ],
   "source": [
    "print(\"Classification Report:\\n\", classification_report(y_test, ypred6, zero_division=1))"
   ]
  },
  {
   "cell_type": "code",
   "execution_count": 89,
   "id": "e564b783",
   "metadata": {},
   "outputs": [
    {
     "data": {
      "image/png": "[encoded data removed]",
      "text/plain": [
       "<Figure size 800x550 with 1 Axes>"
      ]
     },
     "metadata": {},
     "output_type": "display_data"
    },
    {
     "data": {
      "text/plain": [
       "ROCAUC(ax=<AxesSubplot:title={'center':'ROC Curves for MLPClassifier'}, xlabel='False Positive Rate', ylabel='True Positive Rate'>,\n",
       "       encoder={'أحمر': 'أحمر', 'أخضر': 'أخضر', 'برتقالي': 'برتقالي'},\n",
       "       estimator=MLPClassifier(batch_size=1))"
      ]
     },
     "execution_count": 89,
     "metadata": {},
     "output_type": "execute_result"
    }
   ],
   "source": [
    "plot_ROC_curve(MLP2, x_train, y_train, x_test, y_test)"
   ]
  },
  {
   "cell_type": "code",
   "execution_count": 90,
   "id": "57893cde",
   "metadata": {},
   "outputs": [
    {
     "data": {
      "text/html": [
       "<div>\n",
       "<style scoped>\n",
       "    .dataframe tbody tr th:only-of-type {\n",
       "        vertical-align: middle;\n",
       "    }\n",
       "\n",
       "    .dataframe tbody tr th {\n",
       "        vertical-align: top;\n",
       "    }\n",
       "\n",
       "    .dataframe thead th {\n",
       "        text-align: right;\n",
       "    }\n",
       "</style>\n",
       "<table border=\"1\" class=\"dataframe\">\n",
       "  <thead>\n",
       "    <tr style=\"text-align: right;\">\n",
       "      <th></th>\n",
       "      <th>Model</th>\n",
       "      <th>Recall</th>\n",
       "      <th>Precision</th>\n",
       "      <th>F1 Score</th>\n",
       "      <th>Accuracy</th>\n",
       "    </tr>\n",
       "  </thead>\n",
       "  <tbody>\n",
       "    <tr>\n",
       "      <th>0</th>\n",
       "      <td>NN</td>\n",
       "      <td>0.990431</td>\n",
       "      <td>0.994444</td>\n",
       "      <td>0.992345</td>\n",
       "      <td>0.992</td>\n",
       "    </tr>\n",
       "  </tbody>\n",
       "</table>\n",
       "</div>"
      ],
      "text/plain": [
       "  Model    Recall  Precision  F1 Score  Accuracy\n",
       "0    NN  0.990431   0.994444  0.992345     0.992"
      ]
     },
     "execution_count": 90,
     "metadata": {},
     "output_type": "execute_result"
    }
   ],
   "source": [
    "nn_score = table_score(ypred6)\n",
    "nn_score.insert(0, 'Model', 'NN')\n",
    "nn_score"
   ]
  },
  {
   "cell_type": "markdown",
   "id": "54a2a1b8",
   "metadata": {},
   "source": [
    "### comparison"
   ]
  },
  {
   "cell_type": "code",
   "execution_count": 91,
   "id": "1e5269d9",
   "metadata": {},
   "outputs": [
    {
     "data": {
      "text/html": [
       "<div>\n",
       "<style scoped>\n",
       "    .dataframe tbody tr th:only-of-type {\n",
       "        vertical-align: middle;\n",
       "    }\n",
       "\n",
       "    .dataframe tbody tr th {\n",
       "        vertical-align: top;\n",
       "    }\n",
       "\n",
       "    .dataframe thead th {\n",
       "        text-align: right;\n",
       "    }\n",
       "</style>\n",
       "<table border=\"1\" class=\"dataframe\">\n",
       "  <thead>\n",
       "    <tr style=\"text-align: right;\">\n",
       "      <th></th>\n",
       "      <th>Model</th>\n",
       "      <th>Recall</th>\n",
       "      <th>Precision</th>\n",
       "      <th>F1 Score</th>\n",
       "      <th>Accuracy</th>\n",
       "    </tr>\n",
       "  </thead>\n",
       "  <tbody>\n",
       "    <tr>\n",
       "      <th>1</th>\n",
       "      <td>LR</td>\n",
       "      <td>1.000000</td>\n",
       "      <td>1.000000</td>\n",
       "      <td>1.000000</td>\n",
       "      <td>1.000000</td>\n",
       "    </tr>\n",
       "    <tr>\n",
       "      <th>2</th>\n",
       "      <td>SVM</td>\n",
       "      <td>1.000000</td>\n",
       "      <td>1.000000</td>\n",
       "      <td>1.000000</td>\n",
       "      <td>1.000000</td>\n",
       "    </tr>\n",
       "    <tr>\n",
       "      <th>3</th>\n",
       "      <td>RF</td>\n",
       "      <td>0.992026</td>\n",
       "      <td>0.995357</td>\n",
       "      <td>0.993627</td>\n",
       "      <td>0.993333</td>\n",
       "    </tr>\n",
       "    <tr>\n",
       "      <th>0</th>\n",
       "      <td>KNN</td>\n",
       "      <td>0.990431</td>\n",
       "      <td>0.994444</td>\n",
       "      <td>0.992345</td>\n",
       "      <td>0.992000</td>\n",
       "    </tr>\n",
       "    <tr>\n",
       "      <th>4</th>\n",
       "      <td>NB</td>\n",
       "      <td>0.990431</td>\n",
       "      <td>0.994444</td>\n",
       "      <td>0.992345</td>\n",
       "      <td>0.992000</td>\n",
       "    </tr>\n",
       "    <tr>\n",
       "      <th>5</th>\n",
       "      <td>NN</td>\n",
       "      <td>0.990431</td>\n",
       "      <td>0.994444</td>\n",
       "      <td>0.992345</td>\n",
       "      <td>0.992000</td>\n",
       "    </tr>\n",
       "  </tbody>\n",
       "</table>\n",
       "</div>"
      ],
      "text/plain": [
       "  Model    Recall  Precision  F1 Score  Accuracy\n",
       "1    LR  1.000000   1.000000  1.000000  1.000000\n",
       "2   SVM  1.000000   1.000000  1.000000  1.000000\n",
       "3    RF  0.992026   0.995357  0.993627  0.993333\n",
       "0   KNN  0.990431   0.994444  0.992345  0.992000\n",
       "4    NB  0.990431   0.994444  0.992345  0.992000\n",
       "5    NN  0.990431   0.994444  0.992345  0.992000"
      ]
     },
     "execution_count": 91,
     "metadata": {},
     "output_type": "execute_result"
    }
   ],
   "source": [
    "predictions = pd.concat([knn_score, lr_score, svm_score, rf_score, nb_score, nn_score], ignore_index=True, sort=False)\n",
    "predictions.sort_values(by=['Accuracy'], ascending=False)"
   ]
  },
  {
   "cell_type": "markdown",
   "id": "7a090180",
   "metadata": {},
   "source": [
    "### visualization"
   ]
  },
  {
   "cell_type": "code",
   "execution_count": 92,
   "id": "d9844a98",
   "metadata": {},
   "outputs": [
    {
     "data": {
      "image/png": "[encoded data removed]",
      "text/plain": [
       "<Figure size 1000x600 with 1 Axes>"
      ]
     },
     "metadata": {},
     "output_type": "display_data"
    }
   ],
   "source": [
    "labels = ['naive_bayes Regression', 'random_forest ','knn','logistic regressio','SVM','NN']\n",
    "data = [scores_clf1, scores_clf2,scores_clf3,scores_clf4,scores_clf5,scores_clf6]\n",
    "\n",
    "plt.figure(figsize=(10, 6))\n",
    "plt.boxplot(data)\n",
    "plt.title('Comparison of Cross-Validation Scores')\n",
    "plt.ylabel('Accuracy')\n",
    "plt.xticks(np.arange(1, 7), labels)\n",
    "plt.grid(axis='y')\n",
    "\n",
    "# Calculate and display mean scores\n",
    "mean_scores = [np.mean(scores_clf1), np.mean(scores_clf2),np.mean(scores_clf3),np.mean(scores_clf4),np.mean(scores_clf5),np.mean(scores_clf6)]\n",
    "for i, mean in enumerate(mean_scores, 1):\n",
    "    plt.text(i, mean, f'Mean: {mean:.4f}', ha='center', va='bottom', color='blue')\n",
    "\n",
    "plt.show()"
   ]
  },
  {
   "cell_type": "markdown",
   "id": "92fff71e",
   "metadata": {},
   "source": [
    "### :\n",
    "x_pred = pd.read_excel(\"data_for_test_model_by_dr_yasser.xlsx\")\n",
    "for i in x_pred.columns:\n",
    "    x_pred[i] = x_pred[i].apply(eval)\n",
    "\n",
    "mean_values_per_feature_x_pred = x_pred.apply(lambda row: [np.mean(row[i]) for i in x_pred.columns], axis=1)\n",
    "\n",
    "x_pred = pd.DataFrame(mean_values_per_feature_x_pred.tolist(), columns=x_pred.columns,index=x_pred.index)\n",
    "x_pred['متوسط'] = x_pred.apply(lambda row: np.mean(row), axis=1)\n",
    "\n",
    "print(\"Original DataFrame:\")\n",
    "print(x_pred)# ***********************************\n",
    "x_pred=x_pred.iloc[0,:]\n",
    "ypred1 = knn2.predict(x_pred) \n",
    "print(ypred1)\n",
    "ypred2 = lr2.predict(x_pred)\n",
    "print(ypred2)\n",
    "ypred3 = svm2.predict(x_pred)\n",
    "print(ypred3)\n",
    "ypred4 = RF2.predict(x_pred)\n",
    "print(ypred4)\n",
    "ypred5 = NB2.predict(x_pred)\n",
    "print(ypred5)\n",
    "ypred6 = MLP2.predict(x_pred)\n",
    "print(ypred6)\n",
    "\n"
   ]
  },
  {
   "cell_type": "code",
   "execution_count": 93,
   "id": "eb5662aa",
   "metadata": {},
   "outputs": [
    {
     "data": {
      "text/html": [
       "<div>\n",
       "<style scoped>\n",
       "    .dataframe tbody tr th:only-of-type {\n",
       "        vertical-align: middle;\n",
       "    }\n",
       "\n",
       "    .dataframe tbody tr th {\n",
       "        vertical-align: top;\n",
       "    }\n",
       "\n",
       "    .dataframe thead th {\n",
       "        text-align: right;\n",
       "    }\n",
       "</style>\n",
       "<table border=\"1\" class=\"dataframe\">\n",
       "  <thead>\n",
       "    <tr style=\"text-align: right;\">\n",
       "      <th></th>\n",
       "      <th>مرجعية</th>\n",
       "      <th>تحليل</th>\n",
       "      <th>تصميم</th>\n",
       "      <th>برمجة</th>\n",
       "      <th>اختبار</th>\n",
       "      <th>نتائج</th>\n",
       "      <th>تقرير</th>\n",
       "      <th>عرض</th>\n",
       "      <th>غيتهاب</th>\n",
       "      <th>النتيجة الفعلية</th>\n",
       "    </tr>\n",
       "  </thead>\n",
       "  <tbody>\n",
       "    <tr>\n",
       "      <th>0</th>\n",
       "      <td>[5,40,90,90,90,90,90,90,90]</td>\n",
       "      <td>[0,20,60,30,90,90,90,90,90]</td>\n",
       "      <td>[0,0,10,20,60,90,90,90,90]</td>\n",
       "      <td>[0,0,0,0,0,30,30,30,30]</td>\n",
       "      <td>[0,0,0,0,0,30,30,30,30]</td>\n",
       "      <td>[0,0,0,0,0,30,30,30,30]</td>\n",
       "      <td>[50,50,50,50,30,20,30,50,30]</td>\n",
       "      <td>[0,0,0,0,0,0,0,60,60]</td>\n",
       "      <td>[0,0,0,0,0,30,30,30,30]</td>\n",
       "      <td>1</td>\n",
       "    </tr>\n",
       "    <tr>\n",
       "      <th>1</th>\n",
       "      <td>[5,40,90,90,90,90,90,90,90]</td>\n",
       "      <td>[0,20,60,30,90,90,90,90,90]</td>\n",
       "      <td>[0,0,10,20,60,90,90,90,90]</td>\n",
       "      <td>[0,0,0,0,0,30,30,30,30]</td>\n",
       "      <td>[0,0,0,0,0,30,30,30,30]</td>\n",
       "      <td>[0,0,0,0,0,30,30,30,30]</td>\n",
       "      <td>[50,50,50,50,20,30,20,50,20]</td>\n",
       "      <td>[0,0,0,0,0,0,0,0,5]</td>\n",
       "      <td>[0,0,0,0,0,30,30,30,30]</td>\n",
       "      <td>1</td>\n",
       "    </tr>\n",
       "    <tr>\n",
       "      <th>2</th>\n",
       "      <td>[0,50,0,0,0,0,0,0]</td>\n",
       "      <td>[25,0,50,0,50,0,0,80]</td>\n",
       "      <td>[25,0,0,25,50,0,0,0]</td>\n",
       "      <td>[0,0,0,50,80,0,0,50]</td>\n",
       "      <td>[0,0,0,0,80,0,0,0]</td>\n",
       "      <td>[0,0,0,0,80,0,0,0]</td>\n",
       "      <td>[0,10,0,0,0,60,0,80]</td>\n",
       "      <td>[0,0,0,0,0,0,0,1]</td>\n",
       "      <td>[0,0,0,0,0,0,0,10]</td>\n",
       "      <td>3</td>\n",
       "    </tr>\n",
       "    <tr>\n",
       "      <th>3</th>\n",
       "      <td>[0,0,0,0,0,1]</td>\n",
       "      <td>[15,0,25,0,0,0]</td>\n",
       "      <td>[0,0,0,0,0,1]</td>\n",
       "      <td>[0,0,0,50,80,50]</td>\n",
       "      <td>[0,0,0,0,0,1]</td>\n",
       "      <td>[0,0,0,0,0,1]</td>\n",
       "      <td>[0,5,0,0,0,0]</td>\n",
       "      <td>[0,0,0,0,0,1]</td>\n",
       "      <td>[0,0,0,0,0,1]</td>\n",
       "      <td>3</td>\n",
       "    </tr>\n",
       "    <tr>\n",
       "      <th>4</th>\n",
       "      <td>[25,0,0,70,90,0]</td>\n",
       "      <td>[0,0,0,0,0,1]</td>\n",
       "      <td>[0,25,50,0,0,0]</td>\n",
       "      <td>[0,0,0,0,0,1]</td>\n",
       "      <td>[0,0,0,0,0,1]</td>\n",
       "      <td>[0,0,0,0,0,1]</td>\n",
       "      <td>[0,5,0,0,0,0]</td>\n",
       "      <td>[0,0,0,50,80,70]</td>\n",
       "      <td>[0,0,0,0,0,1]</td>\n",
       "      <td>3</td>\n",
       "    </tr>\n",
       "    <tr>\n",
       "      <th>5</th>\n",
       "      <td>[0,0,0,1]</td>\n",
       "      <td>[0,0,0,1]</td>\n",
       "      <td>[25,50,0,0]</td>\n",
       "      <td>[0,0,80,0]</td>\n",
       "      <td>[0,0,0,1]</td>\n",
       "      <td>[0,0,0,1]</td>\n",
       "      <td>[0,0,0,70]</td>\n",
       "      <td>[0,0,0,1]</td>\n",
       "      <td>[0,0,0,1]</td>\n",
       "      <td>3</td>\n",
       "    </tr>\n",
       "    <tr>\n",
       "      <th>6</th>\n",
       "      <td>[0,0,1]</td>\n",
       "      <td>[0,0,1]</td>\n",
       "      <td>[0,0,1]</td>\n",
       "      <td>[0,0,1]</td>\n",
       "      <td>[0,0,1]</td>\n",
       "      <td>[0,0,1]</td>\n",
       "      <td>[50,0,0]</td>\n",
       "      <td>[0,0,1]</td>\n",
       "      <td>[0,0,1]</td>\n",
       "      <td>3</td>\n",
       "    </tr>\n",
       "    <tr>\n",
       "      <th>7</th>\n",
       "      <td>[0,100,100,100,100,100,100,100]</td>\n",
       "      <td>[0,0,0,100,100,80,70,80]</td>\n",
       "      <td>[0,0,0,0,0,0,70,100]</td>\n",
       "      <td>[0,0,0,0,0,0,0,80]</td>\n",
       "      <td>[0,0,0,0,0,0,0,90]</td>\n",
       "      <td>[0,0,0,0,0,0,0,10]</td>\n",
       "      <td>[0,0,50,20,50,50,50,70]</td>\n",
       "      <td>[0,0,50,20,50,50,50,70]</td>\n",
       "      <td>[0,0,0,0,0,0,80,100]</td>\n",
       "      <td>2</td>\n",
       "    </tr>\n",
       "    <tr>\n",
       "      <th>8</th>\n",
       "      <td>[0,100,100,100,100,100,100,100]</td>\n",
       "      <td>[0,0,0,100,100,80,70,80]</td>\n",
       "      <td>[0,0,0,0,0,0,70,100]</td>\n",
       "      <td>[0,0,0,0,0,0,0,80]</td>\n",
       "      <td>[0,0,0,0,0,0,0,10]</td>\n",
       "      <td>[0,0,0,0,0,0,0,10]</td>\n",
       "      <td>[0,0,50,20,50,50,50,70]</td>\n",
       "      <td>[0,0,50,20,50,50,50,70]</td>\n",
       "      <td>[0,0,0,0,0,0,80,20]</td>\n",
       "      <td>2</td>\n",
       "    </tr>\n",
       "    <tr>\n",
       "      <th>9</th>\n",
       "      <td>[0,100,100,100,100,100]</td>\n",
       "      <td>[0,40,80,100,100,100]</td>\n",
       "      <td>[0,40,100,100,100,100]</td>\n",
       "      <td>[0,0,100,100,100,100]</td>\n",
       "      <td>[0,0,100,100,100,100]</td>\n",
       "      <td>[0,0,100,100,100,100]</td>\n",
       "      <td>[0,0,0,60,100,100]</td>\n",
       "      <td>[0,0,0,0,0,60]</td>\n",
       "      <td>[0,0,0,100,100,100]</td>\n",
       "      <td>1</td>\n",
       "    </tr>\n",
       "    <tr>\n",
       "      <th>10</th>\n",
       "      <td>[0,0,100,100,100,100,100,100,100,100,100]</td>\n",
       "      <td>[0,0,40,60,80,100,100,100,100,100,100]</td>\n",
       "      <td>[0,0,0,0,20,50,80,100,100,100,100]</td>\n",
       "      <td>[0,0,0,0,0,100,80,80,70,80,80]</td>\n",
       "      <td>[0,0,0,0,0,0,0,70,70,100,70]</td>\n",
       "      <td>[0,0,0,0,0,0,0,0,0,0,10]</td>\n",
       "      <td>[0,100,100,100,100,100,100,100,100,100,100]</td>\n",
       "      <td>[0,0,0,100,100,100,100,100,100,100,100]</td>\n",
       "      <td>[0,0,0,0,0,70,70,70,70,70,70]</td>\n",
       "      <td>1</td>\n",
       "    </tr>\n",
       "    <tr>\n",
       "      <th>11</th>\n",
       "      <td>[0,0,100,100,100,100,100,100,100,100,100]</td>\n",
       "      <td>[0,0,40,60,80,100,100,100,100,100,100]</td>\n",
       "      <td>[0,0,0,0,20,70,80,100,100,100,100]</td>\n",
       "      <td>[0,0,0,0,0,100,80,80,80,80,80]</td>\n",
       "      <td>[0,0,0,0,0,0,0,70,70,100,70]</td>\n",
       "      <td>[0,0,0,0,0,0,0,0,0,0,10]</td>\n",
       "      <td>[0,100,100,100,100,100,100,100,100,100,100]</td>\n",
       "      <td>[0,0,0,100,100,100,100,100,100,100,100]</td>\n",
       "      <td>[0,0,0,0,0,70,70,70,70,70,70]</td>\n",
       "      <td>1</td>\n",
       "    </tr>\n",
       "    <tr>\n",
       "      <th>12</th>\n",
       "      <td>[0,0,100,100,100,100,100,100,100,100,100]</td>\n",
       "      <td>[0,0,40,60,80,100,100,100,100,100,100]</td>\n",
       "      <td>[0,0,0,0,20,70,80,100,100,100,100]</td>\n",
       "      <td>[0,0,0,0,0,100,80,80,80,80,80]</td>\n",
       "      <td>[0,0,0,0,0,0,0,70,70,100,70]</td>\n",
       "      <td>[0,0,0,0,0,0,0,0,0,0,10]</td>\n",
       "      <td>[0,100,100,100,100,100,100,100,100,100,100]</td>\n",
       "      <td>[0,0,0,100,100,100,100,100,100,100,100]</td>\n",
       "      <td>[0,0,0,0,0,90,100,100,100,100,100]</td>\n",
       "      <td>1</td>\n",
       "    </tr>\n",
       "    <tr>\n",
       "      <th>13</th>\n",
       "      <td>[0,0,5]</td>\n",
       "      <td>[0,0,10]</td>\n",
       "      <td>[0,60,60]</td>\n",
       "      <td>[0,0,5]</td>\n",
       "      <td>[0,0,5]</td>\n",
       "      <td>[0,0,5]</td>\n",
       "      <td>[0,60,60]</td>\n",
       "      <td>[0,0,5]</td>\n",
       "      <td>[0,0,5]</td>\n",
       "      <td>3</td>\n",
       "    </tr>\n",
       "    <tr>\n",
       "      <th>14</th>\n",
       "      <td>[0,0,5]</td>\n",
       "      <td>[0,0,10]</td>\n",
       "      <td>[0,0,5]</td>\n",
       "      <td>[0,50,50]</td>\n",
       "      <td>[0,0,5]</td>\n",
       "      <td>[0,0,5]</td>\n",
       "      <td>[0,0,5]</td>\n",
       "      <td>[0,0,5]</td>\n",
       "      <td>[0,0,5]</td>\n",
       "      <td>3</td>\n",
       "    </tr>\n",
       "    <tr>\n",
       "      <th>15</th>\n",
       "      <td>[0,0,20]</td>\n",
       "      <td>[0,0,10]</td>\n",
       "      <td>[0,60,60]</td>\n",
       "      <td>[0,50,50]</td>\n",
       "      <td>[0,0,5]</td>\n",
       "      <td>[0,0,5]</td>\n",
       "      <td>[0,0,5]</td>\n",
       "      <td>[0,0,5]</td>\n",
       "      <td>[0,0,5]</td>\n",
       "      <td>3</td>\n",
       "    </tr>\n",
       "    <tr>\n",
       "      <th>16</th>\n",
       "      <td>[0,0,5]</td>\n",
       "      <td>[0,0,10]</td>\n",
       "      <td>[0,0,5]</td>\n",
       "      <td>[0,0,20]</td>\n",
       "      <td>[0,0,5]</td>\n",
       "      <td>[0,0,5]</td>\n",
       "      <td>[0,0,5]</td>\n",
       "      <td>[0,0,5]</td>\n",
       "      <td>[0,0,5]</td>\n",
       "      <td>3</td>\n",
       "    </tr>\n",
       "    <tr>\n",
       "      <th>17</th>\n",
       "      <td>[0,0,60]</td>\n",
       "      <td>[0,0,10]</td>\n",
       "      <td>[0,20,20]</td>\n",
       "      <td>[0,0,20]</td>\n",
       "      <td>[0,0,5]</td>\n",
       "      <td>[0,0,5]</td>\n",
       "      <td>[0,0,5]</td>\n",
       "      <td>[0,0,5]</td>\n",
       "      <td>[0,0,5]</td>\n",
       "      <td>3</td>\n",
       "    </tr>\n",
       "    <tr>\n",
       "      <th>18</th>\n",
       "      <td>[0,50]</td>\n",
       "      <td>[0,70]</td>\n",
       "      <td>[0,60]</td>\n",
       "      <td>[0,5]</td>\n",
       "      <td>[0,5]</td>\n",
       "      <td>[0,5]</td>\n",
       "      <td>[0,60]</td>\n",
       "      <td>[0,20]</td>\n",
       "      <td>[0,5]</td>\n",
       "      <td>3</td>\n",
       "    </tr>\n",
       "    <tr>\n",
       "      <th>19</th>\n",
       "      <td>[0,50]</td>\n",
       "      <td>[0,80]</td>\n",
       "      <td>[0,80]</td>\n",
       "      <td>[0,5]</td>\n",
       "      <td>[0,5]</td>\n",
       "      <td>[0,5]</td>\n",
       "      <td>[0,80]</td>\n",
       "      <td>[0,20]</td>\n",
       "      <td>[0,5]</td>\n",
       "      <td>3</td>\n",
       "    </tr>\n",
       "  </tbody>\n",
       "</table>\n",
       "</div>"
      ],
      "text/plain": [
       "                                       مرجعية  \\\n",
       "0                 [5,40,90,90,90,90,90,90,90]   \n",
       "1                 [5,40,90,90,90,90,90,90,90]   \n",
       "2                          [0,50,0,0,0,0,0,0]   \n",
       "3                               [0,0,0,0,0,1]   \n",
       "4                            [25,0,0,70,90,0]   \n",
       "5                                   [0,0,0,1]   \n",
       "6                                     [0,0,1]   \n",
       "7             [0,100,100,100,100,100,100,100]   \n",
       "8             [0,100,100,100,100,100,100,100]   \n",
       "9                     [0,100,100,100,100,100]   \n",
       "10  [0,0,100,100,100,100,100,100,100,100,100]   \n",
       "11  [0,0,100,100,100,100,100,100,100,100,100]   \n",
       "12  [0,0,100,100,100,100,100,100,100,100,100]   \n",
       "13                                    [0,0,5]   \n",
       "14                                    [0,0,5]   \n",
       "15                                   [0,0,20]   \n",
       "16                                    [0,0,5]   \n",
       "17                                   [0,0,60]   \n",
       "18                                     [0,50]   \n",
       "19                                     [0,50]   \n",
       "\n",
       "                                     تحليل  \\\n",
       "0              [0,20,60,30,90,90,90,90,90]   \n",
       "1              [0,20,60,30,90,90,90,90,90]   \n",
       "2                    [25,0,50,0,50,0,0,80]   \n",
       "3                          [15,0,25,0,0,0]   \n",
       "4                            [0,0,0,0,0,1]   \n",
       "5                                [0,0,0,1]   \n",
       "6                                  [0,0,1]   \n",
       "7                 [0,0,0,100,100,80,70,80]   \n",
       "8                 [0,0,0,100,100,80,70,80]   \n",
       "9                    [0,40,80,100,100,100]   \n",
       "10  [0,0,40,60,80,100,100,100,100,100,100]   \n",
       "11  [0,0,40,60,80,100,100,100,100,100,100]   \n",
       "12  [0,0,40,60,80,100,100,100,100,100,100]   \n",
       "13                                [0,0,10]   \n",
       "14                                [0,0,10]   \n",
       "15                                [0,0,10]   \n",
       "16                                [0,0,10]   \n",
       "17                                [0,0,10]   \n",
       "18                                  [0,70]   \n",
       "19                                  [0,80]   \n",
       "\n",
       "                                 تصميم                           برمجة  \\\n",
       "0           [0,0,10,20,60,90,90,90,90]         [0,0,0,0,0,30,30,30,30]   \n",
       "1           [0,0,10,20,60,90,90,90,90]         [0,0,0,0,0,30,30,30,30]   \n",
       "2                 [25,0,0,25,50,0,0,0]            [0,0,0,50,80,0,0,50]   \n",
       "3                        [0,0,0,0,0,1]                [0,0,0,50,80,50]   \n",
       "4                      [0,25,50,0,0,0]                   [0,0,0,0,0,1]   \n",
       "5                          [25,50,0,0]                      [0,0,80,0]   \n",
       "6                              [0,0,1]                         [0,0,1]   \n",
       "7                 [0,0,0,0,0,0,70,100]              [0,0,0,0,0,0,0,80]   \n",
       "8                 [0,0,0,0,0,0,70,100]              [0,0,0,0,0,0,0,80]   \n",
       "9               [0,40,100,100,100,100]           [0,0,100,100,100,100]   \n",
       "10  [0,0,0,0,20,50,80,100,100,100,100]  [0,0,0,0,0,100,80,80,70,80,80]   \n",
       "11  [0,0,0,0,20,70,80,100,100,100,100]  [0,0,0,0,0,100,80,80,80,80,80]   \n",
       "12  [0,0,0,0,20,70,80,100,100,100,100]  [0,0,0,0,0,100,80,80,80,80,80]   \n",
       "13                           [0,60,60]                         [0,0,5]   \n",
       "14                             [0,0,5]                       [0,50,50]   \n",
       "15                           [0,60,60]                       [0,50,50]   \n",
       "16                             [0,0,5]                        [0,0,20]   \n",
       "17                           [0,20,20]                        [0,0,20]   \n",
       "18                              [0,60]                           [0,5]   \n",
       "19                              [0,80]                           [0,5]   \n",
       "\n",
       "                          اختبار                     نتائج  \\\n",
       "0        [0,0,0,0,0,30,30,30,30]   [0,0,0,0,0,30,30,30,30]   \n",
       "1        [0,0,0,0,0,30,30,30,30]   [0,0,0,0,0,30,30,30,30]   \n",
       "2             [0,0,0,0,80,0,0,0]        [0,0,0,0,80,0,0,0]   \n",
       "3                  [0,0,0,0,0,1]             [0,0,0,0,0,1]   \n",
       "4                  [0,0,0,0,0,1]             [0,0,0,0,0,1]   \n",
       "5                      [0,0,0,1]                 [0,0,0,1]   \n",
       "6                        [0,0,1]                   [0,0,1]   \n",
       "7             [0,0,0,0,0,0,0,90]        [0,0,0,0,0,0,0,10]   \n",
       "8             [0,0,0,0,0,0,0,10]        [0,0,0,0,0,0,0,10]   \n",
       "9          [0,0,100,100,100,100]     [0,0,100,100,100,100]   \n",
       "10  [0,0,0,0,0,0,0,70,70,100,70]  [0,0,0,0,0,0,0,0,0,0,10]   \n",
       "11  [0,0,0,0,0,0,0,70,70,100,70]  [0,0,0,0,0,0,0,0,0,0,10]   \n",
       "12  [0,0,0,0,0,0,0,70,70,100,70]  [0,0,0,0,0,0,0,0,0,0,10]   \n",
       "13                       [0,0,5]                   [0,0,5]   \n",
       "14                       [0,0,5]                   [0,0,5]   \n",
       "15                       [0,0,5]                   [0,0,5]   \n",
       "16                       [0,0,5]                   [0,0,5]   \n",
       "17                       [0,0,5]                   [0,0,5]   \n",
       "18                         [0,5]                     [0,5]   \n",
       "19                         [0,5]                     [0,5]   \n",
       "\n",
       "                                          تقرير  \\\n",
       "0                  [50,50,50,50,30,20,30,50,30]   \n",
       "1                  [50,50,50,50,20,30,20,50,20]   \n",
       "2                          [0,10,0,0,0,60,0,80]   \n",
       "3                                 [0,5,0,0,0,0]   \n",
       "4                                 [0,5,0,0,0,0]   \n",
       "5                                    [0,0,0,70]   \n",
       "6                                      [50,0,0]   \n",
       "7                       [0,0,50,20,50,50,50,70]   \n",
       "8                       [0,0,50,20,50,50,50,70]   \n",
       "9                            [0,0,0,60,100,100]   \n",
       "10  [0,100,100,100,100,100,100,100,100,100,100]   \n",
       "11  [0,100,100,100,100,100,100,100,100,100,100]   \n",
       "12  [0,100,100,100,100,100,100,100,100,100,100]   \n",
       "13                                    [0,60,60]   \n",
       "14                                      [0,0,5]   \n",
       "15                                      [0,0,5]   \n",
       "16                                      [0,0,5]   \n",
       "17                                      [0,0,5]   \n",
       "18                                       [0,60]   \n",
       "19                                       [0,80]   \n",
       "\n",
       "                                        عرض  \\\n",
       "0                     [0,0,0,0,0,0,0,60,60]   \n",
       "1                       [0,0,0,0,0,0,0,0,5]   \n",
       "2                         [0,0,0,0,0,0,0,1]   \n",
       "3                             [0,0,0,0,0,1]   \n",
       "4                          [0,0,0,50,80,70]   \n",
       "5                                 [0,0,0,1]   \n",
       "6                                   [0,0,1]   \n",
       "7                   [0,0,50,20,50,50,50,70]   \n",
       "8                   [0,0,50,20,50,50,50,70]   \n",
       "9                            [0,0,0,0,0,60]   \n",
       "10  [0,0,0,100,100,100,100,100,100,100,100]   \n",
       "11  [0,0,0,100,100,100,100,100,100,100,100]   \n",
       "12  [0,0,0,100,100,100,100,100,100,100,100]   \n",
       "13                                  [0,0,5]   \n",
       "14                                  [0,0,5]   \n",
       "15                                  [0,0,5]   \n",
       "16                                  [0,0,5]   \n",
       "17                                  [0,0,5]   \n",
       "18                                   [0,20]   \n",
       "19                                   [0,20]   \n",
       "\n",
       "                                غيتهاب  النتيجة الفعلية  \n",
       "0              [0,0,0,0,0,30,30,30,30]                1  \n",
       "1              [0,0,0,0,0,30,30,30,30]                1  \n",
       "2                   [0,0,0,0,0,0,0,10]                3  \n",
       "3                        [0,0,0,0,0,1]                3  \n",
       "4                        [0,0,0,0,0,1]                3  \n",
       "5                            [0,0,0,1]                3  \n",
       "6                              [0,0,1]                3  \n",
       "7                 [0,0,0,0,0,0,80,100]                2  \n",
       "8                  [0,0,0,0,0,0,80,20]                2  \n",
       "9                  [0,0,0,100,100,100]                1  \n",
       "10       [0,0,0,0,0,70,70,70,70,70,70]                1  \n",
       "11       [0,0,0,0,0,70,70,70,70,70,70]                1  \n",
       "12  [0,0,0,0,0,90,100,100,100,100,100]                1  \n",
       "13                             [0,0,5]                3  \n",
       "14                             [0,0,5]                3  \n",
       "15                             [0,0,5]                3  \n",
       "16                             [0,0,5]                3  \n",
       "17                             [0,0,5]                3  \n",
       "18                               [0,5]                3  \n",
       "19                               [0,5]                3  "
      ]
     },
     "execution_count": 93,
     "metadata": {},
     "output_type": "execute_result"
    }
   ],
   "source": [
    "pred_scale = pd.read_excel(\"Stu-Evaluation.xlsx\")\n",
    "pred_scale"
   ]
  },
  {
   "cell_type": "code",
   "execution_count": 94,
   "id": "6713ede2",
   "metadata": {},
   "outputs": [
    {
     "data": {
      "text/html": [
       "<div>\n",
       "<style scoped>\n",
       "    .dataframe tbody tr th:only-of-type {\n",
       "        vertical-align: middle;\n",
       "    }\n",
       "\n",
       "    .dataframe tbody tr th {\n",
       "        vertical-align: top;\n",
       "    }\n",
       "\n",
       "    .dataframe thead th {\n",
       "        text-align: right;\n",
       "    }\n",
       "</style>\n",
       "<table border=\"1\" class=\"dataframe\">\n",
       "  <thead>\n",
       "    <tr style=\"text-align: right;\">\n",
       "      <th></th>\n",
       "      <th>مرجعية</th>\n",
       "      <th>تحليل</th>\n",
       "      <th>تصميم</th>\n",
       "      <th>برمجة</th>\n",
       "      <th>اختبار</th>\n",
       "      <th>نتائج</th>\n",
       "      <th>تقرير</th>\n",
       "      <th>عرض</th>\n",
       "      <th>غيتهاب</th>\n",
       "      <th>النتيجة الفعلية</th>\n",
       "      <th>تصنيف</th>\n",
       "    </tr>\n",
       "  </thead>\n",
       "  <tbody>\n",
       "    <tr>\n",
       "      <th>0</th>\n",
       "      <td>[5,40,90,90,90,90,90,90,90]</td>\n",
       "      <td>[0,20,60,30,90,90,90,90,90]</td>\n",
       "      <td>[0,0,10,20,60,90,90,90,90]</td>\n",
       "      <td>[0,0,0,0,0,30,30,30,30]</td>\n",
       "      <td>[0,0,0,0,0,30,30,30,30]</td>\n",
       "      <td>[0,0,0,0,0,30,30,30,30]</td>\n",
       "      <td>[50,50,50,50,30,20,30,50,30]</td>\n",
       "      <td>[0,0,0,0,0,0,0,60,60]</td>\n",
       "      <td>[0,0,0,0,0,30,30,30,30]</td>\n",
       "      <td>1</td>\n",
       "      <td>أخضر</td>\n",
       "    </tr>\n",
       "    <tr>\n",
       "      <th>1</th>\n",
       "      <td>[5,40,90,90,90,90,90,90,90]</td>\n",
       "      <td>[0,20,60,30,90,90,90,90,90]</td>\n",
       "      <td>[0,0,10,20,60,90,90,90,90]</td>\n",
       "      <td>[0,0,0,0,0,30,30,30,30]</td>\n",
       "      <td>[0,0,0,0,0,30,30,30,30]</td>\n",
       "      <td>[0,0,0,0,0,30,30,30,30]</td>\n",
       "      <td>[50,50,50,50,20,30,20,50,20]</td>\n",
       "      <td>[0,0,0,0,0,0,0,0,5]</td>\n",
       "      <td>[0,0,0,0,0,30,30,30,30]</td>\n",
       "      <td>1</td>\n",
       "      <td>أخضر</td>\n",
       "    </tr>\n",
       "    <tr>\n",
       "      <th>2</th>\n",
       "      <td>[0,50,0,0,0,0,0,0]</td>\n",
       "      <td>[25,0,50,0,50,0,0,80]</td>\n",
       "      <td>[25,0,0,25,50,0,0,0]</td>\n",
       "      <td>[0,0,0,50,80,0,0,50]</td>\n",
       "      <td>[0,0,0,0,80,0,0,0]</td>\n",
       "      <td>[0,0,0,0,80,0,0,0]</td>\n",
       "      <td>[0,10,0,0,0,60,0,80]</td>\n",
       "      <td>[0,0,0,0,0,0,0,1]</td>\n",
       "      <td>[0,0,0,0,0,0,0,10]</td>\n",
       "      <td>3</td>\n",
       "      <td>أحمر</td>\n",
       "    </tr>\n",
       "    <tr>\n",
       "      <th>3</th>\n",
       "      <td>[0,0,0,0,0,1]</td>\n",
       "      <td>[15,0,25,0,0,0]</td>\n",
       "      <td>[0,0,0,0,0,1]</td>\n",
       "      <td>[0,0,0,50,80,50]</td>\n",
       "      <td>[0,0,0,0,0,1]</td>\n",
       "      <td>[0,0,0,0,0,1]</td>\n",
       "      <td>[0,5,0,0,0,0]</td>\n",
       "      <td>[0,0,0,0,0,1]</td>\n",
       "      <td>[0,0,0,0,0,1]</td>\n",
       "      <td>3</td>\n",
       "      <td>أحمر</td>\n",
       "    </tr>\n",
       "    <tr>\n",
       "      <th>4</th>\n",
       "      <td>[25,0,0,70,90,0]</td>\n",
       "      <td>[0,0,0,0,0,1]</td>\n",
       "      <td>[0,25,50,0,0,0]</td>\n",
       "      <td>[0,0,0,0,0,1]</td>\n",
       "      <td>[0,0,0,0,0,1]</td>\n",
       "      <td>[0,0,0,0,0,1]</td>\n",
       "      <td>[0,5,0,0,0,0]</td>\n",
       "      <td>[0,0,0,50,80,70]</td>\n",
       "      <td>[0,0,0,0,0,1]</td>\n",
       "      <td>3</td>\n",
       "      <td>أحمر</td>\n",
       "    </tr>\n",
       "    <tr>\n",
       "      <th>5</th>\n",
       "      <td>[0,0,0,1]</td>\n",
       "      <td>[0,0,0,1]</td>\n",
       "      <td>[25,50,0,0]</td>\n",
       "      <td>[0,0,80,0]</td>\n",
       "      <td>[0,0,0,1]</td>\n",
       "      <td>[0,0,0,1]</td>\n",
       "      <td>[0,0,0,70]</td>\n",
       "      <td>[0,0,0,1]</td>\n",
       "      <td>[0,0,0,1]</td>\n",
       "      <td>3</td>\n",
       "      <td>أحمر</td>\n",
       "    </tr>\n",
       "    <tr>\n",
       "      <th>6</th>\n",
       "      <td>[0,0,1]</td>\n",
       "      <td>[0,0,1]</td>\n",
       "      <td>[0,0,1]</td>\n",
       "      <td>[0,0,1]</td>\n",
       "      <td>[0,0,1]</td>\n",
       "      <td>[0,0,1]</td>\n",
       "      <td>[50,0,0]</td>\n",
       "      <td>[0,0,1]</td>\n",
       "      <td>[0,0,1]</td>\n",
       "      <td>3</td>\n",
       "      <td>أحمر</td>\n",
       "    </tr>\n",
       "    <tr>\n",
       "      <th>7</th>\n",
       "      <td>[0,100,100,100,100,100,100,100]</td>\n",
       "      <td>[0,0,0,100,100,80,70,80]</td>\n",
       "      <td>[0,0,0,0,0,0,70,100]</td>\n",
       "      <td>[0,0,0,0,0,0,0,80]</td>\n",
       "      <td>[0,0,0,0,0,0,0,90]</td>\n",
       "      <td>[0,0,0,0,0,0,0,10]</td>\n",
       "      <td>[0,0,50,20,50,50,50,70]</td>\n",
       "      <td>[0,0,50,20,50,50,50,70]</td>\n",
       "      <td>[0,0,0,0,0,0,80,100]</td>\n",
       "      <td>2</td>\n",
       "      <td>برتقالي</td>\n",
       "    </tr>\n",
       "    <tr>\n",
       "      <th>8</th>\n",
       "      <td>[0,100,100,100,100,100,100,100]</td>\n",
       "      <td>[0,0,0,100,100,80,70,80]</td>\n",
       "      <td>[0,0,0,0,0,0,70,100]</td>\n",
       "      <td>[0,0,0,0,0,0,0,80]</td>\n",
       "      <td>[0,0,0,0,0,0,0,10]</td>\n",
       "      <td>[0,0,0,0,0,0,0,10]</td>\n",
       "      <td>[0,0,50,20,50,50,50,70]</td>\n",
       "      <td>[0,0,50,20,50,50,50,70]</td>\n",
       "      <td>[0,0,0,0,0,0,80,20]</td>\n",
       "      <td>2</td>\n",
       "      <td>برتقالي</td>\n",
       "    </tr>\n",
       "    <tr>\n",
       "      <th>9</th>\n",
       "      <td>[0,100,100,100,100,100]</td>\n",
       "      <td>[0,40,80,100,100,100]</td>\n",
       "      <td>[0,40,100,100,100,100]</td>\n",
       "      <td>[0,0,100,100,100,100]</td>\n",
       "      <td>[0,0,100,100,100,100]</td>\n",
       "      <td>[0,0,100,100,100,100]</td>\n",
       "      <td>[0,0,0,60,100,100]</td>\n",
       "      <td>[0,0,0,0,0,60]</td>\n",
       "      <td>[0,0,0,100,100,100]</td>\n",
       "      <td>1</td>\n",
       "      <td>أخضر</td>\n",
       "    </tr>\n",
       "    <tr>\n",
       "      <th>10</th>\n",
       "      <td>[0,0,100,100,100,100,100,100,100,100,100]</td>\n",
       "      <td>[0,0,40,60,80,100,100,100,100,100,100]</td>\n",
       "      <td>[0,0,0,0,20,50,80,100,100,100,100]</td>\n",
       "      <td>[0,0,0,0,0,100,80,80,70,80,80]</td>\n",
       "      <td>[0,0,0,0,0,0,0,70,70,100,70]</td>\n",
       "      <td>[0,0,0,0,0,0,0,0,0,0,10]</td>\n",
       "      <td>[0,100,100,100,100,100,100,100,100,100,100]</td>\n",
       "      <td>[0,0,0,100,100,100,100,100,100,100,100]</td>\n",
       "      <td>[0,0,0,0,0,70,70,70,70,70,70]</td>\n",
       "      <td>1</td>\n",
       "      <td>أخضر</td>\n",
       "    </tr>\n",
       "    <tr>\n",
       "      <th>11</th>\n",
       "      <td>[0,0,100,100,100,100,100,100,100,100,100]</td>\n",
       "      <td>[0,0,40,60,80,100,100,100,100,100,100]</td>\n",
       "      <td>[0,0,0,0,20,70,80,100,100,100,100]</td>\n",
       "      <td>[0,0,0,0,0,100,80,80,80,80,80]</td>\n",
       "      <td>[0,0,0,0,0,0,0,70,70,100,70]</td>\n",
       "      <td>[0,0,0,0,0,0,0,0,0,0,10]</td>\n",
       "      <td>[0,100,100,100,100,100,100,100,100,100,100]</td>\n",
       "      <td>[0,0,0,100,100,100,100,100,100,100,100]</td>\n",
       "      <td>[0,0,0,0,0,70,70,70,70,70,70]</td>\n",
       "      <td>1</td>\n",
       "      <td>أخضر</td>\n",
       "    </tr>\n",
       "    <tr>\n",
       "      <th>12</th>\n",
       "      <td>[0,0,100,100,100,100,100,100,100,100,100]</td>\n",
       "      <td>[0,0,40,60,80,100,100,100,100,100,100]</td>\n",
       "      <td>[0,0,0,0,20,70,80,100,100,100,100]</td>\n",
       "      <td>[0,0,0,0,0,100,80,80,80,80,80]</td>\n",
       "      <td>[0,0,0,0,0,0,0,70,70,100,70]</td>\n",
       "      <td>[0,0,0,0,0,0,0,0,0,0,10]</td>\n",
       "      <td>[0,100,100,100,100,100,100,100,100,100,100]</td>\n",
       "      <td>[0,0,0,100,100,100,100,100,100,100,100]</td>\n",
       "      <td>[0,0,0,0,0,90,100,100,100,100,100]</td>\n",
       "      <td>1</td>\n",
       "      <td>أخضر</td>\n",
       "    </tr>\n",
       "    <tr>\n",
       "      <th>13</th>\n",
       "      <td>[0,0,5]</td>\n",
       "      <td>[0,0,10]</td>\n",
       "      <td>[0,60,60]</td>\n",
       "      <td>[0,0,5]</td>\n",
       "      <td>[0,0,5]</td>\n",
       "      <td>[0,0,5]</td>\n",
       "      <td>[0,60,60]</td>\n",
       "      <td>[0,0,5]</td>\n",
       "      <td>[0,0,5]</td>\n",
       "      <td>3</td>\n",
       "      <td>أحمر</td>\n",
       "    </tr>\n",
       "    <tr>\n",
       "      <th>14</th>\n",
       "      <td>[0,0,5]</td>\n",
       "      <td>[0,0,10]</td>\n",
       "      <td>[0,0,5]</td>\n",
       "      <td>[0,50,50]</td>\n",
       "      <td>[0,0,5]</td>\n",
       "      <td>[0,0,5]</td>\n",
       "      <td>[0,0,5]</td>\n",
       "      <td>[0,0,5]</td>\n",
       "      <td>[0,0,5]</td>\n",
       "      <td>3</td>\n",
       "      <td>أحمر</td>\n",
       "    </tr>\n",
       "    <tr>\n",
       "      <th>15</th>\n",
       "      <td>[0,0,20]</td>\n",
       "      <td>[0,0,10]</td>\n",
       "      <td>[0,60,60]</td>\n",
       "      <td>[0,50,50]</td>\n",
       "      <td>[0,0,5]</td>\n",
       "      <td>[0,0,5]</td>\n",
       "      <td>[0,0,5]</td>\n",
       "      <td>[0,0,5]</td>\n",
       "      <td>[0,0,5]</td>\n",
       "      <td>3</td>\n",
       "      <td>أحمر</td>\n",
       "    </tr>\n",
       "    <tr>\n",
       "      <th>16</th>\n",
       "      <td>[0,0,5]</td>\n",
       "      <td>[0,0,10]</td>\n",
       "      <td>[0,0,5]</td>\n",
       "      <td>[0,0,20]</td>\n",
       "      <td>[0,0,5]</td>\n",
       "      <td>[0,0,5]</td>\n",
       "      <td>[0,0,5]</td>\n",
       "      <td>[0,0,5]</td>\n",
       "      <td>[0,0,5]</td>\n",
       "      <td>3</td>\n",
       "      <td>أحمر</td>\n",
       "    </tr>\n",
       "    <tr>\n",
       "      <th>17</th>\n",
       "      <td>[0,0,60]</td>\n",
       "      <td>[0,0,10]</td>\n",
       "      <td>[0,20,20]</td>\n",
       "      <td>[0,0,20]</td>\n",
       "      <td>[0,0,5]</td>\n",
       "      <td>[0,0,5]</td>\n",
       "      <td>[0,0,5]</td>\n",
       "      <td>[0,0,5]</td>\n",
       "      <td>[0,0,5]</td>\n",
       "      <td>3</td>\n",
       "      <td>أحمر</td>\n",
       "    </tr>\n",
       "    <tr>\n",
       "      <th>18</th>\n",
       "      <td>[0,50]</td>\n",
       "      <td>[0,70]</td>\n",
       "      <td>[0,60]</td>\n",
       "      <td>[0,5]</td>\n",
       "      <td>[0,5]</td>\n",
       "      <td>[0,5]</td>\n",
       "      <td>[0,60]</td>\n",
       "      <td>[0,20]</td>\n",
       "      <td>[0,5]</td>\n",
       "      <td>3</td>\n",
       "      <td>أحمر</td>\n",
       "    </tr>\n",
       "    <tr>\n",
       "      <th>19</th>\n",
       "      <td>[0,50]</td>\n",
       "      <td>[0,80]</td>\n",
       "      <td>[0,80]</td>\n",
       "      <td>[0,5]</td>\n",
       "      <td>[0,5]</td>\n",
       "      <td>[0,5]</td>\n",
       "      <td>[0,80]</td>\n",
       "      <td>[0,20]</td>\n",
       "      <td>[0,5]</td>\n",
       "      <td>3</td>\n",
       "      <td>أحمر</td>\n",
       "    </tr>\n",
       "  </tbody>\n",
       "</table>\n",
       "</div>"
      ],
      "text/plain": [
       "                                       مرجعية  \\\n",
       "0                 [5,40,90,90,90,90,90,90,90]   \n",
       "1                 [5,40,90,90,90,90,90,90,90]   \n",
       "2                          [0,50,0,0,0,0,0,0]   \n",
       "3                               [0,0,0,0,0,1]   \n",
       "4                            [25,0,0,70,90,0]   \n",
       "5                                   [0,0,0,1]   \n",
       "6                                     [0,0,1]   \n",
       "7             [0,100,100,100,100,100,100,100]   \n",
       "8             [0,100,100,100,100,100,100,100]   \n",
       "9                     [0,100,100,100,100,100]   \n",
       "10  [0,0,100,100,100,100,100,100,100,100,100]   \n",
       "11  [0,0,100,100,100,100,100,100,100,100,100]   \n",
       "12  [0,0,100,100,100,100,100,100,100,100,100]   \n",
       "13                                    [0,0,5]   \n",
       "14                                    [0,0,5]   \n",
       "15                                   [0,0,20]   \n",
       "16                                    [0,0,5]   \n",
       "17                                   [0,0,60]   \n",
       "18                                     [0,50]   \n",
       "19                                     [0,50]   \n",
       "\n",
       "                                     تحليل  \\\n",
       "0              [0,20,60,30,90,90,90,90,90]   \n",
       "1              [0,20,60,30,90,90,90,90,90]   \n",
       "2                    [25,0,50,0,50,0,0,80]   \n",
       "3                          [15,0,25,0,0,0]   \n",
       "4                            [0,0,0,0,0,1]   \n",
       "5                                [0,0,0,1]   \n",
       "6                                  [0,0,1]   \n",
       "7                 [0,0,0,100,100,80,70,80]   \n",
       "8                 [0,0,0,100,100,80,70,80]   \n",
       "9                    [0,40,80,100,100,100]   \n",
       "10  [0,0,40,60,80,100,100,100,100,100,100]   \n",
       "11  [0,0,40,60,80,100,100,100,100,100,100]   \n",
       "12  [0,0,40,60,80,100,100,100,100,100,100]   \n",
       "13                                [0,0,10]   \n",
       "14                                [0,0,10]   \n",
       "15                                [0,0,10]   \n",
       "16                                [0,0,10]   \n",
       "17                                [0,0,10]   \n",
       "18                                  [0,70]   \n",
       "19                                  [0,80]   \n",
       "\n",
       "                                 تصميم                           برمجة  \\\n",
       "0           [0,0,10,20,60,90,90,90,90]         [0,0,0,0,0,30,30,30,30]   \n",
       "1           [0,0,10,20,60,90,90,90,90]         [0,0,0,0,0,30,30,30,30]   \n",
       "2                 [25,0,0,25,50,0,0,0]            [0,0,0,50,80,0,0,50]   \n",
       "3                        [0,0,0,0,0,1]                [0,0,0,50,80,50]   \n",
       "4                      [0,25,50,0,0,0]                   [0,0,0,0,0,1]   \n",
       "5                          [25,50,0,0]                      [0,0,80,0]   \n",
       "6                              [0,0,1]                         [0,0,1]   \n",
       "7                 [0,0,0,0,0,0,70,100]              [0,0,0,0,0,0,0,80]   \n",
       "8                 [0,0,0,0,0,0,70,100]              [0,0,0,0,0,0,0,80]   \n",
       "9               [0,40,100,100,100,100]           [0,0,100,100,100,100]   \n",
       "10  [0,0,0,0,20,50,80,100,100,100,100]  [0,0,0,0,0,100,80,80,70,80,80]   \n",
       "11  [0,0,0,0,20,70,80,100,100,100,100]  [0,0,0,0,0,100,80,80,80,80,80]   \n",
       "12  [0,0,0,0,20,70,80,100,100,100,100]  [0,0,0,0,0,100,80,80,80,80,80]   \n",
       "13                           [0,60,60]                         [0,0,5]   \n",
       "14                             [0,0,5]                       [0,50,50]   \n",
       "15                           [0,60,60]                       [0,50,50]   \n",
       "16                             [0,0,5]                        [0,0,20]   \n",
       "17                           [0,20,20]                        [0,0,20]   \n",
       "18                              [0,60]                           [0,5]   \n",
       "19                              [0,80]                           [0,5]   \n",
       "\n",
       "                          اختبار                     نتائج  \\\n",
       "0        [0,0,0,0,0,30,30,30,30]   [0,0,0,0,0,30,30,30,30]   \n",
       "1        [0,0,0,0,0,30,30,30,30]   [0,0,0,0,0,30,30,30,30]   \n",
       "2             [0,0,0,0,80,0,0,0]        [0,0,0,0,80,0,0,0]   \n",
       "3                  [0,0,0,0,0,1]             [0,0,0,0,0,1]   \n",
       "4                  [0,0,0,0,0,1]             [0,0,0,0,0,1]   \n",
       "5                      [0,0,0,1]                 [0,0,0,1]   \n",
       "6                        [0,0,1]                   [0,0,1]   \n",
       "7             [0,0,0,0,0,0,0,90]        [0,0,0,0,0,0,0,10]   \n",
       "8             [0,0,0,0,0,0,0,10]        [0,0,0,0,0,0,0,10]   \n",
       "9          [0,0,100,100,100,100]     [0,0,100,100,100,100]   \n",
       "10  [0,0,0,0,0,0,0,70,70,100,70]  [0,0,0,0,0,0,0,0,0,0,10]   \n",
       "11  [0,0,0,0,0,0,0,70,70,100,70]  [0,0,0,0,0,0,0,0,0,0,10]   \n",
       "12  [0,0,0,0,0,0,0,70,70,100,70]  [0,0,0,0,0,0,0,0,0,0,10]   \n",
       "13                       [0,0,5]                   [0,0,5]   \n",
       "14                       [0,0,5]                   [0,0,5]   \n",
       "15                       [0,0,5]                   [0,0,5]   \n",
       "16                       [0,0,5]                   [0,0,5]   \n",
       "17                       [0,0,5]                   [0,0,5]   \n",
       "18                         [0,5]                     [0,5]   \n",
       "19                         [0,5]                     [0,5]   \n",
       "\n",
       "                                          تقرير  \\\n",
       "0                  [50,50,50,50,30,20,30,50,30]   \n",
       "1                  [50,50,50,50,20,30,20,50,20]   \n",
       "2                          [0,10,0,0,0,60,0,80]   \n",
       "3                                 [0,5,0,0,0,0]   \n",
       "4                                 [0,5,0,0,0,0]   \n",
       "5                                    [0,0,0,70]   \n",
       "6                                      [50,0,0]   \n",
       "7                       [0,0,50,20,50,50,50,70]   \n",
       "8                       [0,0,50,20,50,50,50,70]   \n",
       "9                            [0,0,0,60,100,100]   \n",
       "10  [0,100,100,100,100,100,100,100,100,100,100]   \n",
       "11  [0,100,100,100,100,100,100,100,100,100,100]   \n",
       "12  [0,100,100,100,100,100,100,100,100,100,100]   \n",
       "13                                    [0,60,60]   \n",
       "14                                      [0,0,5]   \n",
       "15                                      [0,0,5]   \n",
       "16                                      [0,0,5]   \n",
       "17                                      [0,0,5]   \n",
       "18                                       [0,60]   \n",
       "19                                       [0,80]   \n",
       "\n",
       "                                        عرض  \\\n",
       "0                     [0,0,0,0,0,0,0,60,60]   \n",
       "1                       [0,0,0,0,0,0,0,0,5]   \n",
       "2                         [0,0,0,0,0,0,0,1]   \n",
       "3                             [0,0,0,0,0,1]   \n",
       "4                          [0,0,0,50,80,70]   \n",
       "5                                 [0,0,0,1]   \n",
       "6                                   [0,0,1]   \n",
       "7                   [0,0,50,20,50,50,50,70]   \n",
       "8                   [0,0,50,20,50,50,50,70]   \n",
       "9                            [0,0,0,0,0,60]   \n",
       "10  [0,0,0,100,100,100,100,100,100,100,100]   \n",
       "11  [0,0,0,100,100,100,100,100,100,100,100]   \n",
       "12  [0,0,0,100,100,100,100,100,100,100,100]   \n",
       "13                                  [0,0,5]   \n",
       "14                                  [0,0,5]   \n",
       "15                                  [0,0,5]   \n",
       "16                                  [0,0,5]   \n",
       "17                                  [0,0,5]   \n",
       "18                                   [0,20]   \n",
       "19                                   [0,20]   \n",
       "\n",
       "                                غيتهاب  النتيجة الفعلية    تصنيف  \n",
       "0              [0,0,0,0,0,30,30,30,30]                1     أخضر  \n",
       "1              [0,0,0,0,0,30,30,30,30]                1     أخضر  \n",
       "2                   [0,0,0,0,0,0,0,10]                3     أحمر  \n",
       "3                        [0,0,0,0,0,1]                3     أحمر  \n",
       "4                        [0,0,0,0,0,1]                3     أحمر  \n",
       "5                            [0,0,0,1]                3     أحمر  \n",
       "6                              [0,0,1]                3     أحمر  \n",
       "7                 [0,0,0,0,0,0,80,100]                2  برتقالي  \n",
       "8                  [0,0,0,0,0,0,80,20]                2  برتقالي  \n",
       "9                  [0,0,0,100,100,100]                1     أخضر  \n",
       "10       [0,0,0,0,0,70,70,70,70,70,70]                1     أخضر  \n",
       "11       [0,0,0,0,0,70,70,70,70,70,70]                1     أخضر  \n",
       "12  [0,0,0,0,0,90,100,100,100,100,100]                1     أخضر  \n",
       "13                             [0,0,5]                3     أحمر  \n",
       "14                             [0,0,5]                3     أحمر  \n",
       "15                             [0,0,5]                3     أحمر  \n",
       "16                             [0,0,5]                3     أحمر  \n",
       "17                             [0,0,5]                3     أحمر  \n",
       "18                               [0,5]                3     أحمر  \n",
       "19                               [0,5]                3     أحمر  "
      ]
     },
     "execution_count": 94,
     "metadata": {},
     "output_type": "execute_result"
    }
   ],
   "source": [
    "pred_scale['تصنيف']=1\n",
    "for i in range(pred_scale['تصنيف'].count()):\n",
    "    if pred_scale.iloc[i,9]==3:\n",
    "        pred_scale.iloc[i,10]=\"أحمر\"\n",
    "    elif pred_scale.iloc[i,9]==2:\n",
    "        pred_scale.iloc[i,10]=\"برتقالي\"\n",
    "    elif pred_scale.iloc[i,9]==1:\n",
    "        pred_scale.iloc[i,10]=\"أخضر\"\n",
    "\n",
    "pred_scale"
   ]
  },
  {
   "cell_type": "code",
   "execution_count": 95,
   "id": "9919ff27",
   "metadata": {},
   "outputs": [],
   "source": [
    "x_pred_scale=pred_scale.drop(['تصنيف','النتيجة الفعلية'],axis=1)\n",
    "y_pred_scale=pred_scale['تصنيف']\n",
    "\n",
    "for i in x_pred_scale.columns:\n",
    "    x_pred_scale[i] = x_pred_scale[i].apply(eval)"
   ]
  },
  {
   "cell_type": "code",
   "execution_count": 96,
   "id": "4c213796",
   "metadata": {},
   "outputs": [
    {
     "data": {
      "text/html": [
       "<div>\n",
       "<style scoped>\n",
       "    .dataframe tbody tr th:only-of-type {\n",
       "        vertical-align: middle;\n",
       "    }\n",
       "\n",
       "    .dataframe tbody tr th {\n",
       "        vertical-align: top;\n",
       "    }\n",
       "\n",
       "    .dataframe thead th {\n",
       "        text-align: right;\n",
       "    }\n",
       "</style>\n",
       "<table border=\"1\" class=\"dataframe\">\n",
       "  <thead>\n",
       "    <tr style=\"text-align: right;\">\n",
       "      <th></th>\n",
       "      <th>مرجعية</th>\n",
       "      <th>تحليل</th>\n",
       "      <th>تصميم</th>\n",
       "      <th>برمجة</th>\n",
       "      <th>اختبار</th>\n",
       "      <th>نتائج</th>\n",
       "      <th>تقرير</th>\n",
       "      <th>عرض</th>\n",
       "      <th>غيتهاب</th>\n",
       "    </tr>\n",
       "  </thead>\n",
       "  <tbody>\n",
       "    <tr>\n",
       "      <th>0</th>\n",
       "      <td>86.0</td>\n",
       "      <td>80.0</td>\n",
       "      <td>75.0</td>\n",
       "      <td>30.0</td>\n",
       "      <td>30.0</td>\n",
       "      <td>30.0</td>\n",
       "      <td>37.0</td>\n",
       "      <td>60.0</td>\n",
       "      <td>30.0</td>\n",
       "    </tr>\n",
       "    <tr>\n",
       "      <th>1</th>\n",
       "      <td>86.0</td>\n",
       "      <td>80.0</td>\n",
       "      <td>75.0</td>\n",
       "      <td>30.0</td>\n",
       "      <td>30.0</td>\n",
       "      <td>30.0</td>\n",
       "      <td>34.0</td>\n",
       "      <td>5.0</td>\n",
       "      <td>30.0</td>\n",
       "    </tr>\n",
       "    <tr>\n",
       "      <th>2</th>\n",
       "      <td>50.0</td>\n",
       "      <td>63.0</td>\n",
       "      <td>38.0</td>\n",
       "      <td>59.0</td>\n",
       "      <td>80.0</td>\n",
       "      <td>80.0</td>\n",
       "      <td>64.0</td>\n",
       "      <td>1.0</td>\n",
       "      <td>10.0</td>\n",
       "    </tr>\n",
       "    <tr>\n",
       "      <th>3</th>\n",
       "      <td>1.0</td>\n",
       "      <td>23.0</td>\n",
       "      <td>1.0</td>\n",
       "      <td>60.0</td>\n",
       "      <td>1.0</td>\n",
       "      <td>1.0</td>\n",
       "      <td>5.0</td>\n",
       "      <td>1.0</td>\n",
       "      <td>1.0</td>\n",
       "    </tr>\n",
       "    <tr>\n",
       "      <th>4</th>\n",
       "      <td>76.0</td>\n",
       "      <td>1.0</td>\n",
       "      <td>40.0</td>\n",
       "      <td>1.0</td>\n",
       "      <td>1.0</td>\n",
       "      <td>1.0</td>\n",
       "      <td>5.0</td>\n",
       "      <td>68.0</td>\n",
       "      <td>1.0</td>\n",
       "    </tr>\n",
       "    <tr>\n",
       "      <th>5</th>\n",
       "      <td>1.0</td>\n",
       "      <td>1.0</td>\n",
       "      <td>42.0</td>\n",
       "      <td>80.0</td>\n",
       "      <td>1.0</td>\n",
       "      <td>1.0</td>\n",
       "      <td>70.0</td>\n",
       "      <td>1.0</td>\n",
       "      <td>1.0</td>\n",
       "    </tr>\n",
       "    <tr>\n",
       "      <th>6</th>\n",
       "      <td>1.0</td>\n",
       "      <td>1.0</td>\n",
       "      <td>1.0</td>\n",
       "      <td>1.0</td>\n",
       "      <td>1.0</td>\n",
       "      <td>1.0</td>\n",
       "      <td>50.0</td>\n",
       "      <td>1.0</td>\n",
       "      <td>1.0</td>\n",
       "    </tr>\n",
       "    <tr>\n",
       "      <th>7</th>\n",
       "      <td>100.0</td>\n",
       "      <td>84.0</td>\n",
       "      <td>86.0</td>\n",
       "      <td>80.0</td>\n",
       "      <td>90.0</td>\n",
       "      <td>10.0</td>\n",
       "      <td>52.0</td>\n",
       "      <td>52.0</td>\n",
       "      <td>91.0</td>\n",
       "    </tr>\n",
       "    <tr>\n",
       "      <th>8</th>\n",
       "      <td>100.0</td>\n",
       "      <td>84.0</td>\n",
       "      <td>86.0</td>\n",
       "      <td>80.0</td>\n",
       "      <td>10.0</td>\n",
       "      <td>10.0</td>\n",
       "      <td>52.0</td>\n",
       "      <td>52.0</td>\n",
       "      <td>48.0</td>\n",
       "    </tr>\n",
       "    <tr>\n",
       "      <th>9</th>\n",
       "      <td>100.0</td>\n",
       "      <td>91.0</td>\n",
       "      <td>94.0</td>\n",
       "      <td>100.0</td>\n",
       "      <td>100.0</td>\n",
       "      <td>100.0</td>\n",
       "      <td>90.0</td>\n",
       "      <td>60.0</td>\n",
       "      <td>100.0</td>\n",
       "    </tr>\n",
       "    <tr>\n",
       "      <th>10</th>\n",
       "      <td>100.0</td>\n",
       "      <td>94.0</td>\n",
       "      <td>86.0</td>\n",
       "      <td>81.0</td>\n",
       "      <td>78.0</td>\n",
       "      <td>10.0</td>\n",
       "      <td>100.0</td>\n",
       "      <td>100.0</td>\n",
       "      <td>70.0</td>\n",
       "    </tr>\n",
       "    <tr>\n",
       "      <th>11</th>\n",
       "      <td>100.0</td>\n",
       "      <td>94.0</td>\n",
       "      <td>88.0</td>\n",
       "      <td>83.0</td>\n",
       "      <td>78.0</td>\n",
       "      <td>10.0</td>\n",
       "      <td>100.0</td>\n",
       "      <td>100.0</td>\n",
       "      <td>70.0</td>\n",
       "    </tr>\n",
       "    <tr>\n",
       "      <th>12</th>\n",
       "      <td>100.0</td>\n",
       "      <td>94.0</td>\n",
       "      <td>88.0</td>\n",
       "      <td>83.0</td>\n",
       "      <td>78.0</td>\n",
       "      <td>10.0</td>\n",
       "      <td>100.0</td>\n",
       "      <td>100.0</td>\n",
       "      <td>99.0</td>\n",
       "    </tr>\n",
       "    <tr>\n",
       "      <th>13</th>\n",
       "      <td>5.0</td>\n",
       "      <td>10.0</td>\n",
       "      <td>60.0</td>\n",
       "      <td>5.0</td>\n",
       "      <td>5.0</td>\n",
       "      <td>5.0</td>\n",
       "      <td>60.0</td>\n",
       "      <td>5.0</td>\n",
       "      <td>5.0</td>\n",
       "    </tr>\n",
       "    <tr>\n",
       "      <th>14</th>\n",
       "      <td>5.0</td>\n",
       "      <td>10.0</td>\n",
       "      <td>5.0</td>\n",
       "      <td>50.0</td>\n",
       "      <td>5.0</td>\n",
       "      <td>5.0</td>\n",
       "      <td>5.0</td>\n",
       "      <td>5.0</td>\n",
       "      <td>5.0</td>\n",
       "    </tr>\n",
       "    <tr>\n",
       "      <th>15</th>\n",
       "      <td>20.0</td>\n",
       "      <td>10.0</td>\n",
       "      <td>60.0</td>\n",
       "      <td>50.0</td>\n",
       "      <td>5.0</td>\n",
       "      <td>5.0</td>\n",
       "      <td>5.0</td>\n",
       "      <td>5.0</td>\n",
       "      <td>5.0</td>\n",
       "    </tr>\n",
       "    <tr>\n",
       "      <th>16</th>\n",
       "      <td>5.0</td>\n",
       "      <td>10.0</td>\n",
       "      <td>5.0</td>\n",
       "      <td>20.0</td>\n",
       "      <td>5.0</td>\n",
       "      <td>5.0</td>\n",
       "      <td>5.0</td>\n",
       "      <td>5.0</td>\n",
       "      <td>5.0</td>\n",
       "    </tr>\n",
       "    <tr>\n",
       "      <th>17</th>\n",
       "      <td>60.0</td>\n",
       "      <td>10.0</td>\n",
       "      <td>20.0</td>\n",
       "      <td>20.0</td>\n",
       "      <td>5.0</td>\n",
       "      <td>5.0</td>\n",
       "      <td>5.0</td>\n",
       "      <td>5.0</td>\n",
       "      <td>5.0</td>\n",
       "    </tr>\n",
       "    <tr>\n",
       "      <th>18</th>\n",
       "      <td>50.0</td>\n",
       "      <td>70.0</td>\n",
       "      <td>60.0</td>\n",
       "      <td>5.0</td>\n",
       "      <td>5.0</td>\n",
       "      <td>5.0</td>\n",
       "      <td>60.0</td>\n",
       "      <td>20.0</td>\n",
       "      <td>5.0</td>\n",
       "    </tr>\n",
       "    <tr>\n",
       "      <th>19</th>\n",
       "      <td>50.0</td>\n",
       "      <td>80.0</td>\n",
       "      <td>80.0</td>\n",
       "      <td>5.0</td>\n",
       "      <td>5.0</td>\n",
       "      <td>5.0</td>\n",
       "      <td>80.0</td>\n",
       "      <td>20.0</td>\n",
       "      <td>5.0</td>\n",
       "    </tr>\n",
       "  </tbody>\n",
       "</table>\n",
       "</div>"
      ],
      "text/plain": [
       "   مرجعية تحليل تصميم  برمجة اختبار  نتائج  تقرير    عرض غيتهاب\n",
       "0    86.0  80.0  75.0   30.0   30.0   30.0   37.0   60.0   30.0\n",
       "1    86.0  80.0  75.0   30.0   30.0   30.0   34.0    5.0   30.0\n",
       "2    50.0  63.0  38.0   59.0   80.0   80.0   64.0    1.0   10.0\n",
       "3     1.0  23.0   1.0   60.0    1.0    1.0    5.0    1.0    1.0\n",
       "4    76.0   1.0  40.0    1.0    1.0    1.0    5.0   68.0    1.0\n",
       "5     1.0   1.0  42.0   80.0    1.0    1.0   70.0    1.0    1.0\n",
       "6     1.0   1.0   1.0    1.0    1.0    1.0   50.0    1.0    1.0\n",
       "7   100.0  84.0  86.0   80.0   90.0   10.0   52.0   52.0   91.0\n",
       "8   100.0  84.0  86.0   80.0   10.0   10.0   52.0   52.0   48.0\n",
       "9   100.0  91.0  94.0  100.0  100.0  100.0   90.0   60.0  100.0\n",
       "10  100.0  94.0  86.0   81.0   78.0   10.0  100.0  100.0   70.0\n",
       "11  100.0  94.0  88.0   83.0   78.0   10.0  100.0  100.0   70.0\n",
       "12  100.0  94.0  88.0   83.0   78.0   10.0  100.0  100.0   99.0\n",
       "13    5.0  10.0  60.0    5.0    5.0    5.0   60.0    5.0    5.0\n",
       "14    5.0  10.0   5.0   50.0    5.0    5.0    5.0    5.0    5.0\n",
       "15   20.0  10.0  60.0   50.0    5.0    5.0    5.0    5.0    5.0\n",
       "16    5.0  10.0   5.0   20.0    5.0    5.0    5.0    5.0    5.0\n",
       "17   60.0  10.0  20.0   20.0    5.0    5.0    5.0    5.0    5.0\n",
       "18   50.0  70.0  60.0    5.0    5.0    5.0   60.0   20.0    5.0\n",
       "19   50.0  80.0  80.0    5.0    5.0    5.0   80.0   20.0    5.0"
      ]
     },
     "execution_count": 96,
     "metadata": {},
     "output_type": "execute_result"
    }
   ],
   "source": [
    "for row_index in range(len(x_pred_scale)):\n",
    "    for col_index in range(len(x_pred_scale.columns)):\n",
    "        value = x_pred_scale.iloc[row_index, col_index]\n",
    "        weights = [0.01 * i for i in range(1,len(value)+1)]\n",
    "        result = [x * y for x, y in zip(value, weights)]\n",
    "        sum_weight = 0\n",
    "        for i in range(len(weights)):\n",
    "            if value[i] != 0:\n",
    "                sum_weight += weights[i]\n",
    "        if sum_weight != 0:\n",
    "            x_pred_scale.iloc[row_index, col_index] = np.ceil(sum(result)/sum_weight)\n",
    "        else:\n",
    "            x_pred_scale.iloc[row_index, col_index] = 0\n",
    "x_pred_scale"
   ]
  },
  {
   "cell_type": "code",
   "execution_count": 97,
   "id": "740a6d0e",
   "metadata": {},
   "outputs": [
    {
     "name": "stderr",
     "output_type": "stream",
     "text": [
      "c:\\Users\\Dell\\AppData\\Local\\Programs\\Python\\Python37\\lib\\site-packages\\sklearn\\base.py:493: FutureWarning:\n",
      "\n",
      "The feature names should match those that were passed during fit. Starting version 1.2, an error will be raised.\n",
      "Feature names must be in the same order as they were in fit.\n",
      "\n",
      "\n",
      "c:\\Users\\Dell\\AppData\\Local\\Programs\\Python\\Python37\\lib\\site-packages\\sklearn\\base.py:493: FutureWarning:\n",
      "\n",
      "The feature names should match those that were passed during fit. Starting version 1.2, an error will be raised.\n",
      "Feature names must be in the same order as they were in fit.\n",
      "\n",
      "\n",
      "c:\\Users\\Dell\\AppData\\Local\\Programs\\Python\\Python37\\lib\\site-packages\\sklearn\\base.py:493: FutureWarning:\n",
      "\n",
      "The feature names should match those that were passed during fit. Starting version 1.2, an error will be raised.\n",
      "Feature names must be in the same order as they were in fit.\n",
      "\n",
      "\n",
      "c:\\Users\\Dell\\AppData\\Local\\Programs\\Python\\Python37\\lib\\site-packages\\sklearn\\base.py:493: FutureWarning:\n",
      "\n",
      "The feature names should match those that were passed during fit. Starting version 1.2, an error will be raised.\n",
      "Feature names must be in the same order as they were in fit.\n",
      "\n",
      "\n",
      "c:\\Users\\Dell\\AppData\\Local\\Programs\\Python\\Python37\\lib\\site-packages\\sklearn\\base.py:493: FutureWarning:\n",
      "\n",
      "The feature names should match those that were passed during fit. Starting version 1.2, an error will be raised.\n",
      "Feature names must be in the same order as they were in fit.\n",
      "\n",
      "\n",
      "c:\\Users\\Dell\\AppData\\Local\\Programs\\Python\\Python37\\lib\\site-packages\\sklearn\\base.py:493: FutureWarning:\n",
      "\n",
      "The feature names should match those that were passed during fit. Starting version 1.2, an error will be raised.\n",
      "Feature names must be in the same order as they were in fit.\n",
      "\n",
      "\n"
     ]
    },
    {
     "data": {
      "text/html": [
       "<div>\n",
       "<style scoped>\n",
       "    .dataframe tbody tr th:only-of-type {\n",
       "        vertical-align: middle;\n",
       "    }\n",
       "\n",
       "    .dataframe tbody tr th {\n",
       "        vertical-align: top;\n",
       "    }\n",
       "\n",
       "    .dataframe thead th {\n",
       "        text-align: right;\n",
       "    }\n",
       "</style>\n",
       "<table border=\"1\" class=\"dataframe\">\n",
       "  <thead>\n",
       "    <tr style=\"text-align: right;\">\n",
       "      <th></th>\n",
       "      <th>Model</th>\n",
       "      <th>Recall</th>\n",
       "      <th>Precision</th>\n",
       "      <th>F1 Score</th>\n",
       "      <th>Accuracy</th>\n",
       "    </tr>\n",
       "  </thead>\n",
       "  <tbody>\n",
       "    <tr>\n",
       "      <th>2</th>\n",
       "      <td>svm</td>\n",
       "      <td>0.888889</td>\n",
       "      <td>0.863248</td>\n",
       "      <td>0.853333</td>\n",
       "      <td>0.90</td>\n",
       "    </tr>\n",
       "    <tr>\n",
       "      <th>0</th>\n",
       "      <td>knn</td>\n",
       "      <td>0.861111</td>\n",
       "      <td>0.800000</td>\n",
       "      <td>0.775983</td>\n",
       "      <td>0.85</td>\n",
       "    </tr>\n",
       "    <tr>\n",
       "      <th>1</th>\n",
       "      <td>lr</td>\n",
       "      <td>0.777778</td>\n",
       "      <td>0.777778</td>\n",
       "      <td>0.666667</td>\n",
       "      <td>0.80</td>\n",
       "    </tr>\n",
       "    <tr>\n",
       "      <th>3</th>\n",
       "      <td>RF</td>\n",
       "      <td>0.694444</td>\n",
       "      <td>0.683333</td>\n",
       "      <td>0.681313</td>\n",
       "      <td>0.80</td>\n",
       "    </tr>\n",
       "    <tr>\n",
       "      <th>5</th>\n",
       "      <td>NN</td>\n",
       "      <td>0.666667</td>\n",
       "      <td>0.740741</td>\n",
       "      <td>0.519481</td>\n",
       "      <td>0.65</td>\n",
       "    </tr>\n",
       "    <tr>\n",
       "      <th>4</th>\n",
       "      <td>NB</td>\n",
       "      <td>0.638889</td>\n",
       "      <td>0.733333</td>\n",
       "      <td>0.492063</td>\n",
       "      <td>0.60</td>\n",
       "    </tr>\n",
       "  </tbody>\n",
       "</table>\n",
       "</div>"
      ],
      "text/plain": [
       "  Model    Recall  Precision  F1 Score  Accuracy\n",
       "2   svm  0.888889   0.863248  0.853333      0.90\n",
       "0   knn  0.861111   0.800000  0.775983      0.85\n",
       "1    lr  0.777778   0.777778  0.666667      0.80\n",
       "3    RF  0.694444   0.683333  0.681313      0.80\n",
       "5    NN  0.666667   0.740741  0.519481      0.65\n",
       "4    NB  0.638889   0.733333  0.492063      0.60"
      ]
     },
     "execution_count": 97,
     "metadata": {},
     "output_type": "execute_result"
    }
   ],
   "source": [
    "# **********************************************************************************************************\n",
    "def table_score_2(ypred,y_pred_test=y_pred_scale):\n",
    "    y_pred_test=y_pred_scale\n",
    "    Recall = recall_score(y_pred_test, ypred, average='macro' , zero_division=1)\n",
    "    Precision = precision_score(y_pred_test, ypred, average='macro' , zero_division=1)\n",
    "    f1 = f1_score(y_pred_test, ypred, average='macro' , zero_division=1)\n",
    "    accuracy = accuracy_score(y_pred_test, ypred)\n",
    "    ndf = [(Recall, Precision, f1, accuracy)]\n",
    "\n",
    "    score = pd.DataFrame(data=ndf, columns=['Recall', 'Precision', 'F1 Score', 'Accuracy'])\n",
    "    return score\n",
    "# **********************************************************************************************************\n",
    "\n",
    "ypred_1_scale = knn2.predict(x_pred_scale) \n",
    "knn_score = table_score_2(ypred_1_scale)\n",
    "knn_score.insert(0, 'Model', 'knn')\n",
    "\n",
    "ypred_2_scale = lr2.predict(x_pred_scale) \n",
    "lr_score = table_score_2(ypred_2_scale)\n",
    "lr_score.insert(0, 'Model', 'lr')\n",
    "\n",
    "ypred_3_scale = svm2.predict(x_pred_scale) \n",
    "svm_score = table_score_2(ypred_3_scale)\n",
    "svm_score.insert(0, 'Model', 'svm')\n",
    "\n",
    "ypred_4_scale = RF2.predict(x_pred_scale) \n",
    "RF_score = table_score_2(ypred_4_scale)\n",
    "RF_score.insert(0, 'Model', 'RF')\n",
    "\n",
    "ypred_5_scale = NB2.predict(x_pred_scale) \n",
    "NB_score = table_score_2(ypred_5_scale)\n",
    "NB_score.insert(0, 'Model', 'NB')\n",
    "\n",
    "ypred_6_scale = MLP2.predict(x_pred_scale) \n",
    "NN_score = table_score_2(ypred_6_scale)\n",
    "NN_score.insert(0, 'Model', 'NN')\n",
    "\n",
    "# comparising table\n",
    "predictions_for_test = pd.concat([knn_score, lr_score, svm_score, RF_score, NB_score, NN_score], ignore_index=True, sort=False)\n",
    "predictions_for_test.sort_values(by=['Accuracy'], ascending=False)"
   ]
  },
  {
   "cell_type": "markdown",
   "id": "fe0e2628",
   "metadata": {},
   "source": [
    "## Save Model"
   ]
  },
  {
   "cell_type": "code",
   "execution_count": 100,
   "id": "11d91a8a",
   "metadata": {},
   "outputs": [],
   "source": [
    "import joblib\n",
    "\n",
    "filename = 'new_model.joblib'"
   ]
  },
  {
   "cell_type": "code",
   "execution_count": 101,
   "id": "86061ae5",
   "metadata": {},
   "outputs": [
    {
     "data": {
      "text/plain": [
       "['new_model.joblib']"
      ]
     },
     "execution_count": 101,
     "metadata": {},
     "output_type": "execute_result"
    }
   ],
   "source": [
    "joblib.dump(svm2, filename)"
   ]
  }
 ],
 "metadata": {
  "kernelspec": {
   "display_name": "Python 3 (ipykernel)",
   "language": "python",
   "name": "python3"
  },
  "language_info": {
   "codemirror_mode": {
    "name": "ipython",
    "version": 3
   },
   "file_extension": ".py",
   "mimetype": "text/x-python",
   "name": "python",
   "nbconvert_exporter": "python",
   "pygments_lexer": "ipython3",
   "version": "3.7.4"
  }
 },
 "nbformat": 4,
 "nbformat_minor": 5
}
