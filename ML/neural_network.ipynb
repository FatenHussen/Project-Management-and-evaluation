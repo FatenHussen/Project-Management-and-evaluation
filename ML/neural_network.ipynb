{
 "cells": [
  {
   "cell_type": "markdown",
   "metadata": {},
   "source": [
    "# import"
   ]
  },
  {
   "cell_type": "code",
   "execution_count": 1,
   "id": "a549a186",
   "metadata": {
    "lines_to_next_cell": 2
   },
   "outputs": [],
   "source": [
    "import numpy as np\n",
    "import pandas as pd\n",
    "import matplotlib.pyplot as plt\n",
    "from sklearn.model_selection import train_test_split"
   ]
  },
  {
   "cell_type": "markdown",
   "id": "2f435974",
   "metadata": {},
   "source": [
    "# read dataset"
   ]
  },
  {
   "cell_type": "code",
   "execution_count": 2,
   "id": "97ac4fd6",
   "metadata": {},
   "outputs": [],
   "source": [
    "dfs = pd.read_excel('example.xlsx')"
   ]
  },
  {
   "cell_type": "markdown",
   "id": "23156cae",
   "metadata": {},
   "source": [
    "# analyse data"
   ]
  },
  {
   "cell_type": "code",
   "execution_count": 3,
   "id": "3b7acf75",
   "metadata": {},
   "outputs": [
    {
     "name": "stdout",
     "output_type": "stream",
     "text": [
      "\n",
      "number of samples :  9913\n",
      "Index(['Unnamed: 0', 'Reference', 'Analysis', 'Design', 'Coding', 'github',\n",
      "       'Testing', 'Results', 'Report', 'Presentation', 'Proposal',\n",
      "       'NumOfMeetings', 'Evaluation'],\n",
      "      dtype='object')\n"
     ]
    }
   ],
   "source": [
    "print(\"\\nnumber of samples : \" , dfs.count().max())\n",
    "print(dfs.columns)"
   ]
  },
  {
   "cell_type": "code",
   "execution_count": 4,
   "id": "ceb9ad26",
   "metadata": {},
   "outputs": [
    {
     "data": {
      "text/html": [
       "<div>\n",
       "<style scoped>\n",
       "    .dataframe tbody tr th:only-of-type {\n",
       "        vertical-align: middle;\n",
       "    }\n",
       "\n",
       "    .dataframe tbody tr th {\n",
       "        vertical-align: top;\n",
       "    }\n",
       "\n",
       "    .dataframe thead th {\n",
       "        text-align: right;\n",
       "    }\n",
       "</style>\n",
       "<table border=\"1\" class=\"dataframe\">\n",
       "  <thead>\n",
       "    <tr style=\"text-align: right;\">\n",
       "      <th></th>\n",
       "      <th>Unnamed: 0</th>\n",
       "      <th>Reference</th>\n",
       "      <th>Analysis</th>\n",
       "      <th>Design</th>\n",
       "      <th>Coding</th>\n",
       "      <th>github</th>\n",
       "      <th>Testing</th>\n",
       "      <th>Results</th>\n",
       "      <th>Report</th>\n",
       "      <th>Presentation</th>\n",
       "      <th>Proposal</th>\n",
       "      <th>NumOfMeetings</th>\n",
       "      <th>Evaluation</th>\n",
       "    </tr>\n",
       "  </thead>\n",
       "  <tbody>\n",
       "    <tr>\n",
       "      <th>0</th>\n",
       "      <td>0</td>\n",
       "      <td>44</td>\n",
       "      <td>50</td>\n",
       "      <td>1</td>\n",
       "      <td>57</td>\n",
       "      <td>67</td>\n",
       "      <td>81</td>\n",
       "      <td>43</td>\n",
       "      <td>60</td>\n",
       "      <td>97</td>\n",
       "      <td>67</td>\n",
       "      <td>90</td>\n",
       "      <td>one</td>\n",
       "    </tr>\n",
       "    <tr>\n",
       "      <th>1</th>\n",
       "      <td>1</td>\n",
       "      <td>22</td>\n",
       "      <td>38</td>\n",
       "      <td>2</td>\n",
       "      <td>24</td>\n",
       "      <td>45</td>\n",
       "      <td>9</td>\n",
       "      <td>65</td>\n",
       "      <td>17</td>\n",
       "      <td>8</td>\n",
       "      <td>5</td>\n",
       "      <td>30</td>\n",
       "      <td>three</td>\n",
       "    </tr>\n",
       "    <tr>\n",
       "      <th>2</th>\n",
       "      <td>2</td>\n",
       "      <td>17</td>\n",
       "      <td>35</td>\n",
       "      <td>0</td>\n",
       "      <td>50</td>\n",
       "      <td>59</td>\n",
       "      <td>19</td>\n",
       "      <td>31</td>\n",
       "      <td>12</td>\n",
       "      <td>27</td>\n",
       "      <td>12</td>\n",
       "      <td>10</td>\n",
       "      <td>one</td>\n",
       "    </tr>\n",
       "    <tr>\n",
       "      <th>3</th>\n",
       "      <td>3</td>\n",
       "      <td>17</td>\n",
       "      <td>98</td>\n",
       "      <td>61</td>\n",
       "      <td>9</td>\n",
       "      <td>8</td>\n",
       "      <td>4</td>\n",
       "      <td>0</td>\n",
       "      <td>21</td>\n",
       "      <td>63</td>\n",
       "      <td>63</td>\n",
       "      <td>10</td>\n",
       "      <td>one</td>\n",
       "    </tr>\n",
       "    <tr>\n",
       "      <th>4</th>\n",
       "      <td>4</td>\n",
       "      <td>8</td>\n",
       "      <td>9</td>\n",
       "      <td>10</td>\n",
       "      <td>7</td>\n",
       "      <td>59</td>\n",
       "      <td>42</td>\n",
       "      <td>23</td>\n",
       "      <td>6</td>\n",
       "      <td>49</td>\n",
       "      <td>83</td>\n",
       "      <td>80</td>\n",
       "      <td>two</td>\n",
       "    </tr>\n",
       "  </tbody>\n",
       "</table>\n",
       "</div>"
      ],
      "text/plain": [
       "   Unnamed: 0  Reference  Analysis  Design  Coding  github  Testing  Results  \\\n",
       "0           0         44        50       1      57      67       81       43   \n",
       "1           1         22        38       2      24      45        9       65   \n",
       "2           2         17        35       0      50      59       19       31   \n",
       "3           3         17        98      61       9       8        4        0   \n",
       "4           4          8         9      10       7      59       42       23   \n",
       "\n",
       "   Report  Presentation  Proposal  NumOfMeetings Evaluation  \n",
       "0      60            97        67             90        one  \n",
       "1      17             8         5             30      three  \n",
       "2      12            27        12             10        one  \n",
       "3      21            63        63             10        one  \n",
       "4       6            49        83             80        two  "
      ]
     },
     "execution_count": 4,
     "metadata": {},
     "output_type": "execute_result"
    }
   ],
   "source": [
    "dfs.head()"
   ]
  },
  {
   "cell_type": "code",
   "execution_count": 5,
   "id": "be5641a8",
   "metadata": {},
   "outputs": [
    {
     "name": "stdout",
     "output_type": "stream",
     "text": [
      "The number of samples in the class 'red' :  3371\n",
      "The number of samples in the class 'orange' :  3321\n",
      "The number of samples in the class 'green' :  3221\n"
     ]
    }
   ],
   "source": [
    "print(\"The number of samples in the class 'red' : \" , dfs['Evaluation'][dfs['Evaluation'] == 'one'].count())\n",
    "print(\"The number of samples in the class 'orange' : \" , dfs['Evaluation'][dfs['Evaluation'] == 'two'].count())\n",
    "print(\"The number of samples in the class 'green' : \" , dfs['Evaluation'][dfs['Evaluation'] == 'three'].count())"
   ]
  },
  {
   "cell_type": "markdown",
   "metadata": {},
   "source": [
    "# preprocessing"
   ]
  },
  {
   "cell_type": "code",
   "execution_count": 6,
   "id": "bb66996e",
   "metadata": {},
   "outputs": [],
   "source": [
    "dfs = dfs.drop(['Unnamed: 0'], axis=1)"
   ]
  },
  {
   "cell_type": "code",
   "execution_count": 7,
   "id": "ea96fc6f",
   "metadata": {},
   "outputs": [
    {
     "data": {
      "text/html": [
       "<div>\n",
       "<style scoped>\n",
       "    .dataframe tbody tr th:only-of-type {\n",
       "        vertical-align: middle;\n",
       "    }\n",
       "\n",
       "    .dataframe tbody tr th {\n",
       "        vertical-align: top;\n",
       "    }\n",
       "\n",
       "    .dataframe thead th {\n",
       "        text-align: right;\n",
       "    }\n",
       "</style>\n",
       "<table border=\"1\" class=\"dataframe\">\n",
       "  <thead>\n",
       "    <tr style=\"text-align: right;\">\n",
       "      <th></th>\n",
       "      <th>Reference</th>\n",
       "      <th>Analysis</th>\n",
       "      <th>Design</th>\n",
       "      <th>Coding</th>\n",
       "      <th>github</th>\n",
       "      <th>Testing</th>\n",
       "      <th>Results</th>\n",
       "      <th>Report</th>\n",
       "      <th>Presentation</th>\n",
       "      <th>Proposal</th>\n",
       "      <th>NumOfMeetings</th>\n",
       "      <th>Evaluation</th>\n",
       "    </tr>\n",
       "  </thead>\n",
       "  <tbody>\n",
       "    <tr>\n",
       "      <th>0</th>\n",
       "      <td>44</td>\n",
       "      <td>50</td>\n",
       "      <td>1</td>\n",
       "      <td>57</td>\n",
       "      <td>67</td>\n",
       "      <td>81</td>\n",
       "      <td>43</td>\n",
       "      <td>60</td>\n",
       "      <td>97</td>\n",
       "      <td>67</td>\n",
       "      <td>90</td>\n",
       "      <td>one</td>\n",
       "    </tr>\n",
       "    <tr>\n",
       "      <th>1</th>\n",
       "      <td>22</td>\n",
       "      <td>38</td>\n",
       "      <td>2</td>\n",
       "      <td>24</td>\n",
       "      <td>45</td>\n",
       "      <td>9</td>\n",
       "      <td>65</td>\n",
       "      <td>17</td>\n",
       "      <td>8</td>\n",
       "      <td>5</td>\n",
       "      <td>30</td>\n",
       "      <td>three</td>\n",
       "    </tr>\n",
       "    <tr>\n",
       "      <th>2</th>\n",
       "      <td>17</td>\n",
       "      <td>35</td>\n",
       "      <td>0</td>\n",
       "      <td>50</td>\n",
       "      <td>59</td>\n",
       "      <td>19</td>\n",
       "      <td>31</td>\n",
       "      <td>12</td>\n",
       "      <td>27</td>\n",
       "      <td>12</td>\n",
       "      <td>10</td>\n",
       "      <td>one</td>\n",
       "    </tr>\n",
       "    <tr>\n",
       "      <th>3</th>\n",
       "      <td>17</td>\n",
       "      <td>98</td>\n",
       "      <td>61</td>\n",
       "      <td>9</td>\n",
       "      <td>8</td>\n",
       "      <td>4</td>\n",
       "      <td>0</td>\n",
       "      <td>21</td>\n",
       "      <td>63</td>\n",
       "      <td>63</td>\n",
       "      <td>10</td>\n",
       "      <td>one</td>\n",
       "    </tr>\n",
       "    <tr>\n",
       "      <th>4</th>\n",
       "      <td>8</td>\n",
       "      <td>9</td>\n",
       "      <td>10</td>\n",
       "      <td>7</td>\n",
       "      <td>59</td>\n",
       "      <td>42</td>\n",
       "      <td>23</td>\n",
       "      <td>6</td>\n",
       "      <td>49</td>\n",
       "      <td>83</td>\n",
       "      <td>80</td>\n",
       "      <td>two</td>\n",
       "    </tr>\n",
       "  </tbody>\n",
       "</table>\n",
       "</div>"
      ],
      "text/plain": [
       "   Reference  Analysis  Design  Coding  github  Testing  Results  Report  \\\n",
       "0         44        50       1      57      67       81       43      60   \n",
       "1         22        38       2      24      45        9       65      17   \n",
       "2         17        35       0      50      59       19       31      12   \n",
       "3         17        98      61       9       8        4        0      21   \n",
       "4          8         9      10       7      59       42       23       6   \n",
       "\n",
       "   Presentation  Proposal  NumOfMeetings Evaluation  \n",
       "0            97        67             90        one  \n",
       "1             8         5             30      three  \n",
       "2            27        12             10        one  \n",
       "3            63        63             10        one  \n",
       "4            49        83             80        two  "
      ]
     },
     "execution_count": 7,
     "metadata": {},
     "output_type": "execute_result"
    }
   ],
   "source": [
    "dfs.head()"
   ]
  },
  {
   "cell_type": "code",
   "execution_count": 8,
   "metadata": {},
   "outputs": [],
   "source": [
    "X = dfs.drop(['Evaluation'], axis=1)\n",
    "y = dfs['Evaluation']"
   ]
  },
  {
   "cell_type": "markdown",
   "id": "c0fd6b74",
   "metadata": {},
   "source": [
    "#### Data Split"
   ]
  },
  {
   "cell_type": "code",
   "execution_count": 9,
   "id": "e2356868",
   "metadata": {},
   "outputs": [],
   "source": [
    "X_train, X_test, y_train, y_test = train_test_split(X, y, train_size=0.8, random_state=42)\n",
    "# X_train, X_valid, y_train, y_valid = train_test_split(X_train, y_train, train_size=0.9, random_state=42)\n",
    "X_train, X_test = X_train.reset_index(drop=True), X_test.reset_index(drop=True)\n",
    "y_train, y_test = y_train.reset_index(drop=True), y_test.reset_index(drop=True)\n",
    "# X_train, X_test, X_valid = X_train.reset_index(drop=True), X_test.reset_index(drop=True), X_valid.reset_index(drop=True)\n",
    "# y_train, y_test, y_valid = y_train.reset_index(drop=True), y_test.reset_index(drop=True), y_valid.reset_index(drop=True)"
   ]
  },
  {
   "cell_type": "markdown",
   "id": "5750afae",
   "metadata": {},
   "source": [
    "# building and training model"
   ]
  },
  {
   "cell_type": "code",
   "execution_count": 10,
   "id": "6158e876",
   "metadata": {},
   "outputs": [
    {
     "name": "stdout",
     "output_type": "stream",
     "text": [
      "Test score: 0.33\n"
     ]
    }
   ],
   "source": [
    "from sklearn.neural_network import MLPClassifier\n",
    "MLP = MLPClassifier(activation='tanh',solver='sgd', hidden_layer_sizes=(5,), max_iter=5000, random_state=1).fit(X_train,y_train)\n",
    "print(\"Test score: {:.2f}\".format(MLP.score(X_test, y_test)))"
   ]
  },
  {
   "cell_type": "markdown",
   "id": "7d26c036",
   "metadata": {},
   "source": [
    "عرض دقة الشبكة العصبونية في كل طور."
   ]
  },
  {
   "cell_type": "code",
   "execution_count": 11,
   "id": "e6d4d69b",
   "metadata": {},
   "outputs": [
    {
     "data": {
      "image/png": "[encoded data removed]",
      "text/plain": [
       "<Figure size 640x480 with 1 Axes>"
      ]
     },
     "metadata": {},
     "output_type": "display_data"
    }
   ],
   "source": [
    "plt.title('Loss chart')\n",
    "plt.xlabel('Epoch')\n",
    "plt.ylabel('Loss')\n",
    "\n",
    "plt.plot(MLP.loss_curve_ , color = 'b')\n",
    "\n",
    "plt.show()"
   ]
  },
  {
   "cell_type": "markdown",
   "id": "fdabbeb1",
   "metadata": {},
   "source": [
    "# Validation"
   ]
  },
  {
   "cell_type": "markdown",
   "id": "0d2d2441",
   "metadata": {},
   "source": [
    "البحث عن قيم الباراميترات الأفضل للشبكة العصبونية باستخدام طريقة GridSearch .\n",
    "\n",
    "و استخدام طريقة التقييم Fold cross validation-5 لتقسيم البيانات"
   ]
  },
  {
   "cell_type": "code",
   "execution_count": 12,
   "id": "17fdbe37",
   "metadata": {},
   "outputs": [
    {
     "name": "stdout",
     "output_type": "stream",
     "text": [
      "Fitting 5 folds for each of 4 candidates, totalling 20 fits\n",
      "[CV 1/5] END batch_size=1, learning_rate_init=0.001;, score=0.325 total time=  35.7s\n",
      "[CV 2/5] END batch_size=1, learning_rate_init=0.001;, score=0.334 total time=  31.2s\n",
      "[CV 3/5] END batch_size=1, learning_rate_init=0.001;, score=0.325 total time=  52.3s\n",
      "[CV 4/5] END batch_size=1, learning_rate_init=0.001;, score=0.325 total time=  47.7s\n",
      "[CV 5/5] END batch_size=1, learning_rate_init=0.001;, score=0.330 total time=  38.4s\n",
      "[CV 1/5] END batch_size=1, learning_rate_init=0.01;, score=0.334 total time=  44.1s\n",
      "[CV 2/5] END batch_size=1, learning_rate_init=0.01;, score=0.334 total time=  24.7s\n",
      "[CV 3/5] END batch_size=1, learning_rate_init=0.01;, score=0.325 total time=  20.5s\n",
      "[CV 4/5] END batch_size=1, learning_rate_init=0.01;, score=0.334 total time=  58.5s\n",
      "[CV 5/5] END batch_size=1, learning_rate_init=0.01;, score=0.325 total time= 1.1min\n",
      "[CV 1/5] END batch_size=200, learning_rate_init=0.001;, score=0.349 total time=   1.6s\n",
      "[CV 2/5] END batch_size=200, learning_rate_init=0.001;, score=0.333 total time=   1.1s\n",
      "[CV 3/5] END batch_size=200, learning_rate_init=0.001;, score=0.342 total time=   1.2s\n",
      "[CV 4/5] END batch_size=200, learning_rate_init=0.001;, score=0.334 total time=   1.7s\n",
      "[CV 5/5] END batch_size=200, learning_rate_init=0.001;, score=0.343 total time=   0.9s\n",
      "[CV 1/5] END batch_size=200, learning_rate_init=0.01;, score=0.325 total time=   0.5s\n",
      "[CV 2/5] END batch_size=200, learning_rate_init=0.01;, score=0.343 total time=   0.3s\n",
      "[CV 3/5] END batch_size=200, learning_rate_init=0.01;, score=0.342 total time=   0.5s\n",
      "[CV 4/5] END batch_size=200, learning_rate_init=0.01;, score=0.344 total time=   0.4s\n",
      "[CV 5/5] END batch_size=200, learning_rate_init=0.01;, score=0.326 total time=   0.4s\n"
     ]
    }
   ],
   "source": [
    "from sklearn.model_selection import GridSearchCV\n",
    "param_grid = {'learning_rate_init': [0.001 , 0.01], 'batch_size': [1 , 200]}\n",
    "grid_search = GridSearchCV(estimator=MLP, param_grid= param_grid , cv=5, verbose=3).fit(X_train, y_train)"
   ]
  },
  {
   "cell_type": "markdown",
   "id": "d0761e3c",
   "metadata": {},
   "source": [
    "عرض قيم الباراميترات الأفضل وعرض دقتها وفقا لعملية البحث ثم اعادة تدريب الشبكة على هذه القيم و عرض دقتها النهائية وعرض مخطط دقتها في كل طور."
   ]
  },
  {
   "cell_type": "code",
   "execution_count": 13,
   "id": "5f8a1508",
   "metadata": {},
   "outputs": [
    {
     "name": "stdout",
     "output_type": "stream",
     "text": [
      "Best of Hyper Parameter : {'batch_size': 200, 'learning_rate_init': 0.001} \n",
      "Score :  0.3402269861286255 \n",
      "Best estimator : : MLPClassifier(activation='tanh', batch_size=200, hidden_layer_sizes=(5,),\n",
      "              max_iter=5000, random_state=1, solver='sgd')\n"
     ]
    }
   ],
   "source": [
    "print(\"Best of Hyper Parameter :\" , grid_search.best_params_, \"\\nScore : \" , grid_search.best_score_ , \"\\nBest estimator : :\", grid_search.best_estimator_)"
   ]
  },
  {
   "cell_type": "code",
   "execution_count": 14,
   "id": "5a442c46",
   "metadata": {},
   "outputs": [
    {
     "name": "stdout",
     "output_type": "stream",
     "text": [
      "Test score: 0.33\n"
     ]
    }
   ],
   "source": [
    "MLP2 = grid_search.best_estimator_.fit(X_train,y_train)\n",
    "print(\"Test score: {:.2f}\".format(MLP2.score(X_test, y_test)))"
   ]
  },
  {
   "cell_type": "code",
   "execution_count": 15,
   "id": "47e0b244",
   "metadata": {},
   "outputs": [
    {
     "data": {
      "image/png": "[encoded data removed]",
      "text/plain": [
       "<Figure size 640x480 with 1 Axes>"
      ]
     },
     "metadata": {},
     "output_type": "display_data"
    }
   ],
   "source": [
    "plt.title('Loss chart')\n",
    "plt.xlabel('Epoch')\n",
    "plt.ylabel('Loss')\n",
    "plt.plot(MLP2.loss_curve_,label='MLP')\n",
    "plt.legend(loc='upper right')\n",
    "plt.show()"
   ]
  },
  {
   "cell_type": "markdown",
   "id": "e95c2d5e",
   "metadata": {},
   "source": [
    "تقييم النموذج الأفضل وفقا للمقاييس: ,matrix confusion\n",
    ".classification report"
   ]
  },
  {
   "cell_type": "markdown",
   "id": "f90e813d",
   "metadata": {},
   "source": [
    "matrix confusion"
   ]
  },
  {
   "cell_type": "code",
   "execution_count": 16,
   "id": "8a158881",
   "metadata": {},
   "outputs": [
    {
     "name": "stdout",
     "output_type": "stream",
     "text": [
      "confusion_matrix(ytest, ypred): \n",
      " [[623  19  19]\n",
      " [608  17  20]\n",
      " [640  20  17]]\n"
     ]
    }
   ],
   "source": [
    "from sklearn.metrics import confusion_matrix\n",
    "\n",
    "ypred = MLP2.predict(X_test)\n",
    "cm = confusion_matrix(y_test, ypred)\n",
    "\n",
    "print(\"confusion_matrix(ytest, ypred): \\n\", cm)"
   ]
  },
  {
   "cell_type": "code",
   "execution_count": 17,
   "id": "2a8cf29b",
   "metadata": {},
   "outputs": [
    {
     "data": {
      "image/png": "[encoded data removed]",
      "text/plain": [
       "<Figure size 1000x1000 with 2 Axes>"
      ]
     },
     "metadata": {},
     "output_type": "display_data"
    }
   ],
   "source": [
    "classes = ['type 1', 'type 2']\n",
    "cm = cm/np.sum(cm,axis=0)\n",
    "tick_marks = np.arange(2)\n",
    "fig, ax = plt.subplots(figsize=(10,10))\n",
    "im = ax.imshow(cm, interpolation='nearest', cmap=plt.cm.Dark2)\n",
    "for i in range(cm.shape[0]):\n",
    "    for j in range(cm.shape[1]):\n",
    "        text = ax.text(j, i, np.around(cm[i, j],decimals=2),\n",
    "                       ha=\"center\", va=\"center\", color=\"w\")\n",
    "plt.title('Normalized confusion matrix')\n",
    "fig.colorbar(im)\n",
    "plt.xticks(tick_marks, classes, rotation=45)\n",
    "plt.yticks(tick_marks, classes);"
   ]
  },
  {
   "cell_type": "markdown",
   "id": "b0e71419",
   "metadata": {},
   "source": [
    "classification report"
   ]
  },
  {
   "cell_type": "code",
   "execution_count": 18,
   "id": "722473c9",
   "metadata": {},
   "outputs": [
    {
     "name": "stdout",
     "output_type": "stream",
     "text": [
      "Classification Report:\n",
      "               precision    recall  f1-score   support\n",
      "\n",
      "         one       0.33      0.94      0.49       661\n",
      "       three       0.30      0.03      0.05       645\n",
      "         two       0.30      0.03      0.05       677\n",
      "\n",
      "    accuracy                           0.33      1983\n",
      "   macro avg       0.31      0.33      0.20      1983\n",
      "weighted avg       0.31      0.33      0.20      1983\n",
      "\n"
     ]
    }
   ],
   "source": [
    "from sklearn.metrics import classification_report\n",
    "print(\"Classification Report:\\n\", classification_report(y_test, ypred))"
   ]
  }
 ],
 "metadata": {
  "jupytext": {
   "cell_metadata_filter": "-all",
   "main_language": "python",
   "notebook_metadata_filter": "-all"
  },
  "kernelspec": {
   "display_name": "Python 3",
   "language": "python",
   "name": "python3"
  },
  "language_info": {
   "codemirror_mode": {
    "name": "ipython",
    "version": 3
   },
   "file_extension": ".py",
   "mimetype": "text/x-python",
   "name": "python",
   "nbconvert_exporter": "python",
   "pygments_lexer": "ipython3",
   "version": "3.7.4"
  }
 },
 "nbformat": 4,
 "nbformat_minor": 5
}
