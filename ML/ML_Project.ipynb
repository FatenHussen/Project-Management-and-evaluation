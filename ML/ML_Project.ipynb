{
 "cells": [
  {
   "cell_type": "markdown",
   "metadata": {},
   "source": [
    "# import"
   ]
  },
  {
   "cell_type": "code",
   "execution_count": null,
   "id": "a549a186",
   "metadata": {
    "lines_to_next_cell": 2
   },
   "outputs": [],
   "source": [
    "import numpy as np\n",
    "import pandas as pd\n",
    "import matplotlib.pyplot as plt\n",
    "from sklearn.model_selection import train_test_split"
   ]
  },
  {
   "cell_type": "markdown",
   "id": "2f435974",
   "metadata": {},
   "source": [
    "# read dataset"
   ]
  },
  {
   "cell_type": "code",
   "execution_count": null,
   "id": "97ac4fd6",
   "metadata": {},
   "outputs": [],
   "source": [
    "dfs = pd.read_csv('D:\\study\\project\\dataset2.csv')"
   ]
  },
  {
   "cell_type": "markdown",
   "id": "23156cae",
   "metadata": {},
   "source": [
    "# analyse data"
   ]
  },
  {
   "cell_type": "code",
   "execution_count": null,
   "id": "3b7acf75",
   "metadata": {},
   "outputs": [],
   "source": [
    "print(\"\\nnumber of samples : \" , dfs.count().max())\n",
    "print(dfs.columns)"
   ]
  },
  {
   "cell_type": "code",
   "execution_count": null,
   "id": "be5641a8",
   "metadata": {},
   "outputs": [],
   "source": [
    "print(\"The number of samples in the class 'red' : \" , dfs['Std_id'][dfs['Evaluation'] == 'red'].count())\n",
    "print(\"The number of samples in the class 'orange' : \" , dfs['Std_id'][dfs['Evaluation'] == 'orange'].count())\n",
    "print(\"The number of samples in the class 'green' : \" , dfs['Std_id'][dfs['Evaluation'] == 'green'].count())\n",
    "print(\"The number of samples in the class 'NaN' : \" , dfs['Std_id'][dfs['Evaluation'].isna()].count())"
   ]
  },
  {
   "cell_type": "markdown",
   "metadata": {},
   "source": [
    "# preprocessing"
   ]
  },
  {
   "cell_type": "code",
   "execution_count": null,
   "metadata": {},
   "outputs": [],
   "source": [
    "X = dfs.drop(['Evaluation' , 'Std_id'], axis=1)\n",
    "y = dfs['Evaluation']"
   ]
  },
  {
   "cell_type": "markdown",
   "metadata": {},
   "source": [
    "#### imputation missing"
   ]
  },
  {
   "cell_type": "code",
   "execution_count": null,
   "id": "e1d35cda",
   "metadata": {},
   "outputs": [],
   "source": [
    "print(\"Number of Nan in X : \\n\" , X.isna().sum())\n",
    "print(\"Number of Nan in Y : \" , y.isna().sum())"
   ]
  },
  {
   "cell_type": "markdown",
   "metadata": {},
   "source": [
    "#### Scaling"
   ]
  },
  {
   "cell_type": "code",
   "execution_count": null,
   "id": "d5af0b45",
   "metadata": {},
   "outputs": [],
   "source": [
    "X.describe().loc[['min', 'max']]"
   ]
  },
  {
   "cell_type": "code",
   "execution_count": null,
   "metadata": {},
   "outputs": [],
   "source": [
    "X['NumOfMeetings'] = X['NumOfMeetings']*10\n",
    "X.describe().loc[['min', 'max']]"
   ]
  },
  {
   "cell_type": "markdown",
   "id": "c0fd6b74",
   "metadata": {},
   "source": [
    "#### Data Split"
   ]
  },
  {
   "cell_type": "code",
   "execution_count": null,
   "id": "e2356868",
   "metadata": {},
   "outputs": [],
   "source": [
    "X_train, X_test, y_train, y_test = train_test_split(X, y, train_size=0.8, random_state=42)\n",
    "# X_train, X_valid, y_train, y_valid = train_test_split(X_train, y_train, train_size=0.9, random_state=42)\n",
    "X_train, X_test = X_train.reset_index(drop=True), X_test.reset_index(drop=True)\n",
    "y_train, y_test = y_train.reset_index(drop=True), y_test.reset_index(drop=True)\n",
    "# X_train, X_test, X_valid = X_train.reset_index(drop=True), X_test.reset_index(drop=True), X_valid.reset_index(drop=True)\n",
    "# y_train, y_test, y_valid = y_train.reset_index(drop=True), y_test.reset_index(drop=True), y_valid.reset_index(drop=True)"
   ]
  },
  {
   "cell_type": "markdown",
   "id": "5750afae",
   "metadata": {},
   "source": [
    "# building and training model"
   ]
  },
  {
   "cell_type": "code",
   "execution_count": null,
   "id": "6158e876",
   "metadata": {},
   "outputs": [],
   "source": [
    "from sklearn.neural_network import MLPClassifier\n",
    "MLP = MLPClassifier(activation='tanh',solver='sgd', hidden_layer_sizes=(5,), max_iter=5000, random_state=1).fit(X_train,y_train)\n",
    "print(\"Test score: {:.2f}\".format(MLP.score(X_test, y_test)))"
   ]
  },
  {
   "cell_type": "markdown",
   "id": "7d26c036",
   "metadata": {},
   "source": [
    "عرض دقة الشبكة العصبونية في كل طور."
   ]
  },
  {
   "cell_type": "code",
   "execution_count": null,
   "id": "e6d4d69b",
   "metadata": {},
   "outputs": [],
   "source": [
    "plt.title('Accuracy Comparison')\n",
    "plt.xlabel('Epoch')\n",
    "plt.ylabel('Loss')\n",
    "\n",
    "plt.plot(MLP.loss_curve_ , color = 'b')\n",
    "\n",
    "plt.show()"
   ]
  },
  {
   "cell_type": "markdown",
   "id": "fdabbeb1",
   "metadata": {},
   "source": [
    "# Validation"
   ]
  },
  {
   "cell_type": "markdown",
   "id": "0d2d2441",
   "metadata": {},
   "source": [
    "البحث عن قيم الباراميترات الأفضل للشبكة العصبونية باستخدام طريقة GridSearch .\n",
    "\n",
    "و استخدام طريقة التقييم Fold cross validation-5 لتقسيم البيانات"
   ]
  },
  {
   "cell_type": "code",
   "execution_count": null,
   "id": "17fdbe37",
   "metadata": {},
   "outputs": [],
   "source": [
    "from sklearn.model_selection import GridSearchCV\n",
    "param_grid = {'learning_rate_init': [0.001 , 0.01], 'batch_size': [1 , 200]}\n",
    "grid_search = GridSearchCV(estimator=MLP, param_grid= param_grid , cv=5, verbose=3).fit(X_train, y_train)"
   ]
  },
  {
   "cell_type": "markdown",
   "id": "d0761e3c",
   "metadata": {},
   "source": [
    "عرض قيم الباراميترات الأفضل وعرض دقتها وفقا لعملية البحث ثم اعادة تدريب الشبكة على هذه القيم و عرض دقتها النهائية وعرض مخطط دقتها في كل طور."
   ]
  },
  {
   "cell_type": "code",
   "execution_count": null,
   "id": "5f8a1508",
   "metadata": {},
   "outputs": [],
   "source": [
    "print(\"Best of Hyper Parameter :\" , grid_search.best_params_, \"\\nScore : \" , grid_search.best_score_ , \"\\nBest estimator : :\", grid_search.best_estimator_)"
   ]
  },
  {
   "cell_type": "code",
   "execution_count": null,
   "id": "5a442c46",
   "metadata": {},
   "outputs": [],
   "source": [
    "MLP2 = grid_search.best_estimator_.fit(X_train,y_train)\n",
    "print(\"Test score: {:.2f}\".format(MLP2.score(X_test, y_test)))"
   ]
  },
  {
   "cell_type": "code",
   "execution_count": null,
   "id": "47e0b244",
   "metadata": {},
   "outputs": [],
   "source": [
    "plt.title('Accuracy Comparison')\n",
    "plt.xlabel('Epoch')\n",
    "plt.ylabel('Loss')\n",
    "plt.plot(MLP2.loss_curve_,color='r',label='MLP')\n",
    "plt.legend(loc='upper right')\n",
    "plt.show()"
   ]
  },
  {
   "cell_type": "markdown",
   "id": "e95c2d5e",
   "metadata": {},
   "source": [
    "تقييم النموذج الأفضل وفقا للمقاييس: ,matrix confusion\n",
    ".classification report"
   ]
  },
  {
   "cell_type": "markdown",
   "id": "f90e813d",
   "metadata": {},
   "source": [
    "matrix confusion"
   ]
  },
  {
   "cell_type": "code",
   "execution_count": null,
   "id": "8a158881",
   "metadata": {},
   "outputs": [],
   "source": [
    "from sklearn.metrics import confusion_matrix\n",
    "\n",
    "ypred = MLP2.predict(X_test)\n",
    "cm = confusion_matrix(y_test, ypred)\n",
    "\n",
    "print(\"confusion_matrix(ytest, ypred): \\n\", cm)"
   ]
  },
  {
   "cell_type": "code",
   "execution_count": null,
   "id": "2a8cf29b",
   "metadata": {},
   "outputs": [],
   "source": [
    "classes = ['type 1', 'type 2']\n",
    "cm = cm/np.sum(cm,axis=0)\n",
    "tick_marks = np.arange(2)\n",
    "fig, ax = plt.subplots(figsize=(10,10))\n",
    "im = ax.imshow(cm, interpolation='nearest', cmap=plt.cm.Dark2)\n",
    "for i in range(cm.shape[0]):\n",
    "    for j in range(cm.shape[1]):\n",
    "        text = ax.text(j, i, np.around(cm[i, j],decimals=2),\n",
    "                       ha=\"center\", va=\"center\", color=\"w\")\n",
    "plt.title('Normalized confusion matrix')\n",
    "fig.colorbar(im)\n",
    "plt.xticks(tick_marks, classes, rotation=45)\n",
    "plt.yticks(tick_marks, classes);"
   ]
  },
  {
   "cell_type": "markdown",
   "id": "b0e71419",
   "metadata": {},
   "source": [
    "classification report"
   ]
  },
  {
   "cell_type": "code",
   "execution_count": null,
   "id": "89ecca4a",
   "metadata": {},
   "outputs": [],
   "source": [
    "from sklearn.metrics import classification_report, precision_score, recall_score, f1_score\n",
    "\n",
    "print(\"Precision:\", precision_score(y_test, ypred))\n",
    "print(\"Recall:\", recall_score(y_test, ypred))\n",
    "print(\"F1-Score:\", f1_score(y_test, ypred))"
   ]
  },
  {
   "cell_type": "code",
   "execution_count": null,
   "id": "722473c9",
   "metadata": {},
   "outputs": [],
   "source": [
    "print(\"Classification Report:\\n\", classification_report(y_test, ypred))"
   ]
  }
 ],
 "metadata": {
  "jupytext": {
   "cell_metadata_filter": "-all",
   "main_language": "python",
   "notebook_metadata_filter": "-all"
  },
  "kernelspec": {
   "display_name": "Python 3",
   "language": "python",
   "name": "python3"
  },
  "language_info": {
   "codemirror_mode": {
    "name": "ipython",
    "version": 3
   },
   "file_extension": ".py",
   "mimetype": "text/x-python",
   "name": "python",
   "nbconvert_exporter": "python",
   "pygments_lexer": "ipython3",
   "version": "3.7.4"
  }
 },
 "nbformat": 4,
 "nbformat_minor": 5
}
