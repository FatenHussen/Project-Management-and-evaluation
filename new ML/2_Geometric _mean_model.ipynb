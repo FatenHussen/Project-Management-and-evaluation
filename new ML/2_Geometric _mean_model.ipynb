{
 "cells": [
  {
   "cell_type": "markdown",
   "id": "fcab5313",
   "metadata": {},
   "source": [
    "## read data & data preprocessing"
   ]
  },
  {
   "cell_type": "code",
   "execution_count": 1,
   "id": "f825c0cc",
   "metadata": {},
   "outputs": [],
   "source": [
    "import numpy as np\n",
    "import matplotlib.pyplot as plt\n",
    "import pandas as pd\n",
    "import seaborn as sns"
   ]
  },
  {
   "cell_type": "code",
   "execution_count": 2,
   "id": "45bffc29",
   "metadata": {},
   "outputs": [
    {
     "data": {
      "text/html": [
       "<div>\n",
       "<style scoped>\n",
       "    .dataframe tbody tr th:only-of-type {\n",
       "        vertical-align: middle;\n",
       "    }\n",
       "\n",
       "    .dataframe tbody tr th {\n",
       "        vertical-align: top;\n",
       "    }\n",
       "\n",
       "    .dataframe thead th {\n",
       "        text-align: right;\n",
       "    }\n",
       "</style>\n",
       "<table border=\"1\" class=\"dataframe\">\n",
       "  <thead>\n",
       "    <tr style=\"text-align: right;\">\n",
       "      <th></th>\n",
       "      <th>مرجعية</th>\n",
       "      <th>تحليل</th>\n",
       "      <th>تصميم</th>\n",
       "      <th>برمجة</th>\n",
       "      <th>اختبار</th>\n",
       "      <th>نتائج</th>\n",
       "      <th>تقرير</th>\n",
       "      <th>عرض</th>\n",
       "      <th>غيتهاب</th>\n",
       "    </tr>\n",
       "  </thead>\n",
       "  <tbody>\n",
       "    <tr>\n",
       "      <th>0</th>\n",
       "      <td>[43, 31, 39, 46, 42, 42, 25, 37, 38, 24]</td>\n",
       "      <td>[43, 23, 27, 23, 28, 38, 11, 30, 42, 33]</td>\n",
       "      <td>[29, 13, 42, 39, 49, 43, 27, 40, 19, 30]</td>\n",
       "      <td>[48, 29, 28, 45, 11, 16, 13, 14, 16, 18]</td>\n",
       "      <td>[11, 28, 20, 10, 15, 25, 34, 32, 37, 35]</td>\n",
       "      <td>[19, 50, 37, 33, 23, 49, 22, 29, 25, 34]</td>\n",
       "      <td>[34, 43, 20, 45, 30, 29, 23, 31, 12, 38]</td>\n",
       "      <td>[30, 13, 19, 29, 15, 34, 12, 22, 28, 26]</td>\n",
       "      <td>[21, 16, 41, 16, 34, 49, 24, 51, 51, 17]</td>\n",
       "    </tr>\n",
       "    <tr>\n",
       "      <th>1</th>\n",
       "      <td>[24, 19, 18, 33, 51, 35, 27, 49, 47, 29, 50, 2...</td>\n",
       "      <td>[50, 20, 27, 42, 44, 30, 39, 23, 39, 19, 33, 4...</td>\n",
       "      <td>[48, 12, 12, 26, 34, 35, 22, 15, 36, 14, 51, 2...</td>\n",
       "      <td>[21, 38, 49, 37, 51, 12, 10, 20, 43, 11, 19, 2...</td>\n",
       "      <td>[16, 16, 43, 30, 10, 22, 41, 36, 13, 34, 32, 4...</td>\n",
       "      <td>[34, 11, 14, 26, 29, 26, 19, 33, 36, 27, 51, 4...</td>\n",
       "      <td>[22, 49, 31, 16, 18, 48, 11, 38, 24, 49, 40, 1...</td>\n",
       "      <td>[42, 13, 45, 39, 25, 10, 27, 18, 27, 44, 11, 3...</td>\n",
       "      <td>[26, 16, 51, 40, 14, 38, 11, 42, 23, 17, 44, 2...</td>\n",
       "    </tr>\n",
       "    <tr>\n",
       "      <th>2</th>\n",
       "      <td>[41, 34, 37, 10, 12, 10, 18, 27, 19, 21]</td>\n",
       "      <td>[20, 12, 47, 27, 50, 25, 35, 24, 48, 10]</td>\n",
       "      <td>[43, 22, 40, 33, 45, 50, 18, 11, 49, 23]</td>\n",
       "      <td>[18, 27, 29, 24, 10, 22, 47, 40, 23, 31]</td>\n",
       "      <td>[10, 10, 41, 26, 34, 34, 35, 15, 22, 37]</td>\n",
       "      <td>[19, 19, 21, 26, 26, 27, 45, 45, 35, 29]</td>\n",
       "      <td>[18, 12, 30, 28, 46, 17, 23, 50, 45, 24]</td>\n",
       "      <td>[23, 21, 22, 34, 10, 38, 42, 37, 39, 21]</td>\n",
       "      <td>[49, 29, 48, 31, 45, 29, 15, 28, 49, 18]</td>\n",
       "    </tr>\n",
       "    <tr>\n",
       "      <th>3</th>\n",
       "      <td>[42, 35, 37, 34, 51, 43, 30, 27, 35, 48, 39, 3...</td>\n",
       "      <td>[35, 16, 38, 19, 28, 45, 37, 50, 37, 33, 40, 5...</td>\n",
       "      <td>[16, 16, 49, 21, 26, 37, 18, 26, 29, 21, 32, 3...</td>\n",
       "      <td>[12, 32, 46, 26, 19, 17, 20, 25, 19, 41, 11, 2...</td>\n",
       "      <td>[10, 48, 24, 33, 47, 46, 24, 45, 44, 14, 36, 3...</td>\n",
       "      <td>[19, 48, 34, 17, 28, 29, 18, 46, 29, 15, 22, 3...</td>\n",
       "      <td>[33, 41, 44, 12, 34, 10, 17, 51, 36, 41, 36, 3...</td>\n",
       "      <td>[35, 50, 38, 27, 19, 25, 14, 47, 40, 40, 50, 4...</td>\n",
       "      <td>[14, 25, 36, 44, 32, 50, 14, 31, 21, 41, 17, 3...</td>\n",
       "    </tr>\n",
       "    <tr>\n",
       "      <th>4</th>\n",
       "      <td>[48, 47, 32, 45, 31]</td>\n",
       "      <td>[23, 11, 51, 37, 14]</td>\n",
       "      <td>[27, 32, 13, 34, 19]</td>\n",
       "      <td>[27, 12, 36, 24, 28]</td>\n",
       "      <td>[38, 30, 36, 13, 32]</td>\n",
       "      <td>[18, 15, 22, 48, 48]</td>\n",
       "      <td>[18, 23, 39, 16, 20]</td>\n",
       "      <td>[22, 14, 48, 15, 16]</td>\n",
       "      <td>[36, 19, 27, 43, 38]</td>\n",
       "    </tr>\n",
       "  </tbody>\n",
       "</table>\n",
       "</div>"
      ],
      "text/plain": [
       "                                              مرجعية  \\\n",
       "0           [43, 31, 39, 46, 42, 42, 25, 37, 38, 24]   \n",
       "1  [24, 19, 18, 33, 51, 35, 27, 49, 47, 29, 50, 2...   \n",
       "2           [41, 34, 37, 10, 12, 10, 18, 27, 19, 21]   \n",
       "3  [42, 35, 37, 34, 51, 43, 30, 27, 35, 48, 39, 3...   \n",
       "4                               [48, 47, 32, 45, 31]   \n",
       "\n",
       "                                               تحليل  \\\n",
       "0           [43, 23, 27, 23, 28, 38, 11, 30, 42, 33]   \n",
       "1  [50, 20, 27, 42, 44, 30, 39, 23, 39, 19, 33, 4...   \n",
       "2           [20, 12, 47, 27, 50, 25, 35, 24, 48, 10]   \n",
       "3  [35, 16, 38, 19, 28, 45, 37, 50, 37, 33, 40, 5...   \n",
       "4                               [23, 11, 51, 37, 14]   \n",
       "\n",
       "                                               تصميم  \\\n",
       "0           [29, 13, 42, 39, 49, 43, 27, 40, 19, 30]   \n",
       "1  [48, 12, 12, 26, 34, 35, 22, 15, 36, 14, 51, 2...   \n",
       "2           [43, 22, 40, 33, 45, 50, 18, 11, 49, 23]   \n",
       "3  [16, 16, 49, 21, 26, 37, 18, 26, 29, 21, 32, 3...   \n",
       "4                               [27, 32, 13, 34, 19]   \n",
       "\n",
       "                                               برمجة  \\\n",
       "0           [48, 29, 28, 45, 11, 16, 13, 14, 16, 18]   \n",
       "1  [21, 38, 49, 37, 51, 12, 10, 20, 43, 11, 19, 2...   \n",
       "2           [18, 27, 29, 24, 10, 22, 47, 40, 23, 31]   \n",
       "3  [12, 32, 46, 26, 19, 17, 20, 25, 19, 41, 11, 2...   \n",
       "4                               [27, 12, 36, 24, 28]   \n",
       "\n",
       "                                              اختبار  \\\n",
       "0           [11, 28, 20, 10, 15, 25, 34, 32, 37, 35]   \n",
       "1  [16, 16, 43, 30, 10, 22, 41, 36, 13, 34, 32, 4...   \n",
       "2           [10, 10, 41, 26, 34, 34, 35, 15, 22, 37]   \n",
       "3  [10, 48, 24, 33, 47, 46, 24, 45, 44, 14, 36, 3...   \n",
       "4                               [38, 30, 36, 13, 32]   \n",
       "\n",
       "                                               نتائج  \\\n",
       "0           [19, 50, 37, 33, 23, 49, 22, 29, 25, 34]   \n",
       "1  [34, 11, 14, 26, 29, 26, 19, 33, 36, 27, 51, 4...   \n",
       "2           [19, 19, 21, 26, 26, 27, 45, 45, 35, 29]   \n",
       "3  [19, 48, 34, 17, 28, 29, 18, 46, 29, 15, 22, 3...   \n",
       "4                               [18, 15, 22, 48, 48]   \n",
       "\n",
       "                                               تقرير  \\\n",
       "0           [34, 43, 20, 45, 30, 29, 23, 31, 12, 38]   \n",
       "1  [22, 49, 31, 16, 18, 48, 11, 38, 24, 49, 40, 1...   \n",
       "2           [18, 12, 30, 28, 46, 17, 23, 50, 45, 24]   \n",
       "3  [33, 41, 44, 12, 34, 10, 17, 51, 36, 41, 36, 3...   \n",
       "4                               [18, 23, 39, 16, 20]   \n",
       "\n",
       "                                                 عرض  \\\n",
       "0           [30, 13, 19, 29, 15, 34, 12, 22, 28, 26]   \n",
       "1  [42, 13, 45, 39, 25, 10, 27, 18, 27, 44, 11, 3...   \n",
       "2           [23, 21, 22, 34, 10, 38, 42, 37, 39, 21]   \n",
       "3  [35, 50, 38, 27, 19, 25, 14, 47, 40, 40, 50, 4...   \n",
       "4                               [22, 14, 48, 15, 16]   \n",
       "\n",
       "                                              غيتهاب  \n",
       "0           [21, 16, 41, 16, 34, 49, 24, 51, 51, 17]  \n",
       "1  [26, 16, 51, 40, 14, 38, 11, 42, 23, 17, 44, 2...  \n",
       "2           [49, 29, 48, 31, 45, 29, 15, 28, 49, 18]  \n",
       "3  [14, 25, 36, 44, 32, 50, 14, 31, 21, 41, 17, 3...  \n",
       "4                               [36, 19, 27, 43, 38]  "
      ]
     },
     "execution_count": 2,
     "metadata": {},
     "output_type": "execute_result"
    }
   ],
   "source": [
    "df = pd.read_excel(\"data_for_classification.xlsx\")\n",
    "df.head()"
   ]
  },
  {
   "cell_type": "code",
   "execution_count": 3,
   "id": "d6f0df8e",
   "metadata": {},
   "outputs": [],
   "source": [
    "for i in df.columns:\n",
    "    df[i] = df[i].apply(eval)"
   ]
  },
  {
   "cell_type": "code",
   "execution_count": 4,
   "id": "2aab8ed0",
   "metadata": {},
   "outputs": [
    {
     "name": "stdout",
     "output_type": "stream",
     "text": [
      "مرجعية    object\n",
      "تحليل     object\n",
      "تصميم     object\n",
      "برمجة     object\n",
      "اختبار    object\n",
      "نتائج     object\n",
      "تقرير     object\n",
      "عرض       object\n",
      "غيتهاب    object\n",
      "dtype: object\n"
     ]
    }
   ],
   "source": [
    "print(df.dtypes)"
   ]
  },
  {
   "cell_type": "code",
   "execution_count": 5,
   "id": "d065e81b",
   "metadata": {},
   "outputs": [
    {
     "data": {
      "text/html": [
       "<div>\n",
       "<style scoped>\n",
       "    .dataframe tbody tr th:only-of-type {\n",
       "        vertical-align: middle;\n",
       "    }\n",
       "\n",
       "    .dataframe tbody tr th {\n",
       "        vertical-align: top;\n",
       "    }\n",
       "\n",
       "    .dataframe thead th {\n",
       "        text-align: right;\n",
       "    }\n",
       "</style>\n",
       "<table border=\"1\" class=\"dataframe\">\n",
       "  <thead>\n",
       "    <tr style=\"text-align: right;\">\n",
       "      <th></th>\n",
       "      <th>مرجعية</th>\n",
       "      <th>تحليل</th>\n",
       "      <th>تصميم</th>\n",
       "      <th>برمجة</th>\n",
       "      <th>اختبار</th>\n",
       "      <th>نتائج</th>\n",
       "      <th>تقرير</th>\n",
       "      <th>عرض</th>\n",
       "      <th>غيتهاب</th>\n",
       "    </tr>\n",
       "  </thead>\n",
       "  <tbody>\n",
       "    <tr>\n",
       "      <th>0</th>\n",
       "      <td>36.0</td>\n",
       "      <td>29.0</td>\n",
       "      <td>31.0</td>\n",
       "      <td>21.0</td>\n",
       "      <td>23.0</td>\n",
       "      <td>31.0</td>\n",
       "      <td>29.0</td>\n",
       "      <td>22.0</td>\n",
       "      <td>29.0</td>\n",
       "    </tr>\n",
       "    <tr>\n",
       "      <th>1</th>\n",
       "      <td>30.0</td>\n",
       "      <td>35.0</td>\n",
       "      <td>28.0</td>\n",
       "      <td>26.0</td>\n",
       "      <td>27.0</td>\n",
       "      <td>28.0</td>\n",
       "      <td>28.0</td>\n",
       "      <td>25.0</td>\n",
       "      <td>28.0</td>\n",
       "    </tr>\n",
       "    <tr>\n",
       "      <th>2</th>\n",
       "      <td>21.0</td>\n",
       "      <td>27.0</td>\n",
       "      <td>31.0</td>\n",
       "      <td>26.0</td>\n",
       "      <td>24.0</td>\n",
       "      <td>28.0</td>\n",
       "      <td>27.0</td>\n",
       "      <td>27.0</td>\n",
       "      <td>32.0</td>\n",
       "    </tr>\n",
       "    <tr>\n",
       "      <th>3</th>\n",
       "      <td>33.0</td>\n",
       "      <td>33.0</td>\n",
       "      <td>25.0</td>\n",
       "      <td>22.0</td>\n",
       "      <td>27.0</td>\n",
       "      <td>28.0</td>\n",
       "      <td>27.0</td>\n",
       "      <td>31.0</td>\n",
       "      <td>28.0</td>\n",
       "    </tr>\n",
       "    <tr>\n",
       "      <th>4</th>\n",
       "      <td>40.0</td>\n",
       "      <td>24.0</td>\n",
       "      <td>24.0</td>\n",
       "      <td>24.0</td>\n",
       "      <td>28.0</td>\n",
       "      <td>27.0</td>\n",
       "      <td>23.0</td>\n",
       "      <td>21.0</td>\n",
       "      <td>32.0</td>\n",
       "    </tr>\n",
       "  </tbody>\n",
       "</table>\n",
       "</div>"
      ],
      "text/plain": [
       "  مرجعية تحليل تصميم برمجة اختبار نتائج تقرير   عرض غيتهاب\n",
       "0   36.0  29.0  31.0  21.0   23.0  31.0  29.0  22.0   29.0\n",
       "1   30.0  35.0  28.0  26.0   27.0  28.0  28.0  25.0   28.0\n",
       "2   21.0  27.0  31.0  26.0   24.0  28.0  27.0  27.0   32.0\n",
       "3   33.0  33.0  25.0  22.0   27.0  28.0  27.0  31.0   28.0\n",
       "4   40.0  24.0  24.0  24.0   28.0  27.0  23.0  21.0   32.0"
      ]
     },
     "execution_count": 5,
     "metadata": {},
     "output_type": "execute_result"
    }
   ],
   "source": [
    "for row_index in range(len(df)):\n",
    "    for col_index in range(len(df.columns)):\n",
    "        value = df.iloc[row_index, col_index]\n",
    "        sum_prod, count = 1, 0\n",
    "        for i in range(len(value)):\n",
    "            if value[i] != 0:\n",
    "                sum_prod *= value[i]\n",
    "                count += 1\n",
    "        if count != 0:\n",
    "            df.iloc[row_index, col_index] = np.ceil(np.power(sum_prod, 1/count))\n",
    "        else:\n",
    "            df.iloc[row_index, col_index] = 0\n",
    "df.head()\n"
   ]
  },
  {
   "cell_type": "code",
   "execution_count": 6,
   "id": "5b853182",
   "metadata": {},
   "outputs": [
    {
     "data": {
      "text/html": [
       "<div>\n",
       "<style scoped>\n",
       "    .dataframe tbody tr th:only-of-type {\n",
       "        vertical-align: middle;\n",
       "    }\n",
       "\n",
       "    .dataframe tbody tr th {\n",
       "        vertical-align: top;\n",
       "    }\n",
       "\n",
       "    .dataframe thead th {\n",
       "        text-align: right;\n",
       "    }\n",
       "</style>\n",
       "<table border=\"1\" class=\"dataframe\">\n",
       "  <thead>\n",
       "    <tr style=\"text-align: right;\">\n",
       "      <th></th>\n",
       "      <th>مرجعية</th>\n",
       "      <th>تحليل</th>\n",
       "      <th>تصميم</th>\n",
       "      <th>برمجة</th>\n",
       "      <th>اختبار</th>\n",
       "      <th>نتائج</th>\n",
       "      <th>تقرير</th>\n",
       "      <th>عرض</th>\n",
       "      <th>غيتهاب</th>\n",
       "      <th>متوسط</th>\n",
       "    </tr>\n",
       "  </thead>\n",
       "  <tbody>\n",
       "    <tr>\n",
       "      <th>0</th>\n",
       "      <td>36.0</td>\n",
       "      <td>29.0</td>\n",
       "      <td>31.0</td>\n",
       "      <td>21.0</td>\n",
       "      <td>23.0</td>\n",
       "      <td>31.0</td>\n",
       "      <td>29.0</td>\n",
       "      <td>22.0</td>\n",
       "      <td>29.0</td>\n",
       "      <td>28</td>\n",
       "    </tr>\n",
       "    <tr>\n",
       "      <th>1</th>\n",
       "      <td>30.0</td>\n",
       "      <td>35.0</td>\n",
       "      <td>28.0</td>\n",
       "      <td>26.0</td>\n",
       "      <td>27.0</td>\n",
       "      <td>28.0</td>\n",
       "      <td>28.0</td>\n",
       "      <td>25.0</td>\n",
       "      <td>28.0</td>\n",
       "      <td>29</td>\n",
       "    </tr>\n",
       "    <tr>\n",
       "      <th>2</th>\n",
       "      <td>21.0</td>\n",
       "      <td>27.0</td>\n",
       "      <td>31.0</td>\n",
       "      <td>26.0</td>\n",
       "      <td>24.0</td>\n",
       "      <td>28.0</td>\n",
       "      <td>27.0</td>\n",
       "      <td>27.0</td>\n",
       "      <td>32.0</td>\n",
       "      <td>27</td>\n",
       "    </tr>\n",
       "    <tr>\n",
       "      <th>3</th>\n",
       "      <td>33.0</td>\n",
       "      <td>33.0</td>\n",
       "      <td>25.0</td>\n",
       "      <td>22.0</td>\n",
       "      <td>27.0</td>\n",
       "      <td>28.0</td>\n",
       "      <td>27.0</td>\n",
       "      <td>31.0</td>\n",
       "      <td>28.0</td>\n",
       "      <td>29</td>\n",
       "    </tr>\n",
       "    <tr>\n",
       "      <th>4</th>\n",
       "      <td>40.0</td>\n",
       "      <td>24.0</td>\n",
       "      <td>24.0</td>\n",
       "      <td>24.0</td>\n",
       "      <td>28.0</td>\n",
       "      <td>27.0</td>\n",
       "      <td>23.0</td>\n",
       "      <td>21.0</td>\n",
       "      <td>32.0</td>\n",
       "      <td>27</td>\n",
       "    </tr>\n",
       "  </tbody>\n",
       "</table>\n",
       "</div>"
      ],
      "text/plain": [
       "  مرجعية تحليل تصميم برمجة اختبار نتائج تقرير   عرض غيتهاب  متوسط\n",
       "0   36.0  29.0  31.0  21.0   23.0  31.0  29.0  22.0   29.0     28\n",
       "1   30.0  35.0  28.0  26.0   27.0  28.0  28.0  25.0   28.0     29\n",
       "2   21.0  27.0  31.0  26.0   24.0  28.0  27.0  27.0   32.0     27\n",
       "3   33.0  33.0  25.0  22.0   27.0  28.0  27.0  31.0   28.0     29\n",
       "4   40.0  24.0  24.0  24.0   28.0  27.0  23.0  21.0   32.0     27"
      ]
     },
     "execution_count": 6,
     "metadata": {},
     "output_type": "execute_result"
    }
   ],
   "source": [
    "df[\"متوسط\"]=0\n",
    "\n",
    "for i in range(len(df)):\n",
    "    value = df.iloc[i].tolist()\n",
    "    sum_prod, count = 1, 0\n",
    "    for j in range(len(value)):\n",
    "        if value[j] != 0:\n",
    "            sum_prod *= value[j]\n",
    "            count += 1\n",
    "    if count != 0:\n",
    "        df.loc[i,\"متوسط\"] = np.ceil(np.power(sum_prod, 1/count))\n",
    "    else:\n",
    "        df.loc[i,\"متوسط\"] = 0\n",
    "        \n",
    "df.head()"
   ]
  },
  {
   "cell_type": "code",
   "execution_count": 7,
   "id": "46e89ece",
   "metadata": {},
   "outputs": [
    {
     "name": "stdout",
     "output_type": "stream",
     "text": [
      "مرجعية    int32\n",
      "تحليل     int32\n",
      "تصميم     int32\n",
      "برمجة     int32\n",
      "اختبار    int32\n",
      "نتائج     int32\n",
      "تقرير     int32\n",
      "عرض       int32\n",
      "غيتهاب    int32\n",
      "متوسط     int32\n",
      "dtype: object\n"
     ]
    }
   ],
   "source": [
    "df = df.apply(lambda x: x.astype(int))\n",
    "print(df.dtypes)"
   ]
  },
  {
   "cell_type": "code",
   "execution_count": 8,
   "id": "67eff12a",
   "metadata": {},
   "outputs": [
    {
     "data": {
      "text/html": [
       "<div>\n",
       "<style scoped>\n",
       "    .dataframe tbody tr th:only-of-type {\n",
       "        vertical-align: middle;\n",
       "    }\n",
       "\n",
       "    .dataframe tbody tr th {\n",
       "        vertical-align: top;\n",
       "    }\n",
       "\n",
       "    .dataframe thead th {\n",
       "        text-align: right;\n",
       "    }\n",
       "</style>\n",
       "<table border=\"1\" class=\"dataframe\">\n",
       "  <thead>\n",
       "    <tr style=\"text-align: right;\">\n",
       "      <th></th>\n",
       "      <th>مرجعية</th>\n",
       "      <th>تحليل</th>\n",
       "      <th>تصميم</th>\n",
       "      <th>برمجة</th>\n",
       "      <th>اختبار</th>\n",
       "      <th>نتائج</th>\n",
       "      <th>تقرير</th>\n",
       "      <th>عرض</th>\n",
       "      <th>غيتهاب</th>\n",
       "      <th>متوسط</th>\n",
       "      <th>تصنيف</th>\n",
       "    </tr>\n",
       "  </thead>\n",
       "  <tbody>\n",
       "    <tr>\n",
       "      <th>0</th>\n",
       "      <td>36</td>\n",
       "      <td>29</td>\n",
       "      <td>31</td>\n",
       "      <td>21</td>\n",
       "      <td>23</td>\n",
       "      <td>31</td>\n",
       "      <td>29</td>\n",
       "      <td>22</td>\n",
       "      <td>29</td>\n",
       "      <td>28</td>\n",
       "      <td>أحمر</td>\n",
       "    </tr>\n",
       "    <tr>\n",
       "      <th>1</th>\n",
       "      <td>30</td>\n",
       "      <td>35</td>\n",
       "      <td>28</td>\n",
       "      <td>26</td>\n",
       "      <td>27</td>\n",
       "      <td>28</td>\n",
       "      <td>28</td>\n",
       "      <td>25</td>\n",
       "      <td>28</td>\n",
       "      <td>29</td>\n",
       "      <td>أحمر</td>\n",
       "    </tr>\n",
       "    <tr>\n",
       "      <th>2</th>\n",
       "      <td>21</td>\n",
       "      <td>27</td>\n",
       "      <td>31</td>\n",
       "      <td>26</td>\n",
       "      <td>24</td>\n",
       "      <td>28</td>\n",
       "      <td>27</td>\n",
       "      <td>27</td>\n",
       "      <td>32</td>\n",
       "      <td>27</td>\n",
       "      <td>أحمر</td>\n",
       "    </tr>\n",
       "    <tr>\n",
       "      <th>3</th>\n",
       "      <td>33</td>\n",
       "      <td>33</td>\n",
       "      <td>25</td>\n",
       "      <td>22</td>\n",
       "      <td>27</td>\n",
       "      <td>28</td>\n",
       "      <td>27</td>\n",
       "      <td>31</td>\n",
       "      <td>28</td>\n",
       "      <td>29</td>\n",
       "      <td>أحمر</td>\n",
       "    </tr>\n",
       "    <tr>\n",
       "      <th>4</th>\n",
       "      <td>40</td>\n",
       "      <td>24</td>\n",
       "      <td>24</td>\n",
       "      <td>24</td>\n",
       "      <td>28</td>\n",
       "      <td>27</td>\n",
       "      <td>23</td>\n",
       "      <td>21</td>\n",
       "      <td>32</td>\n",
       "      <td>27</td>\n",
       "      <td>أحمر</td>\n",
       "    </tr>\n",
       "  </tbody>\n",
       "</table>\n",
       "</div>"
      ],
      "text/plain": [
       "   مرجعية  تحليل  تصميم  برمجة  اختبار  نتائج  تقرير  عرض  غيتهاب  متوسط تصنيف\n",
       "0      36     29     31     21      23     31     29   22      29     28  أحمر\n",
       "1      30     35     28     26      27     28     28   25      28     29  أحمر\n",
       "2      21     27     31     26      24     28     27   27      32     27  أحمر\n",
       "3      33     33     25     22      27     28     27   31      28     29  أحمر\n",
       "4      40     24     24     24      28     27     23   21      32     27  أحمر"
      ]
     },
     "execution_count": 8,
     "metadata": {},
     "output_type": "execute_result"
    }
   ],
   "source": [
    "df['تصنيف']=1\n",
    "for i in range(df['تصنيف'].count()):\n",
    "    if df.iloc[i,9]<50:\n",
    "        df.iloc[i,10]=\"أحمر\"\n",
    "    elif (df.iloc[i,9] >=50) & (df.iloc[i,9]<70):\n",
    "        df.iloc[i,10]=\"برتقالي\"\n",
    "    elif (df.iloc[i,9] >=70) :\n",
    "        df.iloc[i,10]=\"أخضر\"\n",
    "\n",
    "df.head()"
   ]
  },
  {
   "cell_type": "code",
   "execution_count": 9,
   "id": "b52127d8",
   "metadata": {},
   "outputs": [
    {
     "data": {
      "text/html": [
       "<div>\n",
       "<style scoped>\n",
       "    .dataframe tbody tr th:only-of-type {\n",
       "        vertical-align: middle;\n",
       "    }\n",
       "\n",
       "    .dataframe tbody tr th {\n",
       "        vertical-align: top;\n",
       "    }\n",
       "\n",
       "    .dataframe thead th {\n",
       "        text-align: right;\n",
       "    }\n",
       "</style>\n",
       "<table border=\"1\" class=\"dataframe\">\n",
       "  <thead>\n",
       "    <tr style=\"text-align: right;\">\n",
       "      <th></th>\n",
       "      <th>مرجعية</th>\n",
       "      <th>تحليل</th>\n",
       "      <th>تصميم</th>\n",
       "      <th>برمجة</th>\n",
       "      <th>اختبار</th>\n",
       "      <th>نتائج</th>\n",
       "      <th>تقرير</th>\n",
       "      <th>عرض</th>\n",
       "      <th>غيتهاب</th>\n",
       "      <th>متوسط</th>\n",
       "    </tr>\n",
       "  </thead>\n",
       "  <tbody>\n",
       "    <tr>\n",
       "      <th>count</th>\n",
       "      <td>2500.000000</td>\n",
       "      <td>2500.000000</td>\n",
       "      <td>2500.000000</td>\n",
       "      <td>2500.000000</td>\n",
       "      <td>2500.000000</td>\n",
       "      <td>2500.000000</td>\n",
       "      <td>2500.000000</td>\n",
       "      <td>2500.000000</td>\n",
       "      <td>2500.000000</td>\n",
       "      <td>2500.000000</td>\n",
       "    </tr>\n",
       "    <tr>\n",
       "      <th>mean</th>\n",
       "      <td>54.337600</td>\n",
       "      <td>54.351600</td>\n",
       "      <td>54.605600</td>\n",
       "      <td>54.466000</td>\n",
       "      <td>54.600000</td>\n",
       "      <td>54.333600</td>\n",
       "      <td>54.550400</td>\n",
       "      <td>54.424000</td>\n",
       "      <td>54.315200</td>\n",
       "      <td>54.656400</td>\n",
       "    </tr>\n",
       "    <tr>\n",
       "      <th>std</th>\n",
       "      <td>21.331536</td>\n",
       "      <td>21.424238</td>\n",
       "      <td>21.321592</td>\n",
       "      <td>21.405161</td>\n",
       "      <td>21.467639</td>\n",
       "      <td>21.510913</td>\n",
       "      <td>21.407409</td>\n",
       "      <td>21.416902</td>\n",
       "      <td>21.492097</td>\n",
       "      <td>20.877162</td>\n",
       "    </tr>\n",
       "    <tr>\n",
       "      <th>min</th>\n",
       "      <td>18.000000</td>\n",
       "      <td>16.000000</td>\n",
       "      <td>15.000000</td>\n",
       "      <td>17.000000</td>\n",
       "      <td>16.000000</td>\n",
       "      <td>17.000000</td>\n",
       "      <td>16.000000</td>\n",
       "      <td>16.000000</td>\n",
       "      <td>15.000000</td>\n",
       "      <td>25.000000</td>\n",
       "    </tr>\n",
       "    <tr>\n",
       "      <th>25%</th>\n",
       "      <td>36.000000</td>\n",
       "      <td>36.000000</td>\n",
       "      <td>36.000000</td>\n",
       "      <td>36.000000</td>\n",
       "      <td>37.000000</td>\n",
       "      <td>35.750000</td>\n",
       "      <td>36.000000</td>\n",
       "      <td>35.000000</td>\n",
       "      <td>35.750000</td>\n",
       "      <td>31.000000</td>\n",
       "    </tr>\n",
       "    <tr>\n",
       "      <th>50%</th>\n",
       "      <td>51.000000</td>\n",
       "      <td>51.000000</td>\n",
       "      <td>52.000000</td>\n",
       "      <td>51.000000</td>\n",
       "      <td>52.000000</td>\n",
       "      <td>51.000000</td>\n",
       "      <td>52.000000</td>\n",
       "      <td>51.000000</td>\n",
       "      <td>51.000000</td>\n",
       "      <td>52.000000</td>\n",
       "    </tr>\n",
       "    <tr>\n",
       "      <th>75%</th>\n",
       "      <td>80.000000</td>\n",
       "      <td>80.000000</td>\n",
       "      <td>80.000000</td>\n",
       "      <td>80.000000</td>\n",
       "      <td>81.000000</td>\n",
       "      <td>80.000000</td>\n",
       "      <td>80.000000</td>\n",
       "      <td>80.000000</td>\n",
       "      <td>80.000000</td>\n",
       "      <td>84.000000</td>\n",
       "    </tr>\n",
       "    <tr>\n",
       "      <th>max</th>\n",
       "      <td>96.000000</td>\n",
       "      <td>94.000000</td>\n",
       "      <td>95.000000</td>\n",
       "      <td>95.000000</td>\n",
       "      <td>96.000000</td>\n",
       "      <td>97.000000</td>\n",
       "      <td>95.000000</td>\n",
       "      <td>96.000000</td>\n",
       "      <td>93.000000</td>\n",
       "      <td>89.000000</td>\n",
       "    </tr>\n",
       "  </tbody>\n",
       "</table>\n",
       "</div>"
      ],
      "text/plain": [
       "            مرجعية        تحليل        تصميم        برمجة       اختبار  \\\n",
       "count  2500.000000  2500.000000  2500.000000  2500.000000  2500.000000   \n",
       "mean     54.337600    54.351600    54.605600    54.466000    54.600000   \n",
       "std      21.331536    21.424238    21.321592    21.405161    21.467639   \n",
       "min      18.000000    16.000000    15.000000    17.000000    16.000000   \n",
       "25%      36.000000    36.000000    36.000000    36.000000    37.000000   \n",
       "50%      51.000000    51.000000    52.000000    51.000000    52.000000   \n",
       "75%      80.000000    80.000000    80.000000    80.000000    81.000000   \n",
       "max      96.000000    94.000000    95.000000    95.000000    96.000000   \n",
       "\n",
       "             نتائج        تقرير          عرض       غيتهاب        متوسط  \n",
       "count  2500.000000  2500.000000  2500.000000  2500.000000  2500.000000  \n",
       "mean     54.333600    54.550400    54.424000    54.315200    54.656400  \n",
       "std      21.510913    21.407409    21.416902    21.492097    20.877162  \n",
       "min      17.000000    16.000000    16.000000    15.000000    25.000000  \n",
       "25%      35.750000    36.000000    35.000000    35.750000    31.000000  \n",
       "50%      51.000000    52.000000    51.000000    51.000000    52.000000  \n",
       "75%      80.000000    80.000000    80.000000    80.000000    84.000000  \n",
       "max      97.000000    95.000000    96.000000    93.000000    89.000000  "
      ]
     },
     "execution_count": 9,
     "metadata": {},
     "output_type": "execute_result"
    }
   ],
   "source": [
    "df.describe()"
   ]
  },
  {
   "cell_type": "code",
   "execution_count": 10,
   "id": "c15ffc83",
   "metadata": {},
   "outputs": [
    {
     "name": "stdout",
     "output_type": "stream",
     "text": [
      "\n",
      "number of samples :  2500\n",
      "Index(['مرجعية', 'تحليل', 'تصميم', 'برمجة', 'اختبار', 'نتائج', 'تقرير', 'عرض',\n",
      "       'غيتهاب', 'متوسط', 'تصنيف'],\n",
      "      dtype='object')\n"
     ]
    }
   ],
   "source": [
    "print(\"\\nnumber of samples : \" , df.count().max())\n",
    "print(df.columns)"
   ]
  },
  {
   "cell_type": "markdown",
   "id": "a7860501",
   "metadata": {},
   "source": [
    "### Duplicate check"
   ]
  },
  {
   "cell_type": "code",
   "execution_count": 11,
   "id": "b527bbbb",
   "metadata": {},
   "outputs": [
    {
     "name": "stdout",
     "output_type": "stream",
     "text": [
      "number of duplicate row:  0\n"
     ]
    }
   ],
   "source": [
    "print(\"number of duplicate row: \",df.duplicated().sum())"
   ]
  },
  {
   "cell_type": "markdown",
   "id": "42d67436",
   "metadata": {},
   "source": [
    "### data embalance check"
   ]
  },
  {
   "cell_type": "code",
   "execution_count": 12,
   "id": "6712372f",
   "metadata": {},
   "outputs": [
    {
     "name": "stdout",
     "output_type": "stream",
     "text": [
      "The number of samples in the class 'red' :  848\n",
      "The number of samples in the class 'orange' :  1002\n",
      "The number of samples in the class 'green' :  650\n"
     ]
    },
    {
     "data": {
      "application/vnd.plotly.v1+json": {
       "config": {
        "plotlyServerURL": "https://plot.ly"
       },
       "data": [
        {
         "domain": {
          "x": [
           0,
           1
          ],
          "y": [
           0,
           1
          ]
         },
         "hovertemplate": "label=%{label}<br>value=%{value}<extra></extra>",
         "labels": [
          "orange",
          "red",
          "green"
         ],
         "legendgroup": "",
         "name": "",
         "showlegend": true,
         "type": "pie",
         "values": [
          1002,
          848,
          650
         ]
        }
       ],
       "layout": {
        "height": 400,
        "legend": {
         "tracegroupgap": 0
        },
        "piecolorway": [
         "orange",
         "red",
         "green"
        ],
        "template": {
         "data": {
          "bar": [
           {
            "error_x": {
             "color": "#2a3f5f"
            },
            "error_y": {
             "color": "#2a3f5f"
            },
            "marker": {
             "line": {
              "color": "#E5ECF6",
              "width": 0.5
             },
             "pattern": {
              "fillmode": "overlay",
              "size": 10,
              "solidity": 0.2
             }
            },
            "type": "bar"
           }
          ],
          "barpolar": [
           {
            "marker": {
             "line": {
              "color": "#E5ECF6",
              "width": 0.5
             },
             "pattern": {
              "fillmode": "overlay",
              "size": 10,
              "solidity": 0.2
             }
            },
            "type": "barpolar"
           }
          ],
          "carpet": [
           {
            "aaxis": {
             "endlinecolor": "#2a3f5f",
             "gridcolor": "white",
             "linecolor": "white",
             "minorgridcolor": "white",
             "startlinecolor": "#2a3f5f"
            },
            "baxis": {
             "endlinecolor": "#2a3f5f",
             "gridcolor": "white",
             "linecolor": "white",
             "minorgridcolor": "white",
             "startlinecolor": "#2a3f5f"
            },
            "type": "carpet"
           }
          ],
          "choropleth": [
           {
            "colorbar": {
             "outlinewidth": 0,
             "ticks": ""
            },
            "type": "choropleth"
           }
          ],
          "contour": [
           {
            "colorbar": {
             "outlinewidth": 0,
             "ticks": ""
            },
            "colorscale": [
             [
              0,
              "#0d0887"
             ],
             [
              0.1111111111111111,
              "#46039f"
             ],
             [
              0.2222222222222222,
              "#7201a8"
             ],
             [
              0.3333333333333333,
              "#9c179e"
             ],
             [
              0.4444444444444444,
              "#bd3786"
             ],
             [
              0.5555555555555556,
              "#d8576b"
             ],
             [
              0.6666666666666666,
              "#ed7953"
             ],
             [
              0.7777777777777778,
              "#fb9f3a"
             ],
             [
              0.8888888888888888,
              "#fdca26"
             ],
             [
              1,
              "#f0f921"
             ]
            ],
            "type": "contour"
           }
          ],
          "contourcarpet": [
           {
            "colorbar": {
             "outlinewidth": 0,
             "ticks": ""
            },
            "type": "contourcarpet"
           }
          ],
          "heatmap": [
           {
            "colorbar": {
             "outlinewidth": 0,
             "ticks": ""
            },
            "colorscale": [
             [
              0,
              "#0d0887"
             ],
             [
              0.1111111111111111,
              "#46039f"
             ],
             [
              0.2222222222222222,
              "#7201a8"
             ],
             [
              0.3333333333333333,
              "#9c179e"
             ],
             [
              0.4444444444444444,
              "#bd3786"
             ],
             [
              0.5555555555555556,
              "#d8576b"
             ],
             [
              0.6666666666666666,
              "#ed7953"
             ],
             [
              0.7777777777777778,
              "#fb9f3a"
             ],
             [
              0.8888888888888888,
              "#fdca26"
             ],
             [
              1,
              "#f0f921"
             ]
            ],
            "type": "heatmap"
           }
          ],
          "heatmapgl": [
           {
            "colorbar": {
             "outlinewidth": 0,
             "ticks": ""
            },
            "colorscale": [
             [
              0,
              "#0d0887"
             ],
             [
              0.1111111111111111,
              "#46039f"
             ],
             [
              0.2222222222222222,
              "#7201a8"
             ],
             [
              0.3333333333333333,
              "#9c179e"
             ],
             [
              0.4444444444444444,
              "#bd3786"
             ],
             [
              0.5555555555555556,
              "#d8576b"
             ],
             [
              0.6666666666666666,
              "#ed7953"
             ],
             [
              0.7777777777777778,
              "#fb9f3a"
             ],
             [
              0.8888888888888888,
              "#fdca26"
             ],
             [
              1,
              "#f0f921"
             ]
            ],
            "type": "heatmapgl"
           }
          ],
          "histogram": [
           {
            "marker": {
             "pattern": {
              "fillmode": "overlay",
              "size": 10,
              "solidity": 0.2
             }
            },
            "type": "histogram"
           }
          ],
          "histogram2d": [
           {
            "colorbar": {
             "outlinewidth": 0,
             "ticks": ""
            },
            "colorscale": [
             [
              0,
              "#0d0887"
             ],
             [
              0.1111111111111111,
              "#46039f"
             ],
             [
              0.2222222222222222,
              "#7201a8"
             ],
             [
              0.3333333333333333,
              "#9c179e"
             ],
             [
              0.4444444444444444,
              "#bd3786"
             ],
             [
              0.5555555555555556,
              "#d8576b"
             ],
             [
              0.6666666666666666,
              "#ed7953"
             ],
             [
              0.7777777777777778,
              "#fb9f3a"
             ],
             [
              0.8888888888888888,
              "#fdca26"
             ],
             [
              1,
              "#f0f921"
             ]
            ],
            "type": "histogram2d"
           }
          ],
          "histogram2dcontour": [
           {
            "colorbar": {
             "outlinewidth": 0,
             "ticks": ""
            },
            "colorscale": [
             [
              0,
              "#0d0887"
             ],
             [
              0.1111111111111111,
              "#46039f"
             ],
             [
              0.2222222222222222,
              "#7201a8"
             ],
             [
              0.3333333333333333,
              "#9c179e"
             ],
             [
              0.4444444444444444,
              "#bd3786"
             ],
             [
              0.5555555555555556,
              "#d8576b"
             ],
             [
              0.6666666666666666,
              "#ed7953"
             ],
             [
              0.7777777777777778,
              "#fb9f3a"
             ],
             [
              0.8888888888888888,
              "#fdca26"
             ],
             [
              1,
              "#f0f921"
             ]
            ],
            "type": "histogram2dcontour"
           }
          ],
          "mesh3d": [
           {
            "colorbar": {
             "outlinewidth": 0,
             "ticks": ""
            },
            "type": "mesh3d"
           }
          ],
          "parcoords": [
           {
            "line": {
             "colorbar": {
              "outlinewidth": 0,
              "ticks": ""
             }
            },
            "type": "parcoords"
           }
          ],
          "pie": [
           {
            "automargin": true,
            "type": "pie"
           }
          ],
          "scatter": [
           {
            "fillpattern": {
             "fillmode": "overlay",
             "size": 10,
             "solidity": 0.2
            },
            "type": "scatter"
           }
          ],
          "scatter3d": [
           {
            "line": {
             "colorbar": {
              "outlinewidth": 0,
              "ticks": ""
             }
            },
            "marker": {
             "colorbar": {
              "outlinewidth": 0,
              "ticks": ""
             }
            },
            "type": "scatter3d"
           }
          ],
          "scattercarpet": [
           {
            "marker": {
             "colorbar": {
              "outlinewidth": 0,
              "ticks": ""
             }
            },
            "type": "scattercarpet"
           }
          ],
          "scattergeo": [
           {
            "marker": {
             "colorbar": {
              "outlinewidth": 0,
              "ticks": ""
             }
            },
            "type": "scattergeo"
           }
          ],
          "scattergl": [
           {
            "marker": {
             "colorbar": {
              "outlinewidth": 0,
              "ticks": ""
             }
            },
            "type": "scattergl"
           }
          ],
          "scattermapbox": [
           {
            "marker": {
             "colorbar": {
              "outlinewidth": 0,
              "ticks": ""
             }
            },
            "type": "scattermapbox"
           }
          ],
          "scatterpolar": [
           {
            "marker": {
             "colorbar": {
              "outlinewidth": 0,
              "ticks": ""
             }
            },
            "type": "scatterpolar"
           }
          ],
          "scatterpolargl": [
           {
            "marker": {
             "colorbar": {
              "outlinewidth": 0,
              "ticks": ""
             }
            },
            "type": "scatterpolargl"
           }
          ],
          "scatterternary": [
           {
            "marker": {
             "colorbar": {
              "outlinewidth": 0,
              "ticks": ""
             }
            },
            "type": "scatterternary"
           }
          ],
          "surface": [
           {
            "colorbar": {
             "outlinewidth": 0,
             "ticks": ""
            },
            "colorscale": [
             [
              0,
              "#0d0887"
             ],
             [
              0.1111111111111111,
              "#46039f"
             ],
             [
              0.2222222222222222,
              "#7201a8"
             ],
             [
              0.3333333333333333,
              "#9c179e"
             ],
             [
              0.4444444444444444,
              "#bd3786"
             ],
             [
              0.5555555555555556,
              "#d8576b"
             ],
             [
              0.6666666666666666,
              "#ed7953"
             ],
             [
              0.7777777777777778,
              "#fb9f3a"
             ],
             [
              0.8888888888888888,
              "#fdca26"
             ],
             [
              1,
              "#f0f921"
             ]
            ],
            "type": "surface"
           }
          ],
          "table": [
           {
            "cells": {
             "fill": {
              "color": "#EBF0F8"
             },
             "line": {
              "color": "white"
             }
            },
            "header": {
             "fill": {
              "color": "#C8D4E3"
             },
             "line": {
              "color": "white"
             }
            },
            "type": "table"
           }
          ]
         },
         "layout": {
          "annotationdefaults": {
           "arrowcolor": "#2a3f5f",
           "arrowhead": 0,
           "arrowwidth": 1
          },
          "autotypenumbers": "strict",
          "coloraxis": {
           "colorbar": {
            "outlinewidth": 0,
            "ticks": ""
           }
          },
          "colorscale": {
           "diverging": [
            [
             0,
             "#8e0152"
            ],
            [
             0.1,
             "#c51b7d"
            ],
            [
             0.2,
             "#de77ae"
            ],
            [
             0.3,
             "#f1b6da"
            ],
            [
             0.4,
             "#fde0ef"
            ],
            [
             0.5,
             "#f7f7f7"
            ],
            [
             0.6,
             "#e6f5d0"
            ],
            [
             0.7,
             "#b8e186"
            ],
            [
             0.8,
             "#7fbc41"
            ],
            [
             0.9,
             "#4d9221"
            ],
            [
             1,
             "#276419"
            ]
           ],
           "sequential": [
            [
             0,
             "#0d0887"
            ],
            [
             0.1111111111111111,
             "#46039f"
            ],
            [
             0.2222222222222222,
             "#7201a8"
            ],
            [
             0.3333333333333333,
             "#9c179e"
            ],
            [
             0.4444444444444444,
             "#bd3786"
            ],
            [
             0.5555555555555556,
             "#d8576b"
            ],
            [
             0.6666666666666666,
             "#ed7953"
            ],
            [
             0.7777777777777778,
             "#fb9f3a"
            ],
            [
             0.8888888888888888,
             "#fdca26"
            ],
            [
             1,
             "#f0f921"
            ]
           ],
           "sequentialminus": [
            [
             0,
             "#0d0887"
            ],
            [
             0.1111111111111111,
             "#46039f"
            ],
            [
             0.2222222222222222,
             "#7201a8"
            ],
            [
             0.3333333333333333,
             "#9c179e"
            ],
            [
             0.4444444444444444,
             "#bd3786"
            ],
            [
             0.5555555555555556,
             "#d8576b"
            ],
            [
             0.6666666666666666,
             "#ed7953"
            ],
            [
             0.7777777777777778,
             "#fb9f3a"
            ],
            [
             0.8888888888888888,
             "#fdca26"
            ],
            [
             1,
             "#f0f921"
            ]
           ]
          },
          "colorway": [
           "#636efa",
           "#EF553B",
           "#00cc96",
           "#ab63fa",
           "#FFA15A",
           "#19d3f3",
           "#FF6692",
           "#B6E880",
           "#FF97FF",
           "#FECB52"
          ],
          "font": {
           "color": "#2a3f5f"
          },
          "geo": {
           "bgcolor": "white",
           "lakecolor": "white",
           "landcolor": "#E5ECF6",
           "showlakes": true,
           "showland": true,
           "subunitcolor": "white"
          },
          "hoverlabel": {
           "align": "left"
          },
          "hovermode": "closest",
          "mapbox": {
           "style": "light"
          },
          "paper_bgcolor": "white",
          "plot_bgcolor": "#E5ECF6",
          "polar": {
           "angularaxis": {
            "gridcolor": "white",
            "linecolor": "white",
            "ticks": ""
           },
           "bgcolor": "#E5ECF6",
           "radialaxis": {
            "gridcolor": "white",
            "linecolor": "white",
            "ticks": ""
           }
          },
          "scene": {
           "xaxis": {
            "backgroundcolor": "#E5ECF6",
            "gridcolor": "white",
            "gridwidth": 2,
            "linecolor": "white",
            "showbackground": true,
            "ticks": "",
            "zerolinecolor": "white"
           },
           "yaxis": {
            "backgroundcolor": "#E5ECF6",
            "gridcolor": "white",
            "gridwidth": 2,
            "linecolor": "white",
            "showbackground": true,
            "ticks": "",
            "zerolinecolor": "white"
           },
           "zaxis": {
            "backgroundcolor": "#E5ECF6",
            "gridcolor": "white",
            "gridwidth": 2,
            "linecolor": "white",
            "showbackground": true,
            "ticks": "",
            "zerolinecolor": "white"
           }
          },
          "shapedefaults": {
           "line": {
            "color": "#2a3f5f"
           }
          },
          "ternary": {
           "aaxis": {
            "gridcolor": "white",
            "linecolor": "white",
            "ticks": ""
           },
           "baxis": {
            "gridcolor": "white",
            "linecolor": "white",
            "ticks": ""
           },
           "bgcolor": "#E5ECF6",
           "caxis": {
            "gridcolor": "white",
            "linecolor": "white",
            "ticks": ""
           }
          },
          "title": {
           "x": 0.05
          },
          "xaxis": {
           "automargin": true,
           "gridcolor": "white",
           "linecolor": "white",
           "ticks": "",
           "title": {
            "standoff": 15
           },
           "zerolinecolor": "white",
           "zerolinewidth": 2
          },
          "yaxis": {
           "automargin": true,
           "gridcolor": "white",
           "linecolor": "white",
           "ticks": "",
           "title": {
            "standoff": 15
           },
           "zerolinecolor": "white",
           "zerolinewidth": 2
          }
         }
        },
        "title": {
         "text": "Marks distribute"
        },
        "width": 700
       }
      }
     },
     "metadata": {},
     "output_type": "display_data"
    }
   ],
   "source": [
    "print(\"The number of samples in the class 'red' : \" , df['تصنيف'][df['تصنيف'] == \"أحمر\"].count())\n",
    "print(\"The number of samples in the class 'orange' : \" , df['تصنيف'][df['تصنيف'] == \"برتقالي\"].count())\n",
    "print(\"The number of samples in the class 'green' : \" , df['تصنيف'][df['تصنيف'] == \"أخضر\"].count())\n",
    "\n",
    "import plotly.express as px\n",
    "\n",
    "colors = {\"red\":df['تصنيف'][df['تصنيف'] == \"أحمر\"].count(), \"orange\":df['تصنيف'][df['تصنيف'] == \"برتقالي\"].count(), \"green\":df['تصنيف'][df['تصنيف'] == \"أخضر\"].count()}\n",
    "sorted_colors = dict(sorted(colors.items(), key=lambda x: x[1], reverse=True))\n",
    "\n",
    "fig = px.pie(values=list(sorted_colors.values()), names=list(sorted_colors.keys()), width=700, height=400, color_discrete_sequence=list(sorted_colors.keys()), title=\"Marks distribute\")\n",
    "\n",
    "fig.show()"
   ]
  },
  {
   "cell_type": "markdown",
   "id": "7b1cb384",
   "metadata": {},
   "source": [
    "### checking for outliers"
   ]
  },
  {
   "cell_type": "code",
   "execution_count": 13,
   "id": "380f9000",
   "metadata": {},
   "outputs": [],
   "source": [
    "numerical_columns = list(df.loc[:,['متوسط']])"
   ]
  },
  {
   "cell_type": "code",
   "execution_count": 14,
   "id": "e9b6bff9",
   "metadata": {},
   "outputs": [
    {
     "data": {
      "image/png": "[encoded data removed]",
      "text/plain": [
       "<Figure size 640x480 with 1 Axes>"
      ]
     },
     "metadata": {},
     "output_type": "display_data"
    }
   ],
   "source": [
    "# checking boxplots\n",
    "fig, axs = plt.subplots(1, 1, sharey=True)\n",
    "fig.suptitle('Boxplots for each variable', y=1, size=25)\n",
    "\n",
    "for i, data in enumerate(numerical_columns):\n",
    "    sns.boxplot(data=df[data], orient='h', ax=axs)\n",
    "    axs.set_title(data + ', skewness is: ' + str(round(df[data].skew(axis=0, skipna=True), 2)))\n",
    "\n",
    "plt.tight_layout()"
   ]
  },
  {
   "cell_type": "code",
   "execution_count": 15,
   "id": "e6c59519",
   "metadata": {},
   "outputs": [],
   "source": [
    "from collections import Counter\n",
    "def IQR_method (df,n,features):\n",
    "    \"\"\"\n",
    "    Takes a dataframe and returns an index list corresponding to the observations \n",
    "    containing more than n outliers according to the Tukey IQR method.\n",
    "    \"\"\"\n",
    "    outlier_list = []\n",
    "    \n",
    "    for column in features:\n",
    "        # 1st quartile (25%)\n",
    "        Q1 = np.percentile(df[column], 25)\n",
    "        # 3rd quartile (75%)\n",
    "        Q3 = np.percentile(df[column],75)\n",
    "        # Interquartile range (IQR)\n",
    "        IQR = Q3 - Q1\n",
    "        # outlier step\n",
    "        outlier_step = 1.5 * IQR\n",
    "        # Determining a list of indices of outliers\n",
    "        outlier_list_column = df[(df[column] < Q1 - outlier_step) | (df[column] > Q3 + outlier_step )].index\n",
    "        # appending the list of outliers \n",
    "        outlier_list.extend(outlier_list_column)\n",
    "         # selecting observations containing more than x outliers\n",
    "        outlier_list = Counter(outlier_list)        \n",
    "        multiple_outliers = list( k for k, v in outlier_list.items() if v > n )\n",
    "        \n",
    "        # Calculate the number of records below and above lower and above bound value respectively\n",
    "        out1 = df[df[column] < Q1 - outlier_step]\n",
    "        out2 = df[df[column] > Q3 + outlier_step]\n",
    "        \n",
    "        print('Total number of deleted outliers is:', out1.shape[0]+out2.shape[0])\n",
    "        return multiple_outliers"
   ]
  },
  {
   "cell_type": "code",
   "execution_count": 16,
   "id": "5d086223",
   "metadata": {},
   "outputs": [
    {
     "name": "stdout",
     "output_type": "stream",
     "text": [
      "Total number of deleted outliers is: 0\n"
     ]
    }
   ],
   "source": [
    "# detecting outliers\n",
    "Outliers_IQR = IQR_method(df,1,numerical_columns)\n",
    "\n",
    "# dropping outliers\n",
    "df = df.drop(Outliers_IQR, axis = 0).reset_index(drop=True)"
   ]
  },
  {
   "cell_type": "code",
   "execution_count": 17,
   "id": "6cd43cbd",
   "metadata": {},
   "outputs": [
    {
     "data": {
      "text/plain": [
       "(2500, 11)"
      ]
     },
     "execution_count": 17,
     "metadata": {},
     "output_type": "execute_result"
    }
   ],
   "source": [
    "df.shape"
   ]
  },
  {
   "cell_type": "markdown",
   "id": "35bb375d",
   "metadata": {},
   "source": [
    "### imputaion  missing"
   ]
  },
  {
   "cell_type": "code",
   "execution_count": 18,
   "id": "12b64040",
   "metadata": {},
   "outputs": [
    {
     "data": {
      "text/plain": [
       "مرجعية    0\n",
       "تحليل     0\n",
       "تصميم     0\n",
       "برمجة     0\n",
       "اختبار    0\n",
       "نتائج     0\n",
       "تقرير     0\n",
       "عرض       0\n",
       "غيتهاب    0\n",
       "متوسط     0\n",
       "تصنيف     0\n",
       "dtype: int64"
      ]
     },
     "execution_count": 18,
     "metadata": {},
     "output_type": "execute_result"
    }
   ],
   "source": [
    "df.isna().sum()"
   ]
  },
  {
   "cell_type": "markdown",
   "id": "81027221",
   "metadata": {},
   "source": [
    "### data_split"
   ]
  },
  {
   "cell_type": "code",
   "execution_count": 19,
   "id": "f7e05fd6",
   "metadata": {},
   "outputs": [],
   "source": [
    "from sklearn.model_selection import train_test_split\n",
    "\n",
    "df=df.drop(['متوسط'],axis=1)\n",
    "\n",
    "x=df.drop(['تصنيف'],axis=1)\n",
    "y=df['تصنيف']\n",
    "\n",
    "x_train ,x_test ,y_train ,y_test = train_test_split(x,y, test_size=0.3,shuffle=True, random_state=42)\n",
    "x_train, x_test = x_train.reset_index(drop=True), x_test.reset_index(drop=True)\n",
    "y_train, y_test = y_train.reset_index(drop=True), y_test.reset_index(drop=True)"
   ]
  },
  {
   "cell_type": "markdown",
   "id": "05e2906c",
   "metadata": {},
   "source": [
    "## building and evaluation models"
   ]
  },
  {
   "cell_type": "markdown",
   "id": "bb65027e",
   "metadata": {},
   "source": [
    "### import libraris"
   ]
  },
  {
   "cell_type": "code",
   "execution_count": 20,
   "id": "f8187461",
   "metadata": {},
   "outputs": [],
   "source": [
    "from sklearn.neighbors import KNeighborsClassifier\n",
    "from sklearn.linear_model import LogisticRegression\n",
    "from sklearn.svm import SVC\n",
    "from sklearn.ensemble import RandomForestClassifier\n",
    "from sklearn.naive_bayes import GaussianNB\n",
    "from sklearn.neural_network import MLPClassifier\n",
    "from sklearn.model_selection import GridSearchCV, KFold, cross_val_score\n",
    "from sklearn.metrics import confusion_matrix ,recall_score, precision_score, f1_score, accuracy_score, classification_report\n",
    "from yellowbrick.classifier import ROCAUC\n",
    "\n",
    "##############################################################################################\n",
    "\n",
    "kfold = KFold(n_splits=10, shuffle=True, random_state=42)\n",
    "\n",
    "##############################################################################################\n",
    "\n",
    "import warnings\n",
    "warnings.filterwarnings(\"ignore\", category=UserWarning)\n",
    "\n",
    "##############################################################################################"
   ]
  },
  {
   "cell_type": "markdown",
   "id": "1f1e8261",
   "metadata": {},
   "source": [
    "### confusion matrix"
   ]
  },
  {
   "cell_type": "code",
   "execution_count": 21,
   "id": "8721ff5b",
   "metadata": {},
   "outputs": [],
   "source": [
    "def confusion_matrix_plot(cm):\n",
    "    classes = ['class 1', 'class 2' , 'class 3' ]\n",
    "    with np.errstate(divide='ignore', invalid='ignore'):\n",
    "        cm = cm/np.sum(cm,axis=0)\n",
    "    tick_marks = np.arange(3)\n",
    "    fig, ax = plt.subplots(figsize=(10,10))\n",
    "    im = ax.imshow(cm, interpolation='nearest', cmap=plt.cm.Dark2)\n",
    "    for i in range(cm.shape[0]):\n",
    "        for j in range(cm.shape[1]):\n",
    "            text = ax.text(j, i, np.around(cm[i, j],decimals=2),\n",
    "                        ha=\"center\", va=\"center\", color=\"w\")\n",
    "    plt.title('Normalized confusion matrix for model')\n",
    "    fig.colorbar(im)\n",
    "    plt.xticks(tick_marks, classes, rotation=45)\n",
    "    plt.yticks(tick_marks, classes);"
   ]
  },
  {
   "cell_type": "markdown",
   "id": "2e0aceaa",
   "metadata": {},
   "source": [
    "### sensitivy and specifity"
   ]
  },
  {
   "cell_type": "code",
   "execution_count": 22,
   "id": "dbba2304",
   "metadata": {},
   "outputs": [],
   "source": [
    "def sensitivity_specificity(cm):\n",
    "    sensitivity = []\n",
    "    specificity = []\n",
    "\n",
    "    for i in range(len(cm)):\n",
    "        true_positive = cm[i, i]\n",
    "        false_positive = cm[:, i].sum() - true_positive\n",
    "        false_negative = cm[i, :].sum() - true_positive\n",
    "        true_negative = cm.sum() - (true_positive + false_positive + false_negative)\n",
    "\n",
    "        sensitivity.append(true_positive / (true_positive + false_negative))\n",
    "        specificity.append(true_negative / (true_negative + false_positive))\n",
    "\n",
    "    print(\"Sensitivity for each class:\", sensitivity)\n",
    "    print(\"Specificity for each class:\", specificity)\n",
    "    for i in range(len(sensitivity)):\n",
    "        print(\"Sensitivity for each class: \",i,\" is\", sensitivity[i])\n",
    "        print(\"Specificity for each class:\",i,\" is\", specificity[i])"
   ]
  },
  {
   "cell_type": "markdown",
   "id": "119b7198",
   "metadata": {},
   "source": [
    "### AUC (ROC PLOT)"
   ]
  },
  {
   "cell_type": "code",
   "execution_count": 23,
   "id": "a710c59d",
   "metadata": {},
   "outputs": [],
   "source": [
    "def plot_ROC_curve(model, x_train, y_train, x_test, y_test):\n",
    "\n",
    "    # Creating visualization with the readable labels\n",
    "    visualizer = ROCAUC(model, encoder={\"أحمر\": 'أحمر', \n",
    "                                        \"برتقالي\": 'برتقالي', \n",
    "                                        \"أخضر\": 'أخضر',\n",
    "})\n",
    "                                        \n",
    "    # Fitting to the training data first then scoring with the test data                                    \n",
    "    visualizer.fit(x_train, y_train)\n",
    "    visualizer.score(x_test, y_test)\n",
    "    visualizer.show()\n",
    "    \n",
    "    return visualizer"
   ]
  },
  {
   "cell_type": "markdown",
   "id": "c901e8c0",
   "metadata": {},
   "source": [
    "### plot table score"
   ]
  },
  {
   "cell_type": "code",
   "execution_count": 24,
   "id": "0fa5ea45",
   "metadata": {},
   "outputs": [],
   "source": [
    "def table_score(ypred):\n",
    "    Recall = recall_score(y_test, ypred, average='macro' , zero_division=1)\n",
    "    Precision = precision_score(y_test, ypred, average='macro' , zero_division=1)\n",
    "    f1 = f1_score(y_test, ypred, average='macro' , zero_division=1)\n",
    "    accuracy = accuracy_score(y_test, ypred)\n",
    "    ndf = [(Recall, Precision, f1, accuracy)]\n",
    "\n",
    "    score = pd.DataFrame(data=ndf, columns=['Recall', 'Precision', 'F1 Score', 'Accuracy'])\n",
    "    return score"
   ]
  },
  {
   "cell_type": "markdown",
   "id": "b5727a60",
   "metadata": {},
   "source": [
    "### KNN model"
   ]
  },
  {
   "cell_type": "code",
   "execution_count": 25,
   "id": "4e67829d",
   "metadata": {},
   "outputs": [
    {
     "name": "stdout",
     "output_type": "stream",
     "text": [
      "Test score: 0.96\n"
     ]
    }
   ],
   "source": [
    "knn1 = KNeighborsClassifier(n_neighbors=5, weights='uniform', algorithm='auto', leaf_size=30, p=2, metric='minkowski')\n",
    "knn1.fit(x_train , y_train)\n",
    "print(\"Test score: {:.2f}\".format(knn1.score(x_test , y_test)))"
   ]
  },
  {
   "cell_type": "code",
   "execution_count": 26,
   "id": "7b16455d",
   "metadata": {},
   "outputs": [
    {
     "name": "stdout",
     "output_type": "stream",
     "text": [
      "Fitting 10 folds for each of 24 candidates, totalling 240 fits\n",
      "[CV 1/10] END metric=euclidean, n_neighbors=1, weights=uniform;, score=0.931 total time=   0.0s\n",
      "[CV 2/10] END metric=euclidean, n_neighbors=1, weights=uniform;, score=0.971 total time=   0.0s\n",
      "[CV 3/10] END metric=euclidean, n_neighbors=1, weights=uniform;, score=0.954 total time=   0.0s\n",
      "[CV 4/10] END metric=euclidean, n_neighbors=1, weights=uniform;, score=0.943 total time=   0.0s\n",
      "[CV 5/10] END metric=euclidean, n_neighbors=1, weights=uniform;, score=0.949 total time=   0.0s\n",
      "[CV 6/10] END metric=euclidean, n_neighbors=1, weights=uniform;, score=0.931 total time=   0.0s\n",
      "[CV 7/10] END metric=euclidean, n_neighbors=1, weights=uniform;, score=0.960 total time=   0.0s\n",
      "[CV 8/10] END metric=euclidean, n_neighbors=1, weights=uniform;, score=0.960 total time=   0.0s\n",
      "[CV 9/10] END metric=euclidean, n_neighbors=1, weights=uniform;, score=0.937 total time=   0.0s\n",
      "[CV 10/10] END metric=euclidean, n_neighbors=1, weights=uniform;, score=0.914 total time=   0.0s\n",
      "[CV 1/10] END metric=euclidean, n_neighbors=1, weights=distance;, score=0.931 total time=   0.0s\n",
      "[CV 2/10] END metric=euclidean, n_neighbors=1, weights=distance;, score=0.971 total time=   0.0s\n",
      "[CV 3/10] END metric=euclidean, n_neighbors=1, weights=distance;, score=0.954 total time=   0.0s\n",
      "[CV 4/10] END metric=euclidean, n_neighbors=1, weights=distance;, score=0.943 total time=   0.0s\n",
      "[CV 5/10] END metric=euclidean, n_neighbors=1, weights=distance;, score=0.949 total time=   0.0s\n",
      "[CV 6/10] END metric=euclidean, n_neighbors=1, weights=distance;, score=0.931 total time=   0.0s\n",
      "[CV 7/10] END metric=euclidean, n_neighbors=1, weights=distance;, score=0.960 total time=   0.0s\n",
      "[CV 8/10] END metric=euclidean, n_neighbors=1, weights=distance;, score=0.960 total time=   0.0s\n",
      "[CV 9/10] END metric=euclidean, n_neighbors=1, weights=distance;, score=0.937 total time=   0.0s\n",
      "[CV 10/10] END metric=euclidean, n_neighbors=1, weights=distance;, score=0.914 total time=   0.0s\n",
      "[CV 1/10] END metric=euclidean, n_neighbors=10, weights=uniform;, score=0.909 total time=   0.0s\n",
      "[CV 2/10] END metric=euclidean, n_neighbors=10, weights=uniform;, score=0.971 total time=   0.0s\n",
      "[CV 3/10] END metric=euclidean, n_neighbors=10, weights=uniform;, score=0.937 total time=   0.0s\n",
      "[CV 4/10] END metric=euclidean, n_neighbors=10, weights=uniform;, score=0.954 total time=   0.0s\n",
      "[CV 5/10] END metric=euclidean, n_neighbors=10, weights=uniform;, score=0.971 total time=   0.0s\n",
      "[CV 6/10] END metric=euclidean, n_neighbors=10, weights=uniform;, score=0.931 total time=   0.0s\n",
      "[CV 7/10] END metric=euclidean, n_neighbors=10, weights=uniform;, score=0.926 total time=   0.0s\n",
      "[CV 8/10] END metric=euclidean, n_neighbors=10, weights=uniform;, score=0.954 total time=   0.0s\n",
      "[CV 9/10] END metric=euclidean, n_neighbors=10, weights=uniform;, score=0.949 total time=   0.0s\n",
      "[CV 10/10] END metric=euclidean, n_neighbors=10, weights=uniform;, score=0.937 total time=   0.0s\n",
      "[CV 1/10] END metric=euclidean, n_neighbors=10, weights=distance;, score=0.909 total time=   0.0s\n",
      "[CV 2/10] END metric=euclidean, n_neighbors=10, weights=distance;, score=0.971 total time=   0.0s\n",
      "[CV 3/10] END metric=euclidean, n_neighbors=10, weights=distance;, score=0.943 total time=   0.0s\n",
      "[CV 4/10] END metric=euclidean, n_neighbors=10, weights=distance;, score=0.949 total time=   0.0s\n",
      "[CV 5/10] END metric=euclidean, n_neighbors=10, weights=distance;, score=0.971 total time=   0.0s\n",
      "[CV 6/10] END metric=euclidean, n_neighbors=10, weights=distance;, score=0.914 total time=   0.0s\n",
      "[CV 7/10] END metric=euclidean, n_neighbors=10, weights=distance;, score=0.926 total time=   0.0s\n",
      "[CV 8/10] END metric=euclidean, n_neighbors=10, weights=distance;, score=0.954 total time=   0.0s\n",
      "[CV 9/10] END metric=euclidean, n_neighbors=10, weights=distance;, score=0.949 total time=   0.0s\n",
      "[CV 10/10] END metric=euclidean, n_neighbors=10, weights=distance;, score=0.937 total time=   0.0s\n",
      "[CV 1/10] END metric=euclidean, n_neighbors=100, weights=uniform;, score=0.891 total time=   0.0s\n",
      "[CV 2/10] END metric=euclidean, n_neighbors=100, weights=uniform;, score=0.931 total time=   0.0s\n",
      "[CV 3/10] END metric=euclidean, n_neighbors=100, weights=uniform;, score=0.903 total time=   0.0s\n",
      "[CV 4/10] END metric=euclidean, n_neighbors=100, weights=uniform;, score=0.949 total time=   0.0s\n",
      "[CV 5/10] END metric=euclidean, n_neighbors=100, weights=uniform;, score=0.926 total time=   0.0s\n",
      "[CV 6/10] END metric=euclidean, n_neighbors=100, weights=uniform;, score=0.891 total time=   0.0s\n",
      "[CV 7/10] END metric=euclidean, n_neighbors=100, weights=uniform;, score=0.920 total time=   0.0s\n",
      "[CV 8/10] END metric=euclidean, n_neighbors=100, weights=uniform;, score=0.931 total time=   0.0s\n",
      "[CV 9/10] END metric=euclidean, n_neighbors=100, weights=uniform;, score=0.914 total time=   0.0s\n",
      "[CV 10/10] END metric=euclidean, n_neighbors=100, weights=uniform;, score=0.920 total time=   0.0s\n",
      "[CV 1/10] END metric=euclidean, n_neighbors=100, weights=distance;, score=0.891 total time=   0.0s\n",
      "[CV 2/10] END metric=euclidean, n_neighbors=100, weights=distance;, score=0.937 total time=   0.0s\n",
      "[CV 3/10] END metric=euclidean, n_neighbors=100, weights=distance;, score=0.903 total time=   0.0s\n",
      "[CV 4/10] END metric=euclidean, n_neighbors=100, weights=distance;, score=0.949 total time=   0.0s\n",
      "[CV 5/10] END metric=euclidean, n_neighbors=100, weights=distance;, score=0.926 total time=   0.0s\n",
      "[CV 6/10] END metric=euclidean, n_neighbors=100, weights=distance;, score=0.891 total time=   0.0s\n",
      "[CV 7/10] END metric=euclidean, n_neighbors=100, weights=distance;, score=0.920 total time=   0.0s\n",
      "[CV 8/10] END metric=euclidean, n_neighbors=100, weights=distance;, score=0.931 total time=   0.0s\n",
      "[CV 9/10] END metric=euclidean, n_neighbors=100, weights=distance;, score=0.914 total time=   0.0s\n",
      "[CV 10/10] END metric=euclidean, n_neighbors=100, weights=distance;, score=0.920 total time=   0.0s\n",
      "[CV 1/10] END metric=cosine, n_neighbors=1, weights=uniform;, score=0.606 total time=   0.0s\n",
      "[CV 2/10] END metric=cosine, n_neighbors=1, weights=uniform;, score=0.663 total time=   0.0s\n",
      "[CV 3/10] END metric=cosine, n_neighbors=1, weights=uniform;, score=0.611 total time=   0.0s\n",
      "[CV 4/10] END metric=cosine, n_neighbors=1, weights=uniform;, score=0.583 total time=   0.0s\n",
      "[CV 5/10] END metric=cosine, n_neighbors=1, weights=uniform;, score=0.629 total time=   0.0s\n",
      "[CV 6/10] END metric=cosine, n_neighbors=1, weights=uniform;, score=0.589 total time=   0.0s\n",
      "[CV 7/10] END metric=cosine, n_neighbors=1, weights=uniform;, score=0.583 total time=   0.0s\n",
      "[CV 8/10] END metric=cosine, n_neighbors=1, weights=uniform;, score=0.634 total time=   0.0s\n",
      "[CV 9/10] END metric=cosine, n_neighbors=1, weights=uniform;, score=0.651 total time=   0.0s\n",
      "[CV 10/10] END metric=cosine, n_neighbors=1, weights=uniform;, score=0.583 total time=   0.0s\n",
      "[CV 1/10] END metric=cosine, n_neighbors=1, weights=distance;, score=0.606 total time=   0.0s\n",
      "[CV 2/10] END metric=cosine, n_neighbors=1, weights=distance;, score=0.663 total time=   0.0s\n",
      "[CV 3/10] END metric=cosine, n_neighbors=1, weights=distance;, score=0.611 total time=   0.0s\n",
      "[CV 4/10] END metric=cosine, n_neighbors=1, weights=distance;, score=0.583 total time=   0.0s\n",
      "[CV 5/10] END metric=cosine, n_neighbors=1, weights=distance;, score=0.629 total time=   0.0s\n",
      "[CV 6/10] END metric=cosine, n_neighbors=1, weights=distance;, score=0.589 total time=   0.0s\n",
      "[CV 7/10] END metric=cosine, n_neighbors=1, weights=distance;, score=0.583 total time=   0.0s\n",
      "[CV 8/10] END metric=cosine, n_neighbors=1, weights=distance;, score=0.634 total time=   0.0s\n",
      "[CV 9/10] END metric=cosine, n_neighbors=1, weights=distance;, score=0.651 total time=   0.0s\n",
      "[CV 10/10] END metric=cosine, n_neighbors=1, weights=distance;, score=0.583 total time=   0.0s\n",
      "[CV 1/10] END metric=cosine, n_neighbors=10, weights=uniform;, score=0.583 total time=   0.0s\n",
      "[CV 2/10] END metric=cosine, n_neighbors=10, weights=uniform;, score=0.611 total time=   0.0s\n",
      "[CV 3/10] END metric=cosine, n_neighbors=10, weights=uniform;, score=0.657 total time=   0.0s\n",
      "[CV 4/10] END metric=cosine, n_neighbors=10, weights=uniform;, score=0.543 total time=   0.0s\n",
      "[CV 5/10] END metric=cosine, n_neighbors=10, weights=uniform;, score=0.611 total time=   0.0s\n",
      "[CV 6/10] END metric=cosine, n_neighbors=10, weights=uniform;, score=0.589 total time=   0.0s\n",
      "[CV 7/10] END metric=cosine, n_neighbors=10, weights=uniform;, score=0.594 total time=   0.0s\n",
      "[CV 8/10] END metric=cosine, n_neighbors=10, weights=uniform;, score=0.634 total time=   0.0s\n",
      "[CV 9/10] END metric=cosine, n_neighbors=10, weights=uniform;, score=0.629 total time=   0.0s\n",
      "[CV 10/10] END metric=cosine, n_neighbors=10, weights=uniform;, score=0.583 total time=   0.0s\n",
      "[CV 1/10] END metric=cosine, n_neighbors=10, weights=distance;, score=0.583 total time=   0.0s\n",
      "[CV 2/10] END metric=cosine, n_neighbors=10, weights=distance;, score=0.617 total time=   0.0s\n",
      "[CV 3/10] END metric=cosine, n_neighbors=10, weights=distance;, score=0.680 total time=   0.0s\n",
      "[CV 4/10] END metric=cosine, n_neighbors=10, weights=distance;, score=0.566 total time=   0.0s\n",
      "[CV 5/10] END metric=cosine, n_neighbors=10, weights=distance;, score=0.634 total time=   0.0s\n",
      "[CV 6/10] END metric=cosine, n_neighbors=10, weights=distance;, score=0.571 total time=   0.0s\n",
      "[CV 7/10] END metric=cosine, n_neighbors=10, weights=distance;, score=0.606 total time=   0.0s\n",
      "[CV 8/10] END metric=cosine, n_neighbors=10, weights=distance;, score=0.657 total time=   0.0s\n",
      "[CV 9/10] END metric=cosine, n_neighbors=10, weights=distance;, score=0.617 total time=   0.0s\n",
      "[CV 10/10] END metric=cosine, n_neighbors=10, weights=distance;, score=0.634 total time=   0.0s\n",
      "[CV 1/10] END metric=cosine, n_neighbors=100, weights=uniform;, score=0.429 total time=   0.0s\n",
      "[CV 2/10] END metric=cosine, n_neighbors=100, weights=uniform;, score=0.389 total time=   0.0s\n",
      "[CV 3/10] END metric=cosine, n_neighbors=100, weights=uniform;, score=0.440 total time=   0.0s\n",
      "[CV 4/10] END metric=cosine, n_neighbors=100, weights=uniform;, score=0.469 total time=   0.0s\n",
      "[CV 5/10] END metric=cosine, n_neighbors=100, weights=uniform;, score=0.446 total time=   0.0s\n",
      "[CV 6/10] END metric=cosine, n_neighbors=100, weights=uniform;, score=0.423 total time=   0.0s\n",
      "[CV 7/10] END metric=cosine, n_neighbors=100, weights=uniform;, score=0.406 total time=   0.0s\n",
      "[CV 8/10] END metric=cosine, n_neighbors=100, weights=uniform;, score=0.457 total time=   0.0s\n",
      "[CV 9/10] END metric=cosine, n_neighbors=100, weights=uniform;, score=0.371 total time=   0.0s\n",
      "[CV 10/10] END metric=cosine, n_neighbors=100, weights=uniform;, score=0.457 total time=   0.0s\n",
      "[CV 1/10] END metric=cosine, n_neighbors=100, weights=distance;, score=0.440 total time=   0.0s\n",
      "[CV 2/10] END metric=cosine, n_neighbors=100, weights=distance;, score=0.406 total time=   0.0s\n",
      "[CV 3/10] END metric=cosine, n_neighbors=100, weights=distance;, score=0.469 total time=   0.0s\n",
      "[CV 4/10] END metric=cosine, n_neighbors=100, weights=distance;, score=0.497 total time=   0.0s\n",
      "[CV 5/10] END metric=cosine, n_neighbors=100, weights=distance;, score=0.474 total time=   0.0s\n",
      "[CV 6/10] END metric=cosine, n_neighbors=100, weights=distance;, score=0.446 total time=   0.0s\n",
      "[CV 7/10] END metric=cosine, n_neighbors=100, weights=distance;, score=0.423 total time=   0.0s\n",
      "[CV 8/10] END metric=cosine, n_neighbors=100, weights=distance;, score=0.486 total time=   0.0s\n",
      "[CV 9/10] END metric=cosine, n_neighbors=100, weights=distance;, score=0.394 total time=   0.0s\n",
      "[CV 10/10] END metric=cosine, n_neighbors=100, weights=distance;, score=0.486 total time=   0.0s\n",
      "[CV 1/10] END metric=manhattan, n_neighbors=1, weights=uniform;, score=0.920 total time=   0.0s\n",
      "[CV 2/10] END metric=manhattan, n_neighbors=1, weights=uniform;, score=0.954 total time=   0.0s\n",
      "[CV 3/10] END metric=manhattan, n_neighbors=1, weights=uniform;, score=0.971 total time=   0.0s\n",
      "[CV 4/10] END metric=manhattan, n_neighbors=1, weights=uniform;, score=0.954 total time=   0.0s\n",
      "[CV 5/10] END metric=manhattan, n_neighbors=1, weights=uniform;, score=0.931 total time=   0.0s\n",
      "[CV 6/10] END metric=manhattan, n_neighbors=1, weights=uniform;, score=0.926 total time=   0.0s\n",
      "[CV 7/10] END metric=manhattan, n_neighbors=1, weights=uniform;, score=0.971 total time=   0.0s\n",
      "[CV 8/10] END metric=manhattan, n_neighbors=1, weights=uniform;, score=0.954 total time=   0.0s\n",
      "[CV 9/10] END metric=manhattan, n_neighbors=1, weights=uniform;, score=0.949 total time=   0.0s\n",
      "[CV 10/10] END metric=manhattan, n_neighbors=1, weights=uniform;, score=0.926 total time=   0.0s\n",
      "[CV 1/10] END metric=manhattan, n_neighbors=1, weights=distance;, score=0.920 total time=   0.0s\n",
      "[CV 2/10] END metric=manhattan, n_neighbors=1, weights=distance;, score=0.954 total time=   0.0s\n",
      "[CV 3/10] END metric=manhattan, n_neighbors=1, weights=distance;, score=0.971 total time=   0.0s\n",
      "[CV 4/10] END metric=manhattan, n_neighbors=1, weights=distance;, score=0.954 total time=   0.0s\n",
      "[CV 5/10] END metric=manhattan, n_neighbors=1, weights=distance;, score=0.931 total time=   0.0s\n",
      "[CV 6/10] END metric=manhattan, n_neighbors=1, weights=distance;, score=0.926 total time=   0.0s\n",
      "[CV 7/10] END metric=manhattan, n_neighbors=1, weights=distance;, score=0.971 total time=   0.0s\n",
      "[CV 8/10] END metric=manhattan, n_neighbors=1, weights=distance;, score=0.954 total time=   0.0s\n",
      "[CV 9/10] END metric=manhattan, n_neighbors=1, weights=distance;, score=0.949 total time=   0.0s\n",
      "[CV 10/10] END metric=manhattan, n_neighbors=1, weights=distance;, score=0.926 total time=   0.0s\n",
      "[CV 1/10] END metric=manhattan, n_neighbors=10, weights=uniform;, score=0.914 total time=   0.0s\n",
      "[CV 2/10] END metric=manhattan, n_neighbors=10, weights=uniform;, score=0.966 total time=   0.0s\n",
      "[CV 3/10] END metric=manhattan, n_neighbors=10, weights=uniform;, score=0.949 total time=   0.0s\n",
      "[CV 4/10] END metric=manhattan, n_neighbors=10, weights=uniform;, score=0.954 total time=   0.0s\n",
      "[CV 5/10] END metric=manhattan, n_neighbors=10, weights=uniform;, score=0.954 total time=   0.0s\n",
      "[CV 6/10] END metric=manhattan, n_neighbors=10, weights=uniform;, score=0.920 total time=   0.0s\n",
      "[CV 7/10] END metric=manhattan, n_neighbors=10, weights=uniform;, score=0.926 total time=   0.0s\n",
      "[CV 8/10] END metric=manhattan, n_neighbors=10, weights=uniform;, score=0.937 total time=   0.0s\n",
      "[CV 9/10] END metric=manhattan, n_neighbors=10, weights=uniform;, score=0.960 total time=   0.0s\n",
      "[CV 10/10] END metric=manhattan, n_neighbors=10, weights=uniform;, score=0.931 total time=   0.0s\n",
      "[CV 1/10] END metric=manhattan, n_neighbors=10, weights=distance;, score=0.903 total time=   0.0s\n",
      "[CV 2/10] END metric=manhattan, n_neighbors=10, weights=distance;, score=0.960 total time=   0.0s\n",
      "[CV 3/10] END metric=manhattan, n_neighbors=10, weights=distance;, score=0.949 total time=   0.0s\n",
      "[CV 4/10] END metric=manhattan, n_neighbors=10, weights=distance;, score=0.954 total time=   0.0s\n",
      "[CV 5/10] END metric=manhattan, n_neighbors=10, weights=distance;, score=0.954 total time=   0.0s\n",
      "[CV 6/10] END metric=manhattan, n_neighbors=10, weights=distance;, score=0.914 total time=   0.0s\n",
      "[CV 7/10] END metric=manhattan, n_neighbors=10, weights=distance;, score=0.926 total time=   0.0s\n",
      "[CV 8/10] END metric=manhattan, n_neighbors=10, weights=distance;, score=0.943 total time=   0.0s\n",
      "[CV 9/10] END metric=manhattan, n_neighbors=10, weights=distance;, score=0.954 total time=   0.0s\n",
      "[CV 10/10] END metric=manhattan, n_neighbors=10, weights=distance;, score=0.926 total time=   0.0s\n",
      "[CV 1/10] END metric=manhattan, n_neighbors=100, weights=uniform;, score=0.891 total time=   0.0s\n",
      "[CV 2/10] END metric=manhattan, n_neighbors=100, weights=uniform;, score=0.931 total time=   0.0s\n",
      "[CV 3/10] END metric=manhattan, n_neighbors=100, weights=uniform;, score=0.903 total time=   0.0s\n",
      "[CV 4/10] END metric=manhattan, n_neighbors=100, weights=uniform;, score=0.949 total time=   0.0s\n",
      "[CV 5/10] END metric=manhattan, n_neighbors=100, weights=uniform;, score=0.926 total time=   0.0s\n",
      "[CV 6/10] END metric=manhattan, n_neighbors=100, weights=uniform;, score=0.891 total time=   0.0s\n",
      "[CV 7/10] END metric=manhattan, n_neighbors=100, weights=uniform;, score=0.920 total time=   0.0s\n",
      "[CV 8/10] END metric=manhattan, n_neighbors=100, weights=uniform;, score=0.931 total time=   0.0s\n",
      "[CV 9/10] END metric=manhattan, n_neighbors=100, weights=uniform;, score=0.914 total time=   0.0s\n",
      "[CV 10/10] END metric=manhattan, n_neighbors=100, weights=uniform;, score=0.920 total time=   0.0s\n",
      "[CV 1/10] END metric=manhattan, n_neighbors=100, weights=distance;, score=0.891 total time=   0.0s\n",
      "[CV 2/10] END metric=manhattan, n_neighbors=100, weights=distance;, score=0.931 total time=   0.0s\n",
      "[CV 3/10] END metric=manhattan, n_neighbors=100, weights=distance;, score=0.903 total time=   0.0s\n",
      "[CV 4/10] END metric=manhattan, n_neighbors=100, weights=distance;, score=0.949 total time=   0.0s\n",
      "[CV 5/10] END metric=manhattan, n_neighbors=100, weights=distance;, score=0.926 total time=   0.0s\n",
      "[CV 6/10] END metric=manhattan, n_neighbors=100, weights=distance;, score=0.891 total time=   0.0s\n",
      "[CV 7/10] END metric=manhattan, n_neighbors=100, weights=distance;, score=0.920 total time=   0.0s\n",
      "[CV 8/10] END metric=manhattan, n_neighbors=100, weights=distance;, score=0.931 total time=   0.0s\n",
      "[CV 9/10] END metric=manhattan, n_neighbors=100, weights=distance;, score=0.914 total time=   0.0s\n",
      "[CV 10/10] END metric=manhattan, n_neighbors=100, weights=distance;, score=0.920 total time=   0.0s\n",
      "[CV 1/10] END metric=minkowski, n_neighbors=1, weights=uniform;, score=0.931 total time=   0.0s\n",
      "[CV 2/10] END metric=minkowski, n_neighbors=1, weights=uniform;, score=0.971 total time=   0.0s\n",
      "[CV 3/10] END metric=minkowski, n_neighbors=1, weights=uniform;, score=0.954 total time=   0.0s\n",
      "[CV 4/10] END metric=minkowski, n_neighbors=1, weights=uniform;, score=0.943 total time=   0.0s\n",
      "[CV 5/10] END metric=minkowski, n_neighbors=1, weights=uniform;, score=0.949 total time=   0.0s\n",
      "[CV 6/10] END metric=minkowski, n_neighbors=1, weights=uniform;, score=0.931 total time=   0.0s\n",
      "[CV 7/10] END metric=minkowski, n_neighbors=1, weights=uniform;, score=0.960 total time=   0.0s\n",
      "[CV 8/10] END metric=minkowski, n_neighbors=1, weights=uniform;, score=0.960 total time=   0.0s\n",
      "[CV 9/10] END metric=minkowski, n_neighbors=1, weights=uniform;, score=0.937 total time=   0.0s\n",
      "[CV 10/10] END metric=minkowski, n_neighbors=1, weights=uniform;, score=0.914 total time=   0.0s\n",
      "[CV 1/10] END metric=minkowski, n_neighbors=1, weights=distance;, score=0.931 total time=   0.0s\n",
      "[CV 2/10] END metric=minkowski, n_neighbors=1, weights=distance;, score=0.971 total time=   0.0s\n",
      "[CV 3/10] END metric=minkowski, n_neighbors=1, weights=distance;, score=0.954 total time=   0.0s\n",
      "[CV 4/10] END metric=minkowski, n_neighbors=1, weights=distance;, score=0.943 total time=   0.0s\n",
      "[CV 5/10] END metric=minkowski, n_neighbors=1, weights=distance;, score=0.949 total time=   0.0s\n",
      "[CV 6/10] END metric=minkowski, n_neighbors=1, weights=distance;, score=0.931 total time=   0.0s\n",
      "[CV 7/10] END metric=minkowski, n_neighbors=1, weights=distance;, score=0.960 total time=   0.0s\n",
      "[CV 8/10] END metric=minkowski, n_neighbors=1, weights=distance;, score=0.960 total time=   0.0s\n",
      "[CV 9/10] END metric=minkowski, n_neighbors=1, weights=distance;, score=0.937 total time=   0.0s\n",
      "[CV 10/10] END metric=minkowski, n_neighbors=1, weights=distance;, score=0.914 total time=   0.0s\n",
      "[CV 1/10] END metric=minkowski, n_neighbors=10, weights=uniform;, score=0.909 total time=   0.0s\n",
      "[CV 2/10] END metric=minkowski, n_neighbors=10, weights=uniform;, score=0.971 total time=   0.0s\n",
      "[CV 3/10] END metric=minkowski, n_neighbors=10, weights=uniform;, score=0.937 total time=   0.0s\n",
      "[CV 4/10] END metric=minkowski, n_neighbors=10, weights=uniform;, score=0.954 total time=   0.0s\n",
      "[CV 5/10] END metric=minkowski, n_neighbors=10, weights=uniform;, score=0.971 total time=   0.0s\n",
      "[CV 6/10] END metric=minkowski, n_neighbors=10, weights=uniform;, score=0.931 total time=   0.0s\n",
      "[CV 7/10] END metric=minkowski, n_neighbors=10, weights=uniform;, score=0.926 total time=   0.0s\n",
      "[CV 8/10] END metric=minkowski, n_neighbors=10, weights=uniform;, score=0.954 total time=   0.0s\n",
      "[CV 9/10] END metric=minkowski, n_neighbors=10, weights=uniform;, score=0.949 total time=   0.0s\n",
      "[CV 10/10] END metric=minkowski, n_neighbors=10, weights=uniform;, score=0.937 total time=   0.0s\n",
      "[CV 1/10] END metric=minkowski, n_neighbors=10, weights=distance;, score=0.909 total time=   0.0s\n",
      "[CV 2/10] END metric=minkowski, n_neighbors=10, weights=distance;, score=0.971 total time=   0.0s\n",
      "[CV 3/10] END metric=minkowski, n_neighbors=10, weights=distance;, score=0.943 total time=   0.0s\n",
      "[CV 4/10] END metric=minkowski, n_neighbors=10, weights=distance;, score=0.949 total time=   0.0s\n",
      "[CV 5/10] END metric=minkowski, n_neighbors=10, weights=distance;, score=0.971 total time=   0.0s\n",
      "[CV 6/10] END metric=minkowski, n_neighbors=10, weights=distance;, score=0.914 total time=   0.0s\n",
      "[CV 7/10] END metric=minkowski, n_neighbors=10, weights=distance;, score=0.926 total time=   0.0s\n",
      "[CV 8/10] END metric=minkowski, n_neighbors=10, weights=distance;, score=0.954 total time=   0.0s\n",
      "[CV 9/10] END metric=minkowski, n_neighbors=10, weights=distance;, score=0.949 total time=   0.0s\n",
      "[CV 10/10] END metric=minkowski, n_neighbors=10, weights=distance;, score=0.937 total time=   0.0s\n",
      "[CV 1/10] END metric=minkowski, n_neighbors=100, weights=uniform;, score=0.891 total time=   0.0s\n",
      "[CV 2/10] END metric=minkowski, n_neighbors=100, weights=uniform;, score=0.931 total time=   0.0s\n",
      "[CV 3/10] END metric=minkowski, n_neighbors=100, weights=uniform;, score=0.903 total time=   0.0s\n",
      "[CV 4/10] END metric=minkowski, n_neighbors=100, weights=uniform;, score=0.949 total time=   0.0s\n",
      "[CV 5/10] END metric=minkowski, n_neighbors=100, weights=uniform;, score=0.926 total time=   0.0s\n",
      "[CV 6/10] END metric=minkowski, n_neighbors=100, weights=uniform;, score=0.891 total time=   0.0s\n",
      "[CV 7/10] END metric=minkowski, n_neighbors=100, weights=uniform;, score=0.920 total time=   0.0s\n",
      "[CV 8/10] END metric=minkowski, n_neighbors=100, weights=uniform;, score=0.931 total time=   0.0s\n",
      "[CV 9/10] END metric=minkowski, n_neighbors=100, weights=uniform;, score=0.914 total time=   0.0s\n",
      "[CV 10/10] END metric=minkowski, n_neighbors=100, weights=uniform;, score=0.920 total time=   0.0s\n",
      "[CV 1/10] END metric=minkowski, n_neighbors=100, weights=distance;, score=0.891 total time=   0.0s\n",
      "[CV 2/10] END metric=minkowski, n_neighbors=100, weights=distance;, score=0.937 total time=   0.0s\n",
      "[CV 3/10] END metric=minkowski, n_neighbors=100, weights=distance;, score=0.903 total time=   0.0s\n",
      "[CV 4/10] END metric=minkowski, n_neighbors=100, weights=distance;, score=0.949 total time=   0.0s\n",
      "[CV 5/10] END metric=minkowski, n_neighbors=100, weights=distance;, score=0.926 total time=   0.0s\n",
      "[CV 6/10] END metric=minkowski, n_neighbors=100, weights=distance;, score=0.891 total time=   0.0s\n",
      "[CV 7/10] END metric=minkowski, n_neighbors=100, weights=distance;, score=0.920 total time=   0.0s\n",
      "[CV 8/10] END metric=minkowski, n_neighbors=100, weights=distance;, score=0.931 total time=   0.0s\n",
      "[CV 9/10] END metric=minkowski, n_neighbors=100, weights=distance;, score=0.914 total time=   0.0s\n",
      "[CV 10/10] END metric=minkowski, n_neighbors=100, weights=distance;, score=0.920 total time=   0.0s\n"
     ]
    },
    {
     "data": {
      "text/plain": [
       "GridSearchCV(cv=KFold(n_splits=10, random_state=42, shuffle=True),\n",
       "             estimator=KNeighborsClassifier(),\n",
       "             param_grid={'metric': ['euclidean', 'cosine', 'manhattan',\n",
       "                                    'minkowski'],\n",
       "                         'n_neighbors': [1, 10, 100],\n",
       "                         'weights': ['uniform', 'distance']},\n",
       "             scoring='accuracy', verbose=3)"
      ]
     },
     "execution_count": 26,
     "metadata": {},
     "output_type": "execute_result"
    }
   ],
   "source": [
    "param_grid_knn = {\n",
    "    'n_neighbors': [1, 10 , 100], \n",
    "    'weights': ['uniform', 'distance'], \n",
    "    'metric': ['euclidean' , 'cosine' , 'manhattan' , 'minkowski']\n",
    "}\n",
    "clf_knn = GridSearchCV(estimator= KNeighborsClassifier(), param_grid= param_grid_knn , cv=kfold, scoring='accuracy', verbose=3)\n",
    "clf_knn.fit(x_train, y_train)"
   ]
  },
  {
   "cell_type": "code",
   "execution_count": 27,
   "id": "707a2d47",
   "metadata": {},
   "outputs": [
    {
     "name": "stdout",
     "output_type": "stream",
     "text": [
      "Best of Hyper Parameter : {'metric': 'manhattan', 'n_neighbors': 1, 'weights': 'uniform'} \n",
      "Score :  0.9457142857142857\n"
     ]
    }
   ],
   "source": [
    "print(\"Best of Hyper Parameter :\" , clf_knn.best_params_, \"\\nScore : \" , clf_knn.best_score_)"
   ]
  },
  {
   "cell_type": "code",
   "execution_count": 28,
   "id": "4c87fa35",
   "metadata": {},
   "outputs": [
    {
     "name": "stdout",
     "output_type": "stream",
     "text": [
      "Test score for test_data: 0.95\n",
      "Test score for train_data: 1.00\n"
     ]
    }
   ],
   "source": [
    "knn2 = clf_knn.best_estimator_.fit(x_train,y_train)\n",
    "print(\"Test score for test_data: {:.2f}\".format(knn2.score(x_test, y_test)))\n",
    "print(\"Test score for train_data: {:.2f}\".format(knn2.score(x_train, y_train)))"
   ]
  },
  {
   "cell_type": "code",
   "execution_count": 29,
   "id": "97f06af9",
   "metadata": {},
   "outputs": [
    {
     "name": "stdout",
     "output_type": "stream",
     "text": [
      "[0.92       0.95428571 0.97142857 0.95428571 0.93142857 0.92571429\n",
      " 0.97142857 0.95428571 0.94857143 0.92571429]\n",
      "Mean for k_fold cross validation for KNN model 0.9457142857142857\n"
     ]
    }
   ],
   "source": [
    "# kfold = KFold(n_splits=10, shuffle=True, random_state=42)\n",
    "scores_clf1 = cross_val_score(knn2, x_train, y_train, cv=kfold, scoring='accuracy')\n",
    "print(scores_clf1)\n",
    "print(\"Mean for k_fold cross validation for KNN model\", np.mean(scores_clf1))"
   ]
  },
  {
   "cell_type": "code",
   "execution_count": 30,
   "id": "763b3b8d",
   "metadata": {},
   "outputs": [
    {
     "name": "stdout",
     "output_type": "stream",
     "text": [
      "confusion_matrix(ytest, ypred): \n",
      " [[231   0  26]\n",
      " [  0 187   0]\n",
      " [ 12   0 294]]\n"
     ]
    }
   ],
   "source": [
    "ypred1 = knn2.predict(x_test)\n",
    "cm_knn = confusion_matrix(y_test, ypred1)\n",
    "print(\"confusion_matrix(ytest, ypred): \\n\", cm_knn)"
   ]
  },
  {
   "cell_type": "code",
   "execution_count": 31,
   "id": "0cc7aa30",
   "metadata": {},
   "outputs": [
    {
     "name": "stdout",
     "output_type": "stream",
     "text": [
      "Sensitivity for each class: [0.8988326848249028, 1.0, 0.9607843137254902]\n",
      "Specificity for each class: [0.9756592292089249, 1.0, 0.9414414414414415]\n",
      "Sensitivity for each class:  0  is 0.8988326848249028\n",
      "Specificity for each class: 0  is 0.9756592292089249\n",
      "Sensitivity for each class:  1  is 1.0\n",
      "Specificity for each class: 1  is 1.0\n",
      "Sensitivity for each class:  2  is 0.9607843137254902\n",
      "Specificity for each class: 2  is 0.9414414414414415\n"
     ]
    }
   ],
   "source": [
    "sensitivity_specificity(cm_knn)"
   ]
  },
  {
   "cell_type": "code",
   "execution_count": 32,
   "id": "c10c55a8",
   "metadata": {},
   "outputs": [
    {
     "data": {
      "image/png": "[encoded data removed]",
      "text/plain": [
       "<Figure size 1000x1000 with 2 Axes>"
      ]
     },
     "metadata": {},
     "output_type": "display_data"
    }
   ],
   "source": [
    "confusion_matrix_plot(cm_knn)"
   ]
  },
  {
   "cell_type": "code",
   "execution_count": 33,
   "id": "51da9b51",
   "metadata": {},
   "outputs": [
    {
     "name": "stdout",
     "output_type": "stream",
     "text": [
      "Classification Report:\n",
      "               precision    recall  f1-score   support\n",
      "\n",
      "        أحمر       0.95      0.90      0.92       257\n",
      "        أخضر       1.00      1.00      1.00       187\n",
      "     برتقالي       0.92      0.96      0.94       306\n",
      "\n",
      "    accuracy                           0.95       750\n",
      "   macro avg       0.96      0.95      0.95       750\n",
      "weighted avg       0.95      0.95      0.95       750\n",
      "\n"
     ]
    }
   ],
   "source": [
    "print(\"Classification Report:\\n\", classification_report(y_test, ypred1 , zero_division=1))"
   ]
  },
  {
   "cell_type": "code",
   "execution_count": 34,
   "id": "fa8f35b4",
   "metadata": {},
   "outputs": [
    {
     "data": {
      "image/png": "[encoded data removed]",
      "text/plain": [
       "<Figure size 800x550 with 1 Axes>"
      ]
     },
     "metadata": {},
     "output_type": "display_data"
    },
    {
     "data": {
      "text/plain": [
       "ROCAUC(ax=<AxesSubplot:title={'center':'ROC Curves for KNeighborsClassifier'}, xlabel='False Positive Rate', ylabel='True Positive Rate'>,\n",
       "       encoder={'أحمر': 'أحمر', 'أخضر': 'أخضر', 'برتقالي': 'برتقالي'},\n",
       "       estimator=KNeighborsClassifier(metric='manhattan', n_neighbors=1))"
      ]
     },
     "execution_count": 34,
     "metadata": {},
     "output_type": "execute_result"
    }
   ],
   "source": [
    "plot_ROC_curve(knn2, x_train, y_train, x_test, y_test)"
   ]
  },
  {
   "cell_type": "code",
   "execution_count": 35,
   "id": "5f82a664",
   "metadata": {},
   "outputs": [
    {
     "data": {
      "text/html": [
       "<div>\n",
       "<style scoped>\n",
       "    .dataframe tbody tr th:only-of-type {\n",
       "        vertical-align: middle;\n",
       "    }\n",
       "\n",
       "    .dataframe tbody tr th {\n",
       "        vertical-align: top;\n",
       "    }\n",
       "\n",
       "    .dataframe thead th {\n",
       "        text-align: right;\n",
       "    }\n",
       "</style>\n",
       "<table border=\"1\" class=\"dataframe\">\n",
       "  <thead>\n",
       "    <tr style=\"text-align: right;\">\n",
       "      <th></th>\n",
       "      <th>Model</th>\n",
       "      <th>Recall</th>\n",
       "      <th>Precision</th>\n",
       "      <th>F1 Score</th>\n",
       "      <th>Accuracy</th>\n",
       "    </tr>\n",
       "  </thead>\n",
       "  <tbody>\n",
       "    <tr>\n",
       "      <th>0</th>\n",
       "      <td>KNN</td>\n",
       "      <td>0.953206</td>\n",
       "      <td>0.956456</td>\n",
       "      <td>0.954432</td>\n",
       "      <td>0.949333</td>\n",
       "    </tr>\n",
       "  </tbody>\n",
       "</table>\n",
       "</div>"
      ],
      "text/plain": [
       "  Model    Recall  Precision  F1 Score  Accuracy\n",
       "0   KNN  0.953206   0.956456  0.954432  0.949333"
      ]
     },
     "execution_count": 35,
     "metadata": {},
     "output_type": "execute_result"
    }
   ],
   "source": [
    "knn_score = table_score(ypred1)\n",
    "knn_score.insert(0, 'Model', 'KNN')\n",
    "knn_score\n"
   ]
  },
  {
   "cell_type": "markdown",
   "id": "1ea1831f",
   "metadata": {},
   "source": [
    "### logistic regresion model"
   ]
  },
  {
   "cell_type": "code",
   "execution_count": 36,
   "id": "0eb926a1",
   "metadata": {},
   "outputs": [
    {
     "name": "stdout",
     "output_type": "stream",
     "text": [
      "Test score: 0.99\n"
     ]
    }
   ],
   "source": [
    "lr = LogisticRegression(multi_class=\"ovr\")\n",
    "lr.fit(x_train, y_train)\n",
    "print(\"Test score: {:.2f}\".format(lr.score(x_test , y_test)))"
   ]
  },
  {
   "cell_type": "code",
   "execution_count": 37,
   "id": "c67a5280",
   "metadata": {},
   "outputs": [
    {
     "name": "stdout",
     "output_type": "stream",
     "text": [
      "Fitting 10 folds for each of 12 candidates, totalling 120 fits\n",
      "[CV 1/10] END C=1, multi_class=auto, solver=lbfgs;, score=0.983 total time=   0.0s\n",
      "[CV 2/10] END C=1, multi_class=auto, solver=lbfgs;, score=0.989 total time=   0.0s\n",
      "[CV 3/10] END C=1, multi_class=auto, solver=lbfgs;, score=0.989 total time=   0.0s\n",
      "[CV 4/10] END C=1, multi_class=auto, solver=lbfgs;, score=0.989 total time=   0.0s\n",
      "[CV 5/10] END C=1, multi_class=auto, solver=lbfgs;, score=0.989 total time=   0.0s\n",
      "[CV 6/10] END C=1, multi_class=auto, solver=lbfgs;, score=0.989 total time=   0.0s\n",
      "[CV 7/10] END C=1, multi_class=auto, solver=lbfgs;, score=0.977 total time=   0.0s\n",
      "[CV 8/10] END C=1, multi_class=auto, solver=lbfgs;, score=0.994 total time=   0.0s\n",
      "[CV 9/10] END C=1, multi_class=auto, solver=lbfgs;, score=0.989 total time=   0.0s\n",
      "[CV 10/10] END C=1, multi_class=auto, solver=lbfgs;, score=0.994 total time=   0.0s\n",
      "[CV 1/10] END C=1, multi_class=auto, solver=liblinear;, score=0.897 total time=   0.0s\n",
      "[CV 2/10] END C=1, multi_class=auto, solver=liblinear;, score=0.949 total time=   0.0s\n",
      "[CV 3/10] END C=1, multi_class=auto, solver=liblinear;, score=0.909 total time=   0.0s\n",
      "[CV 4/10] END C=1, multi_class=auto, solver=liblinear;, score=0.949 total time=   0.0s\n",
      "[CV 5/10] END C=1, multi_class=auto, solver=liblinear;, score=0.931 total time=   0.0s\n",
      "[CV 6/10] END C=1, multi_class=auto, solver=liblinear;, score=0.897 total time=   0.0s\n",
      "[CV 7/10] END C=1, multi_class=auto, solver=liblinear;, score=0.920 total time=   0.0s\n",
      "[CV 8/10] END C=1, multi_class=auto, solver=liblinear;, score=0.949 total time=   0.0s\n",
      "[CV 9/10] END C=1, multi_class=auto, solver=liblinear;, score=0.926 total time=   0.0s\n",
      "[CV 10/10] END C=1, multi_class=auto, solver=liblinear;, score=0.920 total time=   0.0s\n",
      "[CV 1/10] END C=1, multi_class=ovr, solver=lbfgs;, score=0.983 total time=   0.0s\n",
      "[CV 2/10] END C=1, multi_class=ovr, solver=lbfgs;, score=0.983 total time=   0.0s\n",
      "[CV 3/10] END C=1, multi_class=ovr, solver=lbfgs;, score=0.989 total time=   0.1s\n",
      "[CV 4/10] END C=1, multi_class=ovr, solver=lbfgs;, score=0.989 total time=   0.0s\n",
      "[CV 5/10] END C=1, multi_class=ovr, solver=lbfgs;, score=0.989 total time=   0.0s\n",
      "[CV 6/10] END C=1, multi_class=ovr, solver=lbfgs;, score=0.989 total time=   0.1s\n",
      "[CV 7/10] END C=1, multi_class=ovr, solver=lbfgs;, score=0.983 total time=   0.0s\n",
      "[CV 8/10] END C=1, multi_class=ovr, solver=lbfgs;, score=0.989 total time=   0.0s\n",
      "[CV 9/10] END C=1, multi_class=ovr, solver=lbfgs;, score=0.994 total time=   0.1s\n",
      "[CV 10/10] END C=1, multi_class=ovr, solver=lbfgs;, score=0.994 total time=   0.1s\n",
      "[CV 1/10] END C=1, multi_class=ovr, solver=liblinear;, score=0.897 total time=   0.0s\n",
      "[CV 2/10] END C=1, multi_class=ovr, solver=liblinear;, score=0.949 total time=   0.0s\n",
      "[CV 3/10] END C=1, multi_class=ovr, solver=liblinear;, score=0.909 total time=   0.0s\n",
      "[CV 4/10] END C=1, multi_class=ovr, solver=liblinear;, score=0.949 total time=   0.0s\n",
      "[CV 5/10] END C=1, multi_class=ovr, solver=liblinear;, score=0.931 total time=   0.0s\n",
      "[CV 6/10] END C=1, multi_class=ovr, solver=liblinear;, score=0.897 total time=   0.0s\n",
      "[CV 7/10] END C=1, multi_class=ovr, solver=liblinear;, score=0.920 total time=   0.0s\n",
      "[CV 8/10] END C=1, multi_class=ovr, solver=liblinear;, score=0.949 total time=   0.0s\n",
      "[CV 9/10] END C=1, multi_class=ovr, solver=liblinear;, score=0.926 total time=   0.0s\n",
      "[CV 10/10] END C=1, multi_class=ovr, solver=liblinear;, score=0.920 total time=   0.0s\n",
      "[CV 1/10] END C=2, multi_class=auto, solver=lbfgs;, score=0.983 total time=   0.0s\n",
      "[CV 2/10] END C=2, multi_class=auto, solver=lbfgs;, score=0.994 total time=   0.0s\n",
      "[CV 3/10] END C=2, multi_class=auto, solver=lbfgs;, score=0.989 total time=   0.0s\n",
      "[CV 4/10] END C=2, multi_class=auto, solver=lbfgs;, score=0.989 total time=   0.0s\n",
      "[CV 5/10] END C=2, multi_class=auto, solver=lbfgs;, score=0.983 total time=   0.0s\n",
      "[CV 6/10] END C=2, multi_class=auto, solver=lbfgs;, score=0.983 total time=   0.0s\n",
      "[CV 7/10] END C=2, multi_class=auto, solver=lbfgs;, score=0.977 total time=   0.0s\n",
      "[CV 8/10] END C=2, multi_class=auto, solver=lbfgs;, score=0.994 total time=   0.0s\n",
      "[CV 9/10] END C=2, multi_class=auto, solver=lbfgs;, score=1.000 total time=   0.0s\n",
      "[CV 10/10] END C=2, multi_class=auto, solver=lbfgs;, score=0.994 total time=   0.0s\n",
      "[CV 1/10] END C=2, multi_class=auto, solver=liblinear;, score=0.903 total time=   0.0s\n",
      "[CV 2/10] END C=2, multi_class=auto, solver=liblinear;, score=0.949 total time=   0.0s\n",
      "[CV 3/10] END C=2, multi_class=auto, solver=liblinear;, score=0.926 total time=   0.0s\n",
      "[CV 4/10] END C=2, multi_class=auto, solver=liblinear;, score=0.949 total time=   0.0s\n",
      "[CV 5/10] END C=2, multi_class=auto, solver=liblinear;, score=0.949 total time=   0.0s\n",
      "[CV 6/10] END C=2, multi_class=auto, solver=liblinear;, score=0.903 total time=   0.0s\n",
      "[CV 7/10] END C=2, multi_class=auto, solver=liblinear;, score=0.920 total time=   0.0s\n",
      "[CV 8/10] END C=2, multi_class=auto, solver=liblinear;, score=0.949 total time=   0.0s\n",
      "[CV 9/10] END C=2, multi_class=auto, solver=liblinear;, score=0.931 total time=   0.0s\n",
      "[CV 10/10] END C=2, multi_class=auto, solver=liblinear;, score=0.926 total time=   0.0s\n",
      "[CV 1/10] END C=2, multi_class=ovr, solver=lbfgs;, score=0.983 total time=   0.0s\n",
      "[CV 2/10] END C=2, multi_class=ovr, solver=lbfgs;, score=0.983 total time=   0.1s\n",
      "[CV 3/10] END C=2, multi_class=ovr, solver=lbfgs;, score=0.989 total time=   0.0s\n",
      "[CV 4/10] END C=2, multi_class=ovr, solver=lbfgs;, score=0.989 total time=   0.0s\n",
      "[CV 5/10] END C=2, multi_class=ovr, solver=lbfgs;, score=0.989 total time=   0.1s\n",
      "[CV 6/10] END C=2, multi_class=ovr, solver=lbfgs;, score=0.989 total time=   0.1s\n",
      "[CV 7/10] END C=2, multi_class=ovr, solver=lbfgs;, score=0.983 total time=   0.1s\n",
      "[CV 8/10] END C=2, multi_class=ovr, solver=lbfgs;, score=0.989 total time=   0.0s\n",
      "[CV 9/10] END C=2, multi_class=ovr, solver=lbfgs;, score=0.994 total time=   0.0s\n",
      "[CV 10/10] END C=2, multi_class=ovr, solver=lbfgs;, score=0.994 total time=   0.1s\n",
      "[CV 1/10] END C=2, multi_class=ovr, solver=liblinear;, score=0.903 total time=   0.0s\n",
      "[CV 2/10] END C=2, multi_class=ovr, solver=liblinear;, score=0.949 total time=   0.0s\n",
      "[CV 3/10] END C=2, multi_class=ovr, solver=liblinear;, score=0.926 total time=   0.0s\n",
      "[CV 4/10] END C=2, multi_class=ovr, solver=liblinear;, score=0.949 total time=   0.0s\n",
      "[CV 5/10] END C=2, multi_class=ovr, solver=liblinear;, score=0.949 total time=   0.0s\n",
      "[CV 6/10] END C=2, multi_class=ovr, solver=liblinear;, score=0.903 total time=   0.0s\n",
      "[CV 7/10] END C=2, multi_class=ovr, solver=liblinear;, score=0.920 total time=   0.0s\n",
      "[CV 8/10] END C=2, multi_class=ovr, solver=liblinear;, score=0.949 total time=   0.0s\n",
      "[CV 9/10] END C=2, multi_class=ovr, solver=liblinear;, score=0.931 total time=   0.0s\n",
      "[CV 10/10] END C=2, multi_class=ovr, solver=liblinear;, score=0.926 total time=   0.0s\n",
      "[CV 1/10] END C=4, multi_class=auto, solver=lbfgs;, score=0.983 total time=   0.0s\n",
      "[CV 2/10] END C=4, multi_class=auto, solver=lbfgs;, score=0.989 total time=   0.0s\n",
      "[CV 3/10] END C=4, multi_class=auto, solver=lbfgs;, score=0.989 total time=   0.0s\n",
      "[CV 4/10] END C=4, multi_class=auto, solver=lbfgs;, score=0.989 total time=   0.0s\n",
      "[CV 5/10] END C=4, multi_class=auto, solver=lbfgs;, score=0.989 total time=   0.0s\n",
      "[CV 6/10] END C=4, multi_class=auto, solver=lbfgs;, score=0.989 total time=   0.0s\n",
      "[CV 7/10] END C=4, multi_class=auto, solver=lbfgs;, score=0.977 total time=   0.0s\n",
      "[CV 8/10] END C=4, multi_class=auto, solver=lbfgs;, score=0.994 total time=   0.0s\n",
      "[CV 9/10] END C=4, multi_class=auto, solver=lbfgs;, score=1.000 total time=   0.0s\n",
      "[CV 10/10] END C=4, multi_class=auto, solver=lbfgs;, score=0.994 total time=   0.0s\n",
      "[CV 1/10] END C=4, multi_class=auto, solver=liblinear;, score=0.914 total time=   0.0s\n",
      "[CV 2/10] END C=4, multi_class=auto, solver=liblinear;, score=0.971 total time=   0.0s\n",
      "[CV 3/10] END C=4, multi_class=auto, solver=liblinear;, score=0.931 total time=   0.0s\n",
      "[CV 4/10] END C=4, multi_class=auto, solver=liblinear;, score=0.954 total time=   0.0s\n",
      "[CV 5/10] END C=4, multi_class=auto, solver=liblinear;, score=0.954 total time=   0.0s\n",
      "[CV 6/10] END C=4, multi_class=auto, solver=liblinear;, score=0.926 total time=   0.0s\n",
      "[CV 7/10] END C=4, multi_class=auto, solver=liblinear;, score=0.926 total time=   0.0s\n",
      "[CV 8/10] END C=4, multi_class=auto, solver=liblinear;, score=0.954 total time=   0.0s\n",
      "[CV 9/10] END C=4, multi_class=auto, solver=liblinear;, score=0.937 total time=   0.0s\n",
      "[CV 10/10] END C=4, multi_class=auto, solver=liblinear;, score=0.943 total time=   0.0s\n",
      "[CV 1/10] END C=4, multi_class=ovr, solver=lbfgs;, score=0.983 total time=   0.0s\n",
      "[CV 2/10] END C=4, multi_class=ovr, solver=lbfgs;, score=0.983 total time=   0.1s\n",
      "[CV 3/10] END C=4, multi_class=ovr, solver=lbfgs;, score=0.989 total time=   0.0s\n",
      "[CV 4/10] END C=4, multi_class=ovr, solver=lbfgs;, score=0.989 total time=   0.0s\n",
      "[CV 5/10] END C=4, multi_class=ovr, solver=lbfgs;, score=0.989 total time=   0.0s\n",
      "[CV 6/10] END C=4, multi_class=ovr, solver=lbfgs;, score=0.989 total time=   0.1s\n",
      "[CV 7/10] END C=4, multi_class=ovr, solver=lbfgs;, score=0.983 total time=   0.3s\n",
      "[CV 8/10] END C=4, multi_class=ovr, solver=lbfgs;, score=0.989 total time=   0.1s\n",
      "[CV 9/10] END C=4, multi_class=ovr, solver=lbfgs;, score=0.994 total time=   0.1s\n",
      "[CV 10/10] END C=4, multi_class=ovr, solver=lbfgs;, score=0.994 total time=   0.0s\n",
      "[CV 1/10] END C=4, multi_class=ovr, solver=liblinear;, score=0.914 total time=   0.0s\n",
      "[CV 2/10] END C=4, multi_class=ovr, solver=liblinear;, score=0.971 total time=   0.0s\n",
      "[CV 3/10] END C=4, multi_class=ovr, solver=liblinear;, score=0.931 total time=   0.0s\n",
      "[CV 4/10] END C=4, multi_class=ovr, solver=liblinear;, score=0.954 total time=   0.0s\n",
      "[CV 5/10] END C=4, multi_class=ovr, solver=liblinear;, score=0.954 total time=   0.0s\n",
      "[CV 6/10] END C=4, multi_class=ovr, solver=liblinear;, score=0.926 total time=   0.0s\n",
      "[CV 7/10] END C=4, multi_class=ovr, solver=liblinear;, score=0.926 total time=   0.0s\n",
      "[CV 8/10] END C=4, multi_class=ovr, solver=liblinear;, score=0.954 total time=   0.0s\n",
      "[CV 9/10] END C=4, multi_class=ovr, solver=liblinear;, score=0.937 total time=   0.0s\n",
      "[CV 10/10] END C=4, multi_class=ovr, solver=liblinear;, score=0.943 total time=   0.0s\n"
     ]
    },
    {
     "data": {
      "text/plain": [
       "GridSearchCV(cv=KFold(n_splits=10, random_state=42, shuffle=True),\n",
       "             estimator=LogisticRegression(),\n",
       "             param_grid={'C': [1, 2, 4], 'multi_class': ['auto', 'ovr'],\n",
       "                         'solver': ['lbfgs', 'liblinear']},\n",
       "             scoring='accuracy', verbose=3)"
      ]
     },
     "execution_count": 37,
     "metadata": {},
     "output_type": "execute_result"
    }
   ],
   "source": [
    "param_grid_lr = { \n",
    "    'multi_class': ['auto' , 'ovr'] ,\n",
    "    'solver': ['lbfgs' , 'liblinear'], \n",
    "    'C': [1, 2 , 4]\n",
    "}\n",
    "clf_lr = GridSearchCV(estimator= LogisticRegression() , param_grid= param_grid_lr , cv=kfold, scoring='accuracy', verbose=3)\n",
    "clf_lr.fit(x_train, y_train)"
   ]
  },
  {
   "cell_type": "code",
   "execution_count": 38,
   "id": "44f3256f",
   "metadata": {},
   "outputs": [
    {
     "name": "stdout",
     "output_type": "stream",
     "text": [
      "Best of Hyper Parameter : {'C': 4, 'multi_class': 'auto', 'solver': 'lbfgs'} \n",
      "Score :  0.9891428571428571\n"
     ]
    }
   ],
   "source": [
    "print(\"Best of Hyper Parameter :\" , clf_lr.best_params_, \"\\nScore : \" , clf_lr.best_score_)"
   ]
  },
  {
   "cell_type": "code",
   "execution_count": 39,
   "id": "964ab4f3",
   "metadata": {},
   "outputs": [
    {
     "name": "stdout",
     "output_type": "stream",
     "text": [
      "Test score for test_data: 0.98\n",
      "Test score for train_data: 0.99\n"
     ]
    }
   ],
   "source": [
    "lr2 = clf_lr.best_estimator_.fit(x_train,y_train)\n",
    "print(\"Test score for test_data: {:.2f}\".format(lr2.score(x_test, y_test)))\n",
    "print(\"Test score for train_data: {:.2f}\".format(lr2.score(x_train, y_train)))"
   ]
  },
  {
   "cell_type": "code",
   "execution_count": 40,
   "id": "1717fb35",
   "metadata": {},
   "outputs": [
    {
     "name": "stdout",
     "output_type": "stream",
     "text": [
      "[0.98285714 0.98857143 0.98857143 0.98857143 0.98857143 0.98857143\n",
      " 0.97714286 0.99428571 1.         0.99428571]\n",
      "Mean for k_fold cross validation for Logistic Regression model 0.9891428571428571\n"
     ]
    }
   ],
   "source": [
    "scores_clf2 = cross_val_score(lr2, x_train, y_train, cv=kfold, scoring='accuracy')\n",
    "print(scores_clf2)\n",
    "print(\"Mean for k_fold cross validation for Logistic Regression model\", np.mean(scores_clf2))"
   ]
  },
  {
   "cell_type": "code",
   "execution_count": 41,
   "id": "a904e1ca",
   "metadata": {},
   "outputs": [
    {
     "name": "stdout",
     "output_type": "stream",
     "text": [
      "confusion_matrix(ytest, ypred): \n",
      " [[253   0   4]\n",
      " [  0 185   2]\n",
      " [  4   2 300]]\n"
     ]
    }
   ],
   "source": [
    "ypred2 = lr2.predict(x_test)\n",
    "cm_lr = confusion_matrix(y_test, ypred2)\n",
    "print(\"confusion_matrix(ytest, ypred): \\n\", cm_lr)"
   ]
  },
  {
   "cell_type": "code",
   "execution_count": 42,
   "id": "eb5f4511",
   "metadata": {},
   "outputs": [
    {
     "name": "stdout",
     "output_type": "stream",
     "text": [
      "Sensitivity for each class: [0.9844357976653697, 0.9893048128342246, 0.9803921568627451]\n",
      "Specificity for each class: [0.9918864097363083, 0.9964476021314387, 0.9864864864864865]\n",
      "Sensitivity for each class:  0  is 0.9844357976653697\n",
      "Specificity for each class: 0  is 0.9918864097363083\n",
      "Sensitivity for each class:  1  is 0.9893048128342246\n",
      "Specificity for each class: 1  is 0.9964476021314387\n",
      "Sensitivity for each class:  2  is 0.9803921568627451\n",
      "Specificity for each class: 2  is 0.9864864864864865\n"
     ]
    }
   ],
   "source": [
    "sensitivity_specificity(cm_lr)"
   ]
  },
  {
   "cell_type": "code",
   "execution_count": 43,
   "id": "0536f1d2",
   "metadata": {},
   "outputs": [
    {
     "name": "stdout",
     "output_type": "stream",
     "text": [
      "Classification Report:\n",
      "               precision    recall  f1-score   support\n",
      "\n",
      "        أحمر       0.98      0.98      0.98       257\n",
      "        أخضر       0.99      0.99      0.99       187\n",
      "     برتقالي       0.98      0.98      0.98       306\n",
      "\n",
      "    accuracy                           0.98       750\n",
      "   macro avg       0.98      0.98      0.98       750\n",
      "weighted avg       0.98      0.98      0.98       750\n",
      "\n"
     ]
    }
   ],
   "source": [
    "print(\"Classification Report:\\n\", classification_report(y_test, ypred2 , zero_division=1))"
   ]
  },
  {
   "cell_type": "code",
   "execution_count": 44,
   "id": "0a90ee23",
   "metadata": {},
   "outputs": [
    {
     "data": {
      "image/png": "[encoded data removed]",
      "text/plain": [
       "<Figure size 800x550 with 1 Axes>"
      ]
     },
     "metadata": {},
     "output_type": "display_data"
    },
    {
     "data": {
      "text/plain": [
       "ROCAUC(ax=<AxesSubplot:title={'center':'ROC Curves for LogisticRegression'}, xlabel='False Positive Rate', ylabel='True Positive Rate'>,\n",
       "       encoder={'أحمر': 'أحمر', 'أخضر': 'أخضر', 'برتقالي': 'برتقالي'},\n",
       "       estimator=LogisticRegression(C=4))"
      ]
     },
     "execution_count": 44,
     "metadata": {},
     "output_type": "execute_result"
    }
   ],
   "source": [
    "plot_ROC_curve(lr2, x_train, y_train, x_test, y_test)"
   ]
  },
  {
   "cell_type": "code",
   "execution_count": 45,
   "id": "2c3bba72",
   "metadata": {},
   "outputs": [
    {
     "data": {
      "text/html": [
       "<div>\n",
       "<style scoped>\n",
       "    .dataframe tbody tr th:only-of-type {\n",
       "        vertical-align: middle;\n",
       "    }\n",
       "\n",
       "    .dataframe tbody tr th {\n",
       "        vertical-align: top;\n",
       "    }\n",
       "\n",
       "    .dataframe thead th {\n",
       "        text-align: right;\n",
       "    }\n",
       "</style>\n",
       "<table border=\"1\" class=\"dataframe\">\n",
       "  <thead>\n",
       "    <tr style=\"text-align: right;\">\n",
       "      <th></th>\n",
       "      <th>Model</th>\n",
       "      <th>Recall</th>\n",
       "      <th>Precision</th>\n",
       "      <th>F1 Score</th>\n",
       "      <th>Accuracy</th>\n",
       "    </tr>\n",
       "  </thead>\n",
       "  <tbody>\n",
       "    <tr>\n",
       "      <th>0</th>\n",
       "      <td>LR</td>\n",
       "      <td>0.984711</td>\n",
       "      <td>0.984711</td>\n",
       "      <td>0.984711</td>\n",
       "      <td>0.984</td>\n",
       "    </tr>\n",
       "  </tbody>\n",
       "</table>\n",
       "</div>"
      ],
      "text/plain": [
       "  Model    Recall  Precision  F1 Score  Accuracy\n",
       "0    LR  0.984711   0.984711  0.984711     0.984"
      ]
     },
     "execution_count": 45,
     "metadata": {},
     "output_type": "execute_result"
    }
   ],
   "source": [
    "lr_score = table_score(ypred2)\n",
    "lr_score.insert(0, 'Model', 'LR')\n",
    "lr_score"
   ]
  },
  {
   "cell_type": "markdown",
   "id": "010065d2",
   "metadata": {},
   "source": [
    "### SVM model"
   ]
  },
  {
   "cell_type": "code",
   "execution_count": 46,
   "id": "8ae60729",
   "metadata": {},
   "outputs": [
    {
     "name": "stdout",
     "output_type": "stream",
     "text": [
      "Test score: 0.98\n"
     ]
    }
   ],
   "source": [
    "svm = SVC(decision_function_shape='ovo')\n",
    "svm.fit(x_train , y_train)\n",
    "print(\"Test score: {:.2f}\".format(svm.score(x_test , y_test)))"
   ]
  },
  {
   "cell_type": "code",
   "execution_count": 47,
   "id": "a680ee2c",
   "metadata": {},
   "outputs": [
    {
     "name": "stdout",
     "output_type": "stream",
     "text": [
      "Fitting 10 folds for each of 16 candidates, totalling 160 fits\n",
      "[CV 1/10] END C=1, decision_function_shape=ovo, kernel=rbf;, score=0.954 total time=   0.0s\n",
      "[CV 2/10] END C=1, decision_function_shape=ovo, kernel=rbf;, score=0.983 total time=   0.0s\n",
      "[CV 3/10] END C=1, decision_function_shape=ovo, kernel=rbf;, score=0.949 total time=   0.0s\n",
      "[CV 4/10] END C=1, decision_function_shape=ovo, kernel=rbf;, score=0.977 total time=   0.0s\n",
      "[CV 5/10] END C=1, decision_function_shape=ovo, kernel=rbf;, score=0.989 total time=   0.0s\n",
      "[CV 6/10] END C=1, decision_function_shape=ovo, kernel=rbf;, score=0.971 total time=   0.0s\n",
      "[CV 7/10] END C=1, decision_function_shape=ovo, kernel=rbf;, score=0.954 total time=   0.0s\n",
      "[CV 8/10] END C=1, decision_function_shape=ovo, kernel=rbf;, score=0.977 total time=   0.0s\n",
      "[CV 9/10] END C=1, decision_function_shape=ovo, kernel=rbf;, score=0.971 total time=   0.0s\n",
      "[CV 10/10] END C=1, decision_function_shape=ovo, kernel=rbf;, score=0.977 total time=   0.0s\n",
      "[CV 1/10] END C=1, decision_function_shape=ovo, kernel=poly;, score=0.983 total time=   0.0s\n",
      "[CV 2/10] END C=1, decision_function_shape=ovo, kernel=poly;, score=0.994 total time=   0.0s\n",
      "[CV 3/10] END C=1, decision_function_shape=ovo, kernel=poly;, score=0.977 total time=   0.0s\n",
      "[CV 4/10] END C=1, decision_function_shape=ovo, kernel=poly;, score=0.989 total time=   0.0s\n",
      "[CV 5/10] END C=1, decision_function_shape=ovo, kernel=poly;, score=0.989 total time=   0.0s\n",
      "[CV 6/10] END C=1, decision_function_shape=ovo, kernel=poly;, score=0.989 total time=   0.0s\n",
      "[CV 7/10] END C=1, decision_function_shape=ovo, kernel=poly;, score=0.983 total time=   0.0s\n",
      "[CV 8/10] END C=1, decision_function_shape=ovo, kernel=poly;, score=0.994 total time=   0.0s\n",
      "[CV 9/10] END C=1, decision_function_shape=ovo, kernel=poly;, score=1.000 total time=   0.0s\n",
      "[CV 10/10] END C=1, decision_function_shape=ovo, kernel=poly;, score=0.994 total time=   0.0s\n",
      "[CV 1/10] END C=1, decision_function_shape=ovr, kernel=rbf;, score=0.954 total time=   0.0s\n",
      "[CV 2/10] END C=1, decision_function_shape=ovr, kernel=rbf;, score=0.983 total time=   0.0s\n",
      "[CV 3/10] END C=1, decision_function_shape=ovr, kernel=rbf;, score=0.949 total time=   0.0s\n",
      "[CV 4/10] END C=1, decision_function_shape=ovr, kernel=rbf;, score=0.977 total time=   0.0s\n",
      "[CV 5/10] END C=1, decision_function_shape=ovr, kernel=rbf;, score=0.989 total time=   0.0s\n",
      "[CV 6/10] END C=1, decision_function_shape=ovr, kernel=rbf;, score=0.971 total time=   0.0s\n",
      "[CV 7/10] END C=1, decision_function_shape=ovr, kernel=rbf;, score=0.954 total time=   0.0s\n",
      "[CV 8/10] END C=1, decision_function_shape=ovr, kernel=rbf;, score=0.977 total time=   0.0s\n",
      "[CV 9/10] END C=1, decision_function_shape=ovr, kernel=rbf;, score=0.971 total time=   0.0s\n",
      "[CV 10/10] END C=1, decision_function_shape=ovr, kernel=rbf;, score=0.977 total time=   0.0s\n",
      "[CV 1/10] END C=1, decision_function_shape=ovr, kernel=poly;, score=0.983 total time=   0.0s\n",
      "[CV 2/10] END C=1, decision_function_shape=ovr, kernel=poly;, score=0.994 total time=   0.0s\n",
      "[CV 3/10] END C=1, decision_function_shape=ovr, kernel=poly;, score=0.977 total time=   0.0s\n",
      "[CV 4/10] END C=1, decision_function_shape=ovr, kernel=poly;, score=0.989 total time=   0.0s\n",
      "[CV 5/10] END C=1, decision_function_shape=ovr, kernel=poly;, score=0.989 total time=   0.0s\n",
      "[CV 6/10] END C=1, decision_function_shape=ovr, kernel=poly;, score=0.989 total time=   0.0s\n",
      "[CV 7/10] END C=1, decision_function_shape=ovr, kernel=poly;, score=0.983 total time=   0.0s\n",
      "[CV 8/10] END C=1, decision_function_shape=ovr, kernel=poly;, score=0.994 total time=   0.0s\n",
      "[CV 9/10] END C=1, decision_function_shape=ovr, kernel=poly;, score=1.000 total time=   0.0s\n",
      "[CV 10/10] END C=1, decision_function_shape=ovr, kernel=poly;, score=0.994 total time=   0.0s\n",
      "[CV 1/10] END C=2, decision_function_shape=ovo, kernel=rbf;, score=0.971 total time=   0.0s\n",
      "[CV 2/10] END C=2, decision_function_shape=ovo, kernel=rbf;, score=0.983 total time=   0.0s\n",
      "[CV 3/10] END C=2, decision_function_shape=ovo, kernel=rbf;, score=0.971 total time=   0.0s\n",
      "[CV 4/10] END C=2, decision_function_shape=ovo, kernel=rbf;, score=0.989 total time=   0.0s\n",
      "[CV 5/10] END C=2, decision_function_shape=ovo, kernel=rbf;, score=0.989 total time=   0.0s\n",
      "[CV 6/10] END C=2, decision_function_shape=ovo, kernel=rbf;, score=0.977 total time=   0.0s\n",
      "[CV 7/10] END C=2, decision_function_shape=ovo, kernel=rbf;, score=0.977 total time=   0.0s\n",
      "[CV 8/10] END C=2, decision_function_shape=ovo, kernel=rbf;, score=0.989 total time=   0.0s\n",
      "[CV 9/10] END C=2, decision_function_shape=ovo, kernel=rbf;, score=0.983 total time=   0.0s\n",
      "[CV 10/10] END C=2, decision_function_shape=ovo, kernel=rbf;, score=0.989 total time=   0.0s\n",
      "[CV 1/10] END C=2, decision_function_shape=ovo, kernel=poly;, score=0.989 total time=   0.0s\n",
      "[CV 2/10] END C=2, decision_function_shape=ovo, kernel=poly;, score=0.989 total time=   0.0s\n",
      "[CV 3/10] END C=2, decision_function_shape=ovo, kernel=poly;, score=0.983 total time=   0.0s\n",
      "[CV 4/10] END C=2, decision_function_shape=ovo, kernel=poly;, score=0.989 total time=   0.0s\n",
      "[CV 5/10] END C=2, decision_function_shape=ovo, kernel=poly;, score=0.989 total time=   0.0s\n",
      "[CV 6/10] END C=2, decision_function_shape=ovo, kernel=poly;, score=0.989 total time=   0.0s\n",
      "[CV 7/10] END C=2, decision_function_shape=ovo, kernel=poly;, score=0.989 total time=   0.0s\n",
      "[CV 8/10] END C=2, decision_function_shape=ovo, kernel=poly;, score=0.989 total time=   0.0s\n",
      "[CV 9/10] END C=2, decision_function_shape=ovo, kernel=poly;, score=0.994 total time=   0.0s\n",
      "[CV 10/10] END C=2, decision_function_shape=ovo, kernel=poly;, score=0.989 total time=   0.0s\n",
      "[CV 1/10] END C=2, decision_function_shape=ovr, kernel=rbf;, score=0.971 total time=   0.0s\n",
      "[CV 2/10] END C=2, decision_function_shape=ovr, kernel=rbf;, score=0.983 total time=   0.0s\n",
      "[CV 3/10] END C=2, decision_function_shape=ovr, kernel=rbf;, score=0.971 total time=   0.0s\n",
      "[CV 4/10] END C=2, decision_function_shape=ovr, kernel=rbf;, score=0.989 total time=   0.0s\n",
      "[CV 5/10] END C=2, decision_function_shape=ovr, kernel=rbf;, score=0.989 total time=   0.0s\n",
      "[CV 6/10] END C=2, decision_function_shape=ovr, kernel=rbf;, score=0.977 total time=   0.0s\n",
      "[CV 7/10] END C=2, decision_function_shape=ovr, kernel=rbf;, score=0.977 total time=   0.0s\n",
      "[CV 8/10] END C=2, decision_function_shape=ovr, kernel=rbf;, score=0.989 total time=   0.0s\n",
      "[CV 9/10] END C=2, decision_function_shape=ovr, kernel=rbf;, score=0.983 total time=   0.0s\n",
      "[CV 10/10] END C=2, decision_function_shape=ovr, kernel=rbf;, score=0.989 total time=   0.0s\n",
      "[CV 1/10] END C=2, decision_function_shape=ovr, kernel=poly;, score=0.989 total time=   0.0s\n",
      "[CV 2/10] END C=2, decision_function_shape=ovr, kernel=poly;, score=0.989 total time=   0.0s\n",
      "[CV 3/10] END C=2, decision_function_shape=ovr, kernel=poly;, score=0.983 total time=   0.0s\n",
      "[CV 4/10] END C=2, decision_function_shape=ovr, kernel=poly;, score=0.989 total time=   0.0s\n",
      "[CV 5/10] END C=2, decision_function_shape=ovr, kernel=poly;, score=0.989 total time=   0.0s\n",
      "[CV 6/10] END C=2, decision_function_shape=ovr, kernel=poly;, score=0.989 total time=   0.0s\n",
      "[CV 7/10] END C=2, decision_function_shape=ovr, kernel=poly;, score=0.989 total time=   0.0s\n",
      "[CV 8/10] END C=2, decision_function_shape=ovr, kernel=poly;, score=0.989 total time=   0.0s\n",
      "[CV 9/10] END C=2, decision_function_shape=ovr, kernel=poly;, score=0.994 total time=   0.0s\n",
      "[CV 10/10] END C=2, decision_function_shape=ovr, kernel=poly;, score=0.989 total time=   0.0s\n",
      "[CV 1/10] END C=4, decision_function_shape=ovo, kernel=rbf;, score=0.983 total time=   0.0s\n",
      "[CV 2/10] END C=4, decision_function_shape=ovo, kernel=rbf;, score=0.989 total time=   0.0s\n",
      "[CV 3/10] END C=4, decision_function_shape=ovo, kernel=rbf;, score=0.989 total time=   0.0s\n",
      "[CV 4/10] END C=4, decision_function_shape=ovo, kernel=rbf;, score=0.989 total time=   0.0s\n",
      "[CV 5/10] END C=4, decision_function_shape=ovo, kernel=rbf;, score=0.994 total time=   0.0s\n",
      "[CV 6/10] END C=4, decision_function_shape=ovo, kernel=rbf;, score=0.983 total time=   0.0s\n",
      "[CV 7/10] END C=4, decision_function_shape=ovo, kernel=rbf;, score=0.983 total time=   0.0s\n",
      "[CV 8/10] END C=4, decision_function_shape=ovo, kernel=rbf;, score=0.989 total time=   0.0s\n",
      "[CV 9/10] END C=4, decision_function_shape=ovo, kernel=rbf;, score=0.989 total time=   0.0s\n",
      "[CV 10/10] END C=4, decision_function_shape=ovo, kernel=rbf;, score=0.994 total time=   0.0s\n",
      "[CV 1/10] END C=4, decision_function_shape=ovo, kernel=poly;, score=0.989 total time=   0.0s\n",
      "[CV 2/10] END C=4, decision_function_shape=ovo, kernel=poly;, score=0.989 total time=   0.0s\n",
      "[CV 3/10] END C=4, decision_function_shape=ovo, kernel=poly;, score=0.983 total time=   0.0s\n",
      "[CV 4/10] END C=4, decision_function_shape=ovo, kernel=poly;, score=0.989 total time=   0.0s\n",
      "[CV 5/10] END C=4, decision_function_shape=ovo, kernel=poly;, score=0.989 total time=   0.0s\n",
      "[CV 6/10] END C=4, decision_function_shape=ovo, kernel=poly;, score=0.989 total time=   0.0s\n",
      "[CV 7/10] END C=4, decision_function_shape=ovo, kernel=poly;, score=0.994 total time=   0.0s\n",
      "[CV 8/10] END C=4, decision_function_shape=ovo, kernel=poly;, score=0.994 total time=   0.0s\n",
      "[CV 9/10] END C=4, decision_function_shape=ovo, kernel=poly;, score=1.000 total time=   0.0s\n",
      "[CV 10/10] END C=4, decision_function_shape=ovo, kernel=poly;, score=0.989 total time=   0.0s\n",
      "[CV 1/10] END C=4, decision_function_shape=ovr, kernel=rbf;, score=0.983 total time=   0.0s\n",
      "[CV 2/10] END C=4, decision_function_shape=ovr, kernel=rbf;, score=0.989 total time=   0.0s\n",
      "[CV 3/10] END C=4, decision_function_shape=ovr, kernel=rbf;, score=0.989 total time=   0.0s\n",
      "[CV 4/10] END C=4, decision_function_shape=ovr, kernel=rbf;, score=0.989 total time=   0.0s\n",
      "[CV 5/10] END C=4, decision_function_shape=ovr, kernel=rbf;, score=0.994 total time=   0.0s\n",
      "[CV 6/10] END C=4, decision_function_shape=ovr, kernel=rbf;, score=0.983 total time=   0.0s\n",
      "[CV 7/10] END C=4, decision_function_shape=ovr, kernel=rbf;, score=0.983 total time=   0.0s\n",
      "[CV 8/10] END C=4, decision_function_shape=ovr, kernel=rbf;, score=0.989 total time=   0.0s\n",
      "[CV 9/10] END C=4, decision_function_shape=ovr, kernel=rbf;, score=0.989 total time=   0.0s\n",
      "[CV 10/10] END C=4, decision_function_shape=ovr, kernel=rbf;, score=0.994 total time=   0.0s\n",
      "[CV 1/10] END C=4, decision_function_shape=ovr, kernel=poly;, score=0.989 total time=   0.0s\n",
      "[CV 2/10] END C=4, decision_function_shape=ovr, kernel=poly;, score=0.989 total time=   0.0s\n",
      "[CV 3/10] END C=4, decision_function_shape=ovr, kernel=poly;, score=0.983 total time=   0.0s\n",
      "[CV 4/10] END C=4, decision_function_shape=ovr, kernel=poly;, score=0.989 total time=   0.0s\n",
      "[CV 5/10] END C=4, decision_function_shape=ovr, kernel=poly;, score=0.989 total time=   0.0s\n",
      "[CV 6/10] END C=4, decision_function_shape=ovr, kernel=poly;, score=0.989 total time=   0.0s\n",
      "[CV 7/10] END C=4, decision_function_shape=ovr, kernel=poly;, score=0.994 total time=   0.0s\n",
      "[CV 8/10] END C=4, decision_function_shape=ovr, kernel=poly;, score=0.994 total time=   0.0s\n",
      "[CV 9/10] END C=4, decision_function_shape=ovr, kernel=poly;, score=1.000 total time=   0.0s\n",
      "[CV 10/10] END C=4, decision_function_shape=ovr, kernel=poly;, score=0.989 total time=   0.0s\n",
      "[CV 1/10] END C=6, decision_function_shape=ovo, kernel=rbf;, score=0.977 total time=   0.0s\n",
      "[CV 2/10] END C=6, decision_function_shape=ovo, kernel=rbf;, score=0.989 total time=   0.0s\n",
      "[CV 3/10] END C=6, decision_function_shape=ovo, kernel=rbf;, score=0.989 total time=   0.0s\n",
      "[CV 4/10] END C=6, decision_function_shape=ovo, kernel=rbf;, score=0.989 total time=   0.0s\n",
      "[CV 5/10] END C=6, decision_function_shape=ovo, kernel=rbf;, score=0.994 total time=   0.0s\n",
      "[CV 6/10] END C=6, decision_function_shape=ovo, kernel=rbf;, score=0.983 total time=   0.0s\n",
      "[CV 7/10] END C=6, decision_function_shape=ovo, kernel=rbf;, score=0.989 total time=   0.0s\n",
      "[CV 8/10] END C=6, decision_function_shape=ovo, kernel=rbf;, score=0.989 total time=   0.0s\n",
      "[CV 9/10] END C=6, decision_function_shape=ovo, kernel=rbf;, score=0.989 total time=   0.0s\n",
      "[CV 10/10] END C=6, decision_function_shape=ovo, kernel=rbf;, score=0.994 total time=   0.0s\n",
      "[CV 1/10] END C=6, decision_function_shape=ovo, kernel=poly;, score=0.989 total time=   0.0s\n",
      "[CV 2/10] END C=6, decision_function_shape=ovo, kernel=poly;, score=0.989 total time=   0.0s\n",
      "[CV 3/10] END C=6, decision_function_shape=ovo, kernel=poly;, score=0.989 total time=   0.0s\n",
      "[CV 4/10] END C=6, decision_function_shape=ovo, kernel=poly;, score=0.989 total time=   0.0s\n",
      "[CV 5/10] END C=6, decision_function_shape=ovo, kernel=poly;, score=0.989 total time=   0.0s\n",
      "[CV 6/10] END C=6, decision_function_shape=ovo, kernel=poly;, score=0.994 total time=   0.0s\n",
      "[CV 7/10] END C=6, decision_function_shape=ovo, kernel=poly;, score=1.000 total time=   0.0s\n",
      "[CV 8/10] END C=6, decision_function_shape=ovo, kernel=poly;, score=0.994 total time=   0.0s\n",
      "[CV 9/10] END C=6, decision_function_shape=ovo, kernel=poly;, score=1.000 total time=   0.0s\n",
      "[CV 10/10] END C=6, decision_function_shape=ovo, kernel=poly;, score=0.989 total time=   0.0s\n",
      "[CV 1/10] END C=6, decision_function_shape=ovr, kernel=rbf;, score=0.977 total time=   0.0s\n",
      "[CV 2/10] END C=6, decision_function_shape=ovr, kernel=rbf;, score=0.989 total time=   0.0s\n",
      "[CV 3/10] END C=6, decision_function_shape=ovr, kernel=rbf;, score=0.989 total time=   0.0s\n",
      "[CV 4/10] END C=6, decision_function_shape=ovr, kernel=rbf;, score=0.989 total time=   0.0s\n",
      "[CV 5/10] END C=6, decision_function_shape=ovr, kernel=rbf;, score=0.994 total time=   0.0s\n",
      "[CV 6/10] END C=6, decision_function_shape=ovr, kernel=rbf;, score=0.983 total time=   0.0s\n",
      "[CV 7/10] END C=6, decision_function_shape=ovr, kernel=rbf;, score=0.989 total time=   0.0s\n",
      "[CV 8/10] END C=6, decision_function_shape=ovr, kernel=rbf;, score=0.989 total time=   0.0s\n",
      "[CV 9/10] END C=6, decision_function_shape=ovr, kernel=rbf;, score=0.989 total time=   0.0s\n",
      "[CV 10/10] END C=6, decision_function_shape=ovr, kernel=rbf;, score=0.994 total time=   0.0s\n",
      "[CV 1/10] END C=6, decision_function_shape=ovr, kernel=poly;, score=0.989 total time=   0.0s\n",
      "[CV 2/10] END C=6, decision_function_shape=ovr, kernel=poly;, score=0.989 total time=   0.0s\n",
      "[CV 3/10] END C=6, decision_function_shape=ovr, kernel=poly;, score=0.989 total time=   0.0s\n",
      "[CV 4/10] END C=6, decision_function_shape=ovr, kernel=poly;, score=0.989 total time=   0.0s\n",
      "[CV 5/10] END C=6, decision_function_shape=ovr, kernel=poly;, score=0.989 total time=   0.0s\n",
      "[CV 6/10] END C=6, decision_function_shape=ovr, kernel=poly;, score=0.994 total time=   0.0s\n",
      "[CV 7/10] END C=6, decision_function_shape=ovr, kernel=poly;, score=1.000 total time=   0.0s\n",
      "[CV 8/10] END C=6, decision_function_shape=ovr, kernel=poly;, score=0.994 total time=   0.0s\n",
      "[CV 9/10] END C=6, decision_function_shape=ovr, kernel=poly;, score=1.000 total time=   0.0s\n",
      "[CV 10/10] END C=6, decision_function_shape=ovr, kernel=poly;, score=0.989 total time=   0.0s\n"
     ]
    },
    {
     "data": {
      "text/plain": [
       "GridSearchCV(cv=KFold(n_splits=10, random_state=42, shuffle=True),\n",
       "             estimator=SVC(),\n",
       "             param_grid={'C': [1, 2, 4, 6],\n",
       "                         'decision_function_shape': ['ovo', 'ovr'],\n",
       "                         'kernel': ['rbf', 'poly']},\n",
       "             scoring='accuracy', verbose=3)"
      ]
     },
     "execution_count": 47,
     "metadata": {},
     "output_type": "execute_result"
    }
   ],
   "source": [
    "param_grid_svm = { \n",
    "    'decision_function_shape': ['ovo' , 'ovr'],\n",
    "    'kernel': ['rbf' , 'poly'], \n",
    "    'C': [1, 2 , 4 , 6]\n",
    "}\n",
    "clf_svm = GridSearchCV(estimator= SVC() , param_grid= param_grid_svm , cv=kfold, scoring='accuracy', verbose=3)\n",
    "clf_svm.fit(x_train, y_train)"
   ]
  },
  {
   "cell_type": "code",
   "execution_count": 48,
   "id": "df81ee41",
   "metadata": {},
   "outputs": [
    {
     "name": "stdout",
     "output_type": "stream",
     "text": [
      "Best of Hyper Parameter : {'C': 6, 'decision_function_shape': 'ovo', 'kernel': 'poly'} \n",
      "Score :  0.992\n"
     ]
    }
   ],
   "source": [
    "print(\"Best of Hyper Parameter :\" , clf_svm.best_params_, \"\\nScore : \" , clf_svm.best_score_)"
   ]
  },
  {
   "cell_type": "code",
   "execution_count": 49,
   "id": "77a2df3e",
   "metadata": {},
   "outputs": [
    {
     "name": "stdout",
     "output_type": "stream",
     "text": [
      "Test score for test_data: 1.00\n",
      "Test score for train_data: 1.00\n"
     ]
    }
   ],
   "source": [
    "svm2 = clf_svm.best_estimator_.fit(x_train,y_train)\n",
    "print(\"Test score for test_data: {:.2f}\".format(svm2.score(x_test, y_test)))\n",
    "print(\"Test score for train_data: {:.2f}\".format(svm2.score(x_train, y_train)))"
   ]
  },
  {
   "cell_type": "code",
   "execution_count": 50,
   "id": "d694072d",
   "metadata": {},
   "outputs": [
    {
     "name": "stdout",
     "output_type": "stream",
     "text": [
      "[0.98857143 0.98857143 0.98857143 0.98857143 0.98857143 0.99428571\n",
      " 1.         0.99428571 1.         0.98857143]\n",
      "Mean for k_fold cross validation for SVM model 0.992\n"
     ]
    }
   ],
   "source": [
    "scores_clf3 = cross_val_score(svm2, x_train, y_train, cv=kfold, scoring='accuracy')\n",
    "print(scores_clf3)\n",
    "print(\"Mean for k_fold cross validation for SVM model\", np.mean(scores_clf3))"
   ]
  },
  {
   "cell_type": "code",
   "execution_count": 51,
   "id": "bdfebcbc",
   "metadata": {},
   "outputs": [
    {
     "name": "stdout",
     "output_type": "stream",
     "text": [
      "confusion_matrix(ytest, ypred): \n",
      " [[255   0   2]\n",
      " [  0 187   0]\n",
      " [  1   0 305]]\n"
     ]
    }
   ],
   "source": [
    "ypred3 = svm2.predict(x_test)\n",
    "cm_svm = confusion_matrix(y_test, ypred3)\n",
    "print(\"confusion_matrix(ytest, ypred): \\n\", cm_svm)"
   ]
  },
  {
   "cell_type": "code",
   "execution_count": 52,
   "id": "47e8b243",
   "metadata": {},
   "outputs": [
    {
     "name": "stdout",
     "output_type": "stream",
     "text": [
      "Sensitivity for each class: [0.9922178988326849, 1.0, 0.9967320261437909]\n",
      "Specificity for each class: [0.9979716024340771, 1.0, 0.9954954954954955]\n",
      "Sensitivity for each class:  0  is 0.9922178988326849\n",
      "Specificity for each class: 0  is 0.9979716024340771\n",
      "Sensitivity for each class:  1  is 1.0\n",
      "Specificity for each class: 1  is 1.0\n",
      "Sensitivity for each class:  2  is 0.9967320261437909\n",
      "Specificity for each class: 2  is 0.9954954954954955\n"
     ]
    }
   ],
   "source": [
    "sensitivity_specificity(cm_svm)"
   ]
  },
  {
   "cell_type": "code",
   "execution_count": 53,
   "id": "c0c5fae2",
   "metadata": {},
   "outputs": [
    {
     "data": {
      "image/png": "[encoded data removed]",
      "text/plain": [
       "<Figure size 1000x1000 with 2 Axes>"
      ]
     },
     "metadata": {},
     "output_type": "display_data"
    }
   ],
   "source": [
    "confusion_matrix_plot(cm_svm)"
   ]
  },
  {
   "cell_type": "code",
   "execution_count": 54,
   "id": "cf8fca6a",
   "metadata": {},
   "outputs": [
    {
     "name": "stdout",
     "output_type": "stream",
     "text": [
      "Classification Report:\n",
      "               precision    recall  f1-score   support\n",
      "\n",
      "        أحمر       1.00      0.99      0.99       257\n",
      "        أخضر       1.00      1.00      1.00       187\n",
      "     برتقالي       0.99      1.00      1.00       306\n",
      "\n",
      "    accuracy                           1.00       750\n",
      "   macro avg       1.00      1.00      1.00       750\n",
      "weighted avg       1.00      1.00      1.00       750\n",
      "\n"
     ]
    }
   ],
   "source": [
    "print(\"Classification Report:\\n\", classification_report(y_test, ypred3 , zero_division=1))"
   ]
  },
  {
   "cell_type": "code",
   "execution_count": 55,
   "id": "e89be0b9",
   "metadata": {},
   "outputs": [
    {
     "data": {
      "image/png": "[encoded data removed]",
      "text/plain": [
       "<Figure size 800x550 with 1 Axes>"
      ]
     },
     "metadata": {},
     "output_type": "display_data"
    },
    {
     "data": {
      "text/plain": [
       "ROCAUC(ax=<AxesSubplot:title={'center':'ROC Curves for SVC'}, xlabel='False Positive Rate', ylabel='True Positive Rate'>,\n",
       "       encoder={'أحمر': 'أحمر', 'أخضر': 'أخضر', 'برتقالي': 'برتقالي'},\n",
       "       estimator=SVC(C=6, decision_function_shape='ovo', kernel='poly'))"
      ]
     },
     "execution_count": 55,
     "metadata": {},
     "output_type": "execute_result"
    }
   ],
   "source": [
    "plot_ROC_curve(svm2, x_train, y_train, x_test, y_test)\n",
    "# print(x_train.shape, y_train.shape, x_test.shape, y_test.shape)"
   ]
  },
  {
   "cell_type": "code",
   "execution_count": 56,
   "id": "5f2d5c0c",
   "metadata": {},
   "outputs": [
    {
     "data": {
      "text/html": [
       "<div>\n",
       "<style scoped>\n",
       "    .dataframe tbody tr th:only-of-type {\n",
       "        vertical-align: middle;\n",
       "    }\n",
       "\n",
       "    .dataframe tbody tr th {\n",
       "        vertical-align: top;\n",
       "    }\n",
       "\n",
       "    .dataframe thead th {\n",
       "        text-align: right;\n",
       "    }\n",
       "</style>\n",
       "<table border=\"1\" class=\"dataframe\">\n",
       "  <thead>\n",
       "    <tr style=\"text-align: right;\">\n",
       "      <th></th>\n",
       "      <th>Model</th>\n",
       "      <th>Recall</th>\n",
       "      <th>Precision</th>\n",
       "      <th>F1 Score</th>\n",
       "      <th>Accuracy</th>\n",
       "    </tr>\n",
       "  </thead>\n",
       "  <tbody>\n",
       "    <tr>\n",
       "      <th>0</th>\n",
       "      <td>SVM</td>\n",
       "      <td>0.996317</td>\n",
       "      <td>0.996526</td>\n",
       "      <td>0.996419</td>\n",
       "      <td>0.996</td>\n",
       "    </tr>\n",
       "  </tbody>\n",
       "</table>\n",
       "</div>"
      ],
      "text/plain": [
       "  Model    Recall  Precision  F1 Score  Accuracy\n",
       "0   SVM  0.996317   0.996526  0.996419     0.996"
      ]
     },
     "execution_count": 56,
     "metadata": {},
     "output_type": "execute_result"
    }
   ],
   "source": [
    "svm_score = table_score(ypred3)\n",
    "svm_score.insert(0, 'Model', 'SVM')\n",
    "svm_score"
   ]
  },
  {
   "cell_type": "markdown",
   "id": "9590174c",
   "metadata": {},
   "source": [
    "### Random forest model"
   ]
  },
  {
   "cell_type": "code",
   "execution_count": 57,
   "id": "69909546",
   "metadata": {},
   "outputs": [
    {
     "name": "stdout",
     "output_type": "stream",
     "text": [
      "Test score: 0.93\n"
     ]
    }
   ],
   "source": [
    "RF = RandomForestClassifier(criterion = 'gini',n_estimators=100,max_depth=2) #criterion can be also : entropy \n",
    "RF.fit(x_train, y_train)\n",
    "print(\"Test score: {:.2f}\".format(RF.score(x_test , y_test)))"
   ]
  },
  {
   "cell_type": "code",
   "execution_count": 58,
   "id": "e70cb3b5",
   "metadata": {},
   "outputs": [
    {
     "name": "stdout",
     "output_type": "stream",
     "text": [
      "Fitting 10 folds for each of 18 candidates, totalling 180 fits\n",
      "[CV 1/10] END criterion=gini, max_depth=2, n_estimators=100;, score=0.897 total time=   0.1s\n",
      "[CV 2/10] END criterion=gini, max_depth=2, n_estimators=100;, score=0.931 total time=   0.2s\n",
      "[CV 3/10] END criterion=gini, max_depth=2, n_estimators=100;, score=0.903 total time=   0.2s\n",
      "[CV 4/10] END criterion=gini, max_depth=2, n_estimators=100;, score=0.949 total time=   0.2s\n",
      "[CV 5/10] END criterion=gini, max_depth=2, n_estimators=100;, score=0.926 total time=   0.1s\n",
      "[CV 6/10] END criterion=gini, max_depth=2, n_estimators=100;, score=0.891 total time=   0.1s\n",
      "[CV 7/10] END criterion=gini, max_depth=2, n_estimators=100;, score=0.920 total time=   0.1s\n",
      "[CV 8/10] END criterion=gini, max_depth=2, n_estimators=100;, score=0.931 total time=   0.1s\n",
      "[CV 9/10] END criterion=gini, max_depth=2, n_estimators=100;, score=0.914 total time=   0.2s\n",
      "[CV 10/10] END criterion=gini, max_depth=2, n_estimators=100;, score=0.920 total time=   0.1s\n",
      "[CV 1/10] END criterion=gini, max_depth=2, n_estimators=200;, score=0.897 total time=   0.6s\n",
      "[CV 2/10] END criterion=gini, max_depth=2, n_estimators=200;, score=0.937 total time=   0.3s\n",
      "[CV 3/10] END criterion=gini, max_depth=2, n_estimators=200;, score=0.903 total time=   0.3s\n",
      "[CV 4/10] END criterion=gini, max_depth=2, n_estimators=200;, score=0.949 total time=   0.3s\n",
      "[CV 5/10] END criterion=gini, max_depth=2, n_estimators=200;, score=0.926 total time=   0.3s\n",
      "[CV 6/10] END criterion=gini, max_depth=2, n_estimators=200;, score=0.891 total time=   0.3s\n",
      "[CV 7/10] END criterion=gini, max_depth=2, n_estimators=200;, score=0.920 total time=   0.3s\n",
      "[CV 8/10] END criterion=gini, max_depth=2, n_estimators=200;, score=0.931 total time=   0.3s\n",
      "[CV 9/10] END criterion=gini, max_depth=2, n_estimators=200;, score=0.914 total time=   0.5s\n",
      "[CV 10/10] END criterion=gini, max_depth=2, n_estimators=200;, score=0.920 total time=   0.4s\n",
      "[CV 1/10] END criterion=gini, max_depth=2, n_estimators=300;, score=0.897 total time=   0.5s\n",
      "[CV 2/10] END criterion=gini, max_depth=2, n_estimators=300;, score=0.937 total time=   0.6s\n",
      "[CV 3/10] END criterion=gini, max_depth=2, n_estimators=300;, score=0.903 total time=   0.7s\n",
      "[CV 4/10] END criterion=gini, max_depth=2, n_estimators=300;, score=0.949 total time=   0.8s\n",
      "[CV 5/10] END criterion=gini, max_depth=2, n_estimators=300;, score=0.926 total time=   0.5s\n",
      "[CV 6/10] END criterion=gini, max_depth=2, n_estimators=300;, score=0.891 total time=   0.5s\n",
      "[CV 7/10] END criterion=gini, max_depth=2, n_estimators=300;, score=0.920 total time=   0.6s\n",
      "[CV 8/10] END criterion=gini, max_depth=2, n_estimators=300;, score=0.937 total time=   0.6s\n",
      "[CV 9/10] END criterion=gini, max_depth=2, n_estimators=300;, score=0.914 total time=   0.6s\n",
      "[CV 10/10] END criterion=gini, max_depth=2, n_estimators=300;, score=0.920 total time=   0.6s\n",
      "[CV 1/10] END criterion=gini, max_depth=4, n_estimators=100;, score=0.903 total time=   0.4s\n",
      "[CV 2/10] END criterion=gini, max_depth=4, n_estimators=100;, score=0.931 total time=   0.2s\n",
      "[CV 3/10] END criterion=gini, max_depth=4, n_estimators=100;, score=0.903 total time=   0.2s\n",
      "[CV 4/10] END criterion=gini, max_depth=4, n_estimators=100;, score=0.949 total time=   0.2s\n",
      "[CV 5/10] END criterion=gini, max_depth=4, n_estimators=100;, score=0.926 total time=   0.2s\n",
      "[CV 6/10] END criterion=gini, max_depth=4, n_estimators=100;, score=0.891 total time=   0.1s\n",
      "[CV 7/10] END criterion=gini, max_depth=4, n_estimators=100;, score=0.920 total time=   0.2s\n",
      "[CV 8/10] END criterion=gini, max_depth=4, n_estimators=100;, score=0.937 total time=   0.1s\n",
      "[CV 9/10] END criterion=gini, max_depth=4, n_estimators=100;, score=0.914 total time=   0.2s\n",
      "[CV 10/10] END criterion=gini, max_depth=4, n_estimators=100;, score=0.926 total time=   0.2s\n",
      "[CV 1/10] END criterion=gini, max_depth=4, n_estimators=200;, score=0.903 total time=   0.4s\n",
      "[CV 2/10] END criterion=gini, max_depth=4, n_estimators=200;, score=0.931 total time=   0.4s\n",
      "[CV 3/10] END criterion=gini, max_depth=4, n_estimators=200;, score=0.909 total time=   0.7s\n",
      "[CV 4/10] END criterion=gini, max_depth=4, n_estimators=200;, score=0.949 total time=   0.5s\n",
      "[CV 5/10] END criterion=gini, max_depth=4, n_estimators=200;, score=0.926 total time=   0.4s\n",
      "[CV 6/10] END criterion=gini, max_depth=4, n_estimators=200;, score=0.891 total time=   0.3s\n",
      "[CV 7/10] END criterion=gini, max_depth=4, n_estimators=200;, score=0.920 total time=   0.4s\n",
      "[CV 8/10] END criterion=gini, max_depth=4, n_estimators=200;, score=0.937 total time=   0.5s\n",
      "[CV 9/10] END criterion=gini, max_depth=4, n_estimators=200;, score=0.920 total time=   0.5s\n",
      "[CV 10/10] END criterion=gini, max_depth=4, n_estimators=200;, score=0.926 total time=   0.5s\n",
      "[CV 1/10] END criterion=gini, max_depth=4, n_estimators=300;, score=0.897 total time=   1.0s\n",
      "[CV 2/10] END criterion=gini, max_depth=4, n_estimators=300;, score=0.931 total time=   0.9s\n",
      "[CV 3/10] END criterion=gini, max_depth=4, n_estimators=300;, score=0.909 total time=   1.1s\n",
      "[CV 4/10] END criterion=gini, max_depth=4, n_estimators=300;, score=0.949 total time=   1.1s\n",
      "[CV 5/10] END criterion=gini, max_depth=4, n_estimators=300;, score=0.926 total time=   0.7s\n",
      "[CV 6/10] END criterion=gini, max_depth=4, n_estimators=300;, score=0.891 total time=   1.0s\n",
      "[CV 7/10] END criterion=gini, max_depth=4, n_estimators=300;, score=0.920 total time=   0.6s\n",
      "[CV 8/10] END criterion=gini, max_depth=4, n_estimators=300;, score=0.937 total time=   0.9s\n",
      "[CV 9/10] END criterion=gini, max_depth=4, n_estimators=300;, score=0.914 total time=   0.7s\n",
      "[CV 10/10] END criterion=gini, max_depth=4, n_estimators=300;, score=0.920 total time=   0.7s\n",
      "[CV 1/10] END criterion=gini, max_depth=8, n_estimators=100;, score=0.914 total time=   0.2s\n",
      "[CV 2/10] END criterion=gini, max_depth=8, n_estimators=100;, score=0.960 total time=   0.2s\n",
      "[CV 3/10] END criterion=gini, max_depth=8, n_estimators=100;, score=0.926 total time=   0.2s\n",
      "[CV 4/10] END criterion=gini, max_depth=8, n_estimators=100;, score=0.960 total time=   0.2s\n",
      "[CV 5/10] END criterion=gini, max_depth=8, n_estimators=100;, score=0.949 total time=   0.1s\n",
      "[CV 6/10] END criterion=gini, max_depth=8, n_estimators=100;, score=0.920 total time=   0.2s\n",
      "[CV 7/10] END criterion=gini, max_depth=8, n_estimators=100;, score=0.931 total time=   0.2s\n",
      "[CV 8/10] END criterion=gini, max_depth=8, n_estimators=100;, score=0.960 total time=   0.2s\n",
      "[CV 9/10] END criterion=gini, max_depth=8, n_estimators=100;, score=0.954 total time=   0.2s\n",
      "[CV 10/10] END criterion=gini, max_depth=8, n_estimators=100;, score=0.943 total time=   0.2s\n",
      "[CV 1/10] END criterion=gini, max_depth=8, n_estimators=200;, score=0.920 total time=   0.7s\n",
      "[CV 2/10] END criterion=gini, max_depth=8, n_estimators=200;, score=0.966 total time=   0.7s\n",
      "[CV 3/10] END criterion=gini, max_depth=8, n_estimators=200;, score=0.931 total time=   0.8s\n",
      "[CV 4/10] END criterion=gini, max_depth=8, n_estimators=200;, score=0.960 total time=   0.6s\n",
      "[CV 5/10] END criterion=gini, max_depth=8, n_estimators=200;, score=0.937 total time=   0.5s\n",
      "[CV 6/10] END criterion=gini, max_depth=8, n_estimators=200;, score=0.914 total time=   0.5s\n",
      "[CV 7/10] END criterion=gini, max_depth=8, n_estimators=200;, score=0.920 total time=   0.4s\n",
      "[CV 8/10] END criterion=gini, max_depth=8, n_estimators=200;, score=0.954 total time=   0.4s\n",
      "[CV 9/10] END criterion=gini, max_depth=8, n_estimators=200;, score=0.949 total time=   0.5s\n",
      "[CV 10/10] END criterion=gini, max_depth=8, n_estimators=200;, score=0.949 total time=   0.7s\n",
      "[CV 1/10] END criterion=gini, max_depth=8, n_estimators=300;, score=0.909 total time=   0.7s\n",
      "[CV 2/10] END criterion=gini, max_depth=8, n_estimators=300;, score=0.966 total time=   0.7s\n",
      "[CV 3/10] END criterion=gini, max_depth=8, n_estimators=300;, score=0.926 total time=   0.7s\n",
      "[CV 4/10] END criterion=gini, max_depth=8, n_estimators=300;, score=0.949 total time=   0.8s\n",
      "[CV 5/10] END criterion=gini, max_depth=8, n_estimators=300;, score=0.937 total time=   0.7s\n",
      "[CV 6/10] END criterion=gini, max_depth=8, n_estimators=300;, score=0.926 total time=   0.7s\n",
      "[CV 7/10] END criterion=gini, max_depth=8, n_estimators=300;, score=0.926 total time=   1.2s\n",
      "[CV 8/10] END criterion=gini, max_depth=8, n_estimators=300;, score=0.954 total time=   0.8s\n",
      "[CV 9/10] END criterion=gini, max_depth=8, n_estimators=300;, score=0.943 total time=   1.0s\n",
      "[CV 10/10] END criterion=gini, max_depth=8, n_estimators=300;, score=0.949 total time=   1.0s\n",
      "[CV 1/10] END criterion=entropy, max_depth=2, n_estimators=100;, score=0.891 total time=   0.1s\n",
      "[CV 2/10] END criterion=entropy, max_depth=2, n_estimators=100;, score=0.931 total time=   0.1s\n",
      "[CV 3/10] END criterion=entropy, max_depth=2, n_estimators=100;, score=0.903 total time=   0.1s\n",
      "[CV 4/10] END criterion=entropy, max_depth=2, n_estimators=100;, score=0.949 total time=   0.1s\n",
      "[CV 5/10] END criterion=entropy, max_depth=2, n_estimators=100;, score=0.926 total time=   0.2s\n",
      "[CV 6/10] END criterion=entropy, max_depth=2, n_estimators=100;, score=0.891 total time=   0.1s\n",
      "[CV 7/10] END criterion=entropy, max_depth=2, n_estimators=100;, score=0.920 total time=   0.1s\n",
      "[CV 8/10] END criterion=entropy, max_depth=2, n_estimators=100;, score=0.931 total time=   0.1s\n",
      "[CV 9/10] END criterion=entropy, max_depth=2, n_estimators=100;, score=0.914 total time=   0.1s\n",
      "[CV 10/10] END criterion=entropy, max_depth=2, n_estimators=100;, score=0.920 total time=   0.1s\n",
      "[CV 1/10] END criterion=entropy, max_depth=2, n_estimators=200;, score=0.891 total time=   0.3s\n",
      "[CV 2/10] END criterion=entropy, max_depth=2, n_estimators=200;, score=0.931 total time=   0.3s\n",
      "[CV 3/10] END criterion=entropy, max_depth=2, n_estimators=200;, score=0.903 total time=   0.5s\n",
      "[CV 4/10] END criterion=entropy, max_depth=2, n_estimators=200;, score=0.949 total time=   0.5s\n",
      "[CV 5/10] END criterion=entropy, max_depth=2, n_estimators=200;, score=0.926 total time=   0.4s\n",
      "[CV 6/10] END criterion=entropy, max_depth=2, n_estimators=200;, score=0.891 total time=   0.3s\n",
      "[CV 7/10] END criterion=entropy, max_depth=2, n_estimators=200;, score=0.920 total time=   0.3s\n",
      "[CV 8/10] END criterion=entropy, max_depth=2, n_estimators=200;, score=0.931 total time=   0.6s\n",
      "[CV 9/10] END criterion=entropy, max_depth=2, n_estimators=200;, score=0.914 total time=   0.4s\n",
      "[CV 10/10] END criterion=entropy, max_depth=2, n_estimators=200;, score=0.920 total time=   0.3s\n",
      "[CV 1/10] END criterion=entropy, max_depth=2, n_estimators=300;, score=0.891 total time=   0.5s\n",
      "[CV 2/10] END criterion=entropy, max_depth=2, n_estimators=300;, score=0.931 total time=   0.5s\n",
      "[CV 3/10] END criterion=entropy, max_depth=2, n_estimators=300;, score=0.903 total time=   0.5s\n",
      "[CV 4/10] END criterion=entropy, max_depth=2, n_estimators=300;, score=0.949 total time=   0.5s\n",
      "[CV 5/10] END criterion=entropy, max_depth=2, n_estimators=300;, score=0.926 total time=   0.5s\n",
      "[CV 6/10] END criterion=entropy, max_depth=2, n_estimators=300;, score=0.891 total time=   0.5s\n",
      "[CV 7/10] END criterion=entropy, max_depth=2, n_estimators=300;, score=0.920 total time=   0.5s\n",
      "[CV 8/10] END criterion=entropy, max_depth=2, n_estimators=300;, score=0.931 total time=   0.8s\n",
      "[CV 9/10] END criterion=entropy, max_depth=2, n_estimators=300;, score=0.914 total time=   0.8s\n",
      "[CV 10/10] END criterion=entropy, max_depth=2, n_estimators=300;, score=0.920 total time=   0.9s\n",
      "[CV 1/10] END criterion=entropy, max_depth=4, n_estimators=100;, score=0.897 total time=   0.1s\n",
      "[CV 2/10] END criterion=entropy, max_depth=4, n_estimators=100;, score=0.931 total time=   0.2s\n",
      "[CV 3/10] END criterion=entropy, max_depth=4, n_estimators=100;, score=0.909 total time=   0.1s\n",
      "[CV 4/10] END criterion=entropy, max_depth=4, n_estimators=100;, score=0.949 total time=   0.1s\n",
      "[CV 5/10] END criterion=entropy, max_depth=4, n_estimators=100;, score=0.926 total time=   0.1s\n",
      "[CV 6/10] END criterion=entropy, max_depth=4, n_estimators=100;, score=0.891 total time=   0.1s\n",
      "[CV 7/10] END criterion=entropy, max_depth=4, n_estimators=100;, score=0.920 total time=   0.2s\n",
      "[CV 8/10] END criterion=entropy, max_depth=4, n_estimators=100;, score=0.937 total time=   0.2s\n",
      "[CV 9/10] END criterion=entropy, max_depth=4, n_estimators=100;, score=0.914 total time=   0.1s\n",
      "[CV 10/10] END criterion=entropy, max_depth=4, n_estimators=100;, score=0.926 total time=   0.1s\n",
      "[CV 1/10] END criterion=entropy, max_depth=4, n_estimators=200;, score=0.897 total time=   0.3s\n",
      "[CV 2/10] END criterion=entropy, max_depth=4, n_estimators=200;, score=0.931 total time=   0.5s\n",
      "[CV 3/10] END criterion=entropy, max_depth=4, n_estimators=200;, score=0.903 total time=   0.5s\n",
      "[CV 4/10] END criterion=entropy, max_depth=4, n_estimators=200;, score=0.949 total time=   0.5s\n",
      "[CV 5/10] END criterion=entropy, max_depth=4, n_estimators=200;, score=0.926 total time=   0.6s\n",
      "[CV 6/10] END criterion=entropy, max_depth=4, n_estimators=200;, score=0.891 total time=   0.4s\n",
      "[CV 7/10] END criterion=entropy, max_depth=4, n_estimators=200;, score=0.920 total time=   0.4s\n",
      "[CV 8/10] END criterion=entropy, max_depth=4, n_estimators=200;, score=0.937 total time=   0.4s\n",
      "[CV 9/10] END criterion=entropy, max_depth=4, n_estimators=200;, score=0.914 total time=   0.4s\n",
      "[CV 10/10] END criterion=entropy, max_depth=4, n_estimators=200;, score=0.926 total time=   0.4s\n",
      "[CV 1/10] END criterion=entropy, max_depth=4, n_estimators=300;, score=0.891 total time=   0.6s\n",
      "[CV 2/10] END criterion=entropy, max_depth=4, n_estimators=300;, score=0.931 total time=   0.6s\n",
      "[CV 3/10] END criterion=entropy, max_depth=4, n_estimators=300;, score=0.909 total time=   0.6s\n",
      "[CV 4/10] END criterion=entropy, max_depth=4, n_estimators=300;, score=0.949 total time=   0.7s\n",
      "[CV 5/10] END criterion=entropy, max_depth=4, n_estimators=300;, score=0.926 total time=   0.7s\n",
      "[CV 6/10] END criterion=entropy, max_depth=4, n_estimators=300;, score=0.891 total time=   0.6s\n",
      "[CV 7/10] END criterion=entropy, max_depth=4, n_estimators=300;, score=0.920 total time=   0.5s\n",
      "[CV 8/10] END criterion=entropy, max_depth=4, n_estimators=300;, score=0.937 total time=   0.6s\n",
      "[CV 9/10] END criterion=entropy, max_depth=4, n_estimators=300;, score=0.914 total time=   0.6s\n",
      "[CV 10/10] END criterion=entropy, max_depth=4, n_estimators=300;, score=0.920 total time=   0.5s\n",
      "[CV 1/10] END criterion=entropy, max_depth=8, n_estimators=100;, score=0.909 total time=   0.1s\n",
      "[CV 2/10] END criterion=entropy, max_depth=8, n_estimators=100;, score=0.966 total time=   0.2s\n",
      "[CV 3/10] END criterion=entropy, max_depth=8, n_estimators=100;, score=0.937 total time=   0.1s\n",
      "[CV 4/10] END criterion=entropy, max_depth=8, n_estimators=100;, score=0.949 total time=   0.1s\n",
      "[CV 5/10] END criterion=entropy, max_depth=8, n_estimators=100;, score=0.949 total time=   0.2s\n",
      "[CV 6/10] END criterion=entropy, max_depth=8, n_estimators=100;, score=0.914 total time=   0.3s\n",
      "[CV 7/10] END criterion=entropy, max_depth=8, n_estimators=100;, score=0.920 total time=   0.2s\n",
      "[CV 8/10] END criterion=entropy, max_depth=8, n_estimators=100;, score=0.954 total time=   0.1s\n",
      "[CV 9/10] END criterion=entropy, max_depth=8, n_estimators=100;, score=0.954 total time=   0.1s\n",
      "[CV 10/10] END criterion=entropy, max_depth=8, n_estimators=100;, score=0.931 total time=   0.1s\n",
      "[CV 1/10] END criterion=entropy, max_depth=8, n_estimators=200;, score=0.909 total time=   0.4s\n",
      "[CV 2/10] END criterion=entropy, max_depth=8, n_estimators=200;, score=0.971 total time=   0.4s\n",
      "[CV 3/10] END criterion=entropy, max_depth=8, n_estimators=200;, score=0.937 total time=   0.4s\n",
      "[CV 4/10] END criterion=entropy, max_depth=8, n_estimators=200;, score=0.949 total time=   0.4s\n",
      "[CV 5/10] END criterion=entropy, max_depth=8, n_estimators=200;, score=0.960 total time=   0.4s\n",
      "[CV 6/10] END criterion=entropy, max_depth=8, n_estimators=200;, score=0.926 total time=   0.4s\n",
      "[CV 7/10] END criterion=entropy, max_depth=8, n_estimators=200;, score=0.914 total time=   0.4s\n",
      "[CV 8/10] END criterion=entropy, max_depth=8, n_estimators=200;, score=0.960 total time=   0.4s\n",
      "[CV 9/10] END criterion=entropy, max_depth=8, n_estimators=200;, score=0.949 total time=   0.4s\n",
      "[CV 10/10] END criterion=entropy, max_depth=8, n_estimators=200;, score=0.943 total time=   0.4s\n",
      "[CV 1/10] END criterion=entropy, max_depth=8, n_estimators=300;, score=0.909 total time=   0.8s\n",
      "[CV 2/10] END criterion=entropy, max_depth=8, n_estimators=300;, score=0.960 total time=   0.8s\n",
      "[CV 3/10] END criterion=entropy, max_depth=8, n_estimators=300;, score=0.931 total time=   0.7s\n",
      "[CV 4/10] END criterion=entropy, max_depth=8, n_estimators=300;, score=0.949 total time=   0.7s\n",
      "[CV 5/10] END criterion=entropy, max_depth=8, n_estimators=300;, score=0.954 total time=   0.7s\n",
      "[CV 6/10] END criterion=entropy, max_depth=8, n_estimators=300;, score=0.914 total time=   0.6s\n",
      "[CV 7/10] END criterion=entropy, max_depth=8, n_estimators=300;, score=0.914 total time=   0.6s\n",
      "[CV 8/10] END criterion=entropy, max_depth=8, n_estimators=300;, score=0.954 total time=   0.6s\n",
      "[CV 9/10] END criterion=entropy, max_depth=8, n_estimators=300;, score=0.943 total time=   0.7s\n",
      "[CV 10/10] END criterion=entropy, max_depth=8, n_estimators=300;, score=0.937 total time=   0.6s\n"
     ]
    },
    {
     "data": {
      "text/plain": [
       "GridSearchCV(cv=KFold(n_splits=10, random_state=42, shuffle=True),\n",
       "             estimator=RandomForestClassifier(),\n",
       "             param_grid={'criterion': ['gini', 'entropy'],\n",
       "                         'max_depth': [2, 4, 8],\n",
       "                         'n_estimators': [100, 200, 300]},\n",
       "             scoring='accuracy', verbose=3)"
      ]
     },
     "execution_count": 58,
     "metadata": {},
     "output_type": "execute_result"
    }
   ],
   "source": [
    "param_grid_RF = { \n",
    "    'criterion': ['gini' , 'entropy'],\n",
    "    'n_estimators': [100, 200, 300],\n",
    "    'max_depth': [2 , 4 , 8]\n",
    "}\n",
    "clf_RF = GridSearchCV(estimator= RandomForestClassifier() , param_grid= param_grid_RF , cv=kfold, scoring='accuracy', verbose=3)\n",
    "clf_RF.fit(x_train, y_train)"
   ]
  },
  {
   "cell_type": "code",
   "execution_count": 59,
   "id": "5ea93a3f",
   "metadata": {},
   "outputs": [
    {
     "name": "stdout",
     "output_type": "stream",
     "text": [
      "Best of Hyper Parameter : {'criterion': 'gini', 'max_depth': 8, 'n_estimators': 100} \n",
      "Score :  0.9417142857142856\n"
     ]
    }
   ],
   "source": [
    "print(\"Best of Hyper Parameter :\" , clf_RF.best_params_, \"\\nScore : \" , clf_RF.best_score_)"
   ]
  },
  {
   "cell_type": "code",
   "execution_count": 60,
   "id": "0423c929",
   "metadata": {},
   "outputs": [
    {
     "name": "stdout",
     "output_type": "stream",
     "text": [
      "Test score for test_data: 0.95\n",
      "Test score for train_data: 0.98\n"
     ]
    }
   ],
   "source": [
    "RF2 = clf_RF.best_estimator_.fit(x_train,y_train)\n",
    "print(\"Test score for test_data: {:.2f}\".format(RF2.score(x_test, y_test)))\n",
    "print(\"Test score for train_data: {:.2f}\".format(RF2.score(x_train, y_train)))"
   ]
  },
  {
   "cell_type": "code",
   "execution_count": 61,
   "id": "23ccd86d",
   "metadata": {},
   "outputs": [
    {
     "name": "stdout",
     "output_type": "stream",
     "text": [
      "[0.91428571 0.96571429 0.93142857 0.95428571 0.94857143 0.92\n",
      " 0.92       0.96       0.93714286 0.94857143]\n",
      "Mean for k_fold cross validation for Random Forest model 0.9400000000000001\n"
     ]
    }
   ],
   "source": [
    "scores_clf4 = cross_val_score(RF2, x_train, y_train, cv=kfold, scoring='accuracy')\n",
    "print(scores_clf4)\n",
    "print(\"Mean for k_fold cross validation for Random Forest model\", np.mean(scores_clf4))"
   ]
  },
  {
   "cell_type": "code",
   "execution_count": 62,
   "id": "b3231a7f",
   "metadata": {},
   "outputs": [
    {
     "name": "stdout",
     "output_type": "stream",
     "text": [
      "confusion_matrix(ytest, ypred): \n",
      " [[222   0  35]\n",
      " [  0 187   0]\n",
      " [  3   0 303]]\n"
     ]
    }
   ],
   "source": [
    "ypred4 = RF2.predict(x_test)\n",
    "cm_rf = confusion_matrix(y_test, ypred4)\n",
    "print(\"confusion_matrix(ytest, ypred): \\n\", cm_rf)"
   ]
  },
  {
   "cell_type": "code",
   "execution_count": 63,
   "id": "925ca9d0",
   "metadata": {},
   "outputs": [
    {
     "name": "stdout",
     "output_type": "stream",
     "text": [
      "Sensitivity for each class: [0.8638132295719845, 1.0, 0.9901960784313726]\n",
      "Specificity for each class: [0.9939148073022313, 1.0, 0.9211711711711712]\n",
      "Sensitivity for each class:  0  is 0.8638132295719845\n",
      "Specificity for each class: 0  is 0.9939148073022313\n",
      "Sensitivity for each class:  1  is 1.0\n",
      "Specificity for each class: 1  is 1.0\n",
      "Sensitivity for each class:  2  is 0.9901960784313726\n",
      "Specificity for each class: 2  is 0.9211711711711712\n"
     ]
    }
   ],
   "source": [
    "sensitivity_specificity(cm_rf)"
   ]
  },
  {
   "cell_type": "code",
   "execution_count": 64,
   "id": "13e66fea",
   "metadata": {},
   "outputs": [
    {
     "data": {
      "image/png": "[encoded data removed]",
      "text/plain": [
       "<Figure size 1000x1000 with 2 Axes>"
      ]
     },
     "metadata": {},
     "output_type": "display_data"
    }
   ],
   "source": [
    "confusion_matrix_plot(cm_rf)"
   ]
  },
  {
   "cell_type": "code",
   "execution_count": 65,
   "id": "ce95f4ff",
   "metadata": {},
   "outputs": [
    {
     "name": "stdout",
     "output_type": "stream",
     "text": [
      "Classification Report:\n",
      "               precision    recall  f1-score   support\n",
      "\n",
      "        أحمر       0.99      0.86      0.92       257\n",
      "        أخضر       1.00      1.00      1.00       187\n",
      "     برتقالي       0.90      0.99      0.94       306\n",
      "\n",
      "    accuracy                           0.95       750\n",
      "   macro avg       0.96      0.95      0.95       750\n",
      "weighted avg       0.95      0.95      0.95       750\n",
      "\n"
     ]
    }
   ],
   "source": [
    "print(\"Classification Report:\\n\", classification_report(y_test, ypred4, zero_division=1))"
   ]
  },
  {
   "cell_type": "code",
   "execution_count": 66,
   "id": "4fb475fd",
   "metadata": {},
   "outputs": [
    {
     "data": {
      "image/png": "[encoded data removed]",
      "text/plain": [
       "<Figure size 800x550 with 1 Axes>"
      ]
     },
     "metadata": {},
     "output_type": "display_data"
    },
    {
     "data": {
      "text/plain": [
       "ROCAUC(ax=<AxesSubplot:title={'center':'ROC Curves for RandomForestClassifier'}, xlabel='False Positive Rate', ylabel='True Positive Rate'>,\n",
       "       encoder={'أحمر': 'أحمر', 'أخضر': 'أخضر', 'برتقالي': 'برتقالي'},\n",
       "       estimator=RandomForestClassifier(max_depth=8))"
      ]
     },
     "execution_count": 66,
     "metadata": {},
     "output_type": "execute_result"
    }
   ],
   "source": [
    "plot_ROC_curve(RF2, x_train, y_train, x_test, y_test)"
   ]
  },
  {
   "cell_type": "code",
   "execution_count": 67,
   "id": "40679b04",
   "metadata": {},
   "outputs": [
    {
     "data": {
      "text/html": [
       "<div>\n",
       "<style scoped>\n",
       "    .dataframe tbody tr th:only-of-type {\n",
       "        vertical-align: middle;\n",
       "    }\n",
       "\n",
       "    .dataframe tbody tr th {\n",
       "        vertical-align: top;\n",
       "    }\n",
       "\n",
       "    .dataframe thead th {\n",
       "        text-align: right;\n",
       "    }\n",
       "</style>\n",
       "<table border=\"1\" class=\"dataframe\">\n",
       "  <thead>\n",
       "    <tr style=\"text-align: right;\">\n",
       "      <th></th>\n",
       "      <th>Model</th>\n",
       "      <th>Recall</th>\n",
       "      <th>Precision</th>\n",
       "      <th>F1 Score</th>\n",
       "      <th>Accuracy</th>\n",
       "    </tr>\n",
       "  </thead>\n",
       "  <tbody>\n",
       "    <tr>\n",
       "      <th>0</th>\n",
       "      <td>RF</td>\n",
       "      <td>0.951336</td>\n",
       "      <td>0.961039</td>\n",
       "      <td>0.954052</td>\n",
       "      <td>0.949333</td>\n",
       "    </tr>\n",
       "  </tbody>\n",
       "</table>\n",
       "</div>"
      ],
      "text/plain": [
       "  Model    Recall  Precision  F1 Score  Accuracy\n",
       "0    RF  0.951336   0.961039  0.954052  0.949333"
      ]
     },
     "execution_count": 67,
     "metadata": {},
     "output_type": "execute_result"
    }
   ],
   "source": [
    "rf_score = table_score(ypred4)\n",
    "rf_score.insert(0, 'Model', 'RF')\n",
    "rf_score"
   ]
  },
  {
   "cell_type": "markdown",
   "id": "4f179430",
   "metadata": {},
   "source": [
    "### Naive Bayes"
   ]
  },
  {
   "cell_type": "code",
   "execution_count": 68,
   "id": "061a1889",
   "metadata": {},
   "outputs": [
    {
     "name": "stdout",
     "output_type": "stream",
     "text": [
      "Test score: 0.93\n"
     ]
    }
   ],
   "source": [
    "NB = GaussianNB()\n",
    "NB.fit(x_train, y_train)\n",
    "print(\"Test score: {:.2f}\".format(NB.score(x_test , y_test)))"
   ]
  },
  {
   "cell_type": "code",
   "execution_count": 69,
   "id": "6f52e493",
   "metadata": {},
   "outputs": [
    {
     "name": "stdout",
     "output_type": "stream",
     "text": [
      "Fitting 10 folds for each of 9 candidates, totalling 90 fits\n",
      "[CV 1/10] END ..............var_smoothing=1e-09;, score=0.891 total time=   0.0s\n",
      "[CV 2/10] END ..............var_smoothing=1e-09;, score=0.931 total time=   0.0s\n",
      "[CV 3/10] END ..............var_smoothing=1e-09;, score=0.909 total time=   0.0s\n",
      "[CV 4/10] END ..............var_smoothing=1e-09;, score=0.949 total time=   0.0s\n",
      "[CV 5/10] END ..............var_smoothing=1e-09;, score=0.926 total time=   0.0s\n",
      "[CV 6/10] END ..............var_smoothing=1e-09;, score=0.891 total time=   0.0s\n",
      "[CV 7/10] END ..............var_smoothing=1e-09;, score=0.920 total time=   0.0s\n",
      "[CV 8/10] END ..............var_smoothing=1e-09;, score=0.931 total time=   0.0s\n",
      "[CV 9/10] END ..............var_smoothing=1e-09;, score=0.914 total time=   0.0s\n",
      "[CV 10/10] END .............var_smoothing=1e-09;, score=0.920 total time=   0.0s\n",
      "[CV 1/10] END ..............var_smoothing=1e-08;, score=0.891 total time=   0.0s\n",
      "[CV 2/10] END ..............var_smoothing=1e-08;, score=0.931 total time=   0.0s\n",
      "[CV 3/10] END ..............var_smoothing=1e-08;, score=0.909 total time=   0.0s\n",
      "[CV 4/10] END ..............var_smoothing=1e-08;, score=0.949 total time=   0.0s\n",
      "[CV 5/10] END ..............var_smoothing=1e-08;, score=0.926 total time=   0.0s\n",
      "[CV 6/10] END ..............var_smoothing=1e-08;, score=0.891 total time=   0.0s\n",
      "[CV 7/10] END ..............var_smoothing=1e-08;, score=0.920 total time=   0.0s\n",
      "[CV 8/10] END ..............var_smoothing=1e-08;, score=0.931 total time=   0.0s\n",
      "[CV 9/10] END ..............var_smoothing=1e-08;, score=0.914 total time=   0.0s\n",
      "[CV 10/10] END .............var_smoothing=1e-08;, score=0.920 total time=   0.0s\n",
      "[CV 1/10] END ..............var_smoothing=1e-07;, score=0.891 total time=   0.0s\n",
      "[CV 2/10] END ..............var_smoothing=1e-07;, score=0.931 total time=   0.0s\n",
      "[CV 3/10] END ..............var_smoothing=1e-07;, score=0.909 total time=   0.0s\n",
      "[CV 4/10] END ..............var_smoothing=1e-07;, score=0.949 total time=   0.0s\n",
      "[CV 5/10] END ..............var_smoothing=1e-07;, score=0.926 total time=   0.0s\n",
      "[CV 6/10] END ..............var_smoothing=1e-07;, score=0.891 total time=   0.0s\n",
      "[CV 7/10] END ..............var_smoothing=1e-07;, score=0.920 total time=   0.0s\n",
      "[CV 8/10] END ..............var_smoothing=1e-07;, score=0.931 total time=   0.0s\n",
      "[CV 9/10] END ..............var_smoothing=1e-07;, score=0.914 total time=   0.0s\n",
      "[CV 10/10] END .............var_smoothing=1e-07;, score=0.920 total time=   0.0s\n",
      "[CV 1/10] END ..............var_smoothing=1e-06;, score=0.891 total time=   0.0s\n",
      "[CV 2/10] END ..............var_smoothing=1e-06;, score=0.931 total time=   0.0s\n",
      "[CV 3/10] END ..............var_smoothing=1e-06;, score=0.909 total time=   0.0s\n",
      "[CV 4/10] END ..............var_smoothing=1e-06;, score=0.949 total time=   0.0s\n",
      "[CV 5/10] END ..............var_smoothing=1e-06;, score=0.926 total time=   0.0s\n",
      "[CV 6/10] END ..............var_smoothing=1e-06;, score=0.891 total time=   0.0s\n",
      "[CV 7/10] END ..............var_smoothing=1e-06;, score=0.920 total time=   0.0s\n",
      "[CV 8/10] END ..............var_smoothing=1e-06;, score=0.931 total time=   0.0s\n",
      "[CV 9/10] END ..............var_smoothing=1e-06;, score=0.914 total time=   0.0s\n",
      "[CV 10/10] END .............var_smoothing=1e-06;, score=0.920 total time=   0.0s\n",
      "[CV 1/10] END ..............var_smoothing=1e-05;, score=0.891 total time=   0.0s\n",
      "[CV 2/10] END ..............var_smoothing=1e-05;, score=0.931 total time=   0.0s\n",
      "[CV 3/10] END ..............var_smoothing=1e-05;, score=0.909 total time=   0.0s\n",
      "[CV 4/10] END ..............var_smoothing=1e-05;, score=0.949 total time=   0.0s\n",
      "[CV 5/10] END ..............var_smoothing=1e-05;, score=0.926 total time=   0.0s\n",
      "[CV 6/10] END ..............var_smoothing=1e-05;, score=0.891 total time=   0.0s\n",
      "[CV 7/10] END ..............var_smoothing=1e-05;, score=0.920 total time=   0.0s\n",
      "[CV 8/10] END ..............var_smoothing=1e-05;, score=0.931 total time=   0.0s\n",
      "[CV 9/10] END ..............var_smoothing=1e-05;, score=0.914 total time=   0.0s\n",
      "[CV 10/10] END .............var_smoothing=1e-05;, score=0.920 total time=   0.0s\n",
      "[CV 1/10] END .............var_smoothing=0.0001;, score=0.891 total time=   0.0s\n",
      "[CV 2/10] END .............var_smoothing=0.0001;, score=0.931 total time=   0.0s\n",
      "[CV 3/10] END .............var_smoothing=0.0001;, score=0.909 total time=   0.0s\n",
      "[CV 4/10] END .............var_smoothing=0.0001;, score=0.949 total time=   0.0s\n",
      "[CV 5/10] END .............var_smoothing=0.0001;, score=0.926 total time=   0.0s\n",
      "[CV 6/10] END .............var_smoothing=0.0001;, score=0.891 total time=   0.0s\n",
      "[CV 7/10] END .............var_smoothing=0.0001;, score=0.920 total time=   0.0s\n",
      "[CV 8/10] END .............var_smoothing=0.0001;, score=0.931 total time=   0.0s\n",
      "[CV 9/10] END .............var_smoothing=0.0001;, score=0.914 total time=   0.0s\n",
      "[CV 10/10] END ............var_smoothing=0.0001;, score=0.920 total time=   0.0s\n",
      "[CV 1/10] END ..............var_smoothing=0.001;, score=0.891 total time=   0.0s\n",
      "[CV 2/10] END ..............var_smoothing=0.001;, score=0.931 total time=   0.0s\n",
      "[CV 3/10] END ..............var_smoothing=0.001;, score=0.909 total time=   0.0s\n",
      "[CV 4/10] END ..............var_smoothing=0.001;, score=0.949 total time=   0.0s\n",
      "[CV 5/10] END ..............var_smoothing=0.001;, score=0.926 total time=   0.0s\n",
      "[CV 6/10] END ..............var_smoothing=0.001;, score=0.891 total time=   0.0s\n",
      "[CV 7/10] END ..............var_smoothing=0.001;, score=0.920 total time=   0.0s\n",
      "[CV 8/10] END ..............var_smoothing=0.001;, score=0.931 total time=   0.0s\n",
      "[CV 9/10] END ..............var_smoothing=0.001;, score=0.914 total time=   0.0s\n",
      "[CV 10/10] END .............var_smoothing=0.001;, score=0.920 total time=   0.0s\n",
      "[CV 1/10] END ...............var_smoothing=0.01;, score=0.891 total time=   0.0s\n",
      "[CV 2/10] END ...............var_smoothing=0.01;, score=0.931 total time=   0.0s\n",
      "[CV 3/10] END ...............var_smoothing=0.01;, score=0.909 total time=   0.0s\n",
      "[CV 4/10] END ...............var_smoothing=0.01;, score=0.949 total time=   0.0s\n",
      "[CV 5/10] END ...............var_smoothing=0.01;, score=0.926 total time=   0.0s\n",
      "[CV 6/10] END ...............var_smoothing=0.01;, score=0.891 total time=   0.0s\n",
      "[CV 7/10] END ...............var_smoothing=0.01;, score=0.920 total time=   0.0s\n",
      "[CV 8/10] END ...............var_smoothing=0.01;, score=0.931 total time=   0.0s\n",
      "[CV 9/10] END ...............var_smoothing=0.01;, score=0.914 total time=   0.0s\n",
      "[CV 10/10] END ..............var_smoothing=0.01;, score=0.920 total time=   0.0s\n",
      "[CV 1/10] END ................var_smoothing=0.1;, score=0.891 total time=   0.0s\n",
      "[CV 2/10] END ................var_smoothing=0.1;, score=0.931 total time=   0.0s\n",
      "[CV 3/10] END ................var_smoothing=0.1;, score=0.903 total time=   0.0s\n",
      "[CV 4/10] END ................var_smoothing=0.1;, score=0.949 total time=   0.0s\n",
      "[CV 5/10] END ................var_smoothing=0.1;, score=0.926 total time=   0.0s\n",
      "[CV 6/10] END ................var_smoothing=0.1;, score=0.891 total time=   0.0s\n",
      "[CV 7/10] END ................var_smoothing=0.1;, score=0.920 total time=   0.0s\n",
      "[CV 8/10] END ................var_smoothing=0.1;, score=0.931 total time=   0.0s\n",
      "[CV 9/10] END ................var_smoothing=0.1;, score=0.914 total time=   0.0s\n",
      "[CV 10/10] END ...............var_smoothing=0.1;, score=0.920 total time=   0.0s\n"
     ]
    },
    {
     "data": {
      "text/plain": [
       "GridSearchCV(cv=KFold(n_splits=10, random_state=42, shuffle=True),\n",
       "             estimator=GaussianNB(),\n",
       "             param_grid={'var_smoothing': [1e-09, 1e-08, 1e-07, 1e-06, 1e-05,\n",
       "                                           0.0001, 0.001, 0.01, 0.1]},\n",
       "             scoring='accuracy', verbose=3)"
      ]
     },
     "execution_count": 69,
     "metadata": {},
     "output_type": "execute_result"
    }
   ],
   "source": [
    "param_grid_NB = {\n",
    "    'var_smoothing': [1e-9, 1e-8, 1e-7, 1e-6, 1e-5, 1e-4, 1e-3, 1e-2, 1e-1],\n",
    "}\n",
    "clf_NB = GridSearchCV(estimator= GaussianNB() , param_grid= param_grid_NB , cv=kfold, scoring='accuracy', verbose=3)\n",
    "clf_NB.fit(x_train, y_train)"
   ]
  },
  {
   "cell_type": "code",
   "execution_count": 70,
   "id": "2b013f3d",
   "metadata": {},
   "outputs": [
    {
     "name": "stdout",
     "output_type": "stream",
     "text": [
      "Best of Hyper Parameter : {'var_smoothing': 1e-09} \n",
      "Score :  0.9182857142857144\n"
     ]
    }
   ],
   "source": [
    "print(\"Best of Hyper Parameter :\" , clf_NB.best_params_, \"\\nScore : \" , clf_NB.best_score_)"
   ]
  },
  {
   "cell_type": "code",
   "execution_count": 71,
   "id": "6dea01ca",
   "metadata": {},
   "outputs": [
    {
     "name": "stdout",
     "output_type": "stream",
     "text": [
      "Test score for test_data: 0.93\n",
      "Test score for train_data: 0.92\n"
     ]
    }
   ],
   "source": [
    "NB2 = clf_NB.best_estimator_.fit(x_train,y_train)\n",
    "print(\"Test score for test_data: {:.2f}\".format(NB2.score(x_test, y_test)))\n",
    "print(\"Test score for train_data: {:.2f}\".format(NB2.score(x_train, y_train)))"
   ]
  },
  {
   "cell_type": "code",
   "execution_count": 72,
   "id": "37451215",
   "metadata": {},
   "outputs": [
    {
     "name": "stdout",
     "output_type": "stream",
     "text": [
      "[0.89142857 0.93142857 0.90857143 0.94857143 0.92571429 0.89142857\n",
      " 0.92       0.93142857 0.91428571 0.92      ]\n",
      "Mean for k_fold cross validation for Naive Bayes model 0.9182857142857144\n"
     ]
    }
   ],
   "source": [
    "scores_clf5 = cross_val_score(NB2, x_train, y_train, cv=kfold, scoring='accuracy')\n",
    "print(scores_clf5)\n",
    "print(\"Mean for k_fold cross validation for Naive Bayes model\", np.mean(scores_clf5))"
   ]
  },
  {
   "cell_type": "code",
   "execution_count": 73,
   "id": "da72bcbf",
   "metadata": {},
   "outputs": [
    {
     "name": "stdout",
     "output_type": "stream",
     "text": [
      "confusion_matrix(ytest, ypred): \n",
      " [[204   0  53]\n",
      " [  0 187   0]\n",
      " [  0   0 306]]\n"
     ]
    }
   ],
   "source": [
    "ypred5 = NB2.predict(x_test)\n",
    "cm_NB = confusion_matrix(y_test, ypred5)\n",
    "print(\"confusion_matrix(ytest, ypred): \\n\", cm_NB)"
   ]
  },
  {
   "cell_type": "code",
   "execution_count": 74,
   "id": "43e8b5eb",
   "metadata": {},
   "outputs": [
    {
     "name": "stdout",
     "output_type": "stream",
     "text": [
      "Sensitivity for each class: [0.7937743190661478, 1.0, 1.0]\n",
      "Specificity for each class: [1.0, 1.0, 0.8806306306306306]\n",
      "Sensitivity for each class:  0  is 0.7937743190661478\n",
      "Specificity for each class: 0  is 1.0\n",
      "Sensitivity for each class:  1  is 1.0\n",
      "Specificity for each class: 1  is 1.0\n",
      "Sensitivity for each class:  2  is 1.0\n",
      "Specificity for each class: 2  is 0.8806306306306306\n"
     ]
    }
   ],
   "source": [
    "sensitivity_specificity(cm_NB)"
   ]
  },
  {
   "cell_type": "code",
   "execution_count": 75,
   "id": "4f691eae",
   "metadata": {},
   "outputs": [
    {
     "data": {
      "image/png": "[encoded data removed]",
      "text/plain": [
       "<Figure size 1000x1000 with 2 Axes>"
      ]
     },
     "metadata": {},
     "output_type": "display_data"
    }
   ],
   "source": [
    "confusion_matrix_plot(cm_NB)"
   ]
  },
  {
   "cell_type": "code",
   "execution_count": 76,
   "id": "cdf0ef4c",
   "metadata": {},
   "outputs": [
    {
     "name": "stdout",
     "output_type": "stream",
     "text": [
      "Classification Report:\n",
      "               precision    recall  f1-score   support\n",
      "\n",
      "        أحمر       1.00      0.79      0.89       257\n",
      "        أخضر       1.00      1.00      1.00       187\n",
      "     برتقالي       0.85      1.00      0.92       306\n",
      "\n",
      "    accuracy                           0.93       750\n",
      "   macro avg       0.95      0.93      0.94       750\n",
      "weighted avg       0.94      0.93      0.93       750\n",
      "\n"
     ]
    }
   ],
   "source": [
    "print(\"Classification Report:\\n\", classification_report(y_test, ypred5, zero_division=1))"
   ]
  },
  {
   "cell_type": "code",
   "execution_count": 77,
   "id": "252ca070",
   "metadata": {},
   "outputs": [
    {
     "data": {
      "image/png": "[encoded data removed]",
      "text/plain": [
       "<Figure size 800x550 with 1 Axes>"
      ]
     },
     "metadata": {},
     "output_type": "display_data"
    },
    {
     "data": {
      "text/plain": [
       "ROCAUC(ax=<AxesSubplot:title={'center':'ROC Curves for GaussianNB'}, xlabel='False Positive Rate', ylabel='True Positive Rate'>,\n",
       "       encoder={'أحمر': 'أحمر', 'أخضر': 'أخضر', 'برتقالي': 'برتقالي'},\n",
       "       estimator=GaussianNB())"
      ]
     },
     "execution_count": 77,
     "metadata": {},
     "output_type": "execute_result"
    }
   ],
   "source": [
    "plot_ROC_curve(NB2, x_train, y_train, x_test, y_test)"
   ]
  },
  {
   "cell_type": "code",
   "execution_count": 78,
   "id": "b386ec8c",
   "metadata": {},
   "outputs": [
    {
     "data": {
      "text/html": [
       "<div>\n",
       "<style scoped>\n",
       "    .dataframe tbody tr th:only-of-type {\n",
       "        vertical-align: middle;\n",
       "    }\n",
       "\n",
       "    .dataframe tbody tr th {\n",
       "        vertical-align: top;\n",
       "    }\n",
       "\n",
       "    .dataframe thead th {\n",
       "        text-align: right;\n",
       "    }\n",
       "</style>\n",
       "<table border=\"1\" class=\"dataframe\">\n",
       "  <thead>\n",
       "    <tr style=\"text-align: right;\">\n",
       "      <th></th>\n",
       "      <th>Model</th>\n",
       "      <th>Recall</th>\n",
       "      <th>Precision</th>\n",
       "      <th>F1 Score</th>\n",
       "      <th>Accuracy</th>\n",
       "    </tr>\n",
       "  </thead>\n",
       "  <tbody>\n",
       "    <tr>\n",
       "      <th>0</th>\n",
       "      <td>NB</td>\n",
       "      <td>0.931258</td>\n",
       "      <td>0.950789</td>\n",
       "      <td>0.935111</td>\n",
       "      <td>0.929333</td>\n",
       "    </tr>\n",
       "  </tbody>\n",
       "</table>\n",
       "</div>"
      ],
      "text/plain": [
       "  Model    Recall  Precision  F1 Score  Accuracy\n",
       "0    NB  0.931258   0.950789  0.935111  0.929333"
      ]
     },
     "execution_count": 78,
     "metadata": {},
     "output_type": "execute_result"
    }
   ],
   "source": [
    "nb_score = table_score(ypred5)\n",
    "nb_score.insert(0, 'Model', 'NB')\n",
    "nb_score"
   ]
  },
  {
   "cell_type": "markdown",
   "id": "8948c975",
   "metadata": {},
   "source": [
    "### NN model"
   ]
  },
  {
   "cell_type": "code",
   "execution_count": 79,
   "id": "8f94627b",
   "metadata": {},
   "outputs": [
    {
     "name": "stdout",
     "output_type": "stream",
     "text": [
      "Test score: 0.41\n"
     ]
    }
   ],
   "source": [
    "MLP = MLPClassifier(activation='tanh',solver='sgd', hidden_layer_sizes=(5,), max_iter=5000, random_state=1)\n",
    "MLP.fit(x_train,y_train)\n",
    "print(\"Test score: {:.2f}\".format(MLP.score(x_test, y_test)))"
   ]
  },
  {
   "cell_type": "code",
   "execution_count": 80,
   "id": "09495880",
   "metadata": {},
   "outputs": [
    {
     "name": "stdout",
     "output_type": "stream",
     "text": [
      "Fitting 10 folds for each of 2 candidates, totalling 20 fits\n",
      "[CV 1/10] END batch_size=1, learning_rate_init=0.001;, score=0.914 total time= 1.2min\n",
      "[CV 2/10] END batch_size=1, learning_rate_init=0.001;, score=0.937 total time= 1.0min\n",
      "[CV 3/10] END batch_size=1, learning_rate_init=0.001;, score=0.903 total time=  33.8s\n",
      "[CV 4/10] END batch_size=1, learning_rate_init=0.001;, score=0.937 total time=  36.6s\n",
      "[CV 5/10] END batch_size=1, learning_rate_init=0.001;, score=0.709 total time=  35.1s\n",
      "[CV 6/10] END batch_size=1, learning_rate_init=0.001;, score=0.891 total time=  51.7s\n",
      "[CV 7/10] END batch_size=1, learning_rate_init=0.001;, score=0.926 total time=  47.8s\n",
      "[CV 8/10] END batch_size=1, learning_rate_init=0.001;, score=0.954 total time=  39.0s\n",
      "[CV 9/10] END batch_size=1, learning_rate_init=0.001;, score=0.800 total time= 1.7min\n",
      "[CV 10/10] END batch_size=1, learning_rate_init=0.001;, score=0.811 total time=  24.6s\n",
      "[CV 1/10] END batch_size=1, learning_rate_init=0.01;, score=0.891 total time=  23.4s\n",
      "[CV 2/10] END batch_size=1, learning_rate_init=0.01;, score=0.931 total time=  16.2s\n",
      "[CV 3/10] END batch_size=1, learning_rate_init=0.01;, score=0.903 total time=  13.3s\n",
      "[CV 4/10] END batch_size=1, learning_rate_init=0.01;, score=0.623 total time=  14.3s\n",
      "[CV 5/10] END batch_size=1, learning_rate_init=0.01;, score=0.926 total time=  16.0s\n",
      "[CV 6/10] END batch_size=1, learning_rate_init=0.01;, score=0.891 total time=  15.1s\n",
      "[CV 7/10] END batch_size=1, learning_rate_init=0.01;, score=0.920 total time=  22.5s\n",
      "[CV 8/10] END batch_size=1, learning_rate_init=0.01;, score=0.977 total time=  13.2s\n",
      "[CV 9/10] END batch_size=1, learning_rate_init=0.01;, score=0.937 total time=  20.7s\n",
      "[CV 10/10] END batch_size=1, learning_rate_init=0.01;, score=0.640 total time=  24.4s\n"
     ]
    },
    {
     "data": {
      "text/plain": [
       "GridSearchCV(cv=KFold(n_splits=10, random_state=42, shuffle=True),\n",
       "             estimator=MLPClassifier(),\n",
       "             param_grid={'batch_size': [1],\n",
       "                         'learning_rate_init': [0.001, 0.01]},\n",
       "             scoring='accuracy', verbose=3)"
      ]
     },
     "execution_count": 80,
     "metadata": {},
     "output_type": "execute_result"
    }
   ],
   "source": [
    "param_grid_MLP = {\n",
    "    'learning_rate_init': [0.001 , 0.01], \n",
    "    'batch_size': [1]\n",
    "    # 'hidden_layer_sizes': [(20,), (50, 50)],\n",
    "    # 'activation': ['relu', 'tanh'],\n",
    "    # 'alpha': [0.0001, 0.01],\n",
    "}\n",
    "clf_MLP = GridSearchCV(estimator=MLPClassifier(), param_grid= param_grid_MLP , cv=kfold, scoring='accuracy' , verbose=3)\n",
    "clf_MLP.fit(x_train, y_train)"
   ]
  },
  {
   "cell_type": "code",
   "execution_count": 81,
   "id": "2779180b",
   "metadata": {},
   "outputs": [
    {
     "name": "stdout",
     "output_type": "stream",
     "text": [
      "Best of Hyper Parameter : {'batch_size': 1, 'learning_rate_init': 0.001} \n",
      "Score :  0.8782857142857143\n"
     ]
    }
   ],
   "source": [
    "print(\"Best of Hyper Parameter :\" , clf_MLP.best_params_, \"\\nScore : \" , clf_MLP.best_score_)"
   ]
  },
  {
   "cell_type": "code",
   "execution_count": 82,
   "id": "623aca2b",
   "metadata": {},
   "outputs": [
    {
     "name": "stdout",
     "output_type": "stream",
     "text": [
      "Test score for test_data: 0.94\n",
      "Test score for train_data: 0.93\n"
     ]
    }
   ],
   "source": [
    "MLP2 = clf_MLP.best_estimator_.fit(x_train,y_train)\n",
    "print(\"Test score for test_data: {:.2f}\".format(MLP2.score(x_test, y_test)))\n",
    "print(\"Test score for train_data: {:.2f}\".format(MLP2.score(x_train, y_train)))"
   ]
  },
  {
   "cell_type": "code",
   "execution_count": 83,
   "id": "36c1992c",
   "metadata": {},
   "outputs": [
    {
     "name": "stdout",
     "output_type": "stream",
     "text": [
      "[0.88       0.93142857 0.90285714 0.91428571 0.92571429 0.89142857\n",
      " 0.84571429 0.93714286 0.91428571 0.92      ]\n",
      "Mean for k_fold cross validation for Neural Network model 0.9062857142857143\n"
     ]
    }
   ],
   "source": [
    "scores_clf6 = cross_val_score(MLP2, x_train, y_train, cv=kfold, scoring='accuracy')\n",
    "print(scores_clf6)\n",
    "print(\"Mean for k_fold cross validation for Neural Network model\", np.mean(scores_clf6))"
   ]
  },
  {
   "cell_type": "code",
   "execution_count": 84,
   "id": "6d33db9c",
   "metadata": {},
   "outputs": [
    {
     "name": "stdout",
     "output_type": "stream",
     "text": [
      "confusion_matrix(ytest, ypred): \n",
      " [[211   0  46]\n",
      " [  0 187   0]\n",
      " [  1   0 305]]\n"
     ]
    }
   ],
   "source": [
    "ypred6 = MLP2.predict(x_test)\n",
    "cm_MLP = confusion_matrix(y_test, ypred6)\n",
    "print(\"confusion_matrix(ytest, ypred): \\n\", cm_MLP)"
   ]
  },
  {
   "cell_type": "code",
   "execution_count": 85,
   "id": "9d3caa50",
   "metadata": {},
   "outputs": [
    {
     "name": "stdout",
     "output_type": "stream",
     "text": [
      "Sensitivity for each class: [0.8210116731517509, 1.0, 0.9967320261437909]\n",
      "Specificity for each class: [0.9979716024340771, 1.0, 0.8963963963963963]\n",
      "Sensitivity for each class:  0  is 0.8210116731517509\n",
      "Specificity for each class: 0  is 0.9979716024340771\n",
      "Sensitivity for each class:  1  is 1.0\n",
      "Specificity for each class: 1  is 1.0\n",
      "Sensitivity for each class:  2  is 0.9967320261437909\n",
      "Specificity for each class: 2  is 0.8963963963963963\n"
     ]
    }
   ],
   "source": [
    "sensitivity_specificity(cm_MLP)"
   ]
  },
  {
   "cell_type": "code",
   "execution_count": 86,
   "id": "51bab6c1",
   "metadata": {},
   "outputs": [
    {
     "data": {
      "image/png": "[encoded data removed]",
      "text/plain": [
       "<Figure size 1000x1000 with 2 Axes>"
      ]
     },
     "metadata": {},
     "output_type": "display_data"
    }
   ],
   "source": [
    "confusion_matrix_plot(cm_MLP)"
   ]
  },
  {
   "cell_type": "code",
   "execution_count": 87,
   "id": "938a5482",
   "metadata": {},
   "outputs": [
    {
     "name": "stdout",
     "output_type": "stream",
     "text": [
      "Classification Report:\n",
      "               precision    recall  f1-score   support\n",
      "\n",
      "        أحمر       1.00      0.82      0.90       257\n",
      "        أخضر       1.00      1.00      1.00       187\n",
      "     برتقالي       0.87      1.00      0.93       306\n",
      "\n",
      "    accuracy                           0.94       750\n",
      "   macro avg       0.95      0.94      0.94       750\n",
      "weighted avg       0.94      0.94      0.94       750\n",
      "\n"
     ]
    }
   ],
   "source": [
    "print(\"Classification Report:\\n\", classification_report(y_test, ypred6, zero_division=1))"
   ]
  },
  {
   "cell_type": "code",
   "execution_count": 88,
   "id": "e564b783",
   "metadata": {},
   "outputs": [
    {
     "data": {
      "image/png": "[encoded data removed]",
      "text/plain": [
       "<Figure size 800x550 with 1 Axes>"
      ]
     },
     "metadata": {},
     "output_type": "display_data"
    },
    {
     "data": {
      "text/plain": [
       "ROCAUC(ax=<AxesSubplot:title={'center':'ROC Curves for MLPClassifier'}, xlabel='False Positive Rate', ylabel='True Positive Rate'>,\n",
       "       encoder={'أحمر': 'أحمر', 'أخضر': 'أخضر', 'برتقالي': 'برتقالي'},\n",
       "       estimator=MLPClassifier(batch_size=1))"
      ]
     },
     "execution_count": 88,
     "metadata": {},
     "output_type": "execute_result"
    }
   ],
   "source": [
    "plot_ROC_curve(MLP2, x_train, y_train, x_test, y_test)"
   ]
  },
  {
   "cell_type": "code",
   "execution_count": 89,
   "id": "57893cde",
   "metadata": {},
   "outputs": [
    {
     "data": {
      "text/html": [
       "<div>\n",
       "<style scoped>\n",
       "    .dataframe tbody tr th:only-of-type {\n",
       "        vertical-align: middle;\n",
       "    }\n",
       "\n",
       "    .dataframe tbody tr th {\n",
       "        vertical-align: top;\n",
       "    }\n",
       "\n",
       "    .dataframe thead th {\n",
       "        text-align: right;\n",
       "    }\n",
       "</style>\n",
       "<table border=\"1\" class=\"dataframe\">\n",
       "  <thead>\n",
       "    <tr style=\"text-align: right;\">\n",
       "      <th></th>\n",
       "      <th>Model</th>\n",
       "      <th>Recall</th>\n",
       "      <th>Precision</th>\n",
       "      <th>F1 Score</th>\n",
       "      <th>Accuracy</th>\n",
       "    </tr>\n",
       "  </thead>\n",
       "  <tbody>\n",
       "    <tr>\n",
       "      <th>0</th>\n",
       "      <td>NN</td>\n",
       "      <td>0.939248</td>\n",
       "      <td>0.954743</td>\n",
       "      <td>0.94275</td>\n",
       "      <td>0.937333</td>\n",
       "    </tr>\n",
       "  </tbody>\n",
       "</table>\n",
       "</div>"
      ],
      "text/plain": [
       "  Model    Recall  Precision  F1 Score  Accuracy\n",
       "0    NN  0.939248   0.954743   0.94275  0.937333"
      ]
     },
     "execution_count": 89,
     "metadata": {},
     "output_type": "execute_result"
    }
   ],
   "source": [
    "nn_score = table_score(ypred6)\n",
    "nn_score.insert(0, 'Model', 'NN')\n",
    "nn_score"
   ]
  },
  {
   "cell_type": "markdown",
   "id": "54a2a1b8",
   "metadata": {},
   "source": [
    "### comparison"
   ]
  },
  {
   "cell_type": "code",
   "execution_count": 90,
   "id": "1e5269d9",
   "metadata": {},
   "outputs": [
    {
     "data": {
      "text/html": [
       "<div>\n",
       "<style scoped>\n",
       "    .dataframe tbody tr th:only-of-type {\n",
       "        vertical-align: middle;\n",
       "    }\n",
       "\n",
       "    .dataframe tbody tr th {\n",
       "        vertical-align: top;\n",
       "    }\n",
       "\n",
       "    .dataframe thead th {\n",
       "        text-align: right;\n",
       "    }\n",
       "</style>\n",
       "<table border=\"1\" class=\"dataframe\">\n",
       "  <thead>\n",
       "    <tr style=\"text-align: right;\">\n",
       "      <th></th>\n",
       "      <th>Model</th>\n",
       "      <th>Recall</th>\n",
       "      <th>Precision</th>\n",
       "      <th>F1 Score</th>\n",
       "      <th>Accuracy</th>\n",
       "    </tr>\n",
       "  </thead>\n",
       "  <tbody>\n",
       "    <tr>\n",
       "      <th>2</th>\n",
       "      <td>SVM</td>\n",
       "      <td>0.996317</td>\n",
       "      <td>0.996526</td>\n",
       "      <td>0.996419</td>\n",
       "      <td>0.996000</td>\n",
       "    </tr>\n",
       "    <tr>\n",
       "      <th>1</th>\n",
       "      <td>LR</td>\n",
       "      <td>0.984711</td>\n",
       "      <td>0.984711</td>\n",
       "      <td>0.984711</td>\n",
       "      <td>0.984000</td>\n",
       "    </tr>\n",
       "    <tr>\n",
       "      <th>0</th>\n",
       "      <td>KNN</td>\n",
       "      <td>0.953206</td>\n",
       "      <td>0.956456</td>\n",
       "      <td>0.954432</td>\n",
       "      <td>0.949333</td>\n",
       "    </tr>\n",
       "    <tr>\n",
       "      <th>3</th>\n",
       "      <td>RF</td>\n",
       "      <td>0.951336</td>\n",
       "      <td>0.961039</td>\n",
       "      <td>0.954052</td>\n",
       "      <td>0.949333</td>\n",
       "    </tr>\n",
       "    <tr>\n",
       "      <th>5</th>\n",
       "      <td>NN</td>\n",
       "      <td>0.939248</td>\n",
       "      <td>0.954743</td>\n",
       "      <td>0.942750</td>\n",
       "      <td>0.937333</td>\n",
       "    </tr>\n",
       "    <tr>\n",
       "      <th>4</th>\n",
       "      <td>NB</td>\n",
       "      <td>0.931258</td>\n",
       "      <td>0.950789</td>\n",
       "      <td>0.935111</td>\n",
       "      <td>0.929333</td>\n",
       "    </tr>\n",
       "  </tbody>\n",
       "</table>\n",
       "</div>"
      ],
      "text/plain": [
       "  Model    Recall  Precision  F1 Score  Accuracy\n",
       "2   SVM  0.996317   0.996526  0.996419  0.996000\n",
       "1    LR  0.984711   0.984711  0.984711  0.984000\n",
       "0   KNN  0.953206   0.956456  0.954432  0.949333\n",
       "3    RF  0.951336   0.961039  0.954052  0.949333\n",
       "5    NN  0.939248   0.954743  0.942750  0.937333\n",
       "4    NB  0.931258   0.950789  0.935111  0.929333"
      ]
     },
     "execution_count": 90,
     "metadata": {},
     "output_type": "execute_result"
    }
   ],
   "source": [
    "predictions = pd.concat([knn_score, lr_score, svm_score, rf_score, nb_score, nn_score], ignore_index=True, sort=False)\n",
    "predictions.sort_values(by=['Accuracy'], ascending=False)"
   ]
  },
  {
   "cell_type": "markdown",
   "id": "7a090180",
   "metadata": {},
   "source": [
    "### visualization"
   ]
  },
  {
   "cell_type": "code",
   "execution_count": 91,
   "id": "d9844a98",
   "metadata": {},
   "outputs": [
    {
     "data": {
      "image/png": "[encoded data removed]",
      "text/plain": [
       "<Figure size 1000x600 with 1 Axes>"
      ]
     },
     "metadata": {},
     "output_type": "display_data"
    }
   ],
   "source": [
    "labels = ['naive_bayes Regression', 'random_forest ','knn','logistic regressio','SVM','NN']\n",
    "data = [scores_clf1, scores_clf2,scores_clf3,scores_clf4,scores_clf5,scores_clf6]\n",
    "\n",
    "plt.figure(figsize=(10, 6))\n",
    "plt.boxplot(data)\n",
    "plt.title('Comparison of Cross-Validation Scores')\n",
    "plt.ylabel('Accuracy')\n",
    "plt.xticks(np.arange(1, 7), labels)\n",
    "plt.grid(axis='y')\n",
    "\n",
    "# Calculate and display mean scores\n",
    "mean_scores = [np.mean(scores_clf1), np.mean(scores_clf2),np.mean(scores_clf3),np.mean(scores_clf4),np.mean(scores_clf5),np.mean(scores_clf6)]\n",
    "for i, mean in enumerate(mean_scores, 1):\n",
    "    plt.text(i, mean, f'Mean: {mean:.4f}', ha='center', va='bottom', color='blue')\n",
    "\n",
    "plt.show()"
   ]
  },
  {
   "cell_type": "markdown",
   "id": "92fff71e",
   "metadata": {},
   "source": [
    "### :\n",
    "x_pred = pd.read_excel(\"data_for_test_model_by_dr_yasser.xlsx\")\n",
    "for i in x_pred.columns:\n",
    "    x_pred[i] = x_pred[i].apply(eval)\n",
    "\n",
    "mean_values_per_feature_x_pred = x_pred.apply(lambda row: [np.mean(row[i]) for i in x_pred.columns], axis=1)\n",
    "\n",
    "x_pred = pd.DataFrame(mean_values_per_feature_x_pred.tolist(), columns=x_pred.columns,index=x_pred.index)\n",
    "x_pred['متوسط'] = x_pred.apply(lambda row: np.mean(row), axis=1)\n",
    "\n",
    "print(\"Original DataFrame:\")\n",
    "print(x_pred)# ***********************************\n",
    "x_pred=x_pred.iloc[0,:]\n",
    "ypred1 = knn2.predict(x_pred) \n",
    "print(ypred1)\n",
    "ypred2 = lr2.predict(x_pred)\n",
    "print(ypred2)\n",
    "ypred3 = svm2.predict(x_pred)\n",
    "print(ypred3)\n",
    "ypred4 = RF2.predict(x_pred)\n",
    "print(ypred4)\n",
    "ypred5 = NB2.predict(x_pred)\n",
    "print(ypred5)\n",
    "ypred6 = MLP2.predict(x_pred)\n",
    "print(ypred6)\n",
    "\n"
   ]
  },
  {
   "cell_type": "code",
   "execution_count": 92,
   "id": "a2a97807",
   "metadata": {},
   "outputs": [],
   "source": [
    "import numpy as np\n",
    "import matplotlib.pyplot as plt\n",
    "import pandas as pd\n",
    "import seaborn as sns"
   ]
  },
  {
   "cell_type": "code",
   "execution_count": 93,
   "id": "3c7b5f9e",
   "metadata": {},
   "outputs": [
    {
     "data": {
      "text/html": [
       "<div>\n",
       "<style scoped>\n",
       "    .dataframe tbody tr th:only-of-type {\n",
       "        vertical-align: middle;\n",
       "    }\n",
       "\n",
       "    .dataframe tbody tr th {\n",
       "        vertical-align: top;\n",
       "    }\n",
       "\n",
       "    .dataframe thead th {\n",
       "        text-align: right;\n",
       "    }\n",
       "</style>\n",
       "<table border=\"1\" class=\"dataframe\">\n",
       "  <thead>\n",
       "    <tr style=\"text-align: right;\">\n",
       "      <th></th>\n",
       "      <th>مرجعية</th>\n",
       "      <th>تحليل</th>\n",
       "      <th>تصميم</th>\n",
       "      <th>برمجة</th>\n",
       "      <th>اختبار</th>\n",
       "      <th>نتائج</th>\n",
       "      <th>تقرير</th>\n",
       "      <th>عرض</th>\n",
       "      <th>غيتهاب</th>\n",
       "    </tr>\n",
       "  </thead>\n",
       "  <tbody>\n",
       "    <tr>\n",
       "      <th>0</th>\n",
       "      <td>[99, 100, 100, 100, 30]</td>\n",
       "      <td>[100, 100, 80, 70, 80]</td>\n",
       "      <td>[30, 10, 0, 70, 100]</td>\n",
       "      <td>[41, 23, 32, 3, 80]</td>\n",
       "      <td>[0, 0, 0, 0, 90]</td>\n",
       "      <td>[0, 0, 0, 0, 0]</td>\n",
       "      <td>[50, 20, 50, 50, 70]</td>\n",
       "      <td>[50, 20, 50, 50, 70]</td>\n",
       "      <td>[0, 0, 0, 80, 100]</td>\n",
       "    </tr>\n",
       "    <tr>\n",
       "      <th>1</th>\n",
       "      <td>[80, 100, 100, 100, 100]</td>\n",
       "      <td>[100, 100, 80, 70, 80]</td>\n",
       "      <td>[22, 20, 50, 70, 100]</td>\n",
       "      <td>[31, 31, 33, 10, 100]</td>\n",
       "      <td>[0, 0, 0, 0, 0]</td>\n",
       "      <td>[0, 0, 0, 0, 0]</td>\n",
       "      <td>[50, 20, 50, 50, 70]</td>\n",
       "      <td>[50, 20, 50, 50, 70]</td>\n",
       "      <td>[0, 0, 0, 20, 100]</td>\n",
       "    </tr>\n",
       "    <tr>\n",
       "      <th>2</th>\n",
       "      <td>[100, 100, 40, 100, 100]</td>\n",
       "      <td>[100, 100, 80, 70, 80]</td>\n",
       "      <td>[11, 33, 44, 70, 100]</td>\n",
       "      <td>[0, 0, 0, 0, 80]</td>\n",
       "      <td>[0, 0, 0, 0, 90]</td>\n",
       "      <td>[0, 0, 0, 0, 0]</td>\n",
       "      <td>[50, 20, 50, 50, 70]</td>\n",
       "      <td>[50, 20, 50, 50, 70]</td>\n",
       "      <td>[0, 0, 0, 80, 100]</td>\n",
       "    </tr>\n",
       "    <tr>\n",
       "      <th>3</th>\n",
       "      <td>[99, 88, 80, 60, 80]</td>\n",
       "      <td>[100, 100, 80, 70, 73]</td>\n",
       "      <td>[88, 90, 80, 70, 80]</td>\n",
       "      <td>[77, 90, 70, 84, 70]</td>\n",
       "      <td>[88, 70, 70, 100, 90]</td>\n",
       "      <td>[99, 88, 80, 60, 80]</td>\n",
       "      <td>[99, 75, 75, 70, 70]</td>\n",
       "      <td>[99, 70, 80, 70, 70]</td>\n",
       "      <td>[77, 90, 70, 84, 70]</td>\n",
       "    </tr>\n",
       "    <tr>\n",
       "      <th>4</th>\n",
       "      <td>[100, 100, 80, 70, 73]</td>\n",
       "      <td>[100, 100, 80, 70, 80]</td>\n",
       "      <td>[88, 67, 79, 70, 80]</td>\n",
       "      <td>[72, 78, 70, 90, 70]</td>\n",
       "      <td>[88, 75, 70, 60, 85]</td>\n",
       "      <td>[70, 80, 90, 90, 70]</td>\n",
       "      <td>[60, 80, 76, 92, 82]</td>\n",
       "      <td>[99, 75, 75, 70, 70]</td>\n",
       "      <td>[77, 90, 70, 84, 70]</td>\n",
       "    </tr>\n",
       "    <tr>\n",
       "      <th>5</th>\n",
       "      <td>[71, 91, 81, 83, 69]</td>\n",
       "      <td>[100, 100, 80, 70, 80]</td>\n",
       "      <td>[99, 88, 80, 60, 80]</td>\n",
       "      <td>[100, 100, 80, 70, 73]</td>\n",
       "      <td>[71, 91, 81, 83, 69]</td>\n",
       "      <td>[99, 88, 80, 60, 80]</td>\n",
       "      <td>[99, 75, 75, 70, 70]</td>\n",
       "      <td>[50, 20, 50, 50, 70]</td>\n",
       "      <td>[77, 90, 70, 84, 70]</td>\n",
       "    </tr>\n",
       "    <tr>\n",
       "      <th>6</th>\n",
       "      <td>[100, 100, 80, 70, 73]</td>\n",
       "      <td>[100, 100, 80, 70, 80]</td>\n",
       "      <td>[82, 77, 81, 70, 100]</td>\n",
       "      <td>[71, 91, 81, 83, 69]</td>\n",
       "      <td>[88, 90, 80, 70, 80]</td>\n",
       "      <td>[66, 77, 90, 73, 50]</td>\n",
       "      <td>[50, 20, 50, 50, 70]</td>\n",
       "      <td>[50, 20, 50, 50, 70]</td>\n",
       "      <td>[0, 0, 0, 20, 100]</td>\n",
       "    </tr>\n",
       "    <tr>\n",
       "      <th>7</th>\n",
       "      <td>[88, 67, 79, 70, 80]</td>\n",
       "      <td>[100, 100, 80, 70, 80]</td>\n",
       "      <td>[77, 79, 99, 70, 100]</td>\n",
       "      <td>[70, 70, 80, 80, 80]</td>\n",
       "      <td>[71, 91, 81, 83, 69]</td>\n",
       "      <td>[81, 74, 85, 74, 90]</td>\n",
       "      <td>[60, 70, 80, 80, 70]</td>\n",
       "      <td>[71, 91, 81, 83, 69]</td>\n",
       "      <td>[0, 0, 0, 20, 100]</td>\n",
       "    </tr>\n",
       "    <tr>\n",
       "      <th>8</th>\n",
       "      <td>[60, 90, 87, 40, 100]</td>\n",
       "      <td>[15, 16, 80, 70, 80]</td>\n",
       "      <td>[88, 90, 80, 70, 100]</td>\n",
       "      <td>[60, 70, 80, 90, 80]</td>\n",
       "      <td>[71, 91, 81, 83, 69]</td>\n",
       "      <td>[88, 90, 80, 70, 80]</td>\n",
       "      <td>[77, 88, 76, 74, 70]</td>\n",
       "      <td>[50, 20, 50, 50, 70]</td>\n",
       "      <td>[0, 0, 0, 20, 100]</td>\n",
       "    </tr>\n",
       "    <tr>\n",
       "      <th>9</th>\n",
       "      <td>[63, 65, 57, 52, 57]</td>\n",
       "      <td>[50, 50, 53, 57, 57]</td>\n",
       "      <td>[66, 61, 53, 70, 55]</td>\n",
       "      <td>[60, 40, 30, 90, 80]</td>\n",
       "      <td>[0, 0, 0, 0, 0]</td>\n",
       "      <td>[77, 50, 50, 84, 40]</td>\n",
       "      <td>[50, 40, 50, 50, 70]</td>\n",
       "      <td>[50, 20, 50, 50, 70]</td>\n",
       "      <td>[0, 0, 0, 20, 100]</td>\n",
       "    </tr>\n",
       "    <tr>\n",
       "      <th>10</th>\n",
       "      <td>[64, 66, 55, 52, 52]</td>\n",
       "      <td>[50, 50, 62, 67, 67]</td>\n",
       "      <td>[66, 61, 53, 70, 55]</td>\n",
       "      <td>[50, 50, 53, 57, 57]</td>\n",
       "      <td>[53, 54, 63, 66, 66]</td>\n",
       "      <td>[60, 60, 50, 70, 50]</td>\n",
       "      <td>[50, 60, 50, 50, 70]</td>\n",
       "      <td>[50, 40, 50, 60, 70]</td>\n",
       "      <td>[50, 50, 60, 20, 100]</td>\n",
       "    </tr>\n",
       "    <tr>\n",
       "      <th>11</th>\n",
       "      <td>[64, 66, 55, 52, 52]</td>\n",
       "      <td>[50, 50, 53, 57, 57]</td>\n",
       "      <td>[77, 50, 50, 84, 40]</td>\n",
       "      <td>[60, 40, 30, 90, 80]</td>\n",
       "      <td>[50, 50, 53, 57, 57]</td>\n",
       "      <td>[60, 60, 50, 70, 50]</td>\n",
       "      <td>[50, 20, 50, 50, 70]</td>\n",
       "      <td>[50, 30, 50, 60, 70]</td>\n",
       "      <td>[0, 0, 0, 20, 100]</td>\n",
       "    </tr>\n",
       "    <tr>\n",
       "      <th>12</th>\n",
       "      <td>[42, 56, 56, 65, 70]</td>\n",
       "      <td>[100, 100, 80, 70, 80]</td>\n",
       "      <td>[0, 0, 0, 70, 100]</td>\n",
       "      <td>[77, 90, 70, 84, 70]</td>\n",
       "      <td>[0, 0, 0, 0, 0]</td>\n",
       "      <td>[0, 0, 0, 0, 0]</td>\n",
       "      <td>[50, 20, 50, 50, 70]</td>\n",
       "      <td>[50, 20, 50, 50, 70]</td>\n",
       "      <td>[0, 0, 0, 20, 100]</td>\n",
       "    </tr>\n",
       "    <tr>\n",
       "      <th>13</th>\n",
       "      <td>[100, 80, 100, 20, 40]</td>\n",
       "      <td>[100, 100, 80, 70, 80]</td>\n",
       "      <td>[71, 91, 81, 83, 69]</td>\n",
       "      <td>[0, 0, 0, 0, 80]</td>\n",
       "      <td>[0, 0, 0, 0, 0]</td>\n",
       "      <td>[60, 60, 30, 10, 90]</td>\n",
       "      <td>[50, 20, 50, 50, 70]</td>\n",
       "      <td>[50, 20, 50, 50, 70]</td>\n",
       "      <td>[0, 0, 0, 20, 100]</td>\n",
       "    </tr>\n",
       "    <tr>\n",
       "      <th>14</th>\n",
       "      <td>[100, 80, 100, 100, 100]</td>\n",
       "      <td>[100, 100, 80, 70, 80]</td>\n",
       "      <td>[0, 0, 0, 70, 100]</td>\n",
       "      <td>[0, 0, 0, 0, 80]</td>\n",
       "      <td>[71, 91, 81, 83, 69]</td>\n",
       "      <td>[66, 61, 53, 70, 55]</td>\n",
       "      <td>[50, 20, 50, 50, 70]</td>\n",
       "      <td>[50, 20, 50, 50, 70]</td>\n",
       "      <td>[0, 0, 0, 20, 100]</td>\n",
       "    </tr>\n",
       "    <tr>\n",
       "      <th>15</th>\n",
       "      <td>[0, 0, 0, 0, 0]</td>\n",
       "      <td>[0, 0, 0, 0, 0]</td>\n",
       "      <td>[0, 0, 0, 0, 0]</td>\n",
       "      <td>[0, 0, 0, 0, 0]</td>\n",
       "      <td>[0, 0, 0, 0, 0]</td>\n",
       "      <td>[0, 0, 0, 0, 0]</td>\n",
       "      <td>[0, 0, 0, 0, 0]</td>\n",
       "      <td>[0, 0, 0, 0, 0]</td>\n",
       "      <td>[0, 0, 0, 0, 0]</td>\n",
       "    </tr>\n",
       "    <tr>\n",
       "      <th>16</th>\n",
       "      <td>[100, 100, 100, 100, 100]</td>\n",
       "      <td>[100, 100, 100, 100, 100]</td>\n",
       "      <td>[100, 100, 100, 100, 100]</td>\n",
       "      <td>[100, 100, 100, 100, 100]</td>\n",
       "      <td>[100, 100, 100, 100, 100]</td>\n",
       "      <td>[100, 100, 100, 100, 100]</td>\n",
       "      <td>[100, 100, 100, 100, 100]</td>\n",
       "      <td>[100, 100, 100, 100, 100]</td>\n",
       "      <td>[100, 100, 100, 100, 100]</td>\n",
       "    </tr>\n",
       "  </tbody>\n",
       "</table>\n",
       "</div>"
      ],
      "text/plain": [
       "                       مرجعية                      تحليل  \\\n",
       "0     [99, 100, 100, 100, 30]     [100, 100, 80, 70, 80]   \n",
       "1    [80, 100, 100, 100, 100]     [100, 100, 80, 70, 80]   \n",
       "2    [100, 100, 40, 100, 100]     [100, 100, 80, 70, 80]   \n",
       "3        [99, 88, 80, 60, 80]     [100, 100, 80, 70, 73]   \n",
       "4      [100, 100, 80, 70, 73]     [100, 100, 80, 70, 80]   \n",
       "5        [71, 91, 81, 83, 69]     [100, 100, 80, 70, 80]   \n",
       "6      [100, 100, 80, 70, 73]     [100, 100, 80, 70, 80]   \n",
       "7        [88, 67, 79, 70, 80]     [100, 100, 80, 70, 80]   \n",
       "8       [60, 90, 87, 40, 100]       [15, 16, 80, 70, 80]   \n",
       "9        [63, 65, 57, 52, 57]       [50, 50, 53, 57, 57]   \n",
       "10       [64, 66, 55, 52, 52]       [50, 50, 62, 67, 67]   \n",
       "11       [64, 66, 55, 52, 52]       [50, 50, 53, 57, 57]   \n",
       "12       [42, 56, 56, 65, 70]     [100, 100, 80, 70, 80]   \n",
       "13     [100, 80, 100, 20, 40]     [100, 100, 80, 70, 80]   \n",
       "14   [100, 80, 100, 100, 100]     [100, 100, 80, 70, 80]   \n",
       "15            [0, 0, 0, 0, 0]            [0, 0, 0, 0, 0]   \n",
       "16  [100, 100, 100, 100, 100]  [100, 100, 100, 100, 100]   \n",
       "\n",
       "                        تصميم                      برمجة  \\\n",
       "0        [30, 10, 0, 70, 100]        [41, 23, 32, 3, 80]   \n",
       "1       [22, 20, 50, 70, 100]      [31, 31, 33, 10, 100]   \n",
       "2       [11, 33, 44, 70, 100]           [0, 0, 0, 0, 80]   \n",
       "3        [88, 90, 80, 70, 80]       [77, 90, 70, 84, 70]   \n",
       "4        [88, 67, 79, 70, 80]       [72, 78, 70, 90, 70]   \n",
       "5        [99, 88, 80, 60, 80]     [100, 100, 80, 70, 73]   \n",
       "6       [82, 77, 81, 70, 100]       [71, 91, 81, 83, 69]   \n",
       "7       [77, 79, 99, 70, 100]       [70, 70, 80, 80, 80]   \n",
       "8       [88, 90, 80, 70, 100]       [60, 70, 80, 90, 80]   \n",
       "9        [66, 61, 53, 70, 55]       [60, 40, 30, 90, 80]   \n",
       "10       [66, 61, 53, 70, 55]       [50, 50, 53, 57, 57]   \n",
       "11       [77, 50, 50, 84, 40]       [60, 40, 30, 90, 80]   \n",
       "12         [0, 0, 0, 70, 100]       [77, 90, 70, 84, 70]   \n",
       "13       [71, 91, 81, 83, 69]           [0, 0, 0, 0, 80]   \n",
       "14         [0, 0, 0, 70, 100]           [0, 0, 0, 0, 80]   \n",
       "15            [0, 0, 0, 0, 0]            [0, 0, 0, 0, 0]   \n",
       "16  [100, 100, 100, 100, 100]  [100, 100, 100, 100, 100]   \n",
       "\n",
       "                       اختبار                      نتائج  \\\n",
       "0            [0, 0, 0, 0, 90]            [0, 0, 0, 0, 0]   \n",
       "1             [0, 0, 0, 0, 0]            [0, 0, 0, 0, 0]   \n",
       "2            [0, 0, 0, 0, 90]            [0, 0, 0, 0, 0]   \n",
       "3       [88, 70, 70, 100, 90]       [99, 88, 80, 60, 80]   \n",
       "4        [88, 75, 70, 60, 85]       [70, 80, 90, 90, 70]   \n",
       "5        [71, 91, 81, 83, 69]       [99, 88, 80, 60, 80]   \n",
       "6        [88, 90, 80, 70, 80]       [66, 77, 90, 73, 50]   \n",
       "7        [71, 91, 81, 83, 69]       [81, 74, 85, 74, 90]   \n",
       "8        [71, 91, 81, 83, 69]       [88, 90, 80, 70, 80]   \n",
       "9             [0, 0, 0, 0, 0]       [77, 50, 50, 84, 40]   \n",
       "10       [53, 54, 63, 66, 66]       [60, 60, 50, 70, 50]   \n",
       "11       [50, 50, 53, 57, 57]       [60, 60, 50, 70, 50]   \n",
       "12            [0, 0, 0, 0, 0]            [0, 0, 0, 0, 0]   \n",
       "13            [0, 0, 0, 0, 0]       [60, 60, 30, 10, 90]   \n",
       "14       [71, 91, 81, 83, 69]       [66, 61, 53, 70, 55]   \n",
       "15            [0, 0, 0, 0, 0]            [0, 0, 0, 0, 0]   \n",
       "16  [100, 100, 100, 100, 100]  [100, 100, 100, 100, 100]   \n",
       "\n",
       "                        تقرير                        عرض  \\\n",
       "0        [50, 20, 50, 50, 70]       [50, 20, 50, 50, 70]   \n",
       "1        [50, 20, 50, 50, 70]       [50, 20, 50, 50, 70]   \n",
       "2        [50, 20, 50, 50, 70]       [50, 20, 50, 50, 70]   \n",
       "3        [99, 75, 75, 70, 70]       [99, 70, 80, 70, 70]   \n",
       "4        [60, 80, 76, 92, 82]       [99, 75, 75, 70, 70]   \n",
       "5        [99, 75, 75, 70, 70]       [50, 20, 50, 50, 70]   \n",
       "6        [50, 20, 50, 50, 70]       [50, 20, 50, 50, 70]   \n",
       "7        [60, 70, 80, 80, 70]       [71, 91, 81, 83, 69]   \n",
       "8        [77, 88, 76, 74, 70]       [50, 20, 50, 50, 70]   \n",
       "9        [50, 40, 50, 50, 70]       [50, 20, 50, 50, 70]   \n",
       "10       [50, 60, 50, 50, 70]       [50, 40, 50, 60, 70]   \n",
       "11       [50, 20, 50, 50, 70]       [50, 30, 50, 60, 70]   \n",
       "12       [50, 20, 50, 50, 70]       [50, 20, 50, 50, 70]   \n",
       "13       [50, 20, 50, 50, 70]       [50, 20, 50, 50, 70]   \n",
       "14       [50, 20, 50, 50, 70]       [50, 20, 50, 50, 70]   \n",
       "15            [0, 0, 0, 0, 0]            [0, 0, 0, 0, 0]   \n",
       "16  [100, 100, 100, 100, 100]  [100, 100, 100, 100, 100]   \n",
       "\n",
       "                       غيتهاب  \n",
       "0          [0, 0, 0, 80, 100]  \n",
       "1          [0, 0, 0, 20, 100]  \n",
       "2          [0, 0, 0, 80, 100]  \n",
       "3        [77, 90, 70, 84, 70]  \n",
       "4        [77, 90, 70, 84, 70]  \n",
       "5        [77, 90, 70, 84, 70]  \n",
       "6          [0, 0, 0, 20, 100]  \n",
       "7          [0, 0, 0, 20, 100]  \n",
       "8          [0, 0, 0, 20, 100]  \n",
       "9          [0, 0, 0, 20, 100]  \n",
       "10      [50, 50, 60, 20, 100]  \n",
       "11         [0, 0, 0, 20, 100]  \n",
       "12         [0, 0, 0, 20, 100]  \n",
       "13         [0, 0, 0, 20, 100]  \n",
       "14         [0, 0, 0, 20, 100]  \n",
       "15            [0, 0, 0, 0, 0]  \n",
       "16  [100, 100, 100, 100, 100]  "
      ]
     },
     "execution_count": 93,
     "metadata": {},
     "output_type": "execute_result"
    }
   ],
   "source": [
    "pred_scale = pd.read_excel(\"data_for_test_model_by_dr_yasser.xlsx\") \n",
    "for i in pred_scale.columns: \n",
    "    pred_scale[i] = pred_scale[i].apply(eval)\n",
    "pred_scale"
   ]
  },
  {
   "cell_type": "code",
   "execution_count": 94,
   "id": "a8c8cc1c",
   "metadata": {},
   "outputs": [
    {
     "data": {
      "text/html": [
       "<div>\n",
       "<style scoped>\n",
       "    .dataframe tbody tr th:only-of-type {\n",
       "        vertical-align: middle;\n",
       "    }\n",
       "\n",
       "    .dataframe tbody tr th {\n",
       "        vertical-align: top;\n",
       "    }\n",
       "\n",
       "    .dataframe thead th {\n",
       "        text-align: right;\n",
       "    }\n",
       "</style>\n",
       "<table border=\"1\" class=\"dataframe\">\n",
       "  <thead>\n",
       "    <tr style=\"text-align: right;\">\n",
       "      <th></th>\n",
       "      <th>مرجعية</th>\n",
       "      <th>تحليل</th>\n",
       "      <th>تصميم</th>\n",
       "      <th>برمجة</th>\n",
       "      <th>اختبار</th>\n",
       "      <th>نتائج</th>\n",
       "      <th>تقرير</th>\n",
       "      <th>عرض</th>\n",
       "      <th>غيتهاب</th>\n",
       "    </tr>\n",
       "  </thead>\n",
       "  <tbody>\n",
       "    <tr>\n",
       "      <th>0</th>\n",
       "      <td>79.0</td>\n",
       "      <td>86.0</td>\n",
       "      <td>39.0</td>\n",
       "      <td>24.0</td>\n",
       "      <td>90.0</td>\n",
       "      <td>0</td>\n",
       "      <td>45.0</td>\n",
       "      <td>45.0</td>\n",
       "      <td>90.0</td>\n",
       "    </tr>\n",
       "    <tr>\n",
       "      <th>1</th>\n",
       "      <td>96.0</td>\n",
       "      <td>86.0</td>\n",
       "      <td>44.0</td>\n",
       "      <td>32.0</td>\n",
       "      <td>0</td>\n",
       "      <td>0</td>\n",
       "      <td>45.0</td>\n",
       "      <td>45.0</td>\n",
       "      <td>45.0</td>\n",
       "    </tr>\n",
       "    <tr>\n",
       "      <th>2</th>\n",
       "      <td>84.0</td>\n",
       "      <td>86.0</td>\n",
       "      <td>41.0</td>\n",
       "      <td>80.0</td>\n",
       "      <td>90.0</td>\n",
       "      <td>0</td>\n",
       "      <td>45.0</td>\n",
       "      <td>45.0</td>\n",
       "      <td>90.0</td>\n",
       "    </tr>\n",
       "    <tr>\n",
       "      <th>3</th>\n",
       "      <td>81.0</td>\n",
       "      <td>84.0</td>\n",
       "      <td>82.0</td>\n",
       "      <td>78.0</td>\n",
       "      <td>83.0</td>\n",
       "      <td>81.0</td>\n",
       "      <td>78.0</td>\n",
       "      <td>78.0</td>\n",
       "      <td>78.0</td>\n",
       "    </tr>\n",
       "    <tr>\n",
       "      <th>4</th>\n",
       "      <td>84.0</td>\n",
       "      <td>86.0</td>\n",
       "      <td>77.0</td>\n",
       "      <td>76.0</td>\n",
       "      <td>75.0</td>\n",
       "      <td>80.0</td>\n",
       "      <td>78.0</td>\n",
       "      <td>78.0</td>\n",
       "      <td>78.0</td>\n",
       "    </tr>\n",
       "  </tbody>\n",
       "</table>\n",
       "</div>"
      ],
      "text/plain": [
       "  مرجعية تحليل تصميم برمجة اختبار نتائج تقرير   عرض غيتهاب\n",
       "0   79.0  86.0  39.0  24.0   90.0     0  45.0  45.0   90.0\n",
       "1   96.0  86.0  44.0  32.0      0     0  45.0  45.0   45.0\n",
       "2   84.0  86.0  41.0  80.0   90.0     0  45.0  45.0   90.0\n",
       "3   81.0  84.0  82.0  78.0   83.0  81.0  78.0  78.0   78.0\n",
       "4   84.0  86.0  77.0  76.0   75.0  80.0  78.0  78.0   78.0"
      ]
     },
     "execution_count": 94,
     "metadata": {},
     "output_type": "execute_result"
    }
   ],
   "source": [
    "for row_index in range(len(pred_scale)):\n",
    "    for col_index in range(len(pred_scale.columns)):\n",
    "        value = pred_scale.iloc[row_index, col_index]\n",
    "        sum_prod, count = 1, 0\n",
    "        for i in range(len(value)):\n",
    "            if value[i] != 0:\n",
    "                sum_prod *= value[i]\n",
    "                count += 1\n",
    "        if count != 0:\n",
    "            pred_scale.iloc[row_index, col_index] = np.ceil(np.power(sum_prod, 1/count))\n",
    "        else:\n",
    "            pred_scale.iloc[row_index, col_index] = 0\n",
    "pred_scale.head()\n"
   ]
  },
  {
   "cell_type": "code",
   "execution_count": 95,
   "id": "97b25727",
   "metadata": {},
   "outputs": [
    {
     "data": {
      "text/html": [
       "<div>\n",
       "<style scoped>\n",
       "    .dataframe tbody tr th:only-of-type {\n",
       "        vertical-align: middle;\n",
       "    }\n",
       "\n",
       "    .dataframe tbody tr th {\n",
       "        vertical-align: top;\n",
       "    }\n",
       "\n",
       "    .dataframe thead th {\n",
       "        text-align: right;\n",
       "    }\n",
       "</style>\n",
       "<table border=\"1\" class=\"dataframe\">\n",
       "  <thead>\n",
       "    <tr style=\"text-align: right;\">\n",
       "      <th></th>\n",
       "      <th>مرجعية</th>\n",
       "      <th>تحليل</th>\n",
       "      <th>تصميم</th>\n",
       "      <th>برمجة</th>\n",
       "      <th>اختبار</th>\n",
       "      <th>نتائج</th>\n",
       "      <th>تقرير</th>\n",
       "      <th>عرض</th>\n",
       "      <th>غيتهاب</th>\n",
       "      <th>متوسط</th>\n",
       "    </tr>\n",
       "  </thead>\n",
       "  <tbody>\n",
       "    <tr>\n",
       "      <th>0</th>\n",
       "      <td>79.0</td>\n",
       "      <td>86.0</td>\n",
       "      <td>39.0</td>\n",
       "      <td>24.0</td>\n",
       "      <td>90.0</td>\n",
       "      <td>0</td>\n",
       "      <td>45.0</td>\n",
       "      <td>45.0</td>\n",
       "      <td>90.0</td>\n",
       "      <td>57</td>\n",
       "    </tr>\n",
       "    <tr>\n",
       "      <th>1</th>\n",
       "      <td>96.0</td>\n",
       "      <td>86.0</td>\n",
       "      <td>44.0</td>\n",
       "      <td>32.0</td>\n",
       "      <td>0</td>\n",
       "      <td>0</td>\n",
       "      <td>45.0</td>\n",
       "      <td>45.0</td>\n",
       "      <td>45.0</td>\n",
       "      <td>53</td>\n",
       "    </tr>\n",
       "    <tr>\n",
       "      <th>2</th>\n",
       "      <td>84.0</td>\n",
       "      <td>86.0</td>\n",
       "      <td>41.0</td>\n",
       "      <td>80.0</td>\n",
       "      <td>90.0</td>\n",
       "      <td>0</td>\n",
       "      <td>45.0</td>\n",
       "      <td>45.0</td>\n",
       "      <td>90.0</td>\n",
       "      <td>67</td>\n",
       "    </tr>\n",
       "    <tr>\n",
       "      <th>3</th>\n",
       "      <td>81.0</td>\n",
       "      <td>84.0</td>\n",
       "      <td>82.0</td>\n",
       "      <td>78.0</td>\n",
       "      <td>83.0</td>\n",
       "      <td>81.0</td>\n",
       "      <td>78.0</td>\n",
       "      <td>78.0</td>\n",
       "      <td>78.0</td>\n",
       "      <td>81</td>\n",
       "    </tr>\n",
       "    <tr>\n",
       "      <th>4</th>\n",
       "      <td>84.0</td>\n",
       "      <td>86.0</td>\n",
       "      <td>77.0</td>\n",
       "      <td>76.0</td>\n",
       "      <td>75.0</td>\n",
       "      <td>80.0</td>\n",
       "      <td>78.0</td>\n",
       "      <td>78.0</td>\n",
       "      <td>78.0</td>\n",
       "      <td>80</td>\n",
       "    </tr>\n",
       "  </tbody>\n",
       "</table>\n",
       "</div>"
      ],
      "text/plain": [
       "  مرجعية تحليل تصميم برمجة اختبار نتائج تقرير   عرض غيتهاب  متوسط\n",
       "0   79.0  86.0  39.0  24.0   90.0     0  45.0  45.0   90.0     57\n",
       "1   96.0  86.0  44.0  32.0      0     0  45.0  45.0   45.0     53\n",
       "2   84.0  86.0  41.0  80.0   90.0     0  45.0  45.0   90.0     67\n",
       "3   81.0  84.0  82.0  78.0   83.0  81.0  78.0  78.0   78.0     81\n",
       "4   84.0  86.0  77.0  76.0   75.0  80.0  78.0  78.0   78.0     80"
      ]
     },
     "execution_count": 95,
     "metadata": {},
     "output_type": "execute_result"
    }
   ],
   "source": [
    "pred_scale[\"متوسط\"]=0\n",
    "\n",
    "for i in range(len(pred_scale)):\n",
    "    value = pred_scale.iloc[i].tolist()\n",
    "    sum_prod, count = 1, 0\n",
    "    for j in range(len(value)):\n",
    "        if value[j] != 0:\n",
    "            sum_prod *= value[j]\n",
    "            count += 1\n",
    "    if count != 0:\n",
    "        pred_scale.loc[i,\"متوسط\"] = np.ceil(np.power(sum_prod, 1/count))\n",
    "    else:\n",
    "        pred_scale.loc[i,\"متوسط\"] = 0\n",
    "\n",
    "pred_scale.head()"
   ]
  },
  {
   "cell_type": "code",
   "execution_count": 96,
   "id": "a386a67e",
   "metadata": {},
   "outputs": [
    {
     "data": {
      "text/html": [
       "<div>\n",
       "<style scoped>\n",
       "    .dataframe tbody tr th:only-of-type {\n",
       "        vertical-align: middle;\n",
       "    }\n",
       "\n",
       "    .dataframe tbody tr th {\n",
       "        vertical-align: top;\n",
       "    }\n",
       "\n",
       "    .dataframe thead th {\n",
       "        text-align: right;\n",
       "    }\n",
       "</style>\n",
       "<table border=\"1\" class=\"dataframe\">\n",
       "  <thead>\n",
       "    <tr style=\"text-align: right;\">\n",
       "      <th></th>\n",
       "      <th>مرجعية</th>\n",
       "      <th>تحليل</th>\n",
       "      <th>تصميم</th>\n",
       "      <th>برمجة</th>\n",
       "      <th>اختبار</th>\n",
       "      <th>نتائج</th>\n",
       "      <th>تقرير</th>\n",
       "      <th>عرض</th>\n",
       "      <th>غيتهاب</th>\n",
       "      <th>متوسط</th>\n",
       "      <th>تصنيف</th>\n",
       "    </tr>\n",
       "  </thead>\n",
       "  <tbody>\n",
       "    <tr>\n",
       "      <th>0</th>\n",
       "      <td>79.0</td>\n",
       "      <td>86.0</td>\n",
       "      <td>39.0</td>\n",
       "      <td>24.0</td>\n",
       "      <td>90.0</td>\n",
       "      <td>0</td>\n",
       "      <td>45.0</td>\n",
       "      <td>45.0</td>\n",
       "      <td>90.0</td>\n",
       "      <td>57</td>\n",
       "      <td>برتقالي</td>\n",
       "    </tr>\n",
       "    <tr>\n",
       "      <th>1</th>\n",
       "      <td>96.0</td>\n",
       "      <td>86.0</td>\n",
       "      <td>44.0</td>\n",
       "      <td>32.0</td>\n",
       "      <td>0</td>\n",
       "      <td>0</td>\n",
       "      <td>45.0</td>\n",
       "      <td>45.0</td>\n",
       "      <td>45.0</td>\n",
       "      <td>53</td>\n",
       "      <td>برتقالي</td>\n",
       "    </tr>\n",
       "    <tr>\n",
       "      <th>2</th>\n",
       "      <td>84.0</td>\n",
       "      <td>86.0</td>\n",
       "      <td>41.0</td>\n",
       "      <td>80.0</td>\n",
       "      <td>90.0</td>\n",
       "      <td>0</td>\n",
       "      <td>45.0</td>\n",
       "      <td>45.0</td>\n",
       "      <td>90.0</td>\n",
       "      <td>67</td>\n",
       "      <td>برتقالي</td>\n",
       "    </tr>\n",
       "    <tr>\n",
       "      <th>3</th>\n",
       "      <td>81.0</td>\n",
       "      <td>84.0</td>\n",
       "      <td>82.0</td>\n",
       "      <td>78.0</td>\n",
       "      <td>83.0</td>\n",
       "      <td>81.0</td>\n",
       "      <td>78.0</td>\n",
       "      <td>78.0</td>\n",
       "      <td>78.0</td>\n",
       "      <td>81</td>\n",
       "      <td>أخضر</td>\n",
       "    </tr>\n",
       "    <tr>\n",
       "      <th>4</th>\n",
       "      <td>84.0</td>\n",
       "      <td>86.0</td>\n",
       "      <td>77.0</td>\n",
       "      <td>76.0</td>\n",
       "      <td>75.0</td>\n",
       "      <td>80.0</td>\n",
       "      <td>78.0</td>\n",
       "      <td>78.0</td>\n",
       "      <td>78.0</td>\n",
       "      <td>80</td>\n",
       "      <td>أخضر</td>\n",
       "    </tr>\n",
       "    <tr>\n",
       "      <th>5</th>\n",
       "      <td>79.0</td>\n",
       "      <td>86.0</td>\n",
       "      <td>81.0</td>\n",
       "      <td>84.0</td>\n",
       "      <td>79.0</td>\n",
       "      <td>81.0</td>\n",
       "      <td>78.0</td>\n",
       "      <td>45.0</td>\n",
       "      <td>78.0</td>\n",
       "      <td>76</td>\n",
       "      <td>أخضر</td>\n",
       "    </tr>\n",
       "    <tr>\n",
       "      <th>6</th>\n",
       "      <td>84.0</td>\n",
       "      <td>86.0</td>\n",
       "      <td>82.0</td>\n",
       "      <td>79.0</td>\n",
       "      <td>82.0</td>\n",
       "      <td>70.0</td>\n",
       "      <td>45.0</td>\n",
       "      <td>45.0</td>\n",
       "      <td>45.0</td>\n",
       "      <td>67</td>\n",
       "      <td>برتقالي</td>\n",
       "    </tr>\n",
       "    <tr>\n",
       "      <th>7</th>\n",
       "      <td>77.0</td>\n",
       "      <td>86.0</td>\n",
       "      <td>85.0</td>\n",
       "      <td>76.0</td>\n",
       "      <td>79.0</td>\n",
       "      <td>81.0</td>\n",
       "      <td>72.0</td>\n",
       "      <td>79.0</td>\n",
       "      <td>45.0</td>\n",
       "      <td>75</td>\n",
       "      <td>أخضر</td>\n",
       "    </tr>\n",
       "    <tr>\n",
       "      <th>8</th>\n",
       "      <td>72.0</td>\n",
       "      <td>41.0</td>\n",
       "      <td>85.0</td>\n",
       "      <td>76.0</td>\n",
       "      <td>79.0</td>\n",
       "      <td>82.0</td>\n",
       "      <td>77.0</td>\n",
       "      <td>45.0</td>\n",
       "      <td>45.0</td>\n",
       "      <td>65</td>\n",
       "      <td>برتقالي</td>\n",
       "    </tr>\n",
       "    <tr>\n",
       "      <th>9</th>\n",
       "      <td>59.0</td>\n",
       "      <td>54.0</td>\n",
       "      <td>61.0</td>\n",
       "      <td>56.0</td>\n",
       "      <td>0</td>\n",
       "      <td>58.0</td>\n",
       "      <td>52.0</td>\n",
       "      <td>45.0</td>\n",
       "      <td>45.0</td>\n",
       "      <td>54</td>\n",
       "      <td>برتقالي</td>\n",
       "    </tr>\n",
       "    <tr>\n",
       "      <th>10</th>\n",
       "      <td>58.0</td>\n",
       "      <td>59.0</td>\n",
       "      <td>61.0</td>\n",
       "      <td>54.0</td>\n",
       "      <td>61.0</td>\n",
       "      <td>58.0</td>\n",
       "      <td>56.0</td>\n",
       "      <td>54.0</td>\n",
       "      <td>50.0</td>\n",
       "      <td>57</td>\n",
       "      <td>برتقالي</td>\n",
       "    </tr>\n",
       "    <tr>\n",
       "      <th>11</th>\n",
       "      <td>58.0</td>\n",
       "      <td>54.0</td>\n",
       "      <td>58.0</td>\n",
       "      <td>56.0</td>\n",
       "      <td>54.0</td>\n",
       "      <td>58.0</td>\n",
       "      <td>45.0</td>\n",
       "      <td>51.0</td>\n",
       "      <td>45.0</td>\n",
       "      <td>53</td>\n",
       "      <td>برتقالي</td>\n",
       "    </tr>\n",
       "    <tr>\n",
       "      <th>12</th>\n",
       "      <td>57.0</td>\n",
       "      <td>86.0</td>\n",
       "      <td>84.0</td>\n",
       "      <td>78.0</td>\n",
       "      <td>0</td>\n",
       "      <td>0</td>\n",
       "      <td>45.0</td>\n",
       "      <td>45.0</td>\n",
       "      <td>45.0</td>\n",
       "      <td>61</td>\n",
       "      <td>برتقالي</td>\n",
       "    </tr>\n",
       "    <tr>\n",
       "      <th>13</th>\n",
       "      <td>58.0</td>\n",
       "      <td>86.0</td>\n",
       "      <td>79.0</td>\n",
       "      <td>80.0</td>\n",
       "      <td>0</td>\n",
       "      <td>40.0</td>\n",
       "      <td>45.0</td>\n",
       "      <td>45.0</td>\n",
       "      <td>45.0</td>\n",
       "      <td>58</td>\n",
       "      <td>برتقالي</td>\n",
       "    </tr>\n",
       "    <tr>\n",
       "      <th>14</th>\n",
       "      <td>96.0</td>\n",
       "      <td>86.0</td>\n",
       "      <td>84.0</td>\n",
       "      <td>80.0</td>\n",
       "      <td>79.0</td>\n",
       "      <td>61.0</td>\n",
       "      <td>45.0</td>\n",
       "      <td>45.0</td>\n",
       "      <td>45.0</td>\n",
       "      <td>67</td>\n",
       "      <td>برتقالي</td>\n",
       "    </tr>\n",
       "    <tr>\n",
       "      <th>15</th>\n",
       "      <td>0</td>\n",
       "      <td>0</td>\n",
       "      <td>0</td>\n",
       "      <td>0</td>\n",
       "      <td>0</td>\n",
       "      <td>0</td>\n",
       "      <td>0</td>\n",
       "      <td>0</td>\n",
       "      <td>0</td>\n",
       "      <td>0</td>\n",
       "      <td>أحمر</td>\n",
       "    </tr>\n",
       "    <tr>\n",
       "      <th>16</th>\n",
       "      <td>101.0</td>\n",
       "      <td>101.0</td>\n",
       "      <td>101.0</td>\n",
       "      <td>101.0</td>\n",
       "      <td>101.0</td>\n",
       "      <td>101.0</td>\n",
       "      <td>101.0</td>\n",
       "      <td>101.0</td>\n",
       "      <td>101.0</td>\n",
       "      <td>101</td>\n",
       "      <td>أخضر</td>\n",
       "    </tr>\n",
       "  </tbody>\n",
       "</table>\n",
       "</div>"
      ],
      "text/plain": [
       "   مرجعية  تحليل  تصميم  برمجة اختبار  نتائج  تقرير    عرض غيتهاب  متوسط  \\\n",
       "0    79.0   86.0   39.0   24.0   90.0      0   45.0   45.0   90.0     57   \n",
       "1    96.0   86.0   44.0   32.0      0      0   45.0   45.0   45.0     53   \n",
       "2    84.0   86.0   41.0   80.0   90.0      0   45.0   45.0   90.0     67   \n",
       "3    81.0   84.0   82.0   78.0   83.0   81.0   78.0   78.0   78.0     81   \n",
       "4    84.0   86.0   77.0   76.0   75.0   80.0   78.0   78.0   78.0     80   \n",
       "5    79.0   86.0   81.0   84.0   79.0   81.0   78.0   45.0   78.0     76   \n",
       "6    84.0   86.0   82.0   79.0   82.0   70.0   45.0   45.0   45.0     67   \n",
       "7    77.0   86.0   85.0   76.0   79.0   81.0   72.0   79.0   45.0     75   \n",
       "8    72.0   41.0   85.0   76.0   79.0   82.0   77.0   45.0   45.0     65   \n",
       "9    59.0   54.0   61.0   56.0      0   58.0   52.0   45.0   45.0     54   \n",
       "10   58.0   59.0   61.0   54.0   61.0   58.0   56.0   54.0   50.0     57   \n",
       "11   58.0   54.0   58.0   56.0   54.0   58.0   45.0   51.0   45.0     53   \n",
       "12   57.0   86.0   84.0   78.0      0      0   45.0   45.0   45.0     61   \n",
       "13   58.0   86.0   79.0   80.0      0   40.0   45.0   45.0   45.0     58   \n",
       "14   96.0   86.0   84.0   80.0   79.0   61.0   45.0   45.0   45.0     67   \n",
       "15      0      0      0      0      0      0      0      0      0      0   \n",
       "16  101.0  101.0  101.0  101.0  101.0  101.0  101.0  101.0  101.0    101   \n",
       "\n",
       "      تصنيف  \n",
       "0   برتقالي  \n",
       "1   برتقالي  \n",
       "2   برتقالي  \n",
       "3      أخضر  \n",
       "4      أخضر  \n",
       "5      أخضر  \n",
       "6   برتقالي  \n",
       "7      أخضر  \n",
       "8   برتقالي  \n",
       "9   برتقالي  \n",
       "10  برتقالي  \n",
       "11  برتقالي  \n",
       "12  برتقالي  \n",
       "13  برتقالي  \n",
       "14  برتقالي  \n",
       "15     أحمر  \n",
       "16     أخضر  "
      ]
     },
     "execution_count": 96,
     "metadata": {},
     "output_type": "execute_result"
    }
   ],
   "source": [
    "# ############# calculate تصنيف\n",
    "pred_scale['تصنيف']=1\n",
    "\n",
    "for i in range(pred_scale['تصنيف'].count()):\n",
    "    if pred_scale.iloc[i,9]<50:\n",
    "        pred_scale.iloc[i,10]=\"أحمر\"\n",
    "    elif (pred_scale.iloc[i,9] >=50) & (pred_scale.iloc[i,9]<70):\n",
    "        pred_scale.iloc[i,10]=\"برتقالي\"\n",
    "    elif (pred_scale.iloc[i,9] >=70) :\n",
    "        pred_scale.iloc[i,10]=\"أخضر\"\n",
    "\n",
    "pred_scale"
   ]
  },
  {
   "cell_type": "code",
   "execution_count": 97,
   "id": "740a6d0e",
   "metadata": {},
   "outputs": [
    {
     "name": "stdout",
     "output_type": "stream",
     "text": [
      "   مرجعية  تحليل  تصميم  برمجة اختبار  نتائج  تقرير    عرض غيتهاب\n",
      "0    79.0   86.0   39.0   24.0   90.0      0   45.0   45.0   90.0\n",
      "1    96.0   86.0   44.0   32.0      0      0   45.0   45.0   45.0\n",
      "2    84.0   86.0   41.0   80.0   90.0      0   45.0   45.0   90.0\n",
      "3    81.0   84.0   82.0   78.0   83.0   81.0   78.0   78.0   78.0\n",
      "4    84.0   86.0   77.0   76.0   75.0   80.0   78.0   78.0   78.0\n",
      "5    79.0   86.0   81.0   84.0   79.0   81.0   78.0   45.0   78.0\n",
      "6    84.0   86.0   82.0   79.0   82.0   70.0   45.0   45.0   45.0\n",
      "7    77.0   86.0   85.0   76.0   79.0   81.0   72.0   79.0   45.0\n",
      "8    72.0   41.0   85.0   76.0   79.0   82.0   77.0   45.0   45.0\n",
      "9    59.0   54.0   61.0   56.0      0   58.0   52.0   45.0   45.0\n",
      "10   58.0   59.0   61.0   54.0   61.0   58.0   56.0   54.0   50.0\n",
      "11   58.0   54.0   58.0   56.0   54.0   58.0   45.0   51.0   45.0\n",
      "12   57.0   86.0   84.0   78.0      0      0   45.0   45.0   45.0\n",
      "13   58.0   86.0   79.0   80.0      0   40.0   45.0   45.0   45.0\n",
      "14   96.0   86.0   84.0   80.0   79.0   61.0   45.0   45.0   45.0\n",
      "15      0      0      0      0      0      0      0      0      0\n",
      "16  101.0  101.0  101.0  101.0  101.0  101.0  101.0  101.0  101.0\n",
      "0     برتقالي\n",
      "1     برتقالي\n",
      "2     برتقالي\n",
      "3        أخضر\n",
      "4        أخضر\n",
      "5        أخضر\n",
      "6     برتقالي\n",
      "7        أخضر\n",
      "8     برتقالي\n",
      "9     برتقالي\n",
      "10    برتقالي\n",
      "11    برتقالي\n",
      "12    برتقالي\n",
      "13    برتقالي\n",
      "14    برتقالي\n",
      "15       أحمر\n",
      "16       أخضر\n",
      "Name: تصنيف, dtype: object\n",
      "knn model\n",
      "accuarcy 0.8235294117647058\n",
      "score =  0.8235294117647058\n",
      "ir model ['برتقالي' 'أحمر' 'برتقالي' 'أخضر' 'برتقالي' 'برتقالي' 'برتقالي' 'برتقالي'\n",
      " 'أخضر' 'أحمر' 'برتقالي' 'برتقالي' 'برتقالي' 'برتقالي' 'برتقالي' 'أحمر'\n",
      " 'أخضر']\n",
      "accuarcy 0.6470588235294118\n",
      "score =  0.6470588235294118\n",
      "svm model ['برتقالي' 'أحمر' 'برتقالي' 'أخضر' 'أخضر' 'أخضر' 'برتقالي' 'أخضر'\n",
      " 'برتقالي' 'أحمر' 'برتقالي' 'برتقالي' 'برتقالي' 'برتقالي' 'برتقالي' 'أحمر'\n",
      " 'أخضر']\n",
      "accuarcy 0.8823529411764706\n",
      "score =  0.8823529411764706\n",
      "rf2 model ['أخضر' 'أحمر' 'أخضر' 'أخضر' 'أخضر' 'أخضر' 'أخضر' 'أخضر' 'أخضر' 'برتقالي'\n",
      " 'برتقالي' 'برتقالي' 'أخضر' 'أخضر' 'أخضر' 'أحمر' 'أخضر']\n",
      "accuarcy 0.5294117647058824\n",
      "score =  0.5294117647058824\n",
      "NB model ['أحمر' 'أحمر' 'أحمر' 'أخضر' 'أخضر' 'برتقالي' 'برتقالي' 'برتقالي'\n",
      " 'برتقالي' 'أحمر' 'برتقالي' 'برتقالي' 'أحمر' 'أحمر' 'برتقالي' 'أحمر'\n",
      " 'أخضر']\n",
      "accuarcy 0.5294117647058824\n",
      "score =  0.5294117647058824\n",
      "NN model ['برتقالي' 'أحمر' 'برتقالي' 'أخضر' 'أخضر' 'برتقالي' 'برتقالي' 'برتقالي'\n",
      " 'برتقالي' 'أحمر' 'برتقالي' 'برتقالي' 'أحمر' 'أحمر' 'برتقالي' 'أحمر'\n",
      " 'أخضر']\n",
      "accuarcy 0.6470588235294118\n",
      "score =  0.6470588235294118\n"
     ]
    },
    {
     "data": {
      "text/html": [
       "<div>\n",
       "<style scoped>\n",
       "    .dataframe tbody tr th:only-of-type {\n",
       "        vertical-align: middle;\n",
       "    }\n",
       "\n",
       "    .dataframe tbody tr th {\n",
       "        vertical-align: top;\n",
       "    }\n",
       "\n",
       "    .dataframe thead th {\n",
       "        text-align: right;\n",
       "    }\n",
       "</style>\n",
       "<table border=\"1\" class=\"dataframe\">\n",
       "  <thead>\n",
       "    <tr style=\"text-align: right;\">\n",
       "      <th></th>\n",
       "      <th>Model</th>\n",
       "      <th>Recall</th>\n",
       "      <th>Precision</th>\n",
       "      <th>F1 Score</th>\n",
       "      <th>Accuracy</th>\n",
       "    </tr>\n",
       "  </thead>\n",
       "  <tbody>\n",
       "    <tr>\n",
       "      <th>2</th>\n",
       "      <td>svm</td>\n",
       "      <td>0.939394</td>\n",
       "      <td>0.777778</td>\n",
       "      <td>0.800000</td>\n",
       "      <td>0.882353</td>\n",
       "    </tr>\n",
       "    <tr>\n",
       "      <th>0</th>\n",
       "      <td>knn</td>\n",
       "      <td>0.909091</td>\n",
       "      <td>0.722222</td>\n",
       "      <td>0.750399</td>\n",
       "      <td>0.823529</td>\n",
       "    </tr>\n",
       "    <tr>\n",
       "      <th>1</th>\n",
       "      <td>lr</td>\n",
       "      <td>0.709091</td>\n",
       "      <td>0.575758</td>\n",
       "      <td>0.575758</td>\n",
       "      <td>0.647059</td>\n",
       "    </tr>\n",
       "    <tr>\n",
       "      <th>5</th>\n",
       "      <td>NN</td>\n",
       "      <td>0.745455</td>\n",
       "      <td>0.659259</td>\n",
       "      <td>0.594444</td>\n",
       "      <td>0.647059</td>\n",
       "    </tr>\n",
       "    <tr>\n",
       "      <th>3</th>\n",
       "      <td>RF</td>\n",
       "      <td>0.757576</td>\n",
       "      <td>0.638889</td>\n",
       "      <td>0.561158</td>\n",
       "      <td>0.529412</td>\n",
       "    </tr>\n",
       "    <tr>\n",
       "      <th>4</th>\n",
       "      <td>NB</td>\n",
       "      <td>0.684848</td>\n",
       "      <td>0.619048</td>\n",
       "      <td>0.518519</td>\n",
       "      <td>0.529412</td>\n",
       "    </tr>\n",
       "  </tbody>\n",
       "</table>\n",
       "</div>"
      ],
      "text/plain": [
       "  Model    Recall  Precision  F1 Score  Accuracy\n",
       "2   svm  0.939394   0.777778  0.800000  0.882353\n",
       "0   knn  0.909091   0.722222  0.750399  0.823529\n",
       "1    lr  0.709091   0.575758  0.575758  0.647059\n",
       "5    NN  0.745455   0.659259  0.594444  0.647059\n",
       "3    RF  0.757576   0.638889  0.561158  0.529412\n",
       "4    NB  0.684848   0.619048  0.518519  0.529412"
      ]
     },
     "execution_count": 97,
     "metadata": {},
     "output_type": "execute_result"
    }
   ],
   "source": [
    "x_pred_scale=pred_scale.drop(['تصنيف','متوسط'],axis=1)\n",
    "y_pred_scale=pred_scale['تصنيف']\n",
    "print(x_pred_scale)\n",
    "print(y_pred_scale)\n",
    "\n",
    "# **********************************************************************************************************\n",
    "def table_score_2(ypred,y_pred_test=y_pred_scale):\n",
    "    y_pred_test=y_pred_scale\n",
    "    Recall = recall_score(y_pred_test, ypred, average='macro' , zero_division=1)\n",
    "    Precision = precision_score(y_pred_test, ypred, average='macro' , zero_division=1)\n",
    "    f1 = f1_score(y_pred_test, ypred, average='macro' , zero_division=1)\n",
    "    accuracy = accuracy_score(y_pred_test, ypred)\n",
    "    ndf = [(Recall, Precision, f1, accuracy)]\n",
    "\n",
    "    score = pd.DataFrame(data=ndf, columns=['Recall', 'Precision', 'F1 Score', 'Accuracy'])\n",
    "    return score\n",
    "# *********************************** ******************************************************************\n",
    "ypred_1_scale = knn2.predict(x_pred_scale) \n",
    "print(\"knn model\") \n",
    "print(\"accuarcy\",(accuracy_score(y_pred_scale, ypred_1_scale)))\n",
    "print(\"score = \",knn2.score(x_pred_scale , y_pred_scale))\n",
    "knn_score = table_score_2(ypred_1_scale)\n",
    "knn_score.insert(0, 'Model', 'knn')\n",
    "knn_score\n",
    "ypred_2_scale = lr2.predict(x_pred_scale) \n",
    "print(\"ir model\",ypred_2_scale) \n",
    "print(\"accuarcy\",(accuracy_score(y_pred_scale, ypred_2_scale)))\n",
    "print(\"score = \",lr2.score(x_pred_scale , y_pred_scale))\n",
    "lr_score = table_score_2(ypred_2_scale)\n",
    "lr_score.insert(0, 'Model', 'lr')\n",
    "lr_score\n",
    "ypred_3_scale = svm2.predict(x_pred_scale) \n",
    "print(\"svm model\",ypred_3_scale) \n",
    "print(\"accuarcy\",(accuracy_score(y_pred_scale, ypred_3_scale)))\n",
    "print(\"score = \",svm2.score(x_pred_scale , y_pred_scale))\n",
    "svm_score = table_score_2(ypred_3_scale)\n",
    "svm_score.insert(0, 'Model', 'svm')\n",
    "svm_score\n",
    "ypred_4_scale = RF2.predict(x_pred_scale) \n",
    "print(\"rf2 model\",ypred_4_scale) \n",
    "print(\"accuarcy\",(accuracy_score(y_pred_scale, ypred_4_scale)))\n",
    "print(\"score = \",RF2.score(x_pred_scale , y_pred_scale))\n",
    "RF_score = table_score_2(ypred_4_scale)\n",
    "RF_score.insert(0, 'Model', 'RF')\n",
    "RF_score\n",
    "ypred_5_scale = NB2.predict(x_pred_scale) \n",
    "print(\"NB model\",ypred_5_scale) \n",
    "print(\"accuarcy\",(accuracy_score(y_pred_scale, ypred_5_scale)))\n",
    "print(\"score = \",NB2.score(x_pred_scale , y_pred_scale))\n",
    "NB_score = table_score_2(ypred_5_scale)\n",
    "NB_score.insert(0, 'Model', 'NB')\n",
    "NB_score\n",
    "ypred_6_scale = MLP2.predict(x_pred_scale) \n",
    "print(\"NN model\",ypred_6_scale)\n",
    "print(\"accuarcy\",(accuracy_score(y_pred_scale, ypred_6_scale)))\n",
    "print(\"score = \",MLP2.score(x_pred_scale , y_pred_scale))\n",
    "NN_score = table_score_2(ypred_6_scale)\n",
    "NN_score.insert(0, 'Model', 'NN')\n",
    "NN_score\n",
    "# comparising table\n",
    "predictions_for_test = pd.concat([knn_score, lr_score, svm_score, RF_score, NB_score, NN_score], ignore_index=True, sort=False)\n",
    "predictions_for_test.sort_values(by=['Accuracy'], ascending=False)"
   ]
  },
  {
   "cell_type": "markdown",
   "id": "e1b2399d",
   "metadata": {},
   "source": [
    "## Save Model"
   ]
  },
  {
   "cell_type": "code",
   "execution_count": null,
   "id": "d3ff94a6",
   "metadata": {},
   "outputs": [],
   "source": [
    "import joblib\n",
    "\n",
    "filename = 'model.joblib'\n",
    "joblib.dump(knn2, filename)"
   ]
  }
 ],
 "metadata": {
  "kernelspec": {
   "display_name": "Python 3 (ipykernel)",
   "language": "python",
   "name": "python3"
  },
  "language_info": {
   "codemirror_mode": {
    "name": "ipython",
    "version": 3
   },
   "file_extension": ".py",
   "mimetype": "text/x-python",
   "name": "python",
   "nbconvert_exporter": "python",
   "pygments_lexer": "ipython3",
   "version": "3.7.4"
  }
 },
 "nbformat": 4,
 "nbformat_minor": 5
}
