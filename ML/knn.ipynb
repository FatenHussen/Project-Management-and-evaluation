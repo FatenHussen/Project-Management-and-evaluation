{
 "cells": [
  {
   "cell_type": "markdown",
   "metadata": {},
   "source": [
    "# import"
   ]
  },
  {
   "cell_type": "code",
   "execution_count": 1,
   "id": "a549a186",
   "metadata": {
    "lines_to_next_cell": 2
   },
   "outputs": [],
   "source": [
    "import numpy as np\n",
    "import pandas as pd\n",
    "import matplotlib.pyplot as plt\n",
    "from sklearn.model_selection import train_test_split"
   ]
  },
  {
   "cell_type": "markdown",
   "id": "a5b4d9dc",
   "metadata": {},
   "source": [
    "# read dataset"
   ]
  },
  {
   "cell_type": "code",
   "execution_count": 2,
   "id": "734087aa",
   "metadata": {},
   "outputs": [],
   "source": [
    "dfs = pd.read_excel('example.xlsx')"
   ]
  },
  {
   "cell_type": "markdown",
   "id": "b793325f",
   "metadata": {},
   "source": [
    "# analyse data"
   ]
  },
  {
   "cell_type": "code",
   "execution_count": 3,
   "id": "1383aef0",
   "metadata": {},
   "outputs": [
    {
     "name": "stdout",
     "output_type": "stream",
     "text": [
      "\n",
      "number of samples :  9913\n",
      "Index(['Unnamed: 0', 'Reference', 'Analysis', 'Design', 'Coding', 'github',\n",
      "       'Testing', 'Results', 'Report', 'Presentation', 'Proposal',\n",
      "       'NumOfMeetings', 'Evaluation'],\n",
      "      dtype='object')\n"
     ]
    }
   ],
   "source": [
    "print(\"\\nnumber of samples : \" , dfs.count().max())\n",
    "print(dfs.columns)"
   ]
  },
  {
   "cell_type": "code",
   "execution_count": 4,
   "id": "8556da56",
   "metadata": {},
   "outputs": [
    {
     "data": {
      "text/html": [
       "<div>\n",
       "<style scoped>\n",
       "    .dataframe tbody tr th:only-of-type {\n",
       "        vertical-align: middle;\n",
       "    }\n",
       "\n",
       "    .dataframe tbody tr th {\n",
       "        vertical-align: top;\n",
       "    }\n",
       "\n",
       "    .dataframe thead th {\n",
       "        text-align: right;\n",
       "    }\n",
       "</style>\n",
       "<table border=\"1\" class=\"dataframe\">\n",
       "  <thead>\n",
       "    <tr style=\"text-align: right;\">\n",
       "      <th></th>\n",
       "      <th>Unnamed: 0</th>\n",
       "      <th>Reference</th>\n",
       "      <th>Analysis</th>\n",
       "      <th>Design</th>\n",
       "      <th>Coding</th>\n",
       "      <th>github</th>\n",
       "      <th>Testing</th>\n",
       "      <th>Results</th>\n",
       "      <th>Report</th>\n",
       "      <th>Presentation</th>\n",
       "      <th>Proposal</th>\n",
       "      <th>NumOfMeetings</th>\n",
       "      <th>Evaluation</th>\n",
       "    </tr>\n",
       "  </thead>\n",
       "  <tbody>\n",
       "    <tr>\n",
       "      <th>0</th>\n",
       "      <td>0</td>\n",
       "      <td>44</td>\n",
       "      <td>50</td>\n",
       "      <td>1</td>\n",
       "      <td>57</td>\n",
       "      <td>67</td>\n",
       "      <td>81</td>\n",
       "      <td>43</td>\n",
       "      <td>60</td>\n",
       "      <td>97</td>\n",
       "      <td>67</td>\n",
       "      <td>90</td>\n",
       "      <td>one</td>\n",
       "    </tr>\n",
       "    <tr>\n",
       "      <th>1</th>\n",
       "      <td>1</td>\n",
       "      <td>22</td>\n",
       "      <td>38</td>\n",
       "      <td>2</td>\n",
       "      <td>24</td>\n",
       "      <td>45</td>\n",
       "      <td>9</td>\n",
       "      <td>65</td>\n",
       "      <td>17</td>\n",
       "      <td>8</td>\n",
       "      <td>5</td>\n",
       "      <td>30</td>\n",
       "      <td>three</td>\n",
       "    </tr>\n",
       "    <tr>\n",
       "      <th>2</th>\n",
       "      <td>2</td>\n",
       "      <td>17</td>\n",
       "      <td>35</td>\n",
       "      <td>0</td>\n",
       "      <td>50</td>\n",
       "      <td>59</td>\n",
       "      <td>19</td>\n",
       "      <td>31</td>\n",
       "      <td>12</td>\n",
       "      <td>27</td>\n",
       "      <td>12</td>\n",
       "      <td>10</td>\n",
       "      <td>one</td>\n",
       "    </tr>\n",
       "    <tr>\n",
       "      <th>3</th>\n",
       "      <td>3</td>\n",
       "      <td>17</td>\n",
       "      <td>98</td>\n",
       "      <td>61</td>\n",
       "      <td>9</td>\n",
       "      <td>8</td>\n",
       "      <td>4</td>\n",
       "      <td>0</td>\n",
       "      <td>21</td>\n",
       "      <td>63</td>\n",
       "      <td>63</td>\n",
       "      <td>10</td>\n",
       "      <td>one</td>\n",
       "    </tr>\n",
       "    <tr>\n",
       "      <th>4</th>\n",
       "      <td>4</td>\n",
       "      <td>8</td>\n",
       "      <td>9</td>\n",
       "      <td>10</td>\n",
       "      <td>7</td>\n",
       "      <td>59</td>\n",
       "      <td>42</td>\n",
       "      <td>23</td>\n",
       "      <td>6</td>\n",
       "      <td>49</td>\n",
       "      <td>83</td>\n",
       "      <td>80</td>\n",
       "      <td>two</td>\n",
       "    </tr>\n",
       "  </tbody>\n",
       "</table>\n",
       "</div>"
      ],
      "text/plain": [
       "   Unnamed: 0  Reference  Analysis  Design  Coding  github  Testing  Results  \\\n",
       "0           0         44        50       1      57      67       81       43   \n",
       "1           1         22        38       2      24      45        9       65   \n",
       "2           2         17        35       0      50      59       19       31   \n",
       "3           3         17        98      61       9       8        4        0   \n",
       "4           4          8         9      10       7      59       42       23   \n",
       "\n",
       "   Report  Presentation  Proposal  NumOfMeetings Evaluation  \n",
       "0      60            97        67             90        one  \n",
       "1      17             8         5             30      three  \n",
       "2      12            27        12             10        one  \n",
       "3      21            63        63             10        one  \n",
       "4       6            49        83             80        two  "
      ]
     },
     "execution_count": 4,
     "metadata": {},
     "output_type": "execute_result"
    }
   ],
   "source": [
    "dfs.head()"
   ]
  },
  {
   "cell_type": "code",
   "execution_count": 5,
   "id": "3e2ffe52",
   "metadata": {},
   "outputs": [
    {
     "name": "stdout",
     "output_type": "stream",
     "text": [
      "The number of samples in the class 'red' :  3371\n",
      "The number of samples in the class 'orange' :  3321\n",
      "The number of samples in the class 'green' :  3221\n"
     ]
    }
   ],
   "source": [
    "print(\"The number of samples in the class 'red' : \" , dfs['Evaluation'][dfs['Evaluation'] == 'one'].count())\n",
    "print(\"The number of samples in the class 'orange' : \" , dfs['Evaluation'][dfs['Evaluation'] == 'two'].count())\n",
    "print(\"The number of samples in the class 'green' : \" , dfs['Evaluation'][dfs['Evaluation'] == 'three'].count())"
   ]
  },
  {
   "cell_type": "markdown",
   "id": "21974b01",
   "metadata": {},
   "source": [
    "# preprocessing"
   ]
  },
  {
   "cell_type": "code",
   "execution_count": 6,
   "id": "36ba1f64",
   "metadata": {},
   "outputs": [],
   "source": [
    "dfs = dfs.drop(['Unnamed: 0'], axis=1)"
   ]
  },
  {
   "cell_type": "code",
   "execution_count": 7,
   "id": "f68bb28e",
   "metadata": {},
   "outputs": [
    {
     "data": {
      "text/html": [
       "<div>\n",
       "<style scoped>\n",
       "    .dataframe tbody tr th:only-of-type {\n",
       "        vertical-align: middle;\n",
       "    }\n",
       "\n",
       "    .dataframe tbody tr th {\n",
       "        vertical-align: top;\n",
       "    }\n",
       "\n",
       "    .dataframe thead th {\n",
       "        text-align: right;\n",
       "    }\n",
       "</style>\n",
       "<table border=\"1\" class=\"dataframe\">\n",
       "  <thead>\n",
       "    <tr style=\"text-align: right;\">\n",
       "      <th></th>\n",
       "      <th>Reference</th>\n",
       "      <th>Analysis</th>\n",
       "      <th>Design</th>\n",
       "      <th>Coding</th>\n",
       "      <th>github</th>\n",
       "      <th>Testing</th>\n",
       "      <th>Results</th>\n",
       "      <th>Report</th>\n",
       "      <th>Presentation</th>\n",
       "      <th>Proposal</th>\n",
       "      <th>NumOfMeetings</th>\n",
       "      <th>Evaluation</th>\n",
       "    </tr>\n",
       "  </thead>\n",
       "  <tbody>\n",
       "    <tr>\n",
       "      <th>0</th>\n",
       "      <td>44</td>\n",
       "      <td>50</td>\n",
       "      <td>1</td>\n",
       "      <td>57</td>\n",
       "      <td>67</td>\n",
       "      <td>81</td>\n",
       "      <td>43</td>\n",
       "      <td>60</td>\n",
       "      <td>97</td>\n",
       "      <td>67</td>\n",
       "      <td>90</td>\n",
       "      <td>one</td>\n",
       "    </tr>\n",
       "    <tr>\n",
       "      <th>1</th>\n",
       "      <td>22</td>\n",
       "      <td>38</td>\n",
       "      <td>2</td>\n",
       "      <td>24</td>\n",
       "      <td>45</td>\n",
       "      <td>9</td>\n",
       "      <td>65</td>\n",
       "      <td>17</td>\n",
       "      <td>8</td>\n",
       "      <td>5</td>\n",
       "      <td>30</td>\n",
       "      <td>three</td>\n",
       "    </tr>\n",
       "    <tr>\n",
       "      <th>2</th>\n",
       "      <td>17</td>\n",
       "      <td>35</td>\n",
       "      <td>0</td>\n",
       "      <td>50</td>\n",
       "      <td>59</td>\n",
       "      <td>19</td>\n",
       "      <td>31</td>\n",
       "      <td>12</td>\n",
       "      <td>27</td>\n",
       "      <td>12</td>\n",
       "      <td>10</td>\n",
       "      <td>one</td>\n",
       "    </tr>\n",
       "    <tr>\n",
       "      <th>3</th>\n",
       "      <td>17</td>\n",
       "      <td>98</td>\n",
       "      <td>61</td>\n",
       "      <td>9</td>\n",
       "      <td>8</td>\n",
       "      <td>4</td>\n",
       "      <td>0</td>\n",
       "      <td>21</td>\n",
       "      <td>63</td>\n",
       "      <td>63</td>\n",
       "      <td>10</td>\n",
       "      <td>one</td>\n",
       "    </tr>\n",
       "    <tr>\n",
       "      <th>4</th>\n",
       "      <td>8</td>\n",
       "      <td>9</td>\n",
       "      <td>10</td>\n",
       "      <td>7</td>\n",
       "      <td>59</td>\n",
       "      <td>42</td>\n",
       "      <td>23</td>\n",
       "      <td>6</td>\n",
       "      <td>49</td>\n",
       "      <td>83</td>\n",
       "      <td>80</td>\n",
       "      <td>two</td>\n",
       "    </tr>\n",
       "  </tbody>\n",
       "</table>\n",
       "</div>"
      ],
      "text/plain": [
       "   Reference  Analysis  Design  Coding  github  Testing  Results  Report  \\\n",
       "0         44        50       1      57      67       81       43      60   \n",
       "1         22        38       2      24      45        9       65      17   \n",
       "2         17        35       0      50      59       19       31      12   \n",
       "3         17        98      61       9       8        4        0      21   \n",
       "4          8         9      10       7      59       42       23       6   \n",
       "\n",
       "   Presentation  Proposal  NumOfMeetings Evaluation  \n",
       "0            97        67             90        one  \n",
       "1             8         5             30      three  \n",
       "2            27        12             10        one  \n",
       "3            63        63             10        one  \n",
       "4            49        83             80        two  "
      ]
     },
     "execution_count": 7,
     "metadata": {},
     "output_type": "execute_result"
    }
   ],
   "source": [
    "dfs.head()"
   ]
  },
  {
   "cell_type": "code",
   "execution_count": 8,
   "id": "f25b09c4",
   "metadata": {},
   "outputs": [],
   "source": [
    "X = dfs.drop(['Evaluation'], axis=1)\n",
    "y = dfs['Evaluation']"
   ]
  },
  {
   "cell_type": "markdown",
   "id": "1354e628",
   "metadata": {},
   "source": [
    "#### Data Split"
   ]
  },
  {
   "cell_type": "code",
   "execution_count": 9,
   "id": "633ace32",
   "metadata": {},
   "outputs": [],
   "source": [
    "X_train, X_test, y_train, y_test = train_test_split(X, y, train_size=0.8, random_state=42)\n",
    "# X_train, X_valid, y_train, y_valid = train_test_split(X_train, y_train, train_size=0.9, random_state=42)\n",
    "X_train, X_test = X_train.reset_index(drop=True), X_test.reset_index(drop=True)\n",
    "y_train, y_test = y_train.reset_index(drop=True), y_test.reset_index(drop=True)\n",
    "# X_train, X_test, X_valid = X_train.reset_index(drop=True), X_test.reset_index(drop=True), X_valid.reset_index(drop=True)\n",
    "# y_train, y_test, y_valid = y_train.reset_index(drop=True), y_test.reset_index(drop=True), y_valid.reset_index(drop=True)"
   ]
  },
  {
   "cell_type": "markdown",
   "id": "5750afae",
   "metadata": {},
   "source": [
    "# building and training model"
   ]
  },
  {
   "cell_type": "code",
   "execution_count": 10,
   "id": "9385a33f",
   "metadata": {},
   "outputs": [
    {
     "name": "stdout",
     "output_type": "stream",
     "text": [
      "Test score: 0.34\n"
     ]
    }
   ],
   "source": [
    "from sklearn.neighbors import KNeighborsClassifier\n",
    "knn1 = KNeighborsClassifier(n_neighbors=5, weights='uniform', algorithm='auto', leaf_size=30, p=2, metric='minkowski')\n",
    "knn1.fit(X_train , y_train)\n",
    "print(\"Test score: {:.2f}\".format(knn1.score(X_test , y_test)))\n"
   ]
  },
  {
   "cell_type": "markdown",
   "id": "fdabbeb1",
   "metadata": {},
   "source": [
    "# Validation"
   ]
  },
  {
   "cell_type": "markdown",
   "id": "4e61f01e",
   "metadata": {},
   "source": [
    "البحث عن قيم الباراميترات الأفضل للشبكة العصبونية باستخدام طريقة GridSearch .\n",
    "\n",
    "و استخدام طريقة التقييم Fold cross validation-5 لتقسيم البيانات"
   ]
  },
  {
   "cell_type": "code",
   "execution_count": 11,
   "metadata": {},
   "outputs": [],
   "source": [
    "from sklearn.model_selection import GridSearchCV\n",
    "\n",
    "param_grid = {'n_neighbors': [1, 10 , 100], 'weights': ['uniform', 'distance'], 'metric': ['euclidean' , 'cosine' , 'manhattan' , 'minkowski']}\n",
    "\n",
    "clf = GridSearchCV(estimator= KNeighborsClassifier(), param_grid= param_grid , cv=3, scoring='accuracy', verbose=3)"
   ]
  },
  {
   "cell_type": "code",
   "execution_count": 12,
   "metadata": {},
   "outputs": [
    {
     "name": "stdout",
     "output_type": "stream",
     "text": [
      "Fitting 3 folds for each of 24 candidates, totalling 72 fits\n",
      "[CV 1/3] END metric=euclidean, n_neighbors=1, weights=uniform;, score=0.334 total time=   0.2s\n",
      "[CV 2/3] END metric=euclidean, n_neighbors=1, weights=uniform;, score=0.342 total time=   0.4s\n",
      "[CV 3/3] END metric=euclidean, n_neighbors=1, weights=uniform;, score=0.330 total time=   0.4s\n",
      "[CV 1/3] END metric=euclidean, n_neighbors=1, weights=distance;, score=0.334 total time=   0.3s\n",
      "[CV 2/3] END metric=euclidean, n_neighbors=1, weights=distance;, score=0.342 total time=   0.3s\n",
      "[CV 3/3] END metric=euclidean, n_neighbors=1, weights=distance;, score=0.330 total time=   0.3s\n",
      "[CV 1/3] END metric=euclidean, n_neighbors=10, weights=uniform;, score=0.335 total time=   0.4s\n",
      "[CV 2/3] END metric=euclidean, n_neighbors=10, weights=uniform;, score=0.328 total time=   0.4s\n",
      "[CV 3/3] END metric=euclidean, n_neighbors=10, weights=uniform;, score=0.316 total time=   0.4s\n",
      "[CV 1/3] END metric=euclidean, n_neighbors=10, weights=distance;, score=0.342 total time=   0.3s\n",
      "[CV 2/3] END metric=euclidean, n_neighbors=10, weights=distance;, score=0.331 total time=   0.3s\n",
      "[CV 3/3] END metric=euclidean, n_neighbors=10, weights=distance;, score=0.325 total time=   0.4s\n",
      "[CV 1/3] END metric=euclidean, n_neighbors=100, weights=uniform;, score=0.360 total time=   0.8s\n",
      "[CV 2/3] END metric=euclidean, n_neighbors=100, weights=uniform;, score=0.338 total time=   0.7s\n",
      "[CV 3/3] END metric=euclidean, n_neighbors=100, weights=uniform;, score=0.342 total time=   0.6s\n",
      "[CV 1/3] END metric=euclidean, n_neighbors=100, weights=distance;, score=0.356 total time=   0.5s\n",
      "[CV 2/3] END metric=euclidean, n_neighbors=100, weights=distance;, score=0.330 total time=   0.5s\n",
      "[CV 3/3] END metric=euclidean, n_neighbors=100, weights=distance;, score=0.340 total time=   0.5s\n",
      "[CV 1/3] END metric=cosine, n_neighbors=1, weights=uniform;, score=0.331 total time=   0.3s\n",
      "[CV 2/3] END metric=cosine, n_neighbors=1, weights=uniform;, score=0.335 total time=   0.2s\n",
      "[CV 3/3] END metric=cosine, n_neighbors=1, weights=uniform;, score=0.319 total time=   0.3s\n",
      "[CV 1/3] END metric=cosine, n_neighbors=1, weights=distance;, score=0.331 total time=   0.2s\n",
      "[CV 2/3] END metric=cosine, n_neighbors=1, weights=distance;, score=0.335 total time=   0.2s\n",
      "[CV 3/3] END metric=cosine, n_neighbors=1, weights=distance;, score=0.319 total time=   0.2s\n",
      "[CV 1/3] END metric=cosine, n_neighbors=10, weights=uniform;, score=0.337 total time=   0.4s\n",
      "[CV 2/3] END metric=cosine, n_neighbors=10, weights=uniform;, score=0.336 total time=   0.4s\n",
      "[CV 3/3] END metric=cosine, n_neighbors=10, weights=uniform;, score=0.335 total time=   0.4s\n",
      "[CV 1/3] END metric=cosine, n_neighbors=10, weights=distance;, score=0.326 total time=   0.3s\n",
      "[CV 2/3] END metric=cosine, n_neighbors=10, weights=distance;, score=0.328 total time=   0.3s\n",
      "[CV 3/3] END metric=cosine, n_neighbors=10, weights=distance;, score=0.329 total time=   0.3s\n",
      "[CV 1/3] END metric=cosine, n_neighbors=100, weights=uniform;, score=0.343 total time=   0.5s\n",
      "[CV 2/3] END metric=cosine, n_neighbors=100, weights=uniform;, score=0.351 total time=   0.4s\n",
      "[CV 3/3] END metric=cosine, n_neighbors=100, weights=uniform;, score=0.326 total time=   0.4s\n",
      "[CV 1/3] END metric=cosine, n_neighbors=100, weights=distance;, score=0.355 total time=   0.3s\n",
      "[CV 2/3] END metric=cosine, n_neighbors=100, weights=distance;, score=0.344 total time=   0.3s\n",
      "[CV 3/3] END metric=cosine, n_neighbors=100, weights=distance;, score=0.328 total time=   0.3s\n",
      "[CV 1/3] END metric=manhattan, n_neighbors=1, weights=uniform;, score=0.335 total time=   0.3s\n",
      "[CV 2/3] END metric=manhattan, n_neighbors=1, weights=uniform;, score=0.333 total time=   0.3s\n",
      "[CV 3/3] END metric=manhattan, n_neighbors=1, weights=uniform;, score=0.327 total time=   0.3s\n",
      "[CV 1/3] END metric=manhattan, n_neighbors=1, weights=distance;, score=0.335 total time=   0.2s\n",
      "[CV 2/3] END metric=manhattan, n_neighbors=1, weights=distance;, score=0.333 total time=   0.2s\n",
      "[CV 3/3] END metric=manhattan, n_neighbors=1, weights=distance;, score=0.327 total time=   0.2s\n",
      "[CV 1/3] END metric=manhattan, n_neighbors=10, weights=uniform;, score=0.351 total time=   0.4s\n",
      "[CV 2/3] END metric=manhattan, n_neighbors=10, weights=uniform;, score=0.331 total time=   0.4s\n",
      "[CV 3/3] END metric=manhattan, n_neighbors=10, weights=uniform;, score=0.319 total time=   0.4s\n",
      "[CV 1/3] END metric=manhattan, n_neighbors=10, weights=distance;, score=0.351 total time=   0.3s\n",
      "[CV 2/3] END metric=manhattan, n_neighbors=10, weights=distance;, score=0.325 total time=   0.3s\n",
      "[CV 3/3] END metric=manhattan, n_neighbors=10, weights=distance;, score=0.319 total time=   0.3s\n",
      "[CV 1/3] END metric=manhattan, n_neighbors=100, weights=uniform;, score=0.336 total time=   0.5s\n",
      "[CV 2/3] END metric=manhattan, n_neighbors=100, weights=uniform;, score=0.345 total time=   0.5s\n",
      "[CV 3/3] END metric=manhattan, n_neighbors=100, weights=uniform;, score=0.343 total time=   0.5s\n",
      "[CV 1/3] END metric=manhattan, n_neighbors=100, weights=distance;, score=0.336 total time=   0.4s\n",
      "[CV 2/3] END metric=manhattan, n_neighbors=100, weights=distance;, score=0.344 total time=   0.4s\n",
      "[CV 3/3] END metric=manhattan, n_neighbors=100, weights=distance;, score=0.338 total time=   0.4s\n",
      "[CV 1/3] END metric=minkowski, n_neighbors=1, weights=uniform;, score=0.334 total time=   0.2s\n",
      "[CV 2/3] END metric=minkowski, n_neighbors=1, weights=uniform;, score=0.342 total time=   0.2s\n",
      "[CV 3/3] END metric=minkowski, n_neighbors=1, weights=uniform;, score=0.330 total time=   0.2s\n",
      "[CV 1/3] END metric=minkowski, n_neighbors=1, weights=distance;, score=0.334 total time=   0.1s\n",
      "[CV 2/3] END metric=minkowski, n_neighbors=1, weights=distance;, score=0.342 total time=   0.1s\n",
      "[CV 3/3] END metric=minkowski, n_neighbors=1, weights=distance;, score=0.330 total time=   0.1s\n",
      "[CV 1/3] END metric=minkowski, n_neighbors=10, weights=uniform;, score=0.335 total time=   0.4s\n",
      "[CV 2/3] END metric=minkowski, n_neighbors=10, weights=uniform;, score=0.328 total time=   0.5s\n",
      "[CV 3/3] END metric=minkowski, n_neighbors=10, weights=uniform;, score=0.316 total time=   0.4s\n",
      "[CV 1/3] END metric=minkowski, n_neighbors=10, weights=distance;, score=0.342 total time=   0.2s\n",
      "[CV 2/3] END metric=minkowski, n_neighbors=10, weights=distance;, score=0.331 total time=   0.3s\n",
      "[CV 3/3] END metric=minkowski, n_neighbors=10, weights=distance;, score=0.325 total time=   0.4s\n",
      "[CV 1/3] END metric=minkowski, n_neighbors=100, weights=uniform;, score=0.360 total time=   0.5s\n",
      "[CV 2/3] END metric=minkowski, n_neighbors=100, weights=uniform;, score=0.338 total time=   0.6s\n",
      "[CV 3/3] END metric=minkowski, n_neighbors=100, weights=uniform;, score=0.342 total time=   0.6s\n",
      "[CV 1/3] END metric=minkowski, n_neighbors=100, weights=distance;, score=0.356 total time=   0.5s\n",
      "[CV 2/3] END metric=minkowski, n_neighbors=100, weights=distance;, score=0.330 total time=   0.5s\n",
      "[CV 3/3] END metric=minkowski, n_neighbors=100, weights=distance;, score=0.340 total time=   0.5s\n"
     ]
    },
    {
     "data": {
      "text/plain": [
       "GridSearchCV(cv=3, estimator=KNeighborsClassifier(),\n",
       "             param_grid={'metric': ['euclidean', 'cosine', 'manhattan',\n",
       "                                    'minkowski'],\n",
       "                         'n_neighbors': [1, 10, 100],\n",
       "                         'weights': ['uniform', 'distance']},\n",
       "             scoring='accuracy', verbose=3)"
      ]
     },
     "execution_count": 12,
     "metadata": {},
     "output_type": "execute_result"
    }
   ],
   "source": [
    "clf.fit(X_train, y_train)"
   ]
  },
  {
   "cell_type": "markdown",
   "id": "3cd5341e",
   "metadata": {},
   "source": [
    "عرض قيم الباراميترات الأفضل وعرض دقتها وفقا لعملية البحث ثم اعادة تدريب الشبكة على هذه القيم و عرض دقتها النهائية وعرض مخطط دقتها في كل طور."
   ]
  },
  {
   "cell_type": "code",
   "execution_count": 13,
   "metadata": {},
   "outputs": [
    {
     "name": "stdout",
     "output_type": "stream",
     "text": [
      "Best of Hyper Parameter : {'metric': 'euclidean', 'n_neighbors': 100, 'weights': 'uniform'} \n",
      "Score :  0.3467826410986003\n"
     ]
    }
   ],
   "source": [
    "print(\"Best of Hyper Parameter :\" , clf.best_params_, \"\\nScore : \" , clf.best_score_)"
   ]
  },
  {
   "cell_type": "code",
   "execution_count": 14,
   "metadata": {},
   "outputs": [
    {
     "name": "stdout",
     "output_type": "stream",
     "text": [
      "Test score: 0.34\n"
     ]
    }
   ],
   "source": [
    "knn2 = KNeighborsClassifier(n_neighbors=10, weights='distance', metric='euclidean').fit(X_train, y_train)\n",
    "print(\"Test score: {:.2f}\".format(knn2.score(X_test, y_test)))"
   ]
  },
  {
   "cell_type": "markdown",
   "id": "2e0722b1",
   "metadata": {},
   "source": [
    "تقييم النموذج الأفضل وفقا للمقاييس: ,matrix confusion\n",
    ".classification report"
   ]
  },
  {
   "cell_type": "code",
   "execution_count": 15,
   "id": "b53a73c0",
   "metadata": {},
   "outputs": [
    {
     "name": "stdout",
     "output_type": "stream",
     "text": [
      "confusion_matrix(ytest, ypred): \n",
      " [[221 232 208]\n",
      " [209 220 216]\n",
      " [234 218 225]]\n"
     ]
    }
   ],
   "source": [
    "from sklearn.metrics import confusion_matrix\n",
    "\n",
    "ypred = knn2.predict(X_test)\n",
    "cm = confusion_matrix(y_test, ypred)\n",
    "\n",
    "print(\"confusion_matrix(ytest, ypred): \\n\", cm)"
   ]
  },
  {
   "cell_type": "code",
   "execution_count": 16,
   "id": "3cc4eb02",
   "metadata": {},
   "outputs": [
    {
     "data": {
      "image/png": "[encoded data removed]",
      "text/plain": [
       "<Figure size 1000x1000 with 2 Axes>"
      ]
     },
     "metadata": {},
     "output_type": "display_data"
    }
   ],
   "source": [
    "classes = ['type 1', 'type 2' , 'type 3']\n",
    "cm = cm/np.sum(cm,axis=0)\n",
    "tick_marks = np.arange(3)\n",
    "fig, ax = plt.subplots(figsize=(10,10))\n",
    "im = ax.imshow(cm, interpolation='nearest', cmap=plt.cm.Dark2)\n",
    "for i in range(cm.shape[0]):\n",
    "    for j in range(cm.shape[1]):\n",
    "        text = ax.text(j, i, np.around(cm[i, j],decimals=2),\n",
    "                       ha=\"center\", va=\"center\", color=\"w\")\n",
    "plt.title('Normalized confusion matrix')\n",
    "fig.colorbar(im)\n",
    "plt.xticks(tick_marks, classes, rotation=45)\n",
    "plt.yticks(tick_marks, classes);"
   ]
  },
  {
   "cell_type": "markdown",
   "id": "a48b18d5",
   "metadata": {},
   "source": [
    "classification report"
   ]
  },
  {
   "cell_type": "code",
   "execution_count": 17,
   "id": "a19c8981",
   "metadata": {},
   "outputs": [
    {
     "name": "stdout",
     "output_type": "stream",
     "text": [
      "Classification Report:\n",
      "               precision    recall  f1-score   support\n",
      "\n",
      "         one       0.33      0.33      0.33       661\n",
      "       three       0.33      0.34      0.33       645\n",
      "         two       0.35      0.33      0.34       677\n",
      "\n",
      "    accuracy                           0.34      1983\n",
      "   macro avg       0.34      0.34      0.34      1983\n",
      "weighted avg       0.34      0.34      0.34      1983\n",
      "\n"
     ]
    }
   ],
   "source": [
    "from sklearn.metrics import classification_report\n",
    "print(\"Classification Report:\\n\", classification_report(y_test, ypred))"
   ]
  }
 ],
 "metadata": {
  "jupytext": {
   "cell_metadata_filter": "-all",
   "main_language": "python",
   "notebook_metadata_filter": "-all"
  },
  "kernelspec": {
   "display_name": "Python 3",
   "language": "python",
   "name": "python3"
  },
  "language_info": {
   "codemirror_mode": {
    "name": "ipython",
    "version": 3
   },
   "file_extension": ".py",
   "mimetype": "text/x-python",
   "name": "python",
   "nbconvert_exporter": "python",
   "pygments_lexer": "ipython3",
   "version": "3.7.4"
  }
 },
 "nbformat": 4,
 "nbformat_minor": 5
}
