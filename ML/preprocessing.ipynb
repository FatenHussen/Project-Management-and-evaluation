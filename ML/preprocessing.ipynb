{
 "cells": [
  {
   "cell_type": "markdown",
   "metadata": {},
   "source": [
    "# import"
   ]
  },
  {
   "cell_type": "code",
   "execution_count": 1,
   "id": "a549a186",
   "metadata": {
    "lines_to_next_cell": 2
   },
   "outputs": [],
   "source": [
    "import numpy as np\n",
    "import pandas as pd\n",
    "import matplotlib.pyplot as plt\n",
    "from sklearn.model_selection import train_test_split"
   ]
  },
  {
   "cell_type": "markdown",
   "id": "2f435974",
   "metadata": {},
   "source": [
    "# read dataset"
   ]
  },
  {
   "cell_type": "code",
   "execution_count": 2,
   "id": "97ac4fd6",
   "metadata": {},
   "outputs": [],
   "source": [
    "dfs = pd.read_csv('dataset.csv')"
   ]
  },
  {
   "cell_type": "markdown",
   "id": "23156cae",
   "metadata": {},
   "source": [
    "# analyse data"
   ]
  },
  {
   "cell_type": "code",
   "execution_count": 3,
   "id": "3b7acf75",
   "metadata": {},
   "outputs": [
    {
     "name": "stdout",
     "output_type": "stream",
     "text": [
      "\n",
      "number of samples :  10500\n",
      "Index(['Std_id', 'Reference', 'Analysis', 'Design', 'Coding', 'github',\n",
      "       'Testing', 'Results', 'Report', 'Presentation', 'Proposal',\n",
      "       'NumOfMeetings', 'Evaluation'],\n",
      "      dtype='object')\n"
     ]
    }
   ],
   "source": [
    "print(\"\\nnumber of samples : \" , dfs.count().max())\n",
    "print(dfs.columns)"
   ]
  },
  {
   "cell_type": "code",
   "execution_count": 4,
   "id": "d2e38b2a",
   "metadata": {},
   "outputs": [
    {
     "data": {
      "text/html": [
       "<div>\n",
       "<style scoped>\n",
       "    .dataframe tbody tr th:only-of-type {\n",
       "        vertical-align: middle;\n",
       "    }\n",
       "\n",
       "    .dataframe tbody tr th {\n",
       "        vertical-align: top;\n",
       "    }\n",
       "\n",
       "    .dataframe thead th {\n",
       "        text-align: right;\n",
       "    }\n",
       "</style>\n",
       "<table border=\"1\" class=\"dataframe\">\n",
       "  <thead>\n",
       "    <tr style=\"text-align: right;\">\n",
       "      <th></th>\n",
       "      <th>Std_id</th>\n",
       "      <th>Reference</th>\n",
       "      <th>Analysis</th>\n",
       "      <th>Design</th>\n",
       "      <th>Coding</th>\n",
       "      <th>github</th>\n",
       "      <th>Testing</th>\n",
       "      <th>Results</th>\n",
       "      <th>Report</th>\n",
       "      <th>Presentation</th>\n",
       "      <th>Proposal</th>\n",
       "      <th>NumOfMeetings</th>\n",
       "      <th>Evaluation</th>\n",
       "    </tr>\n",
       "  </thead>\n",
       "  <tbody>\n",
       "    <tr>\n",
       "      <th>0</th>\n",
       "      <td>1</td>\n",
       "      <td>44</td>\n",
       "      <td>50</td>\n",
       "      <td>1</td>\n",
       "      <td>57</td>\n",
       "      <td>67</td>\n",
       "      <td>81</td>\n",
       "      <td>43</td>\n",
       "      <td>60</td>\n",
       "      <td>97</td>\n",
       "      <td>67</td>\n",
       "      <td>9</td>\n",
       "      <td>NaN</td>\n",
       "    </tr>\n",
       "    <tr>\n",
       "      <th>1</th>\n",
       "      <td>2</td>\n",
       "      <td>22</td>\n",
       "      <td>38</td>\n",
       "      <td>2</td>\n",
       "      <td>24</td>\n",
       "      <td>45</td>\n",
       "      <td>9</td>\n",
       "      <td>65</td>\n",
       "      <td>17</td>\n",
       "      <td>8</td>\n",
       "      <td>5</td>\n",
       "      <td>3</td>\n",
       "      <td>NaN</td>\n",
       "    </tr>\n",
       "    <tr>\n",
       "      <th>2</th>\n",
       "      <td>3</td>\n",
       "      <td>17</td>\n",
       "      <td>35</td>\n",
       "      <td>0</td>\n",
       "      <td>50</td>\n",
       "      <td>59</td>\n",
       "      <td>19</td>\n",
       "      <td>31</td>\n",
       "      <td>12</td>\n",
       "      <td>27</td>\n",
       "      <td>12</td>\n",
       "      <td>1</td>\n",
       "      <td>NaN</td>\n",
       "    </tr>\n",
       "    <tr>\n",
       "      <th>3</th>\n",
       "      <td>4</td>\n",
       "      <td>17</td>\n",
       "      <td>98</td>\n",
       "      <td>61</td>\n",
       "      <td>9</td>\n",
       "      <td>8</td>\n",
       "      <td>4</td>\n",
       "      <td>0</td>\n",
       "      <td>21</td>\n",
       "      <td>63</td>\n",
       "      <td>63</td>\n",
       "      <td>1</td>\n",
       "      <td>NaN</td>\n",
       "    </tr>\n",
       "    <tr>\n",
       "      <th>4</th>\n",
       "      <td>5</td>\n",
       "      <td>8</td>\n",
       "      <td>9</td>\n",
       "      <td>10</td>\n",
       "      <td>7</td>\n",
       "      <td>59</td>\n",
       "      <td>42</td>\n",
       "      <td>23</td>\n",
       "      <td>6</td>\n",
       "      <td>49</td>\n",
       "      <td>83</td>\n",
       "      <td>8</td>\n",
       "      <td>NaN</td>\n",
       "    </tr>\n",
       "  </tbody>\n",
       "</table>\n",
       "</div>"
      ],
      "text/plain": [
       "   Std_id  Reference  Analysis  Design  Coding  github  Testing  Results  \\\n",
       "0       1         44        50       1      57      67       81       43   \n",
       "1       2         22        38       2      24      45        9       65   \n",
       "2       3         17        35       0      50      59       19       31   \n",
       "3       4         17        98      61       9       8        4        0   \n",
       "4       5          8         9      10       7      59       42       23   \n",
       "\n",
       "   Report  Presentation  Proposal  NumOfMeetings  Evaluation  \n",
       "0      60            97        67              9         NaN  \n",
       "1      17             8         5              3         NaN  \n",
       "2      12            27        12              1         NaN  \n",
       "3      21            63        63              1         NaN  \n",
       "4       6            49        83              8         NaN  "
      ]
     },
     "execution_count": 4,
     "metadata": {},
     "output_type": "execute_result"
    }
   ],
   "source": [
    "dfs.head()"
   ]
  },
  {
   "cell_type": "markdown",
   "id": "181e43c2",
   "metadata": {},
   "source": [
    "# preprocessing"
   ]
  },
  {
   "cell_type": "code",
   "execution_count": 5,
   "id": "c3c234f6",
   "metadata": {},
   "outputs": [
    {
     "name": "stdout",
     "output_type": "stream",
     "text": [
      "The number of NumOfMeetings is 0 :  587\n"
     ]
    }
   ],
   "source": [
    "print(\"The number of NumOfMeetings is 0 : \" , dfs['NumOfMeetings'][dfs['NumOfMeetings'] == 0].count())"
   ]
  },
  {
   "cell_type": "code",
   "execution_count": 6,
   "id": "be5641a8",
   "metadata": {},
   "outputs": [
    {
     "name": "stdout",
     "output_type": "stream",
     "text": [
      "The number of NumOfMeetings is 0 :  0\n"
     ]
    }
   ],
   "source": [
    "dfs.drop(dfs[dfs['NumOfMeetings'] == 0].index, inplace=True)\n",
    "print(\"The number of NumOfMeetings is 0 : \" , dfs['Std_id'][dfs['NumOfMeetings'] == 0].count())"
   ]
  },
  {
   "cell_type": "code",
   "execution_count": 7,
   "metadata": {},
   "outputs": [],
   "source": [
    "dfs = dfs.drop(['Std_id'], axis=1)"
   ]
  },
  {
   "cell_type": "markdown",
   "metadata": {},
   "source": [
    "#### imputation missing"
   ]
  },
  {
   "cell_type": "code",
   "execution_count": 8,
   "id": "e1d35cda",
   "metadata": {},
   "outputs": [
    {
     "name": "stdout",
     "output_type": "stream",
     "text": [
      "Number of Nan in dataframe : \n",
      " Reference           0\n",
      "Analysis            0\n",
      "Design              0\n",
      "Coding              0\n",
      "github              0\n",
      "Testing             0\n",
      "Results             0\n",
      "Report              0\n",
      "Presentation        0\n",
      "Proposal            0\n",
      "NumOfMeetings       0\n",
      "Evaluation       9913\n",
      "dtype: int64\n"
     ]
    }
   ],
   "source": [
    "print(\"Number of Nan in dataframe : \\n\" , dfs.isna().sum())"
   ]
  },
  {
   "cell_type": "markdown",
   "metadata": {},
   "source": [
    "#### Scaling"
   ]
  },
  {
   "cell_type": "code",
   "execution_count": 9,
   "id": "d5af0b45",
   "metadata": {},
   "outputs": [
    {
     "data": {
      "text/html": [
       "<div>\n",
       "<style scoped>\n",
       "    .dataframe tbody tr th:only-of-type {\n",
       "        vertical-align: middle;\n",
       "    }\n",
       "\n",
       "    .dataframe tbody tr th {\n",
       "        vertical-align: top;\n",
       "    }\n",
       "\n",
       "    .dataframe thead th {\n",
       "        text-align: right;\n",
       "    }\n",
       "</style>\n",
       "<table border=\"1\" class=\"dataframe\">\n",
       "  <thead>\n",
       "    <tr style=\"text-align: right;\">\n",
       "      <th></th>\n",
       "      <th>Reference</th>\n",
       "      <th>Analysis</th>\n",
       "      <th>Design</th>\n",
       "      <th>Coding</th>\n",
       "      <th>github</th>\n",
       "      <th>Testing</th>\n",
       "      <th>Results</th>\n",
       "      <th>Report</th>\n",
       "      <th>Presentation</th>\n",
       "      <th>Proposal</th>\n",
       "      <th>NumOfMeetings</th>\n",
       "      <th>Evaluation</th>\n",
       "    </tr>\n",
       "  </thead>\n",
       "  <tbody>\n",
       "    <tr>\n",
       "      <th>min</th>\n",
       "      <td>0.0</td>\n",
       "      <td>0.0</td>\n",
       "      <td>0.0</td>\n",
       "      <td>0.0</td>\n",
       "      <td>0.0</td>\n",
       "      <td>0.0</td>\n",
       "      <td>0.0</td>\n",
       "      <td>0.0</td>\n",
       "      <td>0.0</td>\n",
       "      <td>0.0</td>\n",
       "      <td>1.0</td>\n",
       "      <td>NaN</td>\n",
       "    </tr>\n",
       "    <tr>\n",
       "      <th>max</th>\n",
       "      <td>100.0</td>\n",
       "      <td>100.0</td>\n",
       "      <td>100.0</td>\n",
       "      <td>100.0</td>\n",
       "      <td>100.0</td>\n",
       "      <td>100.0</td>\n",
       "      <td>100.0</td>\n",
       "      <td>100.0</td>\n",
       "      <td>100.0</td>\n",
       "      <td>100.0</td>\n",
       "      <td>10.0</td>\n",
       "      <td>NaN</td>\n",
       "    </tr>\n",
       "  </tbody>\n",
       "</table>\n",
       "</div>"
      ],
      "text/plain": [
       "     Reference  Analysis  Design  Coding  github  Testing  Results  Report  \\\n",
       "min        0.0       0.0     0.0     0.0     0.0      0.0      0.0     0.0   \n",
       "max      100.0     100.0   100.0   100.0   100.0    100.0    100.0   100.0   \n",
       "\n",
       "     Presentation  Proposal  NumOfMeetings  Evaluation  \n",
       "min           0.0       0.0            1.0         NaN  \n",
       "max         100.0     100.0           10.0         NaN  "
      ]
     },
     "execution_count": 9,
     "metadata": {},
     "output_type": "execute_result"
    }
   ],
   "source": [
    "dfs.describe().loc[['min', 'max']]"
   ]
  },
  {
   "cell_type": "code",
   "execution_count": 10,
   "metadata": {},
   "outputs": [
    {
     "data": {
      "text/html": [
       "<div>\n",
       "<style scoped>\n",
       "    .dataframe tbody tr th:only-of-type {\n",
       "        vertical-align: middle;\n",
       "    }\n",
       "\n",
       "    .dataframe tbody tr th {\n",
       "        vertical-align: top;\n",
       "    }\n",
       "\n",
       "    .dataframe thead th {\n",
       "        text-align: right;\n",
       "    }\n",
       "</style>\n",
       "<table border=\"1\" class=\"dataframe\">\n",
       "  <thead>\n",
       "    <tr style=\"text-align: right;\">\n",
       "      <th></th>\n",
       "      <th>Reference</th>\n",
       "      <th>Analysis</th>\n",
       "      <th>Design</th>\n",
       "      <th>Coding</th>\n",
       "      <th>github</th>\n",
       "      <th>Testing</th>\n",
       "      <th>Results</th>\n",
       "      <th>Report</th>\n",
       "      <th>Presentation</th>\n",
       "      <th>Proposal</th>\n",
       "      <th>NumOfMeetings</th>\n",
       "      <th>Evaluation</th>\n",
       "    </tr>\n",
       "  </thead>\n",
       "  <tbody>\n",
       "    <tr>\n",
       "      <th>min</th>\n",
       "      <td>0.0</td>\n",
       "      <td>0.0</td>\n",
       "      <td>0.0</td>\n",
       "      <td>0.0</td>\n",
       "      <td>0.0</td>\n",
       "      <td>0.0</td>\n",
       "      <td>0.0</td>\n",
       "      <td>0.0</td>\n",
       "      <td>0.0</td>\n",
       "      <td>0.0</td>\n",
       "      <td>10.0</td>\n",
       "      <td>NaN</td>\n",
       "    </tr>\n",
       "    <tr>\n",
       "      <th>max</th>\n",
       "      <td>100.0</td>\n",
       "      <td>100.0</td>\n",
       "      <td>100.0</td>\n",
       "      <td>100.0</td>\n",
       "      <td>100.0</td>\n",
       "      <td>100.0</td>\n",
       "      <td>100.0</td>\n",
       "      <td>100.0</td>\n",
       "      <td>100.0</td>\n",
       "      <td>100.0</td>\n",
       "      <td>100.0</td>\n",
       "      <td>NaN</td>\n",
       "    </tr>\n",
       "  </tbody>\n",
       "</table>\n",
       "</div>"
      ],
      "text/plain": [
       "     Reference  Analysis  Design  Coding  github  Testing  Results  Report  \\\n",
       "min        0.0       0.0     0.0     0.0     0.0      0.0      0.0     0.0   \n",
       "max      100.0     100.0   100.0   100.0   100.0    100.0    100.0   100.0   \n",
       "\n",
       "     Presentation  Proposal  NumOfMeetings  Evaluation  \n",
       "min           0.0       0.0           10.0         NaN  \n",
       "max         100.0     100.0          100.0         NaN  "
      ]
     },
     "execution_count": 10,
     "metadata": {},
     "output_type": "execute_result"
    }
   ],
   "source": [
    "dfs['NumOfMeetings'] = dfs['NumOfMeetings']*10\n",
    "dfs.describe().loc[['min', 'max']]"
   ]
  },
  {
   "cell_type": "code",
   "execution_count": 11,
   "id": "74de4a9a",
   "metadata": {},
   "outputs": [
    {
     "data": {
      "text/html": [
       "<div>\n",
       "<style scoped>\n",
       "    .dataframe tbody tr th:only-of-type {\n",
       "        vertical-align: middle;\n",
       "    }\n",
       "\n",
       "    .dataframe tbody tr th {\n",
       "        vertical-align: top;\n",
       "    }\n",
       "\n",
       "    .dataframe thead th {\n",
       "        text-align: right;\n",
       "    }\n",
       "</style>\n",
       "<table border=\"1\" class=\"dataframe\">\n",
       "  <thead>\n",
       "    <tr style=\"text-align: right;\">\n",
       "      <th></th>\n",
       "      <th>Reference</th>\n",
       "      <th>Analysis</th>\n",
       "      <th>Design</th>\n",
       "      <th>Coding</th>\n",
       "      <th>github</th>\n",
       "      <th>Testing</th>\n",
       "      <th>Results</th>\n",
       "      <th>Report</th>\n",
       "      <th>Presentation</th>\n",
       "      <th>Proposal</th>\n",
       "      <th>NumOfMeetings</th>\n",
       "      <th>Evaluation</th>\n",
       "    </tr>\n",
       "  </thead>\n",
       "  <tbody>\n",
       "    <tr>\n",
       "      <th>0</th>\n",
       "      <td>44</td>\n",
       "      <td>50</td>\n",
       "      <td>1</td>\n",
       "      <td>57</td>\n",
       "      <td>67</td>\n",
       "      <td>81</td>\n",
       "      <td>43</td>\n",
       "      <td>60</td>\n",
       "      <td>97</td>\n",
       "      <td>67</td>\n",
       "      <td>90</td>\n",
       "      <td>NaN</td>\n",
       "    </tr>\n",
       "    <tr>\n",
       "      <th>1</th>\n",
       "      <td>22</td>\n",
       "      <td>38</td>\n",
       "      <td>2</td>\n",
       "      <td>24</td>\n",
       "      <td>45</td>\n",
       "      <td>9</td>\n",
       "      <td>65</td>\n",
       "      <td>17</td>\n",
       "      <td>8</td>\n",
       "      <td>5</td>\n",
       "      <td>30</td>\n",
       "      <td>NaN</td>\n",
       "    </tr>\n",
       "    <tr>\n",
       "      <th>2</th>\n",
       "      <td>17</td>\n",
       "      <td>35</td>\n",
       "      <td>0</td>\n",
       "      <td>50</td>\n",
       "      <td>59</td>\n",
       "      <td>19</td>\n",
       "      <td>31</td>\n",
       "      <td>12</td>\n",
       "      <td>27</td>\n",
       "      <td>12</td>\n",
       "      <td>10</td>\n",
       "      <td>NaN</td>\n",
       "    </tr>\n",
       "    <tr>\n",
       "      <th>3</th>\n",
       "      <td>17</td>\n",
       "      <td>98</td>\n",
       "      <td>61</td>\n",
       "      <td>9</td>\n",
       "      <td>8</td>\n",
       "      <td>4</td>\n",
       "      <td>0</td>\n",
       "      <td>21</td>\n",
       "      <td>63</td>\n",
       "      <td>63</td>\n",
       "      <td>10</td>\n",
       "      <td>NaN</td>\n",
       "    </tr>\n",
       "    <tr>\n",
       "      <th>4</th>\n",
       "      <td>8</td>\n",
       "      <td>9</td>\n",
       "      <td>10</td>\n",
       "      <td>7</td>\n",
       "      <td>59</td>\n",
       "      <td>42</td>\n",
       "      <td>23</td>\n",
       "      <td>6</td>\n",
       "      <td>49</td>\n",
       "      <td>83</td>\n",
       "      <td>80</td>\n",
       "      <td>NaN</td>\n",
       "    </tr>\n",
       "  </tbody>\n",
       "</table>\n",
       "</div>"
      ],
      "text/plain": [
       "   Reference  Analysis  Design  Coding  github  Testing  Results  Report  \\\n",
       "0         44        50       1      57      67       81       43      60   \n",
       "1         22        38       2      24      45        9       65      17   \n",
       "2         17        35       0      50      59       19       31      12   \n",
       "3         17        98      61       9       8        4        0      21   \n",
       "4          8         9      10       7      59       42       23       6   \n",
       "\n",
       "   Presentation  Proposal  NumOfMeetings  Evaluation  \n",
       "0            97        67             90         NaN  \n",
       "1             8         5             30         NaN  \n",
       "2            27        12             10         NaN  \n",
       "3            63        63             10         NaN  \n",
       "4            49        83             80         NaN  "
      ]
     },
     "execution_count": 11,
     "metadata": {},
     "output_type": "execute_result"
    }
   ],
   "source": [
    "dfs.head()"
   ]
  },
  {
   "cell_type": "code",
   "execution_count": 12,
   "id": "b9cb9b8a",
   "metadata": {},
   "outputs": [
    {
     "name": "stdout",
     "output_type": "stream",
     "text": [
      "Number of duplicated rows:  0\n"
     ]
    }
   ],
   "source": [
    "# identify the duplicated rows based on all columns\n",
    "dups = dfs.duplicated()\n",
    "\n",
    "# count the number of duplicated rows\n",
    "dup_count = dups.sum()\n",
    "\n",
    "print(\"Number of duplicated rows: \", dup_count)"
   ]
  },
  {
   "cell_type": "code",
   "execution_count": 13,
   "id": "54990359",
   "metadata": {},
   "outputs": [],
   "source": [
    "dfs.drop_duplicates(inplace=True)"
   ]
  },
  {
   "cell_type": "code",
   "execution_count": 14,
   "id": "0bf0aa70",
   "metadata": {},
   "outputs": [
    {
     "name": "stdout",
     "output_type": "stream",
     "text": [
      "\n",
      "number of samples :  9913\n"
     ]
    }
   ],
   "source": [
    "print(\"\\nnumber of samples : \" , dfs.count().max())"
   ]
  },
  {
   "cell_type": "markdown",
   "id": "02214d93",
   "metadata": {},
   "source": [
    "### save dataset as xlsx"
   ]
  },
  {
   "cell_type": "code",
   "execution_count": 15,
   "id": "7317d58f",
   "metadata": {},
   "outputs": [
    {
     "name": "stdout",
     "output_type": "stream",
     "text": [
      "DataFrame is written to Excel File successfully.\n"
     ]
    }
   ],
   "source": [
    "# determining the name of the file\n",
    "file_name = 'new_dataset.xlsx'\n",
    " \n",
    "# saving the excel\n",
    "dfs.to_excel(file_name)\n",
    "print('DataFrame is written to Excel File successfully.')"
   ]
  }
 ],
 "metadata": {
  "jupytext": {
   "cell_metadata_filter": "-all",
   "main_language": "python",
   "notebook_metadata_filter": "-all"
  },
  "kernelspec": {
   "display_name": "Python 3",
   "language": "python",
   "name": "python3"
  },
  "language_info": {
   "codemirror_mode": {
    "name": "ipython",
    "version": 3
   },
   "file_extension": ".py",
   "mimetype": "text/x-python",
   "name": "python",
   "nbconvert_exporter": "python",
   "pygments_lexer": "ipython3",
   "version": "3.7.4"
  }
 },
 "nbformat": 4,
 "nbformat_minor": 5
}
