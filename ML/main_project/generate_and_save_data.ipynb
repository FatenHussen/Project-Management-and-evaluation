{
 "cells": [
  {
   "cell_type": "code",
   "execution_count": 1,
   "id": "3cbf0681",
   "metadata": {},
   "outputs": [],
   "source": [
    "# genertae dataset and save it in datafrmae in excel file"
   ]
  },
  {
   "cell_type": "code",
   "execution_count": 2,
   "id": "586c585d",
   "metadata": {},
   "outputs": [],
   "source": [
    "# import pandas as pd\n",
    "# import numpy as np\n",
    "# import random\n",
    "\n",
    "# # Define the dimensions of the dataset\n",
    "# num_rows = 1000\n",
    "# num_features = 9\n",
    "# min_values_per_feature = 5\n",
    "# max_values_per_feature = 16\n",
    "# columns=[\"مرجعية\",\"تحليل\",\"صميم\", \"برمجة\",\"اختبار\",\"نتائج\",\"تقرير\",\"عرض\",\"غيتهاب\"]\n",
    "\n",
    "# # Create an empty dataset\n",
    "# dataset1 = []\n",
    "# num_rows1=250\n",
    "# # Generate random data for the dataset with values between 0 and 50\n",
    "# for _ in range(num_rows1):\n",
    "#     row = []\n",
    "#     num_values = random.randint(min_values_per_feature, max_values_per_feature)\n",
    "#     for _ in range(num_features):\n",
    "#         values = [random.randint(10, 51) for _ in range(num_values)]\n",
    "#         row.append(values)\n",
    "#     dataset1.append(row)\n",
    "\n",
    "# # Generate random data for the dataset with values between 70 and 100\n",
    "# dataset2 = []\n",
    "# num_rows2=250\n",
    "# for _ in range(num_rows2):\n",
    "#     row = []\n",
    "#     num_values = random.randint(min_values_per_feature, max_values_per_feature)\n",
    "#     for _ in range(num_features):\n",
    "#         values = [random.randint(70, 101) for _ in range(num_values)]\n",
    "#         row.append(values)\n",
    "#     dataset2.append(row)\n",
    "\n",
    "    \n",
    "# # Generate random data for the dataset with values between 50 and 70\n",
    "# dataset3 = []\n",
    "# num_rows3=500\n",
    "# for _ in range(num_rows3):\n",
    "#     num_values = random.randint(min_values_per_feature, max_values_per_feature)\n",
    "#     row = []\n",
    "#     for _ in range(num_features):\n",
    "#         values = [random.randint(0, 100) for _ in range(num_values)]\n",
    "#         row.append(values)\n",
    "#     dataset3.append(row)\n",
    "    \n",
    "# dataset= dataset1 + dataset2 + dataset3\n",
    "\n",
    "# # Convert the dataset to a DataFrame\n",
    "# df = pd.DataFrame(dataset, columns=[\"مرجعية\",\"تحليل\",\"تصميم\", \"برمجة\",\"اختبار\",\"نتائج\",\"تقرير\",\"عرض\",\"غيتهاب\"])\n",
    "# save data en excel file\n",
    "## ##df.to_excel('data_for_classification.xlsx', index=False)\n",
    "# print(\"Original DataFrame:\")\n",
    "# print(df)\n",
    "\n"
   ]
  }
 ],
 "metadata": {
  "kernelspec": {
   "display_name": "Python 3 (ipykernel)",
   "language": "python",
   "name": "python3"
  },
  "language_info": {
   "codemirror_mode": {
    "name": "ipython",
    "version": 3
   },
   "file_extension": ".py",
   "mimetype": "text/x-python",
   "name": "python",
   "nbconvert_exporter": "python",
   "pygments_lexer": "ipython3",
   "version": "3.11.4"
  }
 },
 "nbformat": 4,
 "nbformat_minor": 5
}
