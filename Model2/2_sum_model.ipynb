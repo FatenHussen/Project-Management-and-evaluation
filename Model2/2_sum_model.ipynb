{
 "cells": [
  {
   "cell_type": "markdown",
   "id": "fcab5313",
   "metadata": {},
   "source": [
    "## read data & data preprocessing"
   ]
  },
  {
   "cell_type": "code",
   "execution_count": 1,
   "id": "f825c0cc",
   "metadata": {},
   "outputs": [],
   "source": [
    "import numpy as np\n",
    "import matplotlib.pyplot as plt\n",
    "import pandas as pd\n",
    "import seaborn as sns"
   ]
  },
  {
   "cell_type": "code",
   "execution_count": 2,
   "id": "45bffc29",
   "metadata": {},
   "outputs": [
    {
     "data": {
      "text/html": [
       "<div>\n",
       "<style scoped>\n",
       "    .dataframe tbody tr th:only-of-type {\n",
       "        vertical-align: middle;\n",
       "    }\n",
       "\n",
       "    .dataframe tbody tr th {\n",
       "        vertical-align: top;\n",
       "    }\n",
       "\n",
       "    .dataframe thead th {\n",
       "        text-align: right;\n",
       "    }\n",
       "</style>\n",
       "<table border=\"1\" class=\"dataframe\">\n",
       "  <thead>\n",
       "    <tr style=\"text-align: right;\">\n",
       "      <th></th>\n",
       "      <th>فكرة المشروع</th>\n",
       "      <th>دراسة مرجعية</th>\n",
       "      <th>دراسة تحليلية</th>\n",
       "      <th>تصميم</th>\n",
       "      <th>برمجة</th>\n",
       "      <th>إدارة</th>\n",
       "      <th>GITHUB</th>\n",
       "      <th>اختبارات</th>\n",
       "      <th>النتائج</th>\n",
       "      <th>القيمة المضافة</th>\n",
       "      <th>التقرير</th>\n",
       "      <th>العرض</th>\n",
       "    </tr>\n",
       "  </thead>\n",
       "  <tbody>\n",
       "    <tr>\n",
       "      <th>0</th>\n",
       "      <td>6</td>\n",
       "      <td>4</td>\n",
       "      <td>5</td>\n",
       "      <td>9</td>\n",
       "      <td>8</td>\n",
       "      <td>4</td>\n",
       "      <td>5</td>\n",
       "      <td>7</td>\n",
       "      <td>6</td>\n",
       "      <td>7</td>\n",
       "      <td>4</td>\n",
       "      <td>6</td>\n",
       "    </tr>\n",
       "    <tr>\n",
       "      <th>1</th>\n",
       "      <td>8</td>\n",
       "      <td>4</td>\n",
       "      <td>4</td>\n",
       "      <td>10</td>\n",
       "      <td>7</td>\n",
       "      <td>7</td>\n",
       "      <td>8</td>\n",
       "      <td>5</td>\n",
       "      <td>8</td>\n",
       "      <td>5</td>\n",
       "      <td>7</td>\n",
       "      <td>8</td>\n",
       "    </tr>\n",
       "    <tr>\n",
       "      <th>2</th>\n",
       "      <td>8</td>\n",
       "      <td>6</td>\n",
       "      <td>7</td>\n",
       "      <td>10</td>\n",
       "      <td>8</td>\n",
       "      <td>4</td>\n",
       "      <td>5</td>\n",
       "      <td>8</td>\n",
       "      <td>5</td>\n",
       "      <td>8</td>\n",
       "      <td>4</td>\n",
       "      <td>7</td>\n",
       "    </tr>\n",
       "    <tr>\n",
       "      <th>3</th>\n",
       "      <td>6</td>\n",
       "      <td>5</td>\n",
       "      <td>4</td>\n",
       "      <td>10</td>\n",
       "      <td>9</td>\n",
       "      <td>5</td>\n",
       "      <td>6</td>\n",
       "      <td>7</td>\n",
       "      <td>5</td>\n",
       "      <td>6</td>\n",
       "      <td>4</td>\n",
       "      <td>6</td>\n",
       "    </tr>\n",
       "    <tr>\n",
       "      <th>4</th>\n",
       "      <td>8</td>\n",
       "      <td>4</td>\n",
       "      <td>7</td>\n",
       "      <td>6</td>\n",
       "      <td>8</td>\n",
       "      <td>6</td>\n",
       "      <td>7</td>\n",
       "      <td>4</td>\n",
       "      <td>5</td>\n",
       "      <td>4</td>\n",
       "      <td>4</td>\n",
       "      <td>6</td>\n",
       "    </tr>\n",
       "  </tbody>\n",
       "</table>\n",
       "</div>"
      ],
      "text/plain": [
       "   فكرة المشروع  دراسة مرجعية  دراسة تحليلية  تصميم  برمجة  إدارة  GITHUB  \\\n",
       "0             6             4              5      9      8      4       5   \n",
       "1             8             4              4     10      7      7       8   \n",
       "2             8             6              7     10      8      4       5   \n",
       "3             6             5              4     10      9      5       6   \n",
       "4             8             4              7      6      8      6       7   \n",
       "\n",
       "   اختبارات  النتائج  القيمة المضافة  التقرير  العرض  \n",
       "0         7        6               7        4      6  \n",
       "1         5        8               5        7      8  \n",
       "2         8        5               8        4      7  \n",
       "3         7        5               6        4      6  \n",
       "4         4        5               4        4      6  "
      ]
     },
     "execution_count": 2,
     "metadata": {},
     "output_type": "execute_result"
    }
   ],
   "source": [
    "df = pd.read_excel(\"data_for_classification.xlsx\")\n",
    "df.head()"
   ]
  },
  {
   "cell_type": "code",
   "execution_count": 3,
   "id": "041214a7",
   "metadata": {},
   "outputs": [
    {
     "data": {
      "text/html": [
       "<div>\n",
       "<style scoped>\n",
       "    .dataframe tbody tr th:only-of-type {\n",
       "        vertical-align: middle;\n",
       "    }\n",
       "\n",
       "    .dataframe tbody tr th {\n",
       "        vertical-align: top;\n",
       "    }\n",
       "\n",
       "    .dataframe thead th {\n",
       "        text-align: right;\n",
       "    }\n",
       "</style>\n",
       "<table border=\"1\" class=\"dataframe\">\n",
       "  <thead>\n",
       "    <tr style=\"text-align: right;\">\n",
       "      <th></th>\n",
       "      <th>فكرة المشروع</th>\n",
       "      <th>دراسة مرجعية</th>\n",
       "      <th>دراسة تحليلية</th>\n",
       "      <th>تصميم</th>\n",
       "      <th>برمجة</th>\n",
       "      <th>إدارة</th>\n",
       "      <th>GITHUB</th>\n",
       "      <th>اختبارات</th>\n",
       "      <th>النتائج</th>\n",
       "      <th>القيمة المضافة</th>\n",
       "      <th>التقرير</th>\n",
       "      <th>العرض</th>\n",
       "      <th>مجموع</th>\n",
       "    </tr>\n",
       "  </thead>\n",
       "  <tbody>\n",
       "    <tr>\n",
       "      <th>0</th>\n",
       "      <td>6</td>\n",
       "      <td>4</td>\n",
       "      <td>5</td>\n",
       "      <td>9</td>\n",
       "      <td>8</td>\n",
       "      <td>4</td>\n",
       "      <td>5</td>\n",
       "      <td>7</td>\n",
       "      <td>6</td>\n",
       "      <td>7</td>\n",
       "      <td>4</td>\n",
       "      <td>6</td>\n",
       "      <td>71</td>\n",
       "    </tr>\n",
       "    <tr>\n",
       "      <th>1</th>\n",
       "      <td>8</td>\n",
       "      <td>4</td>\n",
       "      <td>4</td>\n",
       "      <td>10</td>\n",
       "      <td>7</td>\n",
       "      <td>7</td>\n",
       "      <td>8</td>\n",
       "      <td>5</td>\n",
       "      <td>8</td>\n",
       "      <td>5</td>\n",
       "      <td>7</td>\n",
       "      <td>8</td>\n",
       "      <td>81</td>\n",
       "    </tr>\n",
       "    <tr>\n",
       "      <th>2</th>\n",
       "      <td>8</td>\n",
       "      <td>6</td>\n",
       "      <td>7</td>\n",
       "      <td>10</td>\n",
       "      <td>8</td>\n",
       "      <td>4</td>\n",
       "      <td>5</td>\n",
       "      <td>8</td>\n",
       "      <td>5</td>\n",
       "      <td>8</td>\n",
       "      <td>4</td>\n",
       "      <td>7</td>\n",
       "      <td>80</td>\n",
       "    </tr>\n",
       "    <tr>\n",
       "      <th>3</th>\n",
       "      <td>6</td>\n",
       "      <td>5</td>\n",
       "      <td>4</td>\n",
       "      <td>10</td>\n",
       "      <td>9</td>\n",
       "      <td>5</td>\n",
       "      <td>6</td>\n",
       "      <td>7</td>\n",
       "      <td>5</td>\n",
       "      <td>6</td>\n",
       "      <td>4</td>\n",
       "      <td>6</td>\n",
       "      <td>73</td>\n",
       "    </tr>\n",
       "    <tr>\n",
       "      <th>4</th>\n",
       "      <td>8</td>\n",
       "      <td>4</td>\n",
       "      <td>7</td>\n",
       "      <td>6</td>\n",
       "      <td>8</td>\n",
       "      <td>6</td>\n",
       "      <td>7</td>\n",
       "      <td>4</td>\n",
       "      <td>5</td>\n",
       "      <td>4</td>\n",
       "      <td>4</td>\n",
       "      <td>6</td>\n",
       "      <td>69</td>\n",
       "    </tr>\n",
       "  </tbody>\n",
       "</table>\n",
       "</div>"
      ],
      "text/plain": [
       "   فكرة المشروع  دراسة مرجعية  دراسة تحليلية  تصميم  برمجة  إدارة  GITHUB  \\\n",
       "0             6             4              5      9      8      4       5   \n",
       "1             8             4              4     10      7      7       8   \n",
       "2             8             6              7     10      8      4       5   \n",
       "3             6             5              4     10      9      5       6   \n",
       "4             8             4              7      6      8      6       7   \n",
       "\n",
       "   اختبارات  النتائج  القيمة المضافة  التقرير  العرض  مجموع  \n",
       "0         7        6               7        4      6     71  \n",
       "1         5        8               5        7      8     81  \n",
       "2         8        5               8        4      7     80  \n",
       "3         7        5               6        4      6     73  \n",
       "4         4        5               4        4      6     69  "
      ]
     },
     "execution_count": 3,
     "metadata": {},
     "output_type": "execute_result"
    }
   ],
   "source": [
    "df[\"مجموع\"]=0\n",
    "\n",
    "for i in range(len(df)):\n",
    "    value = df.iloc[i].tolist()\n",
    "    df.loc[i,\"مجموع\"] = sum(value)\n",
    "\n",
    "df.head()"
   ]
  },
  {
   "cell_type": "code",
   "execution_count": 4,
   "id": "67eff12a",
   "metadata": {},
   "outputs": [
    {
     "data": {
      "text/html": [
       "<div>\n",
       "<style scoped>\n",
       "    .dataframe tbody tr th:only-of-type {\n",
       "        vertical-align: middle;\n",
       "    }\n",
       "\n",
       "    .dataframe tbody tr th {\n",
       "        vertical-align: top;\n",
       "    }\n",
       "\n",
       "    .dataframe thead th {\n",
       "        text-align: right;\n",
       "    }\n",
       "</style>\n",
       "<table border=\"1\" class=\"dataframe\">\n",
       "  <thead>\n",
       "    <tr style=\"text-align: right;\">\n",
       "      <th></th>\n",
       "      <th>فكرة المشروع</th>\n",
       "      <th>دراسة مرجعية</th>\n",
       "      <th>دراسة تحليلية</th>\n",
       "      <th>تصميم</th>\n",
       "      <th>برمجة</th>\n",
       "      <th>إدارة</th>\n",
       "      <th>GITHUB</th>\n",
       "      <th>اختبارات</th>\n",
       "      <th>النتائج</th>\n",
       "      <th>القيمة المضافة</th>\n",
       "      <th>التقرير</th>\n",
       "      <th>العرض</th>\n",
       "      <th>مجموع</th>\n",
       "      <th>تصنيف</th>\n",
       "    </tr>\n",
       "  </thead>\n",
       "  <tbody>\n",
       "    <tr>\n",
       "      <th>0</th>\n",
       "      <td>6</td>\n",
       "      <td>4</td>\n",
       "      <td>5</td>\n",
       "      <td>9</td>\n",
       "      <td>8</td>\n",
       "      <td>4</td>\n",
       "      <td>5</td>\n",
       "      <td>7</td>\n",
       "      <td>6</td>\n",
       "      <td>7</td>\n",
       "      <td>4</td>\n",
       "      <td>6</td>\n",
       "      <td>71</td>\n",
       "      <td>أخضر</td>\n",
       "    </tr>\n",
       "    <tr>\n",
       "      <th>1</th>\n",
       "      <td>8</td>\n",
       "      <td>4</td>\n",
       "      <td>4</td>\n",
       "      <td>10</td>\n",
       "      <td>7</td>\n",
       "      <td>7</td>\n",
       "      <td>8</td>\n",
       "      <td>5</td>\n",
       "      <td>8</td>\n",
       "      <td>5</td>\n",
       "      <td>7</td>\n",
       "      <td>8</td>\n",
       "      <td>81</td>\n",
       "      <td>أخضر</td>\n",
       "    </tr>\n",
       "    <tr>\n",
       "      <th>2</th>\n",
       "      <td>8</td>\n",
       "      <td>6</td>\n",
       "      <td>7</td>\n",
       "      <td>10</td>\n",
       "      <td>8</td>\n",
       "      <td>4</td>\n",
       "      <td>5</td>\n",
       "      <td>8</td>\n",
       "      <td>5</td>\n",
       "      <td>8</td>\n",
       "      <td>4</td>\n",
       "      <td>7</td>\n",
       "      <td>80</td>\n",
       "      <td>أخضر</td>\n",
       "    </tr>\n",
       "    <tr>\n",
       "      <th>3</th>\n",
       "      <td>6</td>\n",
       "      <td>5</td>\n",
       "      <td>4</td>\n",
       "      <td>10</td>\n",
       "      <td>9</td>\n",
       "      <td>5</td>\n",
       "      <td>6</td>\n",
       "      <td>7</td>\n",
       "      <td>5</td>\n",
       "      <td>6</td>\n",
       "      <td>4</td>\n",
       "      <td>6</td>\n",
       "      <td>73</td>\n",
       "      <td>أخضر</td>\n",
       "    </tr>\n",
       "    <tr>\n",
       "      <th>4</th>\n",
       "      <td>8</td>\n",
       "      <td>4</td>\n",
       "      <td>7</td>\n",
       "      <td>6</td>\n",
       "      <td>8</td>\n",
       "      <td>6</td>\n",
       "      <td>7</td>\n",
       "      <td>4</td>\n",
       "      <td>5</td>\n",
       "      <td>4</td>\n",
       "      <td>4</td>\n",
       "      <td>6</td>\n",
       "      <td>69</td>\n",
       "      <td>برتقالي</td>\n",
       "    </tr>\n",
       "  </tbody>\n",
       "</table>\n",
       "</div>"
      ],
      "text/plain": [
       "   فكرة المشروع  دراسة مرجعية  دراسة تحليلية  تصميم  برمجة  إدارة  GITHUB  \\\n",
       "0             6             4              5      9      8      4       5   \n",
       "1             8             4              4     10      7      7       8   \n",
       "2             8             6              7     10      8      4       5   \n",
       "3             6             5              4     10      9      5       6   \n",
       "4             8             4              7      6      8      6       7   \n",
       "\n",
       "   اختبارات  النتائج  القيمة المضافة  التقرير  العرض  مجموع    تصنيف  \n",
       "0         7        6               7        4      6     71     أخضر  \n",
       "1         5        8               5        7      8     81     أخضر  \n",
       "2         8        5               8        4      7     80     أخضر  \n",
       "3         7        5               6        4      6     73     أخضر  \n",
       "4         4        5               4        4      6     69  برتقالي  "
      ]
     },
     "execution_count": 4,
     "metadata": {},
     "output_type": "execute_result"
    }
   ],
   "source": [
    "df['تصنيف']=1\n",
    "for i in range(df['تصنيف'].count()):\n",
    "    if df.iloc[i,12]<30:\n",
    "        df.iloc[i,13]=\"أحمر\"\n",
    "    elif (df.iloc[i,12] >=40) & (df.iloc[i,12]<70):\n",
    "        df.iloc[i,13]=\"برتقالي\"\n",
    "    elif (df.iloc[i,12] >=70):\n",
    "        df.iloc[i,13]=\"أخضر\"\n",
    "\n",
    "df.head()"
   ]
  },
  {
   "cell_type": "code",
   "execution_count": 5,
   "id": "b52127d8",
   "metadata": {},
   "outputs": [
    {
     "data": {
      "text/html": [
       "<div>\n",
       "<style scoped>\n",
       "    .dataframe tbody tr th:only-of-type {\n",
       "        vertical-align: middle;\n",
       "    }\n",
       "\n",
       "    .dataframe tbody tr th {\n",
       "        vertical-align: top;\n",
       "    }\n",
       "\n",
       "    .dataframe thead th {\n",
       "        text-align: right;\n",
       "    }\n",
       "</style>\n",
       "<table border=\"1\" class=\"dataframe\">\n",
       "  <thead>\n",
       "    <tr style=\"text-align: right;\">\n",
       "      <th></th>\n",
       "      <th>فكرة المشروع</th>\n",
       "      <th>دراسة مرجعية</th>\n",
       "      <th>دراسة تحليلية</th>\n",
       "      <th>تصميم</th>\n",
       "      <th>برمجة</th>\n",
       "      <th>إدارة</th>\n",
       "      <th>GITHUB</th>\n",
       "      <th>اختبارات</th>\n",
       "      <th>النتائج</th>\n",
       "      <th>القيمة المضافة</th>\n",
       "      <th>التقرير</th>\n",
       "      <th>العرض</th>\n",
       "      <th>مجموع</th>\n",
       "    </tr>\n",
       "  </thead>\n",
       "  <tbody>\n",
       "    <tr>\n",
       "      <th>count</th>\n",
       "      <td>2500.000000</td>\n",
       "      <td>2500.000000</td>\n",
       "      <td>2500.000000</td>\n",
       "      <td>2500.000000</td>\n",
       "      <td>2500.000000</td>\n",
       "      <td>2500.000000</td>\n",
       "      <td>2500.000000</td>\n",
       "      <td>2500.000000</td>\n",
       "      <td>2500.000000</td>\n",
       "      <td>2500.000000</td>\n",
       "      <td>2500.000000</td>\n",
       "      <td>2500.000000</td>\n",
       "      <td>2500.000000</td>\n",
       "    </tr>\n",
       "    <tr>\n",
       "      <th>mean</th>\n",
       "      <td>6.997600</td>\n",
       "      <td>4.009600</td>\n",
       "      <td>3.945600</td>\n",
       "      <td>4.986800</td>\n",
       "      <td>4.994800</td>\n",
       "      <td>3.994800</td>\n",
       "      <td>3.947200</td>\n",
       "      <td>4.008800</td>\n",
       "      <td>4.008800</td>\n",
       "      <td>3.978400</td>\n",
       "      <td>3.945200</td>\n",
       "      <td>3.958800</td>\n",
       "      <td>52.776400</td>\n",
       "    </tr>\n",
       "    <tr>\n",
       "      <th>std</th>\n",
       "      <td>1.000197</td>\n",
       "      <td>2.500242</td>\n",
       "      <td>2.536694</td>\n",
       "      <td>3.088955</td>\n",
       "      <td>3.115422</td>\n",
       "      <td>2.516447</td>\n",
       "      <td>2.501143</td>\n",
       "      <td>2.494957</td>\n",
       "      <td>2.470944</td>\n",
       "      <td>2.496483</td>\n",
       "      <td>2.495253</td>\n",
       "      <td>2.557444</td>\n",
       "      <td>17.931197</td>\n",
       "    </tr>\n",
       "    <tr>\n",
       "      <th>min</th>\n",
       "      <td>6.000000</td>\n",
       "      <td>0.000000</td>\n",
       "      <td>0.000000</td>\n",
       "      <td>0.000000</td>\n",
       "      <td>0.000000</td>\n",
       "      <td>0.000000</td>\n",
       "      <td>0.000000</td>\n",
       "      <td>0.000000</td>\n",
       "      <td>0.000000</td>\n",
       "      <td>0.000000</td>\n",
       "      <td>0.000000</td>\n",
       "      <td>0.000000</td>\n",
       "      <td>18.000000</td>\n",
       "    </tr>\n",
       "    <tr>\n",
       "      <th>25%</th>\n",
       "      <td>6.000000</td>\n",
       "      <td>2.000000</td>\n",
       "      <td>2.000000</td>\n",
       "      <td>2.000000</td>\n",
       "      <td>2.000000</td>\n",
       "      <td>2.000000</td>\n",
       "      <td>2.000000</td>\n",
       "      <td>2.000000</td>\n",
       "      <td>2.000000</td>\n",
       "      <td>2.000000</td>\n",
       "      <td>2.000000</td>\n",
       "      <td>2.000000</td>\n",
       "      <td>36.000000</td>\n",
       "    </tr>\n",
       "    <tr>\n",
       "      <th>50%</th>\n",
       "      <td>6.000000</td>\n",
       "      <td>4.000000</td>\n",
       "      <td>4.000000</td>\n",
       "      <td>5.000000</td>\n",
       "      <td>5.000000</td>\n",
       "      <td>4.000000</td>\n",
       "      <td>4.000000</td>\n",
       "      <td>4.000000</td>\n",
       "      <td>4.000000</td>\n",
       "      <td>4.000000</td>\n",
       "      <td>4.000000</td>\n",
       "      <td>4.000000</td>\n",
       "      <td>53.000000</td>\n",
       "    </tr>\n",
       "    <tr>\n",
       "      <th>75%</th>\n",
       "      <td>8.000000</td>\n",
       "      <td>6.000000</td>\n",
       "      <td>6.000000</td>\n",
       "      <td>8.000000</td>\n",
       "      <td>8.000000</td>\n",
       "      <td>6.000000</td>\n",
       "      <td>6.000000</td>\n",
       "      <td>6.000000</td>\n",
       "      <td>6.000000</td>\n",
       "      <td>6.000000</td>\n",
       "      <td>6.000000</td>\n",
       "      <td>6.000000</td>\n",
       "      <td>69.000000</td>\n",
       "    </tr>\n",
       "    <tr>\n",
       "      <th>max</th>\n",
       "      <td>8.000000</td>\n",
       "      <td>8.000000</td>\n",
       "      <td>8.000000</td>\n",
       "      <td>10.000000</td>\n",
       "      <td>10.000000</td>\n",
       "      <td>8.000000</td>\n",
       "      <td>8.000000</td>\n",
       "      <td>8.000000</td>\n",
       "      <td>8.000000</td>\n",
       "      <td>8.000000</td>\n",
       "      <td>8.000000</td>\n",
       "      <td>8.000000</td>\n",
       "      <td>90.000000</td>\n",
       "    </tr>\n",
       "  </tbody>\n",
       "</table>\n",
       "</div>"
      ],
      "text/plain": [
       "       فكرة المشروع  دراسة مرجعية  دراسة تحليلية        تصميم        برمجة  \\\n",
       "count   2500.000000   2500.000000    2500.000000  2500.000000  2500.000000   \n",
       "mean       6.997600      4.009600       3.945600     4.986800     4.994800   \n",
       "std        1.000197      2.500242       2.536694     3.088955     3.115422   \n",
       "min        6.000000      0.000000       0.000000     0.000000     0.000000   \n",
       "25%        6.000000      2.000000       2.000000     2.000000     2.000000   \n",
       "50%        6.000000      4.000000       4.000000     5.000000     5.000000   \n",
       "75%        8.000000      6.000000       6.000000     8.000000     8.000000   \n",
       "max        8.000000      8.000000       8.000000    10.000000    10.000000   \n",
       "\n",
       "             إدارة       GITHUB     اختبارات      النتائج  القيمة المضافة  \\\n",
       "count  2500.000000  2500.000000  2500.000000  2500.000000     2500.000000   \n",
       "mean      3.994800     3.947200     4.008800     4.008800        3.978400   \n",
       "std       2.516447     2.501143     2.494957     2.470944        2.496483   \n",
       "min       0.000000     0.000000     0.000000     0.000000        0.000000   \n",
       "25%       2.000000     2.000000     2.000000     2.000000        2.000000   \n",
       "50%       4.000000     4.000000     4.000000     4.000000        4.000000   \n",
       "75%       6.000000     6.000000     6.000000     6.000000        6.000000   \n",
       "max       8.000000     8.000000     8.000000     8.000000        8.000000   \n",
       "\n",
       "           التقرير        العرض        مجموع  \n",
       "count  2500.000000  2500.000000  2500.000000  \n",
       "mean      3.945200     3.958800    52.776400  \n",
       "std       2.495253     2.557444    17.931197  \n",
       "min       0.000000     0.000000    18.000000  \n",
       "25%       2.000000     2.000000    36.000000  \n",
       "50%       4.000000     4.000000    53.000000  \n",
       "75%       6.000000     6.000000    69.000000  \n",
       "max       8.000000     8.000000    90.000000  "
      ]
     },
     "execution_count": 5,
     "metadata": {},
     "output_type": "execute_result"
    }
   ],
   "source": [
    "df.describe()"
   ]
  },
  {
   "cell_type": "code",
   "execution_count": 6,
   "id": "c15ffc83",
   "metadata": {},
   "outputs": [
    {
     "name": "stdout",
     "output_type": "stream",
     "text": [
      "\n",
      "number of samples :  2500\n",
      "Index(['فكرة المشروع', 'دراسة مرجعية', 'دراسة تحليلية', 'تصميم', 'برمجة',\n",
      "       'إدارة', 'GITHUB', 'اختبارات', 'النتائج', 'القيمة المضافة', 'التقرير',\n",
      "       'العرض', 'مجموع', 'تصنيف'],\n",
      "      dtype='object')\n"
     ]
    }
   ],
   "source": [
    "print(\"\\nnumber of samples : \" , df.count().max())\n",
    "print(df.columns)"
   ]
  },
  {
   "cell_type": "markdown",
   "id": "38b10429",
   "metadata": {},
   "source": [
    "### Duplicate check"
   ]
  },
  {
   "cell_type": "code",
   "execution_count": 7,
   "id": "c7f336e5",
   "metadata": {},
   "outputs": [
    {
     "name": "stdout",
     "output_type": "stream",
     "text": [
      "number of duplicate row:  0\n"
     ]
    }
   ],
   "source": [
    "print(\"number of duplicate row: \",df.duplicated().sum())"
   ]
  },
  {
   "cell_type": "markdown",
   "id": "42d67436",
   "metadata": {},
   "source": [
    "### data embalance check"
   ]
  },
  {
   "cell_type": "code",
   "execution_count": 8,
   "id": "80c45d1c",
   "metadata": {},
   "outputs": [
    {
     "name": "stdout",
     "output_type": "stream",
     "text": [
      "The number of samples in the class 'red' :  304\n",
      "The number of samples in the class 'orange' :  1161\n",
      "The number of samples in the class 'green' :  618\n"
     ]
    },
    {
     "data": {
      "application/vnd.plotly.v1+json": {
       "config": {
        "plotlyServerURL": "https://plot.ly"
       },
       "data": [
        {
         "domain": {
          "x": [
           0,
           1
          ],
          "y": [
           0,
           1
          ]
         },
         "hovertemplate": "label=%{label}<br>value=%{value}<extra></extra>",
         "labels": [
          "orange",
          "green",
          "red"
         ],
         "legendgroup": "",
         "name": "",
         "showlegend": true,
         "type": "pie",
         "values": [
          1161,
          618,
          304
         ]
        }
       ],
       "layout": {
        "height": 400,
        "legend": {
         "tracegroupgap": 0
        },
        "piecolorway": [
         "orange",
         "green",
         "red"
        ],
        "template": {
         "data": {
          "bar": [
           {
            "error_x": {
             "color": "#2a3f5f"
            },
            "error_y": {
             "color": "#2a3f5f"
            },
            "marker": {
             "line": {
              "color": "#E5ECF6",
              "width": 0.5
             },
             "pattern": {
              "fillmode": "overlay",
              "size": 10,
              "solidity": 0.2
             }
            },
            "type": "bar"
           }
          ],
          "barpolar": [
           {
            "marker": {
             "line": {
              "color": "#E5ECF6",
              "width": 0.5
             },
             "pattern": {
              "fillmode": "overlay",
              "size": 10,
              "solidity": 0.2
             }
            },
            "type": "barpolar"
           }
          ],
          "carpet": [
           {
            "aaxis": {
             "endlinecolor": "#2a3f5f",
             "gridcolor": "white",
             "linecolor": "white",
             "minorgridcolor": "white",
             "startlinecolor": "#2a3f5f"
            },
            "baxis": {
             "endlinecolor": "#2a3f5f",
             "gridcolor": "white",
             "linecolor": "white",
             "minorgridcolor": "white",
             "startlinecolor": "#2a3f5f"
            },
            "type": "carpet"
           }
          ],
          "choropleth": [
           {
            "colorbar": {
             "outlinewidth": 0,
             "ticks": ""
            },
            "type": "choropleth"
           }
          ],
          "contour": [
           {
            "colorbar": {
             "outlinewidth": 0,
             "ticks": ""
            },
            "colorscale": [
             [
              0,
              "#0d0887"
             ],
             [
              0.1111111111111111,
              "#46039f"
             ],
             [
              0.2222222222222222,
              "#7201a8"
             ],
             [
              0.3333333333333333,
              "#9c179e"
             ],
             [
              0.4444444444444444,
              "#bd3786"
             ],
             [
              0.5555555555555556,
              "#d8576b"
             ],
             [
              0.6666666666666666,
              "#ed7953"
             ],
             [
              0.7777777777777778,
              "#fb9f3a"
             ],
             [
              0.8888888888888888,
              "#fdca26"
             ],
             [
              1,
              "#f0f921"
             ]
            ],
            "type": "contour"
           }
          ],
          "contourcarpet": [
           {
            "colorbar": {
             "outlinewidth": 0,
             "ticks": ""
            },
            "type": "contourcarpet"
           }
          ],
          "heatmap": [
           {
            "colorbar": {
             "outlinewidth": 0,
             "ticks": ""
            },
            "colorscale": [
             [
              0,
              "#0d0887"
             ],
             [
              0.1111111111111111,
              "#46039f"
             ],
             [
              0.2222222222222222,
              "#7201a8"
             ],
             [
              0.3333333333333333,
              "#9c179e"
             ],
             [
              0.4444444444444444,
              "#bd3786"
             ],
             [
              0.5555555555555556,
              "#d8576b"
             ],
             [
              0.6666666666666666,
              "#ed7953"
             ],
             [
              0.7777777777777778,
              "#fb9f3a"
             ],
             [
              0.8888888888888888,
              "#fdca26"
             ],
             [
              1,
              "#f0f921"
             ]
            ],
            "type": "heatmap"
           }
          ],
          "heatmapgl": [
           {
            "colorbar": {
             "outlinewidth": 0,
             "ticks": ""
            },
            "colorscale": [
             [
              0,
              "#0d0887"
             ],
             [
              0.1111111111111111,
              "#46039f"
             ],
             [
              0.2222222222222222,
              "#7201a8"
             ],
             [
              0.3333333333333333,
              "#9c179e"
             ],
             [
              0.4444444444444444,
              "#bd3786"
             ],
             [
              0.5555555555555556,
              "#d8576b"
             ],
             [
              0.6666666666666666,
              "#ed7953"
             ],
             [
              0.7777777777777778,
              "#fb9f3a"
             ],
             [
              0.8888888888888888,
              "#fdca26"
             ],
             [
              1,
              "#f0f921"
             ]
            ],
            "type": "heatmapgl"
           }
          ],
          "histogram": [
           {
            "marker": {
             "pattern": {
              "fillmode": "overlay",
              "size": 10,
              "solidity": 0.2
             }
            },
            "type": "histogram"
           }
          ],
          "histogram2d": [
           {
            "colorbar": {
             "outlinewidth": 0,
             "ticks": ""
            },
            "colorscale": [
             [
              0,
              "#0d0887"
             ],
             [
              0.1111111111111111,
              "#46039f"
             ],
             [
              0.2222222222222222,
              "#7201a8"
             ],
             [
              0.3333333333333333,
              "#9c179e"
             ],
             [
              0.4444444444444444,
              "#bd3786"
             ],
             [
              0.5555555555555556,
              "#d8576b"
             ],
             [
              0.6666666666666666,
              "#ed7953"
             ],
             [
              0.7777777777777778,
              "#fb9f3a"
             ],
             [
              0.8888888888888888,
              "#fdca26"
             ],
             [
              1,
              "#f0f921"
             ]
            ],
            "type": "histogram2d"
           }
          ],
          "histogram2dcontour": [
           {
            "colorbar": {
             "outlinewidth": 0,
             "ticks": ""
            },
            "colorscale": [
             [
              0,
              "#0d0887"
             ],
             [
              0.1111111111111111,
              "#46039f"
             ],
             [
              0.2222222222222222,
              "#7201a8"
             ],
             [
              0.3333333333333333,
              "#9c179e"
             ],
             [
              0.4444444444444444,
              "#bd3786"
             ],
             [
              0.5555555555555556,
              "#d8576b"
             ],
             [
              0.6666666666666666,
              "#ed7953"
             ],
             [
              0.7777777777777778,
              "#fb9f3a"
             ],
             [
              0.8888888888888888,
              "#fdca26"
             ],
             [
              1,
              "#f0f921"
             ]
            ],
            "type": "histogram2dcontour"
           }
          ],
          "mesh3d": [
           {
            "colorbar": {
             "outlinewidth": 0,
             "ticks": ""
            },
            "type": "mesh3d"
           }
          ],
          "parcoords": [
           {
            "line": {
             "colorbar": {
              "outlinewidth": 0,
              "ticks": ""
             }
            },
            "type": "parcoords"
           }
          ],
          "pie": [
           {
            "automargin": true,
            "type": "pie"
           }
          ],
          "scatter": [
           {
            "fillpattern": {
             "fillmode": "overlay",
             "size": 10,
             "solidity": 0.2
            },
            "type": "scatter"
           }
          ],
          "scatter3d": [
           {
            "line": {
             "colorbar": {
              "outlinewidth": 0,
              "ticks": ""
             }
            },
            "marker": {
             "colorbar": {
              "outlinewidth": 0,
              "ticks": ""
             }
            },
            "type": "scatter3d"
           }
          ],
          "scattercarpet": [
           {
            "marker": {
             "colorbar": {
              "outlinewidth": 0,
              "ticks": ""
             }
            },
            "type": "scattercarpet"
           }
          ],
          "scattergeo": [
           {
            "marker": {
             "colorbar": {
              "outlinewidth": 0,
              "ticks": ""
             }
            },
            "type": "scattergeo"
           }
          ],
          "scattergl": [
           {
            "marker": {
             "colorbar": {
              "outlinewidth": 0,
              "ticks": ""
             }
            },
            "type": "scattergl"
           }
          ],
          "scattermapbox": [
           {
            "marker": {
             "colorbar": {
              "outlinewidth": 0,
              "ticks": ""
             }
            },
            "type": "scattermapbox"
           }
          ],
          "scatterpolar": [
           {
            "marker": {
             "colorbar": {
              "outlinewidth": 0,
              "ticks": ""
             }
            },
            "type": "scatterpolar"
           }
          ],
          "scatterpolargl": [
           {
            "marker": {
             "colorbar": {
              "outlinewidth": 0,
              "ticks": ""
             }
            },
            "type": "scatterpolargl"
           }
          ],
          "scatterternary": [
           {
            "marker": {
             "colorbar": {
              "outlinewidth": 0,
              "ticks": ""
             }
            },
            "type": "scatterternary"
           }
          ],
          "surface": [
           {
            "colorbar": {
             "outlinewidth": 0,
             "ticks": ""
            },
            "colorscale": [
             [
              0,
              "#0d0887"
             ],
             [
              0.1111111111111111,
              "#46039f"
             ],
             [
              0.2222222222222222,
              "#7201a8"
             ],
             [
              0.3333333333333333,
              "#9c179e"
             ],
             [
              0.4444444444444444,
              "#bd3786"
             ],
             [
              0.5555555555555556,
              "#d8576b"
             ],
             [
              0.6666666666666666,
              "#ed7953"
             ],
             [
              0.7777777777777778,
              "#fb9f3a"
             ],
             [
              0.8888888888888888,
              "#fdca26"
             ],
             [
              1,
              "#f0f921"
             ]
            ],
            "type": "surface"
           }
          ],
          "table": [
           {
            "cells": {
             "fill": {
              "color": "#EBF0F8"
             },
             "line": {
              "color": "white"
             }
            },
            "header": {
             "fill": {
              "color": "#C8D4E3"
             },
             "line": {
              "color": "white"
             }
            },
            "type": "table"
           }
          ]
         },
         "layout": {
          "annotationdefaults": {
           "arrowcolor": "#2a3f5f",
           "arrowhead": 0,
           "arrowwidth": 1
          },
          "autotypenumbers": "strict",
          "coloraxis": {
           "colorbar": {
            "outlinewidth": 0,
            "ticks": ""
           }
          },
          "colorscale": {
           "diverging": [
            [
             0,
             "#8e0152"
            ],
            [
             0.1,
             "#c51b7d"
            ],
            [
             0.2,
             "#de77ae"
            ],
            [
             0.3,
             "#f1b6da"
            ],
            [
             0.4,
             "#fde0ef"
            ],
            [
             0.5,
             "#f7f7f7"
            ],
            [
             0.6,
             "#e6f5d0"
            ],
            [
             0.7,
             "#b8e186"
            ],
            [
             0.8,
             "#7fbc41"
            ],
            [
             0.9,
             "#4d9221"
            ],
            [
             1,
             "#276419"
            ]
           ],
           "sequential": [
            [
             0,
             "#0d0887"
            ],
            [
             0.1111111111111111,
             "#46039f"
            ],
            [
             0.2222222222222222,
             "#7201a8"
            ],
            [
             0.3333333333333333,
             "#9c179e"
            ],
            [
             0.4444444444444444,
             "#bd3786"
            ],
            [
             0.5555555555555556,
             "#d8576b"
            ],
            [
             0.6666666666666666,
             "#ed7953"
            ],
            [
             0.7777777777777778,
             "#fb9f3a"
            ],
            [
             0.8888888888888888,
             "#fdca26"
            ],
            [
             1,
             "#f0f921"
            ]
           ],
           "sequentialminus": [
            [
             0,
             "#0d0887"
            ],
            [
             0.1111111111111111,
             "#46039f"
            ],
            [
             0.2222222222222222,
             "#7201a8"
            ],
            [
             0.3333333333333333,
             "#9c179e"
            ],
            [
             0.4444444444444444,
             "#bd3786"
            ],
            [
             0.5555555555555556,
             "#d8576b"
            ],
            [
             0.6666666666666666,
             "#ed7953"
            ],
            [
             0.7777777777777778,
             "#fb9f3a"
            ],
            [
             0.8888888888888888,
             "#fdca26"
            ],
            [
             1,
             "#f0f921"
            ]
           ]
          },
          "colorway": [
           "#636efa",
           "#EF553B",
           "#00cc96",
           "#ab63fa",
           "#FFA15A",
           "#19d3f3",
           "#FF6692",
           "#B6E880",
           "#FF97FF",
           "#FECB52"
          ],
          "font": {
           "color": "#2a3f5f"
          },
          "geo": {
           "bgcolor": "white",
           "lakecolor": "white",
           "landcolor": "#E5ECF6",
           "showlakes": true,
           "showland": true,
           "subunitcolor": "white"
          },
          "hoverlabel": {
           "align": "left"
          },
          "hovermode": "closest",
          "mapbox": {
           "style": "light"
          },
          "paper_bgcolor": "white",
          "plot_bgcolor": "#E5ECF6",
          "polar": {
           "angularaxis": {
            "gridcolor": "white",
            "linecolor": "white",
            "ticks": ""
           },
           "bgcolor": "#E5ECF6",
           "radialaxis": {
            "gridcolor": "white",
            "linecolor": "white",
            "ticks": ""
           }
          },
          "scene": {
           "xaxis": {
            "backgroundcolor": "#E5ECF6",
            "gridcolor": "white",
            "gridwidth": 2,
            "linecolor": "white",
            "showbackground": true,
            "ticks": "",
            "zerolinecolor": "white"
           },
           "yaxis": {
            "backgroundcolor": "#E5ECF6",
            "gridcolor": "white",
            "gridwidth": 2,
            "linecolor": "white",
            "showbackground": true,
            "ticks": "",
            "zerolinecolor": "white"
           },
           "zaxis": {
            "backgroundcolor": "#E5ECF6",
            "gridcolor": "white",
            "gridwidth": 2,
            "linecolor": "white",
            "showbackground": true,
            "ticks": "",
            "zerolinecolor": "white"
           }
          },
          "shapedefaults": {
           "line": {
            "color": "#2a3f5f"
           }
          },
          "ternary": {
           "aaxis": {
            "gridcolor": "white",
            "linecolor": "white",
            "ticks": ""
           },
           "baxis": {
            "gridcolor": "white",
            "linecolor": "white",
            "ticks": ""
           },
           "bgcolor": "#E5ECF6",
           "caxis": {
            "gridcolor": "white",
            "linecolor": "white",
            "ticks": ""
           }
          },
          "title": {
           "x": 0.05
          },
          "xaxis": {
           "automargin": true,
           "gridcolor": "white",
           "linecolor": "white",
           "ticks": "",
           "title": {
            "standoff": 15
           },
           "zerolinecolor": "white",
           "zerolinewidth": 2
          },
          "yaxis": {
           "automargin": true,
           "gridcolor": "white",
           "linecolor": "white",
           "ticks": "",
           "title": {
            "standoff": 15
           },
           "zerolinecolor": "white",
           "zerolinewidth": 2
          }
         }
        },
        "title": {
         "text": "Marks distribute"
        },
        "width": 700
       }
      }
     },
     "metadata": {},
     "output_type": "display_data"
    }
   ],
   "source": [
    "print(\"The number of samples in the class 'red' : \" , df['تصنيف'][df['تصنيف'] == \"أحمر\"].count())\n",
    "print(\"The number of samples in the class 'orange' : \" , df['تصنيف'][df['تصنيف'] == \"برتقالي\"].count())\n",
    "print(\"The number of samples in the class 'green' : \" , df['تصنيف'][df['تصنيف'] == \"أخضر\"].count())\n",
    "\n",
    "import plotly.express as px\n",
    "\n",
    "colors = {\"red\":df['تصنيف'][df['تصنيف'] == \"أحمر\"].count(), \"orange\":df['تصنيف'][df['تصنيف'] == \"برتقالي\"].count(), \"green\":df['تصنيف'][df['تصنيف'] == \"أخضر\"].count()}\n",
    "sorted_colors = dict(sorted(colors.items(), key=lambda x: x[1], reverse=True))\n",
    "\n",
    "fig = px.pie(values=list(sorted_colors.values()), names=list(sorted_colors.keys()), width=700, height=400, color_discrete_sequence=list(sorted_colors.keys()), title=\"Marks distribute\")\n",
    "\n",
    "fig.show()"
   ]
  },
  {
   "cell_type": "markdown",
   "id": "7b1cb384",
   "metadata": {},
   "source": [
    "### checking for outliers"
   ]
  },
  {
   "cell_type": "code",
   "execution_count": 9,
   "id": "380f9000",
   "metadata": {},
   "outputs": [],
   "source": [
    "numerical_columns = list(df.loc[:,['فكرة المشروع', 'دراسة مرجعية', 'دراسة تحليلية', 'تصميم', 'برمجة',\n",
    "       'إدارة', 'GITHUB', 'اختبارات', 'النتائج', 'القيمة المضافة', 'التقرير',\n",
    "       'العرض']])"
   ]
  },
  {
   "cell_type": "code",
   "execution_count": 10,
   "id": "e9b6bff9",
   "metadata": {},
   "outputs": [
    {
     "data": {
      "image/png": "[encoded data removed]",
      "text/plain": [
       "<Figure size 640x480 with 1 Axes>"
      ]
     },
     "metadata": {},
     "output_type": "display_data"
    }
   ],
   "source": [
    "# checking boxplots\n",
    "fig, axs = plt.subplots(1, 1, sharey=True)\n",
    "fig.suptitle('Boxplots for each variable', y=1, size=25)\n",
    "\n",
    "for i, data in enumerate(numerical_columns):\n",
    "    sns.boxplot(data=df[data], orient='h', ax=axs)\n",
    "    axs.set_title(data + ', skewness is: ' + str(round(df[data].skew(axis=0, skipna=True), 2)))\n",
    "\n",
    "plt.tight_layout()"
   ]
  },
  {
   "cell_type": "code",
   "execution_count": 11,
   "id": "e6c59519",
   "metadata": {},
   "outputs": [],
   "source": [
    "from collections import Counter\n",
    "def IQR_method (df,n,features):\n",
    "    \"\"\"\n",
    "    Takes a dataframe and returns an index list corresponding to the observations \n",
    "    containing more than n outliers according to the Tukey IQR method.\n",
    "    \"\"\"\n",
    "    outlier_list = []\n",
    "    \n",
    "    for column in features:\n",
    "        # 1st quartile (25%)\n",
    "        Q1 = np.percentile(df[column], 25)\n",
    "        # 3rd quartile (75%)\n",
    "        Q3 = np.percentile(df[column],75)\n",
    "        # Interquartile range (IQR)\n",
    "        IQR = Q3 - Q1\n",
    "        # outlier step\n",
    "        outlier_step = 1.5 * IQR\n",
    "        # Determining a list of indices of outliers\n",
    "        outlier_list_column = df[(df[column] < Q1 - outlier_step) | (df[column] > Q3 + outlier_step )].index\n",
    "        # appending the list of outliers \n",
    "        outlier_list.extend(outlier_list_column)\n",
    "         # selecting observations containing more than x outliers\n",
    "        outlier_list = Counter(outlier_list)        \n",
    "        multiple_outliers = list( k for k, v in outlier_list.items() if v > n )\n",
    "        \n",
    "        # Calculate the number of records below and above lower and above bound value respectively\n",
    "        out1 = df[df[column] < Q1 - outlier_step]\n",
    "        out2 = df[df[column] > Q3 + outlier_step]\n",
    "        \n",
    "        print('Total number of deleted outliers is:', out1.shape[0]+out2.shape[0])\n",
    "        return multiple_outliers"
   ]
  },
  {
   "cell_type": "code",
   "execution_count": 12,
   "id": "5d086223",
   "metadata": {},
   "outputs": [
    {
     "name": "stdout",
     "output_type": "stream",
     "text": [
      "Total number of deleted outliers is: 0\n"
     ]
    }
   ],
   "source": [
    "# detecting outliers\n",
    "Outliers_IQR = IQR_method(df,1,numerical_columns)\n",
    "\n",
    "# dropping outliers\n",
    "df = df.drop(Outliers_IQR, axis = 0).reset_index(drop=True)"
   ]
  },
  {
   "cell_type": "code",
   "execution_count": 13,
   "id": "6cd43cbd",
   "metadata": {},
   "outputs": [
    {
     "data": {
      "text/plain": [
       "(2500, 14)"
      ]
     },
     "execution_count": 13,
     "metadata": {},
     "output_type": "execute_result"
    }
   ],
   "source": [
    "df.shape"
   ]
  },
  {
   "cell_type": "markdown",
   "id": "35bb375d",
   "metadata": {},
   "source": [
    "### imputaion  missing"
   ]
  },
  {
   "cell_type": "code",
   "execution_count": 14,
   "id": "12b64040",
   "metadata": {},
   "outputs": [
    {
     "data": {
      "text/plain": [
       "فكرة المشروع      0\n",
       "دراسة مرجعية      0\n",
       "دراسة تحليلية     0\n",
       "تصميم             0\n",
       "برمجة             0\n",
       "إدارة             0\n",
       "GITHUB            0\n",
       "اختبارات          0\n",
       "النتائج           0\n",
       "القيمة المضافة    0\n",
       "التقرير           0\n",
       "العرض             0\n",
       "مجموع             0\n",
       "تصنيف             0\n",
       "dtype: int64"
      ]
     },
     "execution_count": 14,
     "metadata": {},
     "output_type": "execute_result"
    }
   ],
   "source": [
    "df.isna().sum()"
   ]
  },
  {
   "cell_type": "markdown",
   "id": "81027221",
   "metadata": {},
   "source": [
    "### data_split"
   ]
  },
  {
   "cell_type": "code",
   "execution_count": 15,
   "id": "f7e05fd6",
   "metadata": {},
   "outputs": [],
   "source": [
    "from sklearn.model_selection import train_test_split\n",
    "\n",
    "df=df.drop(['مجموع'],axis=1)\n",
    "\n",
    "x=df.drop(['تصنيف'],axis=1)\n",
    "y=df['تصنيف']\n",
    "\n",
    "x_train ,x_test ,y_train ,y_test = train_test_split(x,y, test_size=0.3,shuffle=True, random_state=42)\n",
    "x_train, x_test = x_train.reset_index(drop=True), x_test.reset_index(drop=True)\n",
    "y_train, y_test = y_train.reset_index(drop=True), y_test.reset_index(drop=True)"
   ]
  },
  {
   "cell_type": "markdown",
   "id": "05e2906c",
   "metadata": {},
   "source": [
    "## building and evaluation models"
   ]
  },
  {
   "cell_type": "markdown",
   "id": "bb65027e",
   "metadata": {},
   "source": [
    "### import libraris"
   ]
  },
  {
   "cell_type": "code",
   "execution_count": 16,
   "id": "f8187461",
   "metadata": {},
   "outputs": [],
   "source": [
    "from sklearn.neighbors import KNeighborsClassifier\n",
    "from sklearn.linear_model import LogisticRegression\n",
    "from sklearn.svm import SVC\n",
    "from sklearn.ensemble import RandomForestClassifier\n",
    "from sklearn.naive_bayes import GaussianNB\n",
    "from sklearn.neural_network import MLPClassifier\n",
    "from sklearn.model_selection import GridSearchCV, KFold, cross_val_score\n",
    "from sklearn.metrics import confusion_matrix ,recall_score, precision_score, f1_score, accuracy_score, classification_report\n",
    "from yellowbrick.classifier import ROCAUC\n",
    "\n",
    "##############################################################################################\n",
    "\n",
    "kfold = KFold(n_splits=10, shuffle=True, random_state=42)\n",
    "\n",
    "##############################################################################################\n",
    "\n",
    "import warnings\n",
    "warnings.filterwarnings(\"ignore\", category=UserWarning)\n",
    "\n",
    "##############################################################################################"
   ]
  },
  {
   "cell_type": "markdown",
   "id": "1f1e8261",
   "metadata": {},
   "source": [
    "### confusion matrix"
   ]
  },
  {
   "cell_type": "code",
   "execution_count": 17,
   "id": "8721ff5b",
   "metadata": {},
   "outputs": [],
   "source": [
    "def confusion_matrix_plot(cm):\n",
    "    classes = ['class 1', 'class 2' , 'class 3' ]\n",
    "    with np.errstate(divide='ignore', invalid='ignore'):\n",
    "        cm = cm/np.sum(cm,axis=0)\n",
    "    tick_marks = np.arange(3)\n",
    "    fig, ax = plt.subplots(figsize=(10,10))\n",
    "    im = ax.imshow(cm, interpolation='nearest', cmap=plt.cm.Dark2)\n",
    "    for i in range(cm.shape[0]):\n",
    "        for j in range(cm.shape[1]):\n",
    "            text = ax.text(j, i, np.around(cm[i, j],decimals=2),\n",
    "                        ha=\"center\", va=\"center\", color=\"w\")\n",
    "    plt.title('Normalized confusion matrix for model')\n",
    "    fig.colorbar(im)\n",
    "    plt.xticks(tick_marks, classes, rotation=45)\n",
    "    plt.yticks(tick_marks, classes);"
   ]
  },
  {
   "cell_type": "markdown",
   "id": "2e0aceaa",
   "metadata": {},
   "source": [
    "### sensitivy and specifity"
   ]
  },
  {
   "cell_type": "code",
   "execution_count": 18,
   "id": "dbba2304",
   "metadata": {},
   "outputs": [],
   "source": [
    "def sensitivity_specificity(cm):\n",
    "    sensitivity = []\n",
    "    specificity = []\n",
    "\n",
    "    for i in range(len(cm)):\n",
    "        true_positive = cm[i, i]\n",
    "        false_positive = cm[:, i].sum() - true_positive\n",
    "        false_negative = cm[i, :].sum() - true_positive\n",
    "        true_negative = cm.sum() - (true_positive + false_positive + false_negative)\n",
    "\n",
    "        sensitivity.append(true_positive / (true_positive + false_negative))\n",
    "        specificity.append(true_negative / (true_negative + false_positive))\n",
    "\n",
    "    print(\"Sensitivity for each class:\", sensitivity)\n",
    "    print(\"Specificity for each class:\", specificity)\n",
    "    for i in range(len(sensitivity)):\n",
    "        print(\"Sensitivity for each class: \",i,\" is\", sensitivity[i])\n",
    "        print(\"Specificity for each class:\",i,\" is\", specificity[i])"
   ]
  },
  {
   "cell_type": "markdown",
   "id": "119b7198",
   "metadata": {},
   "source": [
    "### AUC (ROC PLOT)"
   ]
  },
  {
   "cell_type": "code",
   "execution_count": 19,
   "id": "a710c59d",
   "metadata": {},
   "outputs": [],
   "source": [
    "def plot_ROC_curve(model, x_train, y_train, x_test, y_test):\n",
    "\n",
    "    # Creating visualization with the readable labels\n",
    "    visualizer = ROCAUC(model, encoder={\"أحمر\": 'أحمر', \n",
    "                                        \"برتقالي\": 'برتقالي', \n",
    "                                        \"أخضر\": 'أخضر',\n",
    "})\n",
    "                                        \n",
    "    # Fitting to the training data first then scoring with the test data                                    \n",
    "    visualizer.fit(x_train, y_train)\n",
    "    visualizer.score(x_test, y_test)\n",
    "    visualizer.show()\n",
    "    \n",
    "    return visualizer"
   ]
  },
  {
   "cell_type": "markdown",
   "id": "c901e8c0",
   "metadata": {},
   "source": [
    "### plot table score"
   ]
  },
  {
   "cell_type": "code",
   "execution_count": 20,
   "id": "0fa5ea45",
   "metadata": {},
   "outputs": [],
   "source": [
    "def table_score(ypred):\n",
    "    Recall = recall_score(y_test, ypred, average='macro' , zero_division=1)\n",
    "    Precision = precision_score(y_test, ypred, average='macro' , zero_division=1)\n",
    "    f1 = f1_score(y_test, ypred, average='macro' , zero_division=1)\n",
    "    accuracy = accuracy_score(y_test, ypred)\n",
    "    ndf = [(Recall, Precision, f1, accuracy)]\n",
    "\n",
    "    score = pd.DataFrame(data=ndf, columns=['Recall', 'Precision', 'F1 Score', 'Accuracy'])\n",
    "    return score"
   ]
  },
  {
   "cell_type": "markdown",
   "id": "b5727a60",
   "metadata": {},
   "source": [
    "### KNN model"
   ]
  },
  {
   "cell_type": "code",
   "execution_count": 21,
   "id": "4e67829d",
   "metadata": {},
   "outputs": [
    {
     "ename": "TypeError",
     "evalue": "'<' not supported between instances of 'int' and 'str'",
     "output_type": "error",
     "traceback": [
      "\u001b[1;31m---------------------------------------------------------------------------\u001b[0m",
      "\u001b[1;31mTypeError\u001b[0m                                 Traceback (most recent call last)",
      "\u001b[1;32m~\\AppData\\Local\\Temp\\ipykernel_16032\\3888474384.py\u001b[0m in \u001b[0;36m<module>\u001b[1;34m\u001b[0m\n\u001b[0;32m      1\u001b[0m \u001b[0mknn1\u001b[0m \u001b[1;33m=\u001b[0m \u001b[0mKNeighborsClassifier\u001b[0m\u001b[1;33m(\u001b[0m\u001b[0mn_neighbors\u001b[0m\u001b[1;33m=\u001b[0m\u001b[1;36m5\u001b[0m\u001b[1;33m,\u001b[0m \u001b[0mweights\u001b[0m\u001b[1;33m=\u001b[0m\u001b[1;34m'uniform'\u001b[0m\u001b[1;33m,\u001b[0m \u001b[0malgorithm\u001b[0m\u001b[1;33m=\u001b[0m\u001b[1;34m'auto'\u001b[0m\u001b[1;33m,\u001b[0m \u001b[0mleaf_size\u001b[0m\u001b[1;33m=\u001b[0m\u001b[1;36m30\u001b[0m\u001b[1;33m,\u001b[0m \u001b[0mp\u001b[0m\u001b[1;33m=\u001b[0m\u001b[1;36m2\u001b[0m\u001b[1;33m,\u001b[0m \u001b[0mmetric\u001b[0m\u001b[1;33m=\u001b[0m\u001b[1;34m'minkowski'\u001b[0m\u001b[1;33m)\u001b[0m\u001b[1;33m\u001b[0m\u001b[1;33m\u001b[0m\u001b[0m\n\u001b[1;32m----> 2\u001b[1;33m \u001b[0mknn1\u001b[0m\u001b[1;33m.\u001b[0m\u001b[0mfit\u001b[0m\u001b[1;33m(\u001b[0m\u001b[0mx_train\u001b[0m \u001b[1;33m,\u001b[0m \u001b[0my_train\u001b[0m\u001b[1;33m)\u001b[0m\u001b[1;33m\u001b[0m\u001b[1;33m\u001b[0m\u001b[0m\n\u001b[0m\u001b[0;32m      3\u001b[0m \u001b[0mprint\u001b[0m\u001b[1;33m(\u001b[0m\u001b[1;34m\"Test score: {:.2f}\"\u001b[0m\u001b[1;33m.\u001b[0m\u001b[0mformat\u001b[0m\u001b[1;33m(\u001b[0m\u001b[0mknn1\u001b[0m\u001b[1;33m.\u001b[0m\u001b[0mscore\u001b[0m\u001b[1;33m(\u001b[0m\u001b[0mx_test\u001b[0m \u001b[1;33m,\u001b[0m \u001b[0my_test\u001b[0m\u001b[1;33m)\u001b[0m\u001b[1;33m)\u001b[0m\u001b[1;33m)\u001b[0m\u001b[1;33m\u001b[0m\u001b[1;33m\u001b[0m\u001b[0m\n",
      "\u001b[1;32mc:\\Users\\Dell\\AppData\\Local\\Programs\\Python\\Python37\\lib\\site-packages\\sklearn\\neighbors\\_classification.py\u001b[0m in \u001b[0;36mfit\u001b[1;34m(self, X, y)\u001b[0m\n\u001b[0;32m    196\u001b[0m         \u001b[0mself\u001b[0m\u001b[1;33m.\u001b[0m\u001b[0mweights\u001b[0m \u001b[1;33m=\u001b[0m \u001b[0m_check_weights\u001b[0m\u001b[1;33m(\u001b[0m\u001b[0mself\u001b[0m\u001b[1;33m.\u001b[0m\u001b[0mweights\u001b[0m\u001b[1;33m)\u001b[0m\u001b[1;33m\u001b[0m\u001b[1;33m\u001b[0m\u001b[0m\n\u001b[0;32m    197\u001b[0m \u001b[1;33m\u001b[0m\u001b[0m\n\u001b[1;32m--> 198\u001b[1;33m         \u001b[1;32mreturn\u001b[0m \u001b[0mself\u001b[0m\u001b[1;33m.\u001b[0m\u001b[0m_fit\u001b[0m\u001b[1;33m(\u001b[0m\u001b[0mX\u001b[0m\u001b[1;33m,\u001b[0m \u001b[0my\u001b[0m\u001b[1;33m)\u001b[0m\u001b[1;33m\u001b[0m\u001b[1;33m\u001b[0m\u001b[0m\n\u001b[0m\u001b[0;32m    199\u001b[0m \u001b[1;33m\u001b[0m\u001b[0m\n\u001b[0;32m    200\u001b[0m     \u001b[1;32mdef\u001b[0m \u001b[0mpredict\u001b[0m\u001b[1;33m(\u001b[0m\u001b[0mself\u001b[0m\u001b[1;33m,\u001b[0m \u001b[0mX\u001b[0m\u001b[1;33m)\u001b[0m\u001b[1;33m:\u001b[0m\u001b[1;33m\u001b[0m\u001b[1;33m\u001b[0m\u001b[0m\n",
      "\u001b[1;32mc:\\Users\\Dell\\AppData\\Local\\Programs\\Python\\Python37\\lib\\site-packages\\sklearn\\neighbors\\_base.py\u001b[0m in \u001b[0;36m_fit\u001b[1;34m(self, X, y)\u001b[0m\n\u001b[0;32m    418\u001b[0m                     \u001b[0mself\u001b[0m\u001b[1;33m.\u001b[0m\u001b[0moutputs_2d_\u001b[0m \u001b[1;33m=\u001b[0m \u001b[1;32mTrue\u001b[0m\u001b[1;33m\u001b[0m\u001b[1;33m\u001b[0m\u001b[0m\n\u001b[0;32m    419\u001b[0m \u001b[1;33m\u001b[0m\u001b[0m\n\u001b[1;32m--> 420\u001b[1;33m                 \u001b[0mcheck_classification_targets\u001b[0m\u001b[1;33m(\u001b[0m\u001b[0my\u001b[0m\u001b[1;33m)\u001b[0m\u001b[1;33m\u001b[0m\u001b[1;33m\u001b[0m\u001b[0m\n\u001b[0m\u001b[0;32m    421\u001b[0m                 \u001b[0mself\u001b[0m\u001b[1;33m.\u001b[0m\u001b[0mclasses_\u001b[0m \u001b[1;33m=\u001b[0m \u001b[1;33m[\u001b[0m\u001b[1;33m]\u001b[0m\u001b[1;33m\u001b[0m\u001b[1;33m\u001b[0m\u001b[0m\n\u001b[0;32m    422\u001b[0m                 \u001b[0mself\u001b[0m\u001b[1;33m.\u001b[0m\u001b[0m_y\u001b[0m \u001b[1;33m=\u001b[0m \u001b[0mnp\u001b[0m\u001b[1;33m.\u001b[0m\u001b[0mempty\u001b[0m\u001b[1;33m(\u001b[0m\u001b[0my\u001b[0m\u001b[1;33m.\u001b[0m\u001b[0mshape\u001b[0m\u001b[1;33m,\u001b[0m \u001b[0mdtype\u001b[0m\u001b[1;33m=\u001b[0m\u001b[0mint\u001b[0m\u001b[1;33m)\u001b[0m\u001b[1;33m\u001b[0m\u001b[1;33m\u001b[0m\u001b[0m\n",
      "\u001b[1;32mc:\\Users\\Dell\\AppData\\Local\\Programs\\Python\\Python37\\lib\\site-packages\\sklearn\\utils\\multiclass.py\u001b[0m in \u001b[0;36mcheck_classification_targets\u001b[1;34m(y)\u001b[0m\n\u001b[0;32m    187\u001b[0m     \u001b[0my\u001b[0m \u001b[1;33m:\u001b[0m \u001b[0marray\u001b[0m\u001b[1;33m-\u001b[0m\u001b[0mlike\u001b[0m\u001b[1;33m\u001b[0m\u001b[1;33m\u001b[0m\u001b[0m\n\u001b[0;32m    188\u001b[0m     \"\"\"\n\u001b[1;32m--> 189\u001b[1;33m     \u001b[0my_type\u001b[0m \u001b[1;33m=\u001b[0m \u001b[0mtype_of_target\u001b[0m\u001b[1;33m(\u001b[0m\u001b[0my\u001b[0m\u001b[1;33m)\u001b[0m\u001b[1;33m\u001b[0m\u001b[1;33m\u001b[0m\u001b[0m\n\u001b[0m\u001b[0;32m    190\u001b[0m     if y_type not in [\n\u001b[0;32m    191\u001b[0m         \u001b[1;34m\"binary\"\u001b[0m\u001b[1;33m,\u001b[0m\u001b[1;33m\u001b[0m\u001b[1;33m\u001b[0m\u001b[0m\n",
      "\u001b[1;32mc:\\Users\\Dell\\AppData\\Local\\Programs\\Python\\Python37\\lib\\site-packages\\sklearn\\utils\\multiclass.py\u001b[0m in \u001b[0;36mtype_of_target\u001b[1;34m(y)\u001b[0m\n\u001b[0;32m    325\u001b[0m         \u001b[1;32mreturn\u001b[0m \u001b[1;34m\"continuous\"\u001b[0m \u001b[1;33m+\u001b[0m \u001b[0msuffix\u001b[0m\u001b[1;33m\u001b[0m\u001b[1;33m\u001b[0m\u001b[0m\n\u001b[0;32m    326\u001b[0m \u001b[1;33m\u001b[0m\u001b[0m\n\u001b[1;32m--> 327\u001b[1;33m     \u001b[1;32mif\u001b[0m \u001b[1;33m(\u001b[0m\u001b[0mlen\u001b[0m\u001b[1;33m(\u001b[0m\u001b[0mnp\u001b[0m\u001b[1;33m.\u001b[0m\u001b[0munique\u001b[0m\u001b[1;33m(\u001b[0m\u001b[0my\u001b[0m\u001b[1;33m)\u001b[0m\u001b[1;33m)\u001b[0m \u001b[1;33m>\u001b[0m \u001b[1;36m2\u001b[0m\u001b[1;33m)\u001b[0m \u001b[1;32mor\u001b[0m \u001b[1;33m(\u001b[0m\u001b[0my\u001b[0m\u001b[1;33m.\u001b[0m\u001b[0mndim\u001b[0m \u001b[1;33m>=\u001b[0m \u001b[1;36m2\u001b[0m \u001b[1;32mand\u001b[0m \u001b[0mlen\u001b[0m\u001b[1;33m(\u001b[0m\u001b[0my\u001b[0m\u001b[1;33m[\u001b[0m\u001b[1;36m0\u001b[0m\u001b[1;33m]\u001b[0m\u001b[1;33m)\u001b[0m \u001b[1;33m>\u001b[0m \u001b[1;36m1\u001b[0m\u001b[1;33m)\u001b[0m\u001b[1;33m:\u001b[0m\u001b[1;33m\u001b[0m\u001b[1;33m\u001b[0m\u001b[0m\n\u001b[0m\u001b[0;32m    328\u001b[0m         \u001b[1;32mreturn\u001b[0m \u001b[1;34m\"multiclass\"\u001b[0m \u001b[1;33m+\u001b[0m \u001b[0msuffix\u001b[0m  \u001b[1;31m# [1, 2, 3] or [[1., 2., 3]] or [[1, 2]]\u001b[0m\u001b[1;33m\u001b[0m\u001b[1;33m\u001b[0m\u001b[0m\n\u001b[0;32m    329\u001b[0m     \u001b[1;32melse\u001b[0m\u001b[1;33m:\u001b[0m\u001b[1;33m\u001b[0m\u001b[1;33m\u001b[0m\u001b[0m\n",
      "\u001b[1;32m<__array_function__ internals>\u001b[0m in \u001b[0;36munique\u001b[1;34m(*args, **kwargs)\u001b[0m\n",
      "\u001b[1;32mc:\\Users\\Dell\\AppData\\Local\\Programs\\Python\\Python37\\lib\\site-packages\\numpy\\lib\\arraysetops.py\u001b[0m in \u001b[0;36munique\u001b[1;34m(ar, return_index, return_inverse, return_counts, axis)\u001b[0m\n\u001b[0;32m    270\u001b[0m     \u001b[0mar\u001b[0m \u001b[1;33m=\u001b[0m \u001b[0mnp\u001b[0m\u001b[1;33m.\u001b[0m\u001b[0masanyarray\u001b[0m\u001b[1;33m(\u001b[0m\u001b[0mar\u001b[0m\u001b[1;33m)\u001b[0m\u001b[1;33m\u001b[0m\u001b[1;33m\u001b[0m\u001b[0m\n\u001b[0;32m    271\u001b[0m     \u001b[1;32mif\u001b[0m \u001b[0maxis\u001b[0m \u001b[1;32mis\u001b[0m \u001b[1;32mNone\u001b[0m\u001b[1;33m:\u001b[0m\u001b[1;33m\u001b[0m\u001b[1;33m\u001b[0m\u001b[0m\n\u001b[1;32m--> 272\u001b[1;33m         \u001b[0mret\u001b[0m \u001b[1;33m=\u001b[0m \u001b[0m_unique1d\u001b[0m\u001b[1;33m(\u001b[0m\u001b[0mar\u001b[0m\u001b[1;33m,\u001b[0m \u001b[0mreturn_index\u001b[0m\u001b[1;33m,\u001b[0m \u001b[0mreturn_inverse\u001b[0m\u001b[1;33m,\u001b[0m \u001b[0mreturn_counts\u001b[0m\u001b[1;33m)\u001b[0m\u001b[1;33m\u001b[0m\u001b[1;33m\u001b[0m\u001b[0m\n\u001b[0m\u001b[0;32m    273\u001b[0m         \u001b[1;32mreturn\u001b[0m \u001b[0m_unpack_tuple\u001b[0m\u001b[1;33m(\u001b[0m\u001b[0mret\u001b[0m\u001b[1;33m)\u001b[0m\u001b[1;33m\u001b[0m\u001b[1;33m\u001b[0m\u001b[0m\n\u001b[0;32m    274\u001b[0m \u001b[1;33m\u001b[0m\u001b[0m\n",
      "\u001b[1;32mc:\\Users\\Dell\\AppData\\Local\\Programs\\Python\\Python37\\lib\\site-packages\\numpy\\lib\\arraysetops.py\u001b[0m in \u001b[0;36m_unique1d\u001b[1;34m(ar, return_index, return_inverse, return_counts)\u001b[0m\n\u001b[0;32m    331\u001b[0m         \u001b[0maux\u001b[0m \u001b[1;33m=\u001b[0m \u001b[0mar\u001b[0m\u001b[1;33m[\u001b[0m\u001b[0mperm\u001b[0m\u001b[1;33m]\u001b[0m\u001b[1;33m\u001b[0m\u001b[1;33m\u001b[0m\u001b[0m\n\u001b[0;32m    332\u001b[0m     \u001b[1;32melse\u001b[0m\u001b[1;33m:\u001b[0m\u001b[1;33m\u001b[0m\u001b[1;33m\u001b[0m\u001b[0m\n\u001b[1;32m--> 333\u001b[1;33m         \u001b[0mar\u001b[0m\u001b[1;33m.\u001b[0m\u001b[0msort\u001b[0m\u001b[1;33m(\u001b[0m\u001b[1;33m)\u001b[0m\u001b[1;33m\u001b[0m\u001b[1;33m\u001b[0m\u001b[0m\n\u001b[0m\u001b[0;32m    334\u001b[0m         \u001b[0maux\u001b[0m \u001b[1;33m=\u001b[0m \u001b[0mar\u001b[0m\u001b[1;33m\u001b[0m\u001b[1;33m\u001b[0m\u001b[0m\n\u001b[0;32m    335\u001b[0m     \u001b[0mmask\u001b[0m \u001b[1;33m=\u001b[0m \u001b[0mnp\u001b[0m\u001b[1;33m.\u001b[0m\u001b[0mempty\u001b[0m\u001b[1;33m(\u001b[0m\u001b[0maux\u001b[0m\u001b[1;33m.\u001b[0m\u001b[0mshape\u001b[0m\u001b[1;33m,\u001b[0m \u001b[0mdtype\u001b[0m\u001b[1;33m=\u001b[0m\u001b[0mnp\u001b[0m\u001b[1;33m.\u001b[0m\u001b[0mbool_\u001b[0m\u001b[1;33m)\u001b[0m\u001b[1;33m\u001b[0m\u001b[1;33m\u001b[0m\u001b[0m\n",
      "\u001b[1;31mTypeError\u001b[0m: '<' not supported between instances of 'int' and 'str'"
     ]
    }
   ],
   "source": [
    "knn1 = KNeighborsClassifier(n_neighbors=5, weights='uniform', algorithm='auto', leaf_size=30, p=2, metric='minkowski')\n",
    "knn1.fit(x_train , y_train)\n",
    "print(\"Test score: {:.2f}\".format(knn1.score(x_test , y_test)))"
   ]
  },
  {
   "cell_type": "code",
   "execution_count": null,
   "id": "7b16455d",
   "metadata": {},
   "outputs": [],
   "source": [
    "param_grid_knn = {\n",
    "    'n_neighbors': [1, 10 , 100], \n",
    "    'weights': ['uniform', 'distance'], \n",
    "    'metric': ['euclidean' , 'cosine' , 'manhattan' , 'minkowski']\n",
    "}\n",
    "clf_knn = GridSearchCV(estimator= KNeighborsClassifier(), param_grid= param_grid_knn , cv=kfold, scoring='accuracy', verbose=3)\n",
    "clf_knn.fit(x_train, y_train)"
   ]
  },
  {
   "cell_type": "code",
   "execution_count": null,
   "id": "707a2d47",
   "metadata": {},
   "outputs": [],
   "source": [
    "print(\"Best of Hyper Parameter :\" , clf_knn.best_params_, \"\\nScore : \" , clf_knn.best_score_)"
   ]
  },
  {
   "cell_type": "code",
   "execution_count": null,
   "id": "4c87fa35",
   "metadata": {},
   "outputs": [],
   "source": [
    "knn2 = clf_knn.best_estimator_.fit(x_train,y_train)\n",
    "print(\"Test score for test_data: {:.2f}\".format(knn2.score(x_test, y_test)))\n",
    "print(\"Test score for train_data: {:.2f}\".format(knn2.score(x_train, y_train)))"
   ]
  },
  {
   "cell_type": "code",
   "execution_count": null,
   "id": "97f06af9",
   "metadata": {},
   "outputs": [],
   "source": [
    "# kfold = KFold(n_splits=10, shuffle=True, random_state=42)\n",
    "scores_clf1 = cross_val_score(knn2, x_train, y_train, cv=kfold, scoring='accuracy')\n",
    "print(scores_clf1)\n",
    "print(\"Mean for k_fold cross validation for KNN model\", np.mean(scores_clf1))"
   ]
  },
  {
   "cell_type": "code",
   "execution_count": null,
   "id": "763b3b8d",
   "metadata": {},
   "outputs": [],
   "source": [
    "ypred1 = knn2.predict(x_test)\n",
    "cm_knn = confusion_matrix(y_test, ypred1)\n",
    "print(\"confusion_matrix(ytest, ypred): \\n\", cm_knn)"
   ]
  },
  {
   "cell_type": "code",
   "execution_count": null,
   "id": "0cc7aa30",
   "metadata": {},
   "outputs": [],
   "source": [
    "sensitivity_specificity(cm_knn)"
   ]
  },
  {
   "cell_type": "code",
   "execution_count": null,
   "id": "c10c55a8",
   "metadata": {},
   "outputs": [],
   "source": [
    "confusion_matrix_plot(cm_knn)"
   ]
  },
  {
   "cell_type": "code",
   "execution_count": null,
   "id": "51da9b51",
   "metadata": {},
   "outputs": [],
   "source": [
    "print(\"Classification Report:\\n\", classification_report(y_test, ypred1 , zero_division=1))"
   ]
  },
  {
   "cell_type": "code",
   "execution_count": null,
   "id": "fa8f35b4",
   "metadata": {},
   "outputs": [],
   "source": [
    "plot_ROC_curve(knn2, x_train, y_train, x_test, y_test)"
   ]
  },
  {
   "cell_type": "code",
   "execution_count": null,
   "id": "5f82a664",
   "metadata": {},
   "outputs": [],
   "source": [
    "knn_score = table_score(ypred1)\n",
    "knn_score.insert(0, 'Model', 'KNN')\n",
    "knn_score\n"
   ]
  },
  {
   "cell_type": "markdown",
   "id": "1ea1831f",
   "metadata": {},
   "source": [
    "### logistic regresion model"
   ]
  },
  {
   "cell_type": "code",
   "execution_count": null,
   "id": "0eb926a1",
   "metadata": {},
   "outputs": [],
   "source": [
    "lr = LogisticRegression(multi_class=\"ovr\")\n",
    "lr.fit(x_train, y_train)\n",
    "print(\"Test score: {:.2f}\".format(lr.score(x_test , y_test)))"
   ]
  },
  {
   "cell_type": "code",
   "execution_count": null,
   "id": "c67a5280",
   "metadata": {},
   "outputs": [],
   "source": [
    "param_grid_lr = { \n",
    "    'multi_class': ['auto' , 'ovr'] ,\n",
    "    'solver': ['lbfgs' , 'liblinear'], \n",
    "    'C': [1, 2 , 4]\n",
    "}\n",
    "clf_lr = GridSearchCV(estimator= LogisticRegression() , param_grid= param_grid_lr , cv=kfold, scoring='accuracy', verbose=3)\n",
    "clf_lr.fit(x_train, y_train)"
   ]
  },
  {
   "cell_type": "code",
   "execution_count": null,
   "id": "44f3256f",
   "metadata": {},
   "outputs": [],
   "source": [
    "print(\"Best of Hyper Parameter :\" , clf_lr.best_params_, \"\\nScore : \" , clf_lr.best_score_)"
   ]
  },
  {
   "cell_type": "code",
   "execution_count": null,
   "id": "964ab4f3",
   "metadata": {},
   "outputs": [],
   "source": [
    "lr2 = clf_lr.best_estimator_.fit(x_train,y_train)\n",
    "print(\"Test score for test_data: {:.2f}\".format(lr2.score(x_test, y_test)))\n",
    "print(\"Test score for train_data: {:.2f}\".format(lr2.score(x_train, y_train)))"
   ]
  },
  {
   "cell_type": "code",
   "execution_count": null,
   "id": "1717fb35",
   "metadata": {},
   "outputs": [],
   "source": [
    "scores_clf2 = cross_val_score(lr2, x_train, y_train, cv=kfold, scoring='accuracy')\n",
    "print(scores_clf2)\n",
    "print(\"Mean for k_fold cross validation for Logistic Regression model\", np.mean(scores_clf2))"
   ]
  },
  {
   "cell_type": "code",
   "execution_count": null,
   "id": "a904e1ca",
   "metadata": {},
   "outputs": [],
   "source": [
    "ypred2 = lr2.predict(x_test)\n",
    "cm_lr = confusion_matrix(y_test, ypred2)\n",
    "print(\"confusion_matrix(ytest, ypred): \\n\", cm_lr)"
   ]
  },
  {
   "cell_type": "code",
   "execution_count": null,
   "id": "eb5f4511",
   "metadata": {},
   "outputs": [],
   "source": [
    "sensitivity_specificity(cm_lr)"
   ]
  },
  {
   "cell_type": "code",
   "execution_count": null,
   "id": "d7753168",
   "metadata": {},
   "outputs": [],
   "source": [
    "confusion_matrix_plot(cm_lr)"
   ]
  },
  {
   "cell_type": "code",
   "execution_count": null,
   "id": "0536f1d2",
   "metadata": {},
   "outputs": [],
   "source": [
    "print(\"Classification Report:\\n\", classification_report(y_test, ypred2 , zero_division=1))"
   ]
  },
  {
   "cell_type": "code",
   "execution_count": null,
   "id": "0a90ee23",
   "metadata": {},
   "outputs": [],
   "source": [
    "plot_ROC_curve(lr2, x_train, y_train, x_test, y_test)"
   ]
  },
  {
   "cell_type": "code",
   "execution_count": null,
   "id": "2c3bba72",
   "metadata": {},
   "outputs": [],
   "source": [
    "lr_score = table_score(ypred2)\n",
    "lr_score.insert(0, 'Model', 'LR')\n",
    "lr_score"
   ]
  },
  {
   "cell_type": "markdown",
   "id": "010065d2",
   "metadata": {},
   "source": [
    "### SVM model"
   ]
  },
  {
   "cell_type": "code",
   "execution_count": null,
   "id": "8ae60729",
   "metadata": {},
   "outputs": [],
   "source": [
    "svm = SVC(decision_function_shape='ovo')\n",
    "svm.fit(x_train , y_train)\n",
    "print(\"Test score: {:.2f}\".format(svm.score(x_test , y_test)))"
   ]
  },
  {
   "cell_type": "code",
   "execution_count": null,
   "id": "a680ee2c",
   "metadata": {},
   "outputs": [],
   "source": [
    "param_grid_svm = { \n",
    "    'decision_function_shape': ['ovo' , 'ovr'],\n",
    "    'kernel': ['rbf' , 'poly'], \n",
    "    'C': [1, 2 , 4 , 6]\n",
    "}\n",
    "clf_svm = GridSearchCV(estimator= SVC() , param_grid= param_grid_svm , cv=kfold, scoring='accuracy', verbose=3)\n",
    "clf_svm.fit(x_train, y_train)"
   ]
  },
  {
   "cell_type": "code",
   "execution_count": null,
   "id": "df81ee41",
   "metadata": {},
   "outputs": [],
   "source": [
    "print(\"Best of Hyper Parameter :\" , clf_svm.best_params_, \"\\nScore : \" , clf_svm.best_score_)"
   ]
  },
  {
   "cell_type": "code",
   "execution_count": null,
   "id": "77a2df3e",
   "metadata": {},
   "outputs": [],
   "source": [
    "svm2 = clf_svm.best_estimator_.fit(x_train,y_train)\n",
    "print(\"Test score for test_data: {:.2f}\".format(svm2.score(x_test, y_test)))\n",
    "print(\"Test score for train_data: {:.2f}\".format(svm2.score(x_train, y_train)))"
   ]
  },
  {
   "cell_type": "code",
   "execution_count": null,
   "id": "d694072d",
   "metadata": {},
   "outputs": [],
   "source": [
    "scores_clf3 = cross_val_score(svm2, x_train, y_train, cv=kfold, scoring='accuracy')\n",
    "print(scores_clf3)\n",
    "print(\"Mean for k_fold cross validation for SVM model\", np.mean(scores_clf3))"
   ]
  },
  {
   "cell_type": "code",
   "execution_count": null,
   "id": "bdfebcbc",
   "metadata": {},
   "outputs": [],
   "source": [
    "ypred3 = svm2.predict(x_test)\n",
    "cm_svm = confusion_matrix(y_test, ypred3)\n",
    "print(\"confusion_matrix(ytest, ypred): \\n\", cm_svm)"
   ]
  },
  {
   "cell_type": "code",
   "execution_count": null,
   "id": "47e8b243",
   "metadata": {},
   "outputs": [],
   "source": [
    "sensitivity_specificity(cm_svm)"
   ]
  },
  {
   "cell_type": "code",
   "execution_count": null,
   "id": "c0c5fae2",
   "metadata": {},
   "outputs": [],
   "source": [
    "confusion_matrix_plot(cm_svm)"
   ]
  },
  {
   "cell_type": "code",
   "execution_count": null,
   "id": "cf8fca6a",
   "metadata": {},
   "outputs": [],
   "source": [
    "print(\"Classification Report:\\n\", classification_report(y_test, ypred3 , zero_division=1))"
   ]
  },
  {
   "cell_type": "code",
   "execution_count": null,
   "id": "e89be0b9",
   "metadata": {},
   "outputs": [],
   "source": [
    "plot_ROC_curve(svm2, x_train, y_train, x_test, y_test)\n",
    "# print(x_train.shape, y_train.shape, x_test.shape, y_test.shape)"
   ]
  },
  {
   "cell_type": "code",
   "execution_count": null,
   "id": "5f2d5c0c",
   "metadata": {},
   "outputs": [],
   "source": [
    "svm_score = table_score(ypred3)\n",
    "svm_score.insert(0, 'Model', 'SVM')\n",
    "svm_score"
   ]
  },
  {
   "cell_type": "markdown",
   "id": "9590174c",
   "metadata": {},
   "source": [
    "### Random forest model"
   ]
  },
  {
   "cell_type": "code",
   "execution_count": null,
   "id": "69909546",
   "metadata": {},
   "outputs": [],
   "source": [
    "RF = RandomForestClassifier(criterion = 'gini',n_estimators=100,max_depth=2) #criterion can be also : entropy \n",
    "RF.fit(x_train, y_train)\n",
    "print(\"Test score: {:.2f}\".format(RF.score(x_test , y_test)))"
   ]
  },
  {
   "cell_type": "code",
   "execution_count": null,
   "id": "e70cb3b5",
   "metadata": {},
   "outputs": [],
   "source": [
    "param_grid_RF = { \n",
    "    'criterion': ['gini' , 'entropy'],\n",
    "    'n_estimators': [100, 200, 300],\n",
    "    'max_depth': [2 , 4 , 8]\n",
    "}\n",
    "clf_RF = GridSearchCV(estimator= RandomForestClassifier() , param_grid= param_grid_RF , cv=kfold, scoring='accuracy', verbose=3)\n",
    "clf_RF.fit(x_train, y_train)"
   ]
  },
  {
   "cell_type": "code",
   "execution_count": null,
   "id": "5ea93a3f",
   "metadata": {},
   "outputs": [],
   "source": [
    "print(\"Best of Hyper Parameter :\" , clf_RF.best_params_, \"\\nScore : \" , clf_RF.best_score_)"
   ]
  },
  {
   "cell_type": "code",
   "execution_count": null,
   "id": "0423c929",
   "metadata": {},
   "outputs": [],
   "source": [
    "RF2 = clf_RF.best_estimator_.fit(x_train,y_train)\n",
    "print(\"Test score for test_data: {:.2f}\".format(RF2.score(x_test, y_test)))\n",
    "print(\"Test score for train_data: {:.2f}\".format(RF2.score(x_train, y_train)))"
   ]
  },
  {
   "cell_type": "code",
   "execution_count": null,
   "id": "23ccd86d",
   "metadata": {},
   "outputs": [],
   "source": [
    "scores_clf4 = cross_val_score(RF2, x_train, y_train, cv=kfold, scoring='accuracy')\n",
    "print(scores_clf4)\n",
    "print(\"Mean for k_fold cross validation for Random Forest model\", np.mean(scores_clf4))"
   ]
  },
  {
   "cell_type": "code",
   "execution_count": null,
   "id": "b3231a7f",
   "metadata": {},
   "outputs": [],
   "source": [
    "ypred4 = RF2.predict(x_test)\n",
    "cm_rf = confusion_matrix(y_test, ypred4)\n",
    "print(\"confusion_matrix(ytest, ypred): \\n\", cm_rf)"
   ]
  },
  {
   "cell_type": "code",
   "execution_count": null,
   "id": "925ca9d0",
   "metadata": {},
   "outputs": [],
   "source": [
    "sensitivity_specificity(cm_rf)"
   ]
  },
  {
   "cell_type": "code",
   "execution_count": null,
   "id": "13e66fea",
   "metadata": {},
   "outputs": [],
   "source": [
    "confusion_matrix_plot(cm_rf)"
   ]
  },
  {
   "cell_type": "code",
   "execution_count": null,
   "id": "ce95f4ff",
   "metadata": {},
   "outputs": [],
   "source": [
    "print(\"Classification Report:\\n\", classification_report(y_test, ypred4, zero_division=1))"
   ]
  },
  {
   "cell_type": "code",
   "execution_count": null,
   "id": "4fb475fd",
   "metadata": {},
   "outputs": [],
   "source": [
    "plot_ROC_curve(RF2, x_train, y_train, x_test, y_test)"
   ]
  },
  {
   "cell_type": "code",
   "execution_count": null,
   "id": "40679b04",
   "metadata": {},
   "outputs": [],
   "source": [
    "rf_score = table_score(ypred4)\n",
    "rf_score.insert(0, 'Model', 'RF')\n",
    "rf_score"
   ]
  },
  {
   "cell_type": "markdown",
   "id": "4f179430",
   "metadata": {},
   "source": [
    "### Naive Bayes"
   ]
  },
  {
   "cell_type": "code",
   "execution_count": null,
   "id": "061a1889",
   "metadata": {},
   "outputs": [],
   "source": [
    "NB = GaussianNB()\n",
    "NB.fit(x_train, y_train)\n",
    "print(\"Test score: {:.2f}\".format(NB.score(x_test , y_test)))"
   ]
  },
  {
   "cell_type": "code",
   "execution_count": null,
   "id": "6f52e493",
   "metadata": {},
   "outputs": [],
   "source": [
    "param_grid_NB = {\n",
    "    'var_smoothing': [1e-9, 1e-8, 1e-7, 1e-6, 1e-5, 1e-4, 1e-3, 1e-2, 1e-1],\n",
    "}\n",
    "clf_NB = GridSearchCV(estimator= GaussianNB() , param_grid= param_grid_NB , cv=kfold, scoring='accuracy', verbose=3)\n",
    "clf_NB.fit(x_train, y_train)"
   ]
  },
  {
   "cell_type": "code",
   "execution_count": null,
   "id": "2b013f3d",
   "metadata": {},
   "outputs": [],
   "source": [
    "print(\"Best of Hyper Parameter :\" , clf_NB.best_params_, \"\\nScore : \" , clf_NB.best_score_)"
   ]
  },
  {
   "cell_type": "code",
   "execution_count": null,
   "id": "6dea01ca",
   "metadata": {},
   "outputs": [],
   "source": [
    "NB2 = clf_NB.best_estimator_.fit(x_train,y_train)\n",
    "print(\"Test score for test_data: {:.2f}\".format(NB2.score(x_test, y_test)))\n",
    "print(\"Test score for train_data: {:.2f}\".format(NB2.score(x_train, y_train)))"
   ]
  },
  {
   "cell_type": "code",
   "execution_count": null,
   "id": "37451215",
   "metadata": {},
   "outputs": [],
   "source": [
    "scores_clf5 = cross_val_score(NB2, x_train, y_train, cv=kfold, scoring='accuracy')\n",
    "print(scores_clf5)\n",
    "print(\"Mean for k_fold cross validation for Naive Bayes model\", np.mean(scores_clf5))"
   ]
  },
  {
   "cell_type": "code",
   "execution_count": null,
   "id": "da72bcbf",
   "metadata": {},
   "outputs": [],
   "source": [
    "ypred5 = NB2.predict(x_test)\n",
    "cm_NB = confusion_matrix(y_test, ypred5)\n",
    "print(\"confusion_matrix(ytest, ypred): \\n\", cm_NB)"
   ]
  },
  {
   "cell_type": "code",
   "execution_count": null,
   "id": "43e8b5eb",
   "metadata": {},
   "outputs": [],
   "source": [
    "sensitivity_specificity(cm_NB)"
   ]
  },
  {
   "cell_type": "code",
   "execution_count": null,
   "id": "4f691eae",
   "metadata": {},
   "outputs": [],
   "source": [
    "confusion_matrix_plot(cm_NB)"
   ]
  },
  {
   "cell_type": "code",
   "execution_count": null,
   "id": "cdf0ef4c",
   "metadata": {},
   "outputs": [],
   "source": [
    "print(\"Classification Report:\\n\", classification_report(y_test, ypred5, zero_division=1))"
   ]
  },
  {
   "cell_type": "code",
   "execution_count": null,
   "id": "252ca070",
   "metadata": {},
   "outputs": [],
   "source": [
    "plot_ROC_curve(NB2, x_train, y_train, x_test, y_test)"
   ]
  },
  {
   "cell_type": "code",
   "execution_count": null,
   "id": "b386ec8c",
   "metadata": {},
   "outputs": [],
   "source": [
    "nb_score = table_score(ypred5)\n",
    "nb_score.insert(0, 'Model', 'NB')\n",
    "nb_score"
   ]
  },
  {
   "cell_type": "markdown",
   "id": "8948c975",
   "metadata": {},
   "source": [
    "### NN model"
   ]
  },
  {
   "cell_type": "code",
   "execution_count": null,
   "id": "8f94627b",
   "metadata": {},
   "outputs": [],
   "source": [
    "MLP = MLPClassifier(activation='tanh',solver='sgd', hidden_layer_sizes=(5,), max_iter=5000, random_state=1)\n",
    "MLP.fit(x_train,y_train)\n",
    "print(\"Test score: {:.2f}\".format(MLP.score(x_test, y_test)))"
   ]
  },
  {
   "cell_type": "code",
   "execution_count": null,
   "id": "09495880",
   "metadata": {},
   "outputs": [],
   "source": [
    "param_grid_MLP = {\n",
    "    'learning_rate_init': [0.001 , 0.01], \n",
    "    'batch_size': [1]\n",
    "    # 'hidden_layer_sizes': [(20,), (50, 50)],\n",
    "    # 'activation': ['relu', 'tanh'],\n",
    "    # 'alpha': [0.0001, 0.01],\n",
    "}\n",
    "clf_MLP = GridSearchCV(estimator=MLPClassifier(), param_grid= param_grid_MLP , cv=kfold, scoring='accuracy' , verbose=3)\n",
    "clf_MLP.fit(x_train, y_train)"
   ]
  },
  {
   "cell_type": "code",
   "execution_count": null,
   "id": "2779180b",
   "metadata": {},
   "outputs": [],
   "source": [
    "print(\"Best of Hyper Parameter :\" , clf_MLP.best_params_, \"\\nScore : \" , clf_MLP.best_score_)"
   ]
  },
  {
   "cell_type": "code",
   "execution_count": null,
   "id": "623aca2b",
   "metadata": {},
   "outputs": [],
   "source": [
    "MLP2 = clf_MLP.best_estimator_.fit(x_train,y_train)\n",
    "print(\"Test score for test_data: {:.2f}\".format(MLP2.score(x_test, y_test)))\n",
    "print(\"Test score for train_data: {:.2f}\".format(MLP2.score(x_train, y_train)))"
   ]
  },
  {
   "cell_type": "code",
   "execution_count": null,
   "id": "36c1992c",
   "metadata": {},
   "outputs": [],
   "source": [
    "scores_clf6 = cross_val_score(MLP2, x_train, y_train, cv=kfold, scoring='accuracy')\n",
    "print(scores_clf6)\n",
    "print(\"Mean for k_fold cross validation for Neural Network model\", np.mean(scores_clf6))"
   ]
  },
  {
   "cell_type": "code",
   "execution_count": null,
   "id": "6d33db9c",
   "metadata": {},
   "outputs": [],
   "source": [
    "ypred6 = MLP2.predict(x_test)\n",
    "cm_MLP = confusion_matrix(y_test, ypred6)\n",
    "print(\"confusion_matrix(ytest, ypred): \\n\", cm_MLP)"
   ]
  },
  {
   "cell_type": "code",
   "execution_count": null,
   "id": "9d3caa50",
   "metadata": {},
   "outputs": [],
   "source": [
    "sensitivity_specificity(cm_MLP)"
   ]
  },
  {
   "cell_type": "code",
   "execution_count": null,
   "id": "51bab6c1",
   "metadata": {},
   "outputs": [],
   "source": [
    "confusion_matrix_plot(cm_MLP)"
   ]
  },
  {
   "cell_type": "code",
   "execution_count": null,
   "id": "938a5482",
   "metadata": {},
   "outputs": [],
   "source": [
    "print(\"Classification Report:\\n\", classification_report(y_test, ypred6, zero_division=1))"
   ]
  },
  {
   "cell_type": "code",
   "execution_count": null,
   "id": "e564b783",
   "metadata": {},
   "outputs": [],
   "source": [
    "plot_ROC_curve(MLP2, x_train, y_train, x_test, y_test)"
   ]
  },
  {
   "cell_type": "code",
   "execution_count": null,
   "id": "57893cde",
   "metadata": {},
   "outputs": [],
   "source": [
    "nn_score = table_score(ypred6)\n",
    "nn_score.insert(0, 'Model', 'NN')\n",
    "nn_score"
   ]
  },
  {
   "cell_type": "markdown",
   "id": "54a2a1b8",
   "metadata": {},
   "source": [
    "### comparison"
   ]
  },
  {
   "cell_type": "code",
   "execution_count": null,
   "id": "1e5269d9",
   "metadata": {},
   "outputs": [],
   "source": [
    "predictions = pd.concat([knn_score, lr_score, svm_score, rf_score, nb_score, nn_score], ignore_index=True, sort=False)\n",
    "predictions.sort_values(by=['Accuracy'], ascending=False)"
   ]
  },
  {
   "cell_type": "markdown",
   "id": "7a090180",
   "metadata": {},
   "source": [
    "### visualization"
   ]
  },
  {
   "cell_type": "code",
   "execution_count": null,
   "id": "d9844a98",
   "metadata": {},
   "outputs": [],
   "source": [
    "labels = ['naive_bayes Regression', 'random_forest ','knn','logistic regressio','SVM','NN']\n",
    "data = [scores_clf1, scores_clf2,scores_clf3,scores_clf4,scores_clf5,scores_clf6]\n",
    "\n",
    "plt.figure(figsize=(10, 6))\n",
    "plt.boxplot(data)\n",
    "plt.title('Comparison of Cross-Validation Scores')\n",
    "plt.ylabel('Accuracy')\n",
    "plt.xticks(np.arange(1, 7), labels)\n",
    "plt.grid(axis='y')\n",
    "\n",
    "# Calculate and display mean scores\n",
    "mean_scores = [np.mean(scores_clf1), np.mean(scores_clf2),np.mean(scores_clf3),np.mean(scores_clf4),np.mean(scores_clf5),np.mean(scores_clf6)]\n",
    "for i, mean in enumerate(mean_scores, 1):\n",
    "    plt.text(i, mean, f'Mean: {mean:.4f}', ha='center', va='bottom', color='blue')\n",
    "\n",
    "plt.show()"
   ]
  },
  {
   "cell_type": "markdown",
   "id": "92fff71e",
   "metadata": {},
   "source": [
    "### :\n",
    "x_pred = pd.read_excel(\"data_for_test_model_by_dr_yasser.xlsx\")\n",
    "for i in x_pred.columns:\n",
    "    x_pred[i] = x_pred[i].apply(eval)\n",
    "\n",
    "mean_values_per_feature_x_pred = x_pred.apply(lambda row: [np.mean(row[i]) for i in x_pred.columns], axis=1)\n",
    "\n",
    "x_pred = pd.DataFrame(mean_values_per_feature_x_pred.tolist(), columns=x_pred.columns,index=x_pred.index)\n",
    "x_pred['متوسط'] = x_pred.apply(lambda row: np.mean(row), axis=1)\n",
    "\n",
    "print(\"Original DataFrame:\")\n",
    "print(x_pred)# ***********************************\n",
    "x_pred=x_pred.iloc[0,:]\n",
    "ypred1 = knn2.predict(x_pred) \n",
    "print(ypred1)\n",
    "ypred2 = lr2.predict(x_pred)\n",
    "print(ypred2)\n",
    "ypred3 = svm2.predict(x_pred)\n",
    "print(ypred3)\n",
    "ypred4 = RF2.predict(x_pred)\n",
    "print(ypred4)\n",
    "ypred5 = NB2.predict(x_pred)\n",
    "print(ypred5)\n",
    "ypred6 = MLP2.predict(x_pred)\n",
    "print(ypred6)\n",
    "\n"
   ]
  },
  {
   "cell_type": "code",
   "execution_count": null,
   "id": "eb5662aa",
   "metadata": {},
   "outputs": [],
   "source": [
    "pred_scale = pd.read_excel(\"data_for_test_model_by_dr_yasser.xlsx\") \n",
    "for i in pred_scale.columns:\n",
    "    pred_scale[i] = pred_scale[i].apply(eval)\n",
    "pred_scale"
   ]
  },
  {
   "cell_type": "code",
   "execution_count": null,
   "id": "d64386ea",
   "metadata": {},
   "outputs": [],
   "source": [
    "pred_scale[\"مجموع\"] = 0\n",
    "\n",
    "for i in range(len(pred_scale)):\n",
    "    value = pred_scale.iloc[i].tolist()\n",
    "    pred_scale.loc[i,\"مجموع\"] = sum(value)\n",
    "\n",
    "pred_scale.head()"
   ]
  },
  {
   "cell_type": "code",
   "execution_count": null,
   "id": "6a0490a9",
   "metadata": {},
   "outputs": [],
   "source": [
    "pred_scale = pred_scale.apply(lambda x: x.astype(int))\n",
    "print(pred_scale.dtypes)"
   ]
  },
  {
   "cell_type": "code",
   "execution_count": null,
   "id": "c70622f2",
   "metadata": {},
   "outputs": [],
   "source": [
    "pred_scale['تصنيف']=1\n",
    "for i in range(pred_scale['تصنيف'].count()):\n",
    "    if pred_scale.iloc[i,12]<50:\n",
    "        pred_scale.iloc[i,13]=\"أحمر\"\n",
    "    elif (pred_scale.iloc[i,12] >=50) & (pred_scale.iloc[i,12]<60):\n",
    "        pred_scale.iloc[i,13]=\"برتقالي\"\n",
    "    elif (pred_scale.iloc[i,12] >=60):\n",
    "        pred_scale.iloc[i,13]=\"أخضر\"\n",
    "\n",
    "pred_scale.head()"
   ]
  },
  {
   "cell_type": "code",
   "execution_count": null,
   "id": "740a6d0e",
   "metadata": {},
   "outputs": [],
   "source": [
    "x_pred_scale=pred_scale.drop(['تصنيف','مجموع'],axis=1)\n",
    "y_pred_scale=pred_scale['تصنيف']\n",
    "\n",
    "# **********************************************************************************************************\n",
    "def table_score_2(ypred,y_pred_test=y_pred_scale):\n",
    "    y_pred_test=y_pred_scale\n",
    "    Recall = recall_score(y_pred_test, ypred, average='macro' , zero_division=1)\n",
    "    Precision = precision_score(y_pred_test, ypred, average='macro' , zero_division=1)\n",
    "    f1 = f1_score(y_pred_test, ypred, average='macro' , zero_division=1)\n",
    "    accuracy = accuracy_score(y_pred_test, ypred)\n",
    "    ndf = [(Recall, Precision, f1, accuracy)]\n",
    "\n",
    "    score = pd.DataFrame(data=ndf, columns=['Recall', 'Precision', 'F1 Score', 'Accuracy'])\n",
    "    return score\n",
    "# **********************************************************************************************************\n",
    "\n",
    "ypred_1_scale = knn2.predict(x_pred_scale) \n",
    "knn_score = table_score_2(ypred_1_scale)\n",
    "knn_score.insert(0, 'Model', 'knn')\n",
    "\n",
    "ypred_2_scale = lr2.predict(x_pred_scale) \n",
    "lr_score = table_score_2(ypred_2_scale)\n",
    "lr_score.insert(0, 'Model', 'lr')\n",
    "\n",
    "ypred_3_scale = svm2.predict(x_pred_scale) \n",
    "svm_score = table_score_2(ypred_3_scale)\n",
    "svm_score.insert(0, 'Model', 'svm')\n",
    "\n",
    "ypred_4_scale = RF2.predict(x_pred_scale) \n",
    "RF_score = table_score_2(ypred_4_scale)\n",
    "RF_score.insert(0, 'Model', 'RF')\n",
    "\n",
    "ypred_5_scale = NB2.predict(x_pred_scale) \n",
    "NB_score = table_score_2(ypred_5_scale)\n",
    "NB_score.insert(0, 'Model', 'NB')\n",
    "\n",
    "ypred_6_scale = MLP2.predict(x_pred_scale) \n",
    "NN_score = table_score_2(ypred_6_scale)\n",
    "NN_score.insert(0, 'Model', 'NN')\n",
    "\n",
    "# comparising table\n",
    "predictions_for_test = pd.concat([knn_score, lr_score, svm_score, RF_score, NB_score, NN_score], ignore_index=True, sort=False)\n",
    "predictions_for_test.sort_values(by=['Accuracy'], ascending=False)"
   ]
  },
  {
   "cell_type": "markdown",
   "id": "fe0e2628",
   "metadata": {},
   "source": [
    "## Save Model"
   ]
  },
  {
   "cell_type": "code",
   "execution_count": null,
   "id": "11d91a8a",
   "metadata": {},
   "outputs": [],
   "source": [
    "import joblib\n",
    "\n",
    "filename = 'model.joblib'"
   ]
  },
  {
   "cell_type": "code",
   "execution_count": null,
   "id": "7055ff7a",
   "metadata": {},
   "outputs": [],
   "source": [
    "# joblib.dump(knn2, filename)"
   ]
  }
 ],
 "metadata": {
  "kernelspec": {
   "display_name": "Python 3 (ipykernel)",
   "language": "python",
   "name": "python3"
  },
  "language_info": {
   "codemirror_mode": {
    "name": "ipython",
    "version": 3
   },
   "file_extension": ".py",
   "mimetype": "text/x-python",
   "name": "python",
   "nbconvert_exporter": "python",
   "pygments_lexer": "ipython3",
   "version": "3.7.4"
  }
 },
 "nbformat": 4,
 "nbformat_minor": 5
}
